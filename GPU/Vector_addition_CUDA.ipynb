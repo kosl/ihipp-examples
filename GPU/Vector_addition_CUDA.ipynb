{
  "nbformat": 4,
  "nbformat_minor": 0,
  "metadata": {
    "colab": {
      "name": "Vector_addition_CUDA.ipynb",
      "provenance": [],
      "collapsed_sections": []
    },
    "kernelspec": {
      "name": "python3",
      "display_name": "Python 3"
    },
    "accelerator": "GPU"
  },
  "cells": [
    {
      "cell_type": "markdown",
      "metadata": {
        "id": "uFQgWDjKRv7Y"
      },
      "source": [
        "## CUDA Vector addition"
      ]
    },
    {
      "cell_type": "code",
      "metadata": {
        "id": "jNWhdlcMTsqf",
        "colab": {
          "base_uri": "https://localhost:8080/"
        },
        "outputId": "1752ddf4-455d-4368-fdd5-e6611465bd70"
      },
      "source": [
        " %%file vector_add_cuda.cu\n",
        "#include <stdio.h>\n",
        "#include <stdlib.h>\n",
        "#include <math.h>\n",
        "#include <assert.h>\n",
        "#include <cuda.h>\n",
        "#include <cuda_runtime.h>\n",
        "\n",
        "#define N 2020\n",
        "#define MAX_ERR 1e-6\n",
        "\n",
        "__global__ void vector_add(double *out, double *a, double *b, int n) {\n",
        "    int i = blockIdx.x * blockDim.x + threadIdx.x;\n",
        "    if(i < n)\n",
        "        out[i] = a[i] + b[i];\n",
        "}\n",
        "\n",
        "int main(){\n",
        "    double *a, *b, *out;\n",
        "    double *d_a, *d_b, *d_out; \n",
        "\n",
        "    // Allocate host memory\n",
        "    a   = (double*)malloc(sizeof(double) * N);\n",
        "    b   = (double*)malloc(sizeof(double) * N);\n",
        "    out = (double*)malloc(sizeof(double) * N);\n",
        "\n",
        "    // Initialize host arrays\n",
        "    for(int i = 0; i < N; i++){\n",
        "        a[i] = i / 100.0;\n",
        "        b[i] = (N - i) / 100.0;\n",
        "    }\n",
        "\n",
        "    // Allocate device memory\n",
        "    cudaMalloc((void**)&d_a, sizeof(double) * N);\n",
        "    cudaMalloc((void**)&d_b, sizeof(double) * N);\n",
        "    cudaMalloc((void**)&d_out, sizeof(double) * N);\n",
        "\n",
        "    // Transfer data from host to device memory\n",
        "    cudaMemcpy(d_a, a, sizeof(double) * N, cudaMemcpyHostToDevice);\n",
        "    cudaMemcpy(d_b, b, sizeof(double) * N, cudaMemcpyHostToDevice);\n",
        "\n",
        "    // Executing kernel\n",
        "    int threadsPerBlock = 1024;\n",
        "    //int blocksPerGrid =(N + threadsPerBlock - 1) / threadsPerBlock;\n",
        "    int blocksPerGrid = N/threadsPerBlock + (N % threadsPerBlock == 0 ? 0:1);\n",
        "    vector_add<<<blocksPerGrid, threadsPerBlock>>>(d_out, d_a, d_b, N);\n",
        "    \n",
        "    // Transfer data back to host memory\n",
        "    cudaMemcpy(out, d_out, sizeof(double) * N, cudaMemcpyDeviceToHost);\n",
        "     \n",
        "    // Verification\n",
        "    for(int i = 0; i < N; i++){\n",
        "        assert(fabs(out[i] - a[i] - b[i]) < MAX_ERR);\n",
        "        if (i % 101 == 0)\n",
        "          printf(\"%.2f + %.2f = %.2f\\n\", a[i], b[i], out[i]);\n",
        "    }\n",
        "    printf(\"PASSED\\n\");\n",
        "\n",
        "    // Deallocate device memory\n",
        "    cudaFree(d_a);\n",
        "    cudaFree(d_b);\n",
        "    cudaFree(d_out);\n",
        "\n",
        "    // Deallocate host memory\n",
        "    free(a); \n",
        "    free(b); \n",
        "    free(out);\n",
        "}"
      ],
      "execution_count": 1,
      "outputs": [
        {
          "output_type": "stream",
          "name": "stdout",
          "text": [
            "Writing vector_add_cuda.cu\n"
          ]
        }
      ]
    },
    {
      "cell_type": "code",
      "metadata": {
        "id": "LN8oYyTfUOhe",
        "colab": {
          "base_uri": "https://localhost:8080/"
        },
        "outputId": "f1b96317-6bb9-4202-dcd8-c36cf6b4b42c"
      },
      "source": [
        "!PATH=/usr/local/cuda-10.1/bin:${PATH} nvcc -o vector_add_cuda vector_add_cuda.cu && ./vector_add_cuda"
      ],
      "execution_count": 2,
      "outputs": [
        {
          "output_type": "stream",
          "name": "stdout",
          "text": [
            "0.00 + 20.20 = 20.20\n",
            "1.01 + 19.19 = 20.20\n",
            "2.02 + 18.18 = 20.20\n",
            "3.03 + 17.17 = 20.20\n",
            "4.04 + 16.16 = 20.20\n",
            "5.05 + 15.15 = 20.20\n",
            "6.06 + 14.14 = 20.20\n",
            "7.07 + 13.13 = 20.20\n",
            "8.08 + 12.12 = 20.20\n",
            "9.09 + 11.11 = 20.20\n",
            "10.10 + 10.10 = 20.20\n",
            "11.11 + 9.09 = 20.20\n",
            "12.12 + 8.08 = 20.20\n",
            "13.13 + 7.07 = 20.20\n",
            "14.14 + 6.06 = 20.20\n",
            "15.15 + 5.05 = 20.20\n",
            "16.16 + 4.04 = 20.20\n",
            "17.17 + 3.03 = 20.20\n",
            "18.18 + 2.02 = 20.20\n",
            "19.19 + 1.01 = 20.20\n",
            "PASSED\n"
          ]
        }
      ]
    }
  ]
}
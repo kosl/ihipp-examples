{
  "nbformat": 4,
  "nbformat_minor": 0,
  "metadata": {
    "colab": {
      "name": "Riemann_sum_CUDA_one_kernel.ipynb",
      "provenance": [],
      "collapsed_sections": []
    },
    "kernelspec": {
      "name": "python3",
      "display_name": "Python 3"
    },
    "accelerator": "GPU"
  },
  "cells": [
    {
      "cell_type": "markdown",
      "metadata": {
        "id": "Suh22TEsvu3r"
      },
      "source": [
        "## Numerical integration (Riemann sum): calculating $\\Phi(1) = \\frac 1 {\\sqrt{2\\pi}} \\int_{0}^1 e^{-x^2/2} \\, dx$\n",
        "(see, e.g.: https://mathworld.wolfram.com/NormalDistributionFunction.html)."
      ]
    },
    {
      "cell_type": "markdown",
      "metadata": {
        "id": "ZOvHuKAYb9Cp"
      },
      "source": [
        "#### CUDA version with one kernel (trapezoid median)"
      ]
    },
    {
      "cell_type": "code",
      "metadata": {
        "id": "zEvQG27n2jaB",
        "colab": {
          "base_uri": "https://localhost:8080/"
        },
        "outputId": "0c9aa8b6-b9bd-4879-94d4-4dd8acc7bc8e"
      },
      "source": [
        "%%file riemann_cuda_double.cu\n",
        "#include <stdio.h>\n",
        "#include <stdlib.h>\n",
        "#include <math.h>\n",
        "#include <cuda.h>\n",
        "#include <cuda_runtime.h>\n",
        "#include <device_launch_parameters.h>\n",
        " \n",
        "#define N 1000000000\n",
        " \n",
        "/* CUDA error wraper */\n",
        "static void CUDA_ERROR( cudaError_t err) \n",
        "{\n",
        "    if (err != cudaSuccess) {\n",
        "        printf(\"CUDA ERROR: %s, exiting\\n\", cudaGetErrorString(err));\n",
        "        exit(-1);\n",
        "    }\n",
        "}\n",
        " \n",
        "__global__ void medianTrapezoid(double *a, int n)\n",
        "{\n",
        "  int idx = blockIdx.x * blockDim.x + threadIdx.x;\n",
        "  double x = (double)idx / (double)n;\n",
        " \n",
        "  if(idx < n)\n",
        "    a[idx] = (exp(-x * x / 2.0) + exp(-(x + 1 / (double)n) * (x + 1 / (double)n) / 2.0)) / 2.0;\n",
        "}\n",
        " \n",
        "double riemannCUDA(int n)\n",
        "{\n",
        "  ///size of the arrays in bytes\n",
        "  size_t size = n * sizeof(double);\n",
        " \n",
        "  // allocate array on host and device\n",
        "  double* a_h = (double *)malloc(size);\n",
        "  double* a_d; cudaMalloc((double **) &a_d, size);\n",
        " \n",
        "  // do calculation on device\n",
        "  int block_size = 1024;\n",
        "  int n_blocks = n/block_size + (n % block_size == 0 ? 0:1);\n",
        "  printf(\"CUDA kernel 'medianTrapezoid' launch with %d blocks of %d threads\\n\", n_blocks, block_size);\n",
        "  medianTrapezoid <<< n_blocks, block_size >>> (a_d, n);\n",
        "  \n",
        "  // copy results from device to host\n",
        "  cudaMemcpy(a_h, a_d, sizeof(double)*n, cudaMemcpyDeviceToHost);\n",
        " \n",
        "  // add up results\n",
        "  double sum = 0;\n",
        "  for (int i=0; i < n; i++) sum += a_h[i];\n",
        "  sum *= (1.0 / sqrt(2.0 * M_PI)) / (double)n;\n",
        "  \n",
        "  // clean up\n",
        "  free(a_h); cudaFree(a_d);\n",
        "  \n",
        "  return sum;\n",
        "}\n",
        " \n",
        "int main(int argc, char** argv){\n",
        " \n",
        "  /*get info on our GPU, defaulting to first one*/\n",
        "  cudaDeviceProp prop;\n",
        "  CUDA_ERROR(cudaGetDeviceProperties(&prop,0));\n",
        "  printf(\"Found GPU '%s' with %g GB of global memory, max %d threads per block, and %d multiprocessors\\n\", \n",
        "         prop.name, prop.totalGlobalMem/(1024.0*1024.0*1024.0),\n",
        "         prop.maxThreadsPerBlock,prop.multiProcessorCount);\n",
        " \n",
        "  /*init CUDA*/\n",
        "  CUDA_ERROR(cudaSetDevice(0));\n",
        " \n",
        "  clock_t t1; \n",
        "  t1 = clock();\n",
        " \n",
        "  double sum = riemannCUDA(N);\n",
        " \n",
        "  t1 = clock() - t1;\n",
        " \n",
        "  double time_taken1 = ((double)t1)/CLOCKS_PER_SEC; // in seconds\n",
        " \n",
        "  printf(\"Riemann sum CUDA (double precision) for N = %d    : %.17g \\n\", N, sum);\n",
        "  printf(\"Total time (measured by CPU)                              : %f s\\n\", time_taken1);\n",
        "}"
      ],
      "execution_count": null,
      "outputs": [
        {
          "output_type": "stream",
          "name": "stdout",
          "text": [
            "Writing riemann_cuda_double.cu\n"
          ]
        }
      ]
    },
    {
      "cell_type": "code",
      "metadata": {
        "id": "7Z9F6lnj4Stf",
        "colab": {
          "base_uri": "https://localhost:8080/"
        },
        "outputId": "66077581-22e0-4f71-91e1-2fbc70491480"
      },
      "source": [
        "!PATH=/usr/local/cuda-10.1/bin:${PATH} nvcc -o riemann_cuda_double riemann_cuda_double.cu && ./riemann_cuda_double"
      ],
      "execution_count": 2,
      "outputs": [
        {
          "output_type": "stream",
          "name": "stdout",
          "text": [
            "Found GPU 'Tesla K80' with 11.173 GB of global memory, max 1024 threads per block, and 13 multiprocessors\n",
            "tcmalloc: large alloc 8000004096 bytes == 0x55e12c964000 @  0x7f7f407061e7 0x55e12bc0bb65 0x55e12bc0bdb6 0x7f7f3f737bf7 0x55e12bc0b9ea\n",
            "CUDA kernel 'medianTrapezoid' launch with 976563 blocks of 1024 threads\n",
            "Riemann sum CUDA (double precision) for N = 1000000000    : 0.3413447460685729 \n",
            "Total time (measured by CPU)                              : 8.842478 s\n"
          ]
        }
      ]
    },
    {
      "cell_type": "markdown",
      "metadata": {
        "id": "5RSfS2LcvUXc"
      },
      "source": [
        "#### CUDA profiling (trapezoid median)"
      ]
    },
    {
      "cell_type": "code",
      "metadata": {
        "id": "FEGdwMHFrgGk",
        "colab": {
          "base_uri": "https://localhost:8080/"
        },
        "outputId": "02d160aa-29f4-433d-fcb6-2311822484ad"
      },
      "source": [
        "!nvprof ./riemann_cuda_double"
      ],
      "execution_count": 3,
      "outputs": [
        {
          "output_type": "stream",
          "name": "stdout",
          "text": [
            "==193== NVPROF is profiling process 193, command: ./riemann_cuda_double\n",
            "Found GPU 'Tesla K80' with 11.173 GB of global memory, max 1024 threads per block, and 13 multiprocessors\n",
            "tcmalloc: large alloc 8000004096 bytes == 0x55bbe4f30000 @  0x7f567a9011e7 0x55bbe001cb65 0x55bbe001cdb6 0x7f5679932bf7 0x55bbe001c9ea\n",
            "==193== Warning: Auto boost enabled on device 0. Profiling results may be inconsistent.\n",
            "CUDA kernel 'medianTrapezoid' launch with 976563 blocks of 1024 threads\n",
            "Riemann sum CUDA (double precision) for N = 1000000000    : 0.3413447460685729 \n",
            "Total time (measured by CPU)                              : 8.868411 s\n",
            "==193== Profiling application: ./riemann_cuda_double\n",
            "==193== Profiling result:\n",
            "            Type  Time(%)      Time     Calls       Avg       Min       Max  Name\n",
            " GPU activities:   96.57%  4.86664s         1  4.86664s  4.86664s  4.86664s  [CUDA memcpy DtoH]\n",
            "                    3.43%  172.79ms         1  172.79ms  172.79ms  172.79ms  medianTrapezoid(double*, int)\n",
            "      API calls:   94.85%  5.04033s         1  5.04033s  5.04033s  5.04033s  cudaMemcpy\n",
            "                    5.00%  265.91ms         1  265.91ms  265.91ms  265.91ms  cudaMalloc\n",
            "                    0.13%  6.9242ms         1  6.9242ms  6.9242ms  6.9242ms  cudaFree\n",
            "                    0.01%  489.37us         1  489.37us  489.37us  489.37us  cuDeviceTotalMem\n",
            "                    0.00%  181.41us         1  181.41us  181.41us  181.41us  cudaGetDeviceProperties\n",
            "                    0.00%  178.42us         1  178.42us  178.42us  178.42us  cudaLaunchKernel\n",
            "                    0.00%  177.82us        97  1.8330us     152ns  74.775us  cuDeviceGetAttribute\n",
            "                    0.00%  39.241us         1  39.241us  39.241us  39.241us  cuDeviceGetName\n",
            "                    0.00%  6.0930us         1  6.0930us  6.0930us  6.0930us  cuDeviceGetPCIBusId\n",
            "                    0.00%  3.7540us         1  3.7540us  3.7540us  3.7540us  cudaSetDevice\n",
            "                    0.00%  1.7120us         3     570ns     201ns     963ns  cuDeviceGetCount\n",
            "                    0.00%  1.1920us         2     596ns     229ns     963ns  cuDeviceGet\n",
            "                    0.00%     330ns         1     330ns     330ns     330ns  cuDeviceGetUuid\n"
          ]
        }
      ]
    }
  ]
}
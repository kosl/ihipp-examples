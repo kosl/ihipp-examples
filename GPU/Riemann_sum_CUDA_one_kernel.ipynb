{
  "nbformat": 4,
  "nbformat_minor": 0,
  "metadata": {
    "colab": {
      "name": "Riemann_sum_CUDA_one_kernel.ipynb",
      "provenance": [],
      "collapsed_sections": []
    },
    "kernelspec": {
      "name": "python3",
      "display_name": "Python 3"
    },
    "accelerator": "GPU"
  },
  "cells": [
    {
      "cell_type": "markdown",
      "metadata": {
        "id": "Suh22TEsvu3r"
      },
      "source": [
        "## Numerical integration (Riemann sum): calculating $\\Phi(1) = \\frac 1 {\\sqrt{2\\pi}} \\int_{0}^1 e^{-x^2/2} \\, dx$\n",
        "(see, e.g.: https://mathworld.wolfram.com/NormalDistributionFunction.html)."
      ]
    },
    {
      "cell_type": "markdown",
      "metadata": {
        "id": "ZOvHuKAYb9Cp"
      },
      "source": [
        "#### CUDA version with one kernel (trapezoid median)"
      ]
    },
    {
      "cell_type": "code",
      "metadata": {
        "id": "zEvQG27n2jaB"
      },
      "source": [
        "%%sh\n",
        "cat > riemann_cuda_double.cu << EOF\n",
        "#include <stdio.h>\n",
        "#include <stdlib.h>\n",
        "#include <math.h>\n",
        "#include <cuda.h>\n",
        "#include <cuda_runtime.h>\n",
        "#include <device_launch_parameters.h>\n",
        " \n",
        "#define N 1000000000\n",
        " \n",
        "/* CUDA error wraper */\n",
        "static void CUDA_ERROR( cudaError_t err) \n",
        "{\n",
        "    if (err != cudaSuccess) {\n",
        "        printf(\"CUDA ERROR: %s, exiting\\n\", cudaGetErrorString(err));\n",
        "        exit(-1);\n",
        "    }\n",
        "}\n",
        " \n",
        "__global__ void medianTrapezoid(double *a, int n)\n",
        "{\n",
        "  int idx = blockIdx.x * blockDim.x + threadIdx.x;\n",
        "  double x = (double)idx / (double)n;\n",
        " \n",
        "  if(idx < n)\n",
        "    a[idx] = (exp(-x * x / 2.0) + exp(-(x + 1 / (double)n) * (x + 1 / (double)n) / 2.0)) / 2.0;\n",
        "}\n",
        " \n",
        "double riemannCUDA(int n)\n",
        "{\n",
        "  ///size of the arrays in bytes\n",
        "  size_t size = n * sizeof(double);\n",
        " \n",
        "  // allocate array on host and device\n",
        "  double* a_h = (double *)malloc(size);\n",
        "  double* a_d; cudaMalloc((double **) &a_d, size);\n",
        " \n",
        "  // do calculation on device\n",
        "  int block_size = 1024;\n",
        "  int n_blocks = n/block_size + (n % block_size == 0 ? 0:1);\n",
        "  printf(\"CUDA kernel 'medianTrapezoid' launch with %d blocks of %d threads\\n\", n_blocks, block_size);\n",
        "  medianTrapezoid <<< n_blocks, block_size >>> (a_d, n);\n",
        "  \n",
        "  // copy results from device to host\n",
        "  cudaMemcpy(a_h, a_d, sizeof(double)*n, cudaMemcpyDeviceToHost);\n",
        " \n",
        "  // add up results\n",
        "  double sum = 0;\n",
        "  for (int i=0; i < n; i++) sum += a_h[i];\n",
        "  sum *= (1.0 / sqrt(2.0 * M_PI)) / (double)n;\n",
        "  \n",
        "  // clean up\n",
        "  free(a_h); cudaFree(a_d);\n",
        "  \n",
        "  return sum;\n",
        "}\n",
        " \n",
        "int main(int argc, char** argv){\n",
        " \n",
        "  /*get info on our GPU, defaulting to first one*/\n",
        "  cudaDeviceProp prop;\n",
        "  CUDA_ERROR(cudaGetDeviceProperties(&prop,0));\n",
        "  printf(\"Found GPU '%s' with %g GB of global memory, max %d threads per block, and %d multiprocessors\\n\", \n",
        "         prop.name, prop.totalGlobalMem/(1024.0*1024.0*1024.0),\n",
        "         prop.maxThreadsPerBlock,prop.multiProcessorCount);\n",
        " \n",
        "  /*init CUDA*/\n",
        "  CUDA_ERROR(cudaSetDevice(0));\n",
        " \n",
        "  clock_t t1; \n",
        "  t1 = clock();\n",
        " \n",
        "  double sum = riemannCUDA(N);\n",
        " \n",
        "  t1 = clock() - t1;\n",
        " \n",
        "  double time_taken1 = ((double)t1)/CLOCKS_PER_SEC; // in seconds\n",
        " \n",
        "  printf(\"Riemann sum CUDA (double precision) for N = %d    : %.17g \\n\", N, sum);\n",
        "  printf(\"Total time (measured by CPU)                              : %f s\\n\", time_taken1);\n",
        "} \n",
        "EOF"
      ],
      "execution_count": 1,
      "outputs": []
    },
    {
      "cell_type": "code",
      "metadata": {
        "id": "7Z9F6lnj4Stf",
        "colab": {
          "base_uri": "https://localhost:8080/"
        },
        "outputId": "e646ae85-97d8-46ce-bfb9-8853e16d2655"
      },
      "source": [
        "!nvcc -o riemann_cuda_double riemann_cuda_double.cu && ./riemann_cuda_double"
      ],
      "execution_count": 2,
      "outputs": [
        {
          "output_type": "stream",
          "text": [
            "Found GPU 'Tesla T4' with 14.7556 GB of global memory, max 1024 threads per block, and 40 multiprocessors\n",
            "tcmalloc: large alloc 8000004096 bytes == 0x55d077450000 @  0x7f4e8b0e61e7 0x55d07563ce85 0x55d07563d0d6 0x7f4e8a117bf7 0x55d07563cd0a\n",
            "CUDA kernel 'medianTrapezoid' launch with 976563 blocks of 1024 threads\n",
            "Riemann sum CUDA (double precision) for N = 1000000000    : 0.3413447460685729 \n",
            "Total time (measured by CPU)                              : 9.124182 s\n"
          ],
          "name": "stdout"
        }
      ]
    },
    {
      "cell_type": "markdown",
      "metadata": {
        "id": "5RSfS2LcvUXc"
      },
      "source": [
        "#### CUDA profiling (trapezoid median)"
      ]
    },
    {
      "cell_type": "code",
      "metadata": {
        "id": "FEGdwMHFrgGk",
        "colab": {
          "base_uri": "https://localhost:8080/"
        },
        "outputId": "f8719e82-71ea-4499-e79f-a70132426b3e"
      },
      "source": [
        "!nvprof ./riemann_cuda_double"
      ],
      "execution_count": 3,
      "outputs": [
        {
          "output_type": "stream",
          "text": [
            "==143== NVPROF is profiling process 143, command: ./riemann_cuda_double\n",
            "Found GPU 'Tesla T4' with 14.7556 GB of global memory, max 1024 threads per block, and 40 multiprocessors\n",
            "tcmalloc: large alloc 8000004096 bytes == 0x558d7b2fc000 @  0x7f48d20ab1e7 0x558d76eb8e85 0x558d76eb90d6 0x7f48d10dcbf7 0x558d76eb8d0a\n",
            "CUDA kernel 'medianTrapezoid' launch with 976563 blocks of 1024 threads\n",
            "Riemann sum CUDA (double precision) for N = 1000000000    : 0.3413447460685729 \n",
            "Total time (measured by CPU)                              : 9.065667 s\n",
            "==143== Profiling application: ./riemann_cuda_double\n",
            "==143== Profiling result:\n",
            "            Type  Time(%)      Time     Calls       Avg       Min       Max  Name\n",
            " GPU activities:   91.38%  5.01980s         1  5.01980s  5.01980s  5.01980s  [CUDA memcpy DtoH]\n",
            "                    8.62%  473.72ms         1  473.72ms  473.72ms  473.72ms  medianTrapezoid(double*, int)\n",
            "      API calls:   94.63%  5.49423s         1  5.49423s  5.49423s  5.49423s  cudaMemcpy\n",
            "                    5.25%  305.10ms         1  305.10ms  305.10ms  305.10ms  cudaMalloc\n",
            "                    0.11%  6.2011ms         1  6.2011ms  6.2011ms  6.2011ms  cudaFree\n",
            "                    0.01%  343.46us         1  343.46us  343.46us  343.46us  cuDeviceTotalMem\n",
            "                    0.00%  160.26us       101  1.5860us     137ns  76.377us  cuDeviceGetAttribute\n",
            "                    0.00%  119.12us         1  119.12us  119.12us  119.12us  cudaGetDeviceProperties\n",
            "                    0.00%  39.013us         1  39.013us  39.013us  39.013us  cudaLaunchKernel\n",
            "                    0.00%  28.862us         1  28.862us  28.862us  28.862us  cuDeviceGetName\n",
            "                    0.00%  5.5640us         1  5.5640us  5.5640us  5.5640us  cuDeviceGetPCIBusId\n",
            "                    0.00%  2.9080us         1  2.9080us  2.9080us  2.9080us  cudaSetDevice\n",
            "                    0.00%  1.5060us         3     502ns     218ns     937ns  cuDeviceGetCount\n",
            "                    0.00%  1.0690us         2     534ns     261ns     808ns  cuDeviceGet\n",
            "                    0.00%     262ns         1     262ns     262ns     262ns  cuDeviceGetUuid\n"
          ],
          "name": "stdout"
        }
      ]
    }
  ]
}
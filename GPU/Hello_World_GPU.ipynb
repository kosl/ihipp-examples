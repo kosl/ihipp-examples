{
 "cells": [
  {
   "cell_type": "markdown",
   "metadata": {},
   "source": [
    "## Hello World! in CUDA C"
   ]
  },
  {
   "cell_type": "code",
   "execution_count": null,
   "metadata": {
    "colab": {
     "base_uri": "https://localhost:8080/"
    },
    "id": "MUKG-RytoEO3",
    "outputId": "64addf04-3cda-46ae-d92f-1ce3e380cd7f"
   },
   "outputs": [],
   "source": [
    "%%file hello_world.cu\n",
    "#include <stdio.h>\n",
    " \n",
    "__global__ void hello()\n",
    "{\n",
    "    printf(\"Hello World!\\n\");\n",
    "}\n",
    "\n",
    "int main(int argc,char **argv)\n",
    "{\n",
    "    // launch the kernel\n",
    "    hello<<<1, 4>>>();\n",
    " \n",
    "    // force the printf()s to flush\n",
    "    cudaDeviceSynchronize();\n",
    " \n",
    "    return 0;\n",
    "}"
   ]
  },
  {
   "cell_type": "code",
   "execution_count": null,
   "metadata": {
    "colab": {
     "base_uri": "https://localhost:8080/"
    },
    "id": "jM9BlOE7fBhf",
    "outputId": "4b59d58c-ebde-4a1a-d2ee-622d26a434ca"
   },
   "outputs": [],
   "source": [
    "!PATH=/usr/local/cuda-10.1/bin:${PATH} nvcc -o hello_cuda_C hello_world.cu && ./hello_cuda_C"
   ]
  },
  {
   "cell_type": "markdown",
   "metadata": {},
   "source": [
    "## Hello World! in PyCUDA"
   ]
  },
  {
   "cell_type": "code",
   "execution_count": null,
   "metadata": {
    "id": "_Z5ybJMxRA4i"
   },
   "outputs": [],
   "source": [
    "!pip -q install pycuda"
   ]
  },
  {
   "cell_type": "code",
   "execution_count": null,
   "metadata": {
    "colab": {
     "base_uri": "https://localhost:8080/"
    },
    "id": "uuIeMdJKRr6Q",
    "outputId": "3b065c9f-89c8-4d64-d6d5-9fa9b0095e16"
   },
   "outputs": [],
   "source": [
    "%%file hello_world.py\n",
    "import pycuda.driver as cuda\n",
    "import pycuda.autoinit\n",
    "from pycuda.compiler import SourceModule\n",
    "\n",
    "mod = SourceModule(\"\"\"\n",
    "#include <stdio.h>\n",
    "\n",
    "__global__ void hello()\n",
    "  {\n",
    "    printf(\"Hello World!\\\\n\");\n",
    "  }\n",
    "\"\"\")\n",
    "\n",
    "# launch the kernel\n",
    "func = mod.get_function(\"hello\")\n",
    "func(block=(1,4,1))\n",
    "\n",
    "# force the printf()s to flush\n",
    "cuda.Context.synchronize()"
   ]
  },
  {
   "cell_type": "code",
   "execution_count": null,
   "metadata": {
    "colab": {
     "base_uri": "https://localhost:8080/"
    },
    "id": "s9UOxJxgbgi4",
    "outputId": "56a0ebe6-4632-4381-b795-50c024e0cc95"
   },
   "outputs": [],
   "source": [
    "!PATH=/usr/local/cuda-10.1/bin:${PATH} python hello_world.py"
   ]
  }
 ],
 "metadata": {
  "accelerator": "GPU",
  "colab": {
   "collapsed_sections": [],
   "name": "Hello_World_GPU.ipynb",
   "provenance": []
  },
  "kernelspec": {
   "display_name": "Python 3 (ipykernel)",
   "language": "python",
   "name": "python3"
  },
  "language_info": {
   "codemirror_mode": {
    "name": "ipython",
    "version": 3
   },
   "file_extension": ".py",
   "mimetype": "text/x-python",
   "name": "python",
   "nbconvert_exporter": "python",
   "pygments_lexer": "ipython3",
   "version": "3.9.7"
  }
 },
 "nbformat": 4,
 "nbformat_minor": 1
}

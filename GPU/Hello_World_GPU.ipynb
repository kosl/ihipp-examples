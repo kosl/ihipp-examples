{
  "nbformat": 4,
  "nbformat_minor": 0,
  "metadata": {
    "colab": {
      "name": "Hello_World_GPU.ipynb",
      "provenance": [],
      "collapsed_sections": []
    },
    "kernelspec": {
      "name": "python3",
      "display_name": "Python 3"
    },
    "accelerator": "GPU"
  },
  "cells": [
    {
      "cell_type": "code",
      "metadata": {
        "id": "MUKG-RytoEO3",
        "colab": {
          "base_uri": "https://localhost:8080/"
        },
        "outputId": "64addf04-3cda-46ae-d92f-1ce3e380cd7f"
      },
      "source": [
        "%%file hello_world.cu\n",
        "#include <stdio.h>\n",
        " \n",
        "__global__ void hello()\n",
        "{\n",
        "    printf(\"Hello World!\\n\");\n",
        "}\n",
        "\n",
        "int main(int argc,char **argv)\n",
        "{\n",
        "    // launch the kernel\n",
        "    hello<<<1, 4>>>();\n",
        " \n",
        "    // force the printf()s to flush\n",
        "    cudaDeviceSynchronize();\n",
        " \n",
        "    return 0;\n",
        "}"
      ],
      "execution_count": 1,
      "outputs": [
        {
          "output_type": "stream",
          "name": "stdout",
          "text": [
            "Overwriting hello_world.cu\n"
          ]
        }
      ]
    },
    {
      "cell_type": "code",
      "metadata": {
        "colab": {
          "base_uri": "https://localhost:8080/"
        },
        "id": "jM9BlOE7fBhf",
        "outputId": "4b59d58c-ebde-4a1a-d2ee-622d26a434ca"
      },
      "source": [
        "!PATH=/usr/local/cuda-10.1/bin:${PATH} nvcc -o hello_cuda_C hello_world.cu && ./hello_cuda_C"
      ],
      "execution_count": 2,
      "outputs": [
        {
          "output_type": "stream",
          "name": "stdout",
          "text": [
            "Hello World!\n",
            "Hello World!\n",
            "Hello World!\n",
            "Hello World!\n"
          ]
        }
      ]
    },
    {
      "cell_type": "code",
      "metadata": {
        "id": "_Z5ybJMxRA4i"
      },
      "source": [
        "!pip -q install pycuda"
      ],
      "execution_count": 3,
      "outputs": []
    },
    {
      "cell_type": "code",
      "metadata": {
        "colab": {
          "base_uri": "https://localhost:8080/"
        },
        "id": "uuIeMdJKRr6Q",
        "outputId": "3b065c9f-89c8-4d64-d6d5-9fa9b0095e16"
      },
      "source": [
        "%%file hello_world.py\n",
        "import pycuda.driver as cuda\n",
        "import pycuda.autoinit\n",
        "from pycuda.compiler import SourceModule\n",
        "\n",
        "mod = SourceModule(\"\"\"\n",
        "#include <stdio.h>\n",
        "\n",
        "__global__ void hello()\n",
        "  {\n",
        "    printf(\"Hello World!\\\\n\");\n",
        "  }\n",
        "\"\"\")\n",
        "\n",
        "# launch the kernel\n",
        "func = mod.get_function(\"hello\")\n",
        "func(block=(1,4,1))\n",
        "\n",
        "# force the printf()s to flush\n",
        "cuda.Context.synchronize()"
      ],
      "execution_count": 4,
      "outputs": [
        {
          "output_type": "stream",
          "name": "stdout",
          "text": [
            "Overwriting hello_world.py\n"
          ]
        }
      ]
    },
    {
      "cell_type": "code",
      "metadata": {
        "colab": {
          "base_uri": "https://localhost:8080/"
        },
        "id": "s9UOxJxgbgi4",
        "outputId": "56a0ebe6-4632-4381-b795-50c024e0cc95"
      },
      "source": [
        "!PATH=/usr/local/cuda-10.1/bin:${PATH} python hello_world.py"
      ],
      "execution_count": 5,
      "outputs": [
        {
          "output_type": "stream",
          "name": "stdout",
          "text": [
            "Hello World!\n",
            "Hello World!\n",
            "Hello World!\n",
            "Hello World!\n"
          ]
        }
      ]
    }
  ]
}
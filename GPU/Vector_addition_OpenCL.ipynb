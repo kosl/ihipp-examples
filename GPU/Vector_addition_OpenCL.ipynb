{
 "cells": [
  {
   "cell_type": "markdown",
   "metadata": {
    "id": "uFQgWDjKRv7Y"
   },
   "source": [
    "## OpenCL Vector addition"
   ]
  },
  {
   "cell_type": "code",
   "execution_count": null,
   "metadata": {
    "colab": {
     "base_uri": "https://localhost:8080/"
    },
    "id": "mvPqQoxnU-cm",
    "outputId": "5c369b31-120c-412c-f261-10ea6f0eb52c"
   },
   "outputs": [],
   "source": [
    "%%file vector_add.cl\n",
    "__kernel void vector_add(__global double *a, __global double *b, __global double *out, int n) {\n",
    "    \n",
    "    int i = get_global_id(0);\n",
    "\n",
    "    if(i < n)\n",
    "      out[i] = a[i] + b[i];\n",
    "}"
   ]
  },
  {
   "cell_type": "code",
   "execution_count": null,
   "metadata": {
    "colab": {
     "base_uri": "https://localhost:8080/"
    },
    "id": "05DrCB50Ul7a",
    "outputId": "7b3d1152-d2dd-413d-a036-2eb5a122451e"
   },
   "outputs": [],
   "source": [
    "%%file vector_add_opencl.c\n",
    "#include <stdio.h>\n",
    "#include <stdlib.h>\n",
    "#include <math.h>\n",
    "#include <assert.h>\n",
    "\n",
    "#ifdef __APPLE__\n",
    "#include <OpenCL/opencl.h>\n",
    "#else\n",
    "#include <CL/cl.h>\n",
    "#endif\n",
    "\n",
    "#define MAX_SOURCE_SIZE (0x100000)\n",
    "#define N 2020\n",
    "#define MAX_ERR 1e-6\n",
    "\n",
    "int main(void) {\n",
    "    // Create the two input vectors\n",
    "    double *a, *b, *out;\n",
    "    int n = N;\n",
    "    \n",
    "    // Allocate host memory\n",
    "    a   = (double*)malloc(sizeof(double) * N);\n",
    "    b   = (double*)malloc(sizeof(double) * N);\n",
    "    out = (double*)malloc(sizeof(double) * N);\n",
    "\n",
    "    // Initialize host arrays\n",
    "    for(int i = 0; i < N; i++){\n",
    "        a[i] = i / 100.0;\n",
    "        b[i] = (N - i) / 100.0;\n",
    "    }\n",
    "\n",
    "\n",
    "    // Load the kernel source code into the array source_str\n",
    "    FILE *fp;\n",
    "    char *source_str;\n",
    "    size_t source_size;\n",
    "\n",
    "    fp = fopen(\"vector_add.cl\", \"r\");\n",
    "    if (!fp) {\n",
    "        fprintf(stderr, \"Failed to load kernel.\\n\");\n",
    "        exit(1);\n",
    "    }\n",
    "    source_str = (char*)malloc(MAX_SOURCE_SIZE);\n",
    "    source_size = fread( source_str, 1, MAX_SOURCE_SIZE, fp);\n",
    "    fclose( fp );\n",
    "\n",
    "    // Get platform and device information\n",
    "    cl_platform_id platform_id = NULL;\n",
    "    cl_device_id device_id = NULL;   \n",
    "    cl_uint ret_num_devices;\n",
    "    cl_uint ret_num_platforms;\n",
    "    cl_int ret = clGetPlatformIDs(1, &platform_id, &ret_num_platforms);\n",
    "    ret = clGetDeviceIDs( platform_id, CL_DEVICE_TYPE_ALL, 1, \n",
    "            &device_id, &ret_num_devices);\n",
    "\n",
    "    // Create an OpenCL context\n",
    "    cl_context context = clCreateContext( NULL, 1, &device_id, NULL, NULL, &ret);\n",
    "\n",
    "    // Create a command queue\n",
    "    cl_command_queue command_queue = clCreateCommandQueue(context, device_id, 0, &ret);\n",
    "\n",
    "    // Create memory buffers on the device for each vector \n",
    "    cl_mem a_mem_obj = clCreateBuffer(context, CL_MEM_READ_ONLY, \n",
    "            N * sizeof(double), NULL, &ret);\n",
    "    cl_mem b_mem_obj = clCreateBuffer(context, CL_MEM_READ_ONLY,\n",
    "            N * sizeof(double), NULL, &ret);\n",
    "    cl_mem out_mem_obj = clCreateBuffer(context, CL_MEM_WRITE_ONLY, \n",
    "            N * sizeof(double), NULL, &ret);\n",
    "\n",
    "    // Copy the lists a and b to their respective memory buffers\n",
    "    ret = clEnqueueWriteBuffer(command_queue, a_mem_obj, CL_TRUE, 0,\n",
    "            N * sizeof(double), a, 0, NULL, NULL);\n",
    "    ret = clEnqueueWriteBuffer(command_queue, b_mem_obj, CL_TRUE, 0, \n",
    "            N * sizeof(double), b, 0, NULL, NULL);\n",
    "\n",
    "    // Create a program from the kernel source\n",
    "    cl_program program = clCreateProgramWithSource(context, 1, \n",
    "            (const char **)&source_str, (const size_t *)&source_size, &ret);\n",
    "\n",
    "    // Build the program\n",
    "    ret = clBuildProgram(program, 1, &device_id, NULL, NULL, NULL);\n",
    "\n",
    "    // Create the OpenCL kernel\n",
    "    cl_kernel kernel = clCreateKernel(program, \"vector_add\", &ret);\n",
    "\n",
    "    // Set the arguments of the kernel\n",
    "    ret = clSetKernelArg(kernel, 0, sizeof(cl_mem), (void *)&a_mem_obj);\n",
    "    ret = clSetKernelArg(kernel, 1, sizeof(cl_mem), (void *)&b_mem_obj);\n",
    "    ret = clSetKernelArg(kernel, 2, sizeof(cl_mem), (void *)&out_mem_obj);\n",
    "    ret = clSetKernelArg(kernel, 3, sizeof(cl_int), (void *)&n);\n",
    "    \n",
    "    // Execute the OpenCL kernel on the list\n",
    "\n",
    "    size_t local_item_size = 64; // Process in groups of 64\n",
    "    int n_blocks = n/local_item_size + (n % local_item_size == 0 ? 0:1);\n",
    "    size_t global_item_size = n_blocks * local_item_size;\n",
    "    \n",
    "    ret = clEnqueueNDRangeKernel(command_queue, kernel, 1, NULL, \n",
    "            &global_item_size, &local_item_size, 0, NULL, NULL);\n",
    "\n",
    "    // Read the memory buffer C on the device to the local variable C\n",
    "    //int *C = (int*)malloc(sizeof(int) * N);\n",
    "    ret = clEnqueueReadBuffer(command_queue, out_mem_obj, CL_TRUE, 0, \n",
    "            N * sizeof(double), out, 0, NULL, NULL);\n",
    "\n",
    "    // Display the result to the screen\n",
    "    for(int i = 0; i < N; i++){\n",
    "        assert(fabs(out[i] - a[i] - b[i]) < MAX_ERR);\n",
    "        if (i % 101 == 0)\n",
    "          printf(\"%.2f + %.2f = %.2f\\n\", a[i], b[i], out[i]);\n",
    "    }\n",
    "    printf(\"PASSED\\n\");\n",
    "\n",
    "    // Clean up\n",
    "    ret = clFlush(command_queue);\n",
    "    ret = clFinish(command_queue);\n",
    "    ret = clReleaseKernel(kernel);\n",
    "    ret = clReleaseProgram(program);\n",
    "    ret = clReleaseMemObject(a_mem_obj);\n",
    "    ret = clReleaseMemObject(b_mem_obj);\n",
    "    ret = clReleaseMemObject(out_mem_obj);\n",
    "    ret = clReleaseCommandQueue(command_queue);\n",
    "    ret = clReleaseContext(context);\n",
    "    free(a);\n",
    "    free(b);\n",
    "    free(out);\n",
    "    return 0;\n",
    "}"
   ]
  },
  {
   "cell_type": "code",
   "execution_count": null,
   "metadata": {
    "colab": {
     "base_uri": "https://localhost:8080/"
    },
    "id": "Q1DBxAbTVrc3",
    "outputId": "89437d9b-537c-4d13-96e0-133999f874f4"
   },
   "outputs": [],
   "source": [
    " !nvcc -o vector_add_opencl vector_add_opencl.c -lOpenCL && ./vector_add_opencl"
   ]
  }
 ],
 "metadata": {
  "accelerator": "GPU",
  "colab": {
   "collapsed_sections": [],
   "name": "Vector_addition_OpenCL.ipynb",
   "provenance": []
  },
  "kernelspec": {
   "display_name": "Python 3 (ipykernel)",
   "language": "python",
   "name": "python3"
  },
  "language_info": {
   "codemirror_mode": {
    "name": "ipython",
    "version": 3
   },
   "file_extension": ".py",
   "mimetype": "text/x-python",
   "name": "python",
   "nbconvert_exporter": "python",
   "pygments_lexer": "ipython3",
   "version": "3.9.7"
  }
 },
 "nbformat": 4,
 "nbformat_minor": 1
}

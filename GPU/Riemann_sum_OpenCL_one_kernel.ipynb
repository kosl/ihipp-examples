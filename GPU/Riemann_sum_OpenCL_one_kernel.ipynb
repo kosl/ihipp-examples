{
  "nbformat": 4,
  "nbformat_minor": 0,
  "metadata": {
    "colab": {
      "name": "Riemann_sum_OpenCL_one-kernel.ipynb",
      "provenance": [],
      "collapsed_sections": []
    },
    "kernelspec": {
      "name": "python3",
      "display_name": "Python 3"
    },
    "accelerator": "GPU"
  },
  "cells": [
    {
      "cell_type": "markdown",
      "metadata": {
        "id": "Suh22TEsvu3r"
      },
      "source": [
        "## Numerical integration (Riemann sum): calculating $\\Phi(1) = \\frac 1 {\\sqrt{2\\pi}} \\int_{0}^1 e^{-x^2/2} \\, dx$\n",
        "(see, e.g.: https://mathworld.wolfram.com/NormalDistributionFunction.html)."
      ]
    },
    {
      "cell_type": "markdown",
      "metadata": {
        "id": "9kSbCb0Mcp0L"
      },
      "source": [
        "#### OpenCL version with one kernel (trapezoid median)"
      ]
    },
    {
      "cell_type": "code",
      "metadata": {
        "id": "qp9MUOM2cuH4",
        "colab": {
          "base_uri": "https://localhost:8080/"
        },
        "outputId": "624caf67-a22b-4d7a-eb93-3e613799133f"
      },
      "source": [
        "%%file riemann.cl\n",
        "__kernel void medianTrapezoid(__global double *a, int n) {\n",
        "    \n",
        "    int idx = get_global_id(0);\n",
        "    double x = (double)idx / (double)n;\n",
        " \n",
        "    if(idx < n)\n",
        "       a[idx] = (exp(-x * x / 2.0) + exp(-(x + 1 / (double)n) * (x + 1 / (double)n) / 2.0)) / 2.0;\n",
        "}"
      ],
      "execution_count": 1,
      "outputs": [
        {
          "output_type": "stream",
          "name": "stdout",
          "text": [
            "Writing riemann.cl\n"
          ]
        }
      ]
    },
    {
      "cell_type": "code",
      "metadata": {
        "id": "qEMxEGi9cuTF",
        "colab": {
          "base_uri": "https://localhost:8080/"
        },
        "outputId": "f31f4776-eb6e-4ead-8adc-4ea2bd720ad1"
      },
      "source": [
        "%%file riemann_opencl_double.c\n",
        "#include <stdio.h>\n",
        "#include <stdlib.h>\n",
        "#include <math.h>\n",
        "#include <time.h>\n",
        "#include <CL/cl.h>\n",
        "\n",
        "#define MAX_SOURCE_SIZE (0x100000)\n",
        "\n",
        "#define N 1000000000\n",
        "\n",
        "double riemannCL(int n)\n",
        "{\n",
        "    //Allocate memory to host variable\n",
        "    double *a = (double*)malloc(sizeof(double)*n);\n",
        "    \n",
        "    // Load the kernel source code into the array source_str\n",
        "    FILE *fp;\n",
        "    char *source_str;\n",
        "    size_t source_size;\n",
        "\n",
        "    fp = fopen(\"riemann.cl\", \"r\");\n",
        "    if (!fp) {\n",
        "        fprintf(stderr, \"Failed to load kernel.\\n\");\n",
        "        exit(1);\n",
        "    }\n",
        "    source_str = (char*)malloc(MAX_SOURCE_SIZE);\n",
        "    source_size = fread( source_str, 1, MAX_SOURCE_SIZE, fp);\n",
        "    fclose( fp );\n",
        "\n",
        "    // Get platform and device information\n",
        "    cl_platform_id platform_id = NULL;\n",
        "    cl_device_id device_id = NULL;   \n",
        "    cl_uint ret_num_devices;\n",
        "    cl_uint ret_num_platforms;\n",
        "    cl_int ret = clGetPlatformIDs(1, &platform_id, &ret_num_platforms);\n",
        "    ret = clGetDeviceIDs( platform_id, CL_DEVICE_TYPE_ALL, 1, \n",
        "            &device_id, &ret_num_devices);\n",
        "\n",
        "    // Create an OpenCL context\n",
        "    cl_context context = clCreateContext( NULL, 1, &device_id, NULL, NULL, &ret);\n",
        "\n",
        "    // Create a command queue\n",
        "    cl_command_queue command_queue = clCreateCommandQueue(context, device_id, 0, &ret);\n",
        "\n",
        "    // Create memory buffers on the device for each vector \n",
        "    cl_mem a_mem_obj = clCreateBuffer(context, CL_MEM_READ_WRITE, \n",
        "            n * sizeof(double), NULL, &ret);\n",
        "\n",
        "    // Create a program from the kernel source\n",
        "    cl_program program = clCreateProgramWithSource(context, 1, \n",
        "            (const char **)&source_str, (const size_t *)&source_size, &ret);\n",
        "\n",
        "    // Build the program\n",
        "    ret = clBuildProgram(program, 1, &device_id, NULL, NULL, NULL);\n",
        "\n",
        "    clock_t t2; \n",
        "    t2 = clock(); \n",
        "\n",
        "    // Create the OpenCL kernel\n",
        "    cl_kernel kernel = clCreateKernel(program, \"medianTrapezoid\", &ret);\n",
        "\n",
        "    // Set the arguments of the kernel\n",
        "    ret = clSetKernelArg(kernel, 0, sizeof(cl_mem), (void *)&a_mem_obj);    \n",
        "    ret = clSetKernelArg(kernel, 1, sizeof(cl_int), (void *)&n);\n",
        "    \n",
        "    // Execute the OpenCL kernel\n",
        "    size_t local_item_size = 1024;\n",
        "    int n_blocks = n/local_item_size + (n % local_item_size == 0 ? 0:1);\n",
        "    size_t global_item_size = n_blocks * local_item_size;\n",
        "    printf(\"OpenCL kernel 'medianTrapezoid' launch with %d blocks of %lu threads\\n\\n\", n_blocks, local_item_size);\n",
        "\n",
        "    ret = clEnqueueNDRangeKernel(command_queue, kernel, 1, NULL, \n",
        "            &global_item_size, &local_item_size, 0, NULL, NULL);\n",
        "\n",
        "    t2 = clock() - t2;\n",
        "\n",
        "    double time_taken2 = ((double)t2)/CLOCKS_PER_SEC; // in seconds\n",
        "\n",
        "    clock_t t3; \n",
        "    t3 = clock();\n",
        "\n",
        "    ret = clEnqueueReadBuffer(command_queue, a_mem_obj, CL_TRUE, 0, \n",
        "            n * sizeof(double), a, 0, NULL, NULL);\n",
        "\n",
        "    t3 = clock() - t3;\n",
        "\n",
        "    double time_taken3 = ((double)t3)/CLOCKS_PER_SEC; // in seconds\n",
        "\n",
        "    clock_t t4; \n",
        "    t4 = clock(); \n",
        "\n",
        "    // add up results\n",
        "    double sum = 0;\n",
        "    for (int i=0; i < n; i++) sum += a[i];\n",
        "    sum *= (1.0 / sqrt(2.0 * M_PI)) / (double)n;\n",
        "\n",
        "    t4 = clock() - t4;\n",
        "\n",
        "    double time_taken4 = ((double)t4)/CLOCKS_PER_SEC; // in seconds\n",
        "\n",
        "    // Clean up\n",
        "    ret = clFlush(command_queue);\n",
        "    ret = clFinish(command_queue);\n",
        "    ret = clReleaseKernel(kernel);\n",
        "    ret = clReleaseProgram(program);\n",
        "    ret = clReleaseMemObject(a_mem_obj); \n",
        "    ret = clReleaseCommandQueue(command_queue);\n",
        "    ret = clReleaseContext(context);\n",
        "    free(a);\n",
        "\n",
        "    printf(\"OpenCL and CPU code diagnostics:\\n\");\n",
        "    printf(\"OpenCL kernel execution time (measured by CPU):        %f ms\\n\", time_taken2 * 1000);\n",
        "    printf(\"Device to host memory transfer time (measured by CPU): %f s\\n\", time_taken3);\n",
        "    printf(\"CPU execution time for adding sum (measured by CPU):   %f s\\n\\n\", time_taken4);\n",
        "  \n",
        "    return sum;\n",
        "}\n",
        "\n",
        "int main(int argc, char** argv){\n",
        "\n",
        "  clock_t t1; \n",
        "  t1 = clock(); \n",
        "\n",
        "  double sum = riemannCL(N);\n",
        "\n",
        "  t1 = clock() - t1;\n",
        "\n",
        "  double time_taken1 = ((double)t1)/CLOCKS_PER_SEC; // in seconds\n",
        "\n",
        "  printf(\"Riemann sum OpenCL (double precision) for N = %d    : %.17g \\n\", N, sum);\n",
        "  printf(\"Total time (measured by CPU)                                : %f s\\n\", time_taken1);\n",
        "}"
      ],
      "execution_count": 2,
      "outputs": [
        {
          "output_type": "stream",
          "name": "stdout",
          "text": [
            "Writing riemann_opencl_double.c\n"
          ]
        }
      ]
    },
    {
      "cell_type": "code",
      "metadata": {
        "id": "ZvZH3-tTc8SP",
        "colab": {
          "base_uri": "https://localhost:8080/"
        },
        "outputId": "d1a7fb58-9f53-4f3c-fab5-a78f569d7c50"
      },
      "source": [
        "!nvcc -o riemann_opencl_double riemann_opencl_double.c -lOpenCL && ./riemann_opencl_double"
      ],
      "execution_count": 3,
      "outputs": [
        {
          "output_type": "stream",
          "name": "stdout",
          "text": [
            "tcmalloc: large alloc 8000004096 bytes == 0x5582b2e3a000 @  0x7fd4138021e7 0x5582b1fe86a4 0x5582b1fe8c34 0x7fd412bccbf7 0x5582b1fe857a\n",
            "OpenCL kernel 'medianTrapezoid' launch with 976563 blocks of 1024 threads\n",
            "\n",
            "OpenCL and CPU code diagnostics:\n",
            "OpenCL kernel execution time (measured by CPU):        13.360000 ms\n",
            "Device to host memory transfer time (measured by CPU): 4.982627 s\n",
            "CPU execution time for adding sum (measured by CPU):   3.375366 s\n",
            "\n",
            "Riemann sum OpenCL (double precision) for N = 1000000000    : 0.3413447460685729 \n",
            "Total time (measured by CPU)                                : 9.942198 s\n"
          ]
        }
      ]
    }
  ]
}
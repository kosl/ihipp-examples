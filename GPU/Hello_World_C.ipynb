{
  "nbformat": 4,
  "nbformat_minor": 0,
  "metadata": {
    "colab": {
      "name": "Hello_World_C.ipynb",
      "provenance": [],
      "collapsed_sections": []
    },
    "kernelspec": {
      "name": "python3",
      "display_name": "Python 3"
    },
    "accelerator": "GPU"
  },
  "cells": [
    {
      "cell_type": "markdown",
      "metadata": {
        "id": "-OkNjKhmRUim"
      },
      "source": [
        "## **Hello world C example**"
      ]
    },
    {
      "cell_type": "code",
      "metadata": {
        "id": "5ZUJKyHT-2gl",
        "colab": {
          "base_uri": "https://localhost:8080/"
        },
        "outputId": "22ab644f-2e1e-40a8-eede-835a55ee9e0c"
      },
      "source": [
        "%%file hello.c\n",
        "#include <stdio.h>\n",
        " \n",
        "#define N 4\n",
        " \n",
        "int main(int argc,char **argv)\n",
        "{\n",
        "    for(int i = 0; i < N; ++i)\n",
        "    {\n",
        "      printf(\"Hello world! I'm iteration %d\\n\", i);\n",
        "    }\n",
        " \n",
        "    printf(\"That's all!\\n\");\n",
        " \n",
        "    return 0;\n",
        "}"
      ],
      "execution_count": 1,
      "outputs": [
        {
          "output_type": "stream",
          "name": "stdout",
          "text": [
            "Writing hello.c\n"
          ]
        }
      ]
    },
    {
      "cell_type": "code",
      "metadata": {
        "id": "cnodYYDl_UsP",
        "colab": {
          "base_uri": "https://localhost:8080/"
        },
        "outputId": "c5be3b9e-afd6-433f-8578-25387ff451f4"
      },
      "source": [
        "!gcc -o hello hello.c && ./hello"
      ],
      "execution_count": 2,
      "outputs": [
        {
          "output_type": "stream",
          "name": "stdout",
          "text": [
            "Hello world! I'm iteration 0\n",
            "Hello world! I'm iteration 1\n",
            "Hello world! I'm iteration 2\n",
            "Hello world! I'm iteration 3\n",
            "That's all!\n"
          ]
        }
      ]
    }
  ]
}
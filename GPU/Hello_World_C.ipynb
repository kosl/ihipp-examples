{
  "nbformat": 4,
  "nbformat_minor": 0,
  "metadata": {
    "colab": {
      "name": "Hello_World_C.ipynb",
      "provenance": [],
      "collapsed_sections": []
    },
    "kernelspec": {
      "name": "python3",
      "display_name": "Python 3"
    },
    "accelerator": "GPU"
  },
  "cells": [
    {
      "cell_type": "markdown",
      "metadata": {
        "id": "-OkNjKhmRUim"
      },
      "source": [
        "## **Hello world C example**"
      ]
    },
    {
      "cell_type": "code",
      "metadata": {
        "id": "5ZUJKyHT-2gl"
      },
      "source": [
        "%%sh \n",
        "cat > hello.c << EOF\n",
        "#include <stdio.h>\n",
        " \n",
        "#define N 4\n",
        " \n",
        "int main(int argc,char **argv)\n",
        "{\n",
        "    for(int i = 0; i < N; ++i)\n",
        "    {\n",
        "      printf(\"Hello world! I'm iteration %d\\n\", i);\n",
        "    }\n",
        " \n",
        "    printf(\"That's all!\\n\");\n",
        " \n",
        "    return 0;\n",
        "}\n",
        "EOF"
      ],
      "execution_count": 1,
      "outputs": []
    },
    {
      "cell_type": "code",
      "metadata": {
        "id": "cnodYYDl_UsP",
        "colab": {
          "base_uri": "https://localhost:8080/"
        },
        "outputId": "c8d261dc-e894-416d-f9f0-12c653d7f2dd"
      },
      "source": [
        "!gcc -o hello hello.c && ./hello"
      ],
      "execution_count": 2,
      "outputs": [
        {
          "output_type": "stream",
          "text": [
            "Hello world! I'm iteration 0\n",
            "Hello world! I'm iteration 1\n",
            "Hello world! I'm iteration 2\n",
            "Hello world! I'm iteration 3\n",
            "That's all!\n"
          ],
          "name": "stdout"
        }
      ]
    }
  ]
}
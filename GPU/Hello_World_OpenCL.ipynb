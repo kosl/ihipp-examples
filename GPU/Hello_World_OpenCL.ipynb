{
  "nbformat": 4,
  "nbformat_minor": 0,
  "metadata": {
    "colab": {
      "name": "Hello_World_OpenCL.ipynb",
      "provenance": [],
      "collapsed_sections": []
    },
    "kernelspec": {
      "name": "python3",
      "display_name": "Python 3"
    },
    "accelerator": "GPU"
  },
  "cells": [
    {
      "cell_type": "markdown",
      "metadata": {
        "id": "-OkNjKhmRUim"
      },
      "source": [
        "## Hello world OpenCL example"
      ]
    },
    {
      "cell_type": "code",
      "metadata": {
        "id": "n_kBtaZmidSt",
        "colab": {
          "base_uri": "https://localhost:8080/"
        },
        "outputId": "be9f0f9a-4ff3-4013-9231-ec852e5ca28f"
      },
      "source": [
        "%%file hello.cl\n",
        "__kernel void hello() {\n",
        "    int gid = get_global_id(0);\n",
        "    printf(\"Hello world! I'm a thread in block %d\\n\", gid);\n",
        "}"
      ],
      "execution_count": 1,
      "outputs": [
        {
          "output_type": "stream",
          "name": "stdout",
          "text": [
            "Overwriting hello.cl\n"
          ]
        }
      ]
    },
    {
      "cell_type": "code",
      "metadata": {
        "id": "BWNF0rxtwyCj",
        "colab": {
          "base_uri": "https://localhost:8080/"
        },
        "outputId": "79e275a7-f273-44f4-9e77-04b34f3ce293"
      },
      "source": [
        " %%file hello_CL.c\n",
        "#include <CL/cl.h>\n",
        "\n",
        "#include <stdio.h>\n",
        "#include <stdlib.h>\n",
        "\n",
        "#define MAX_SOURCE_SIZE (0x100000)\n",
        "\n",
        "#define GLOBAl_SIZE 4\n",
        "#define LOCAL_SIZE 1\n",
        "\n",
        "int main(int argc, char ** argv) {\n",
        "\n",
        "\t// Load kernel from file hello.cl\n",
        "\n",
        "\tFILE *kernelFile;\n",
        "\tchar *kernelSource;\n",
        "\tsize_t kernelSize;\n",
        "\n",
        "\tkernelFile = fopen(\"hello.cl\", \"r\");\n",
        "\n",
        "\tif (!kernelFile) {\n",
        "\n",
        "\t\tfprintf(stderr, \"No file named hello.cl was found\\n\");\n",
        "\n",
        "\t\texit(-1);\n",
        "\n",
        "\t}\n",
        "\tkernelSource = (char*)malloc(MAX_SOURCE_SIZE);\n",
        "\tkernelSize = fread(kernelSource, 1, MAX_SOURCE_SIZE, kernelFile);\n",
        "\tfclose(kernelFile);\n",
        "\n",
        "\t// Getting platform and device information\n",
        "\tcl_platform_id platformId = NULL;\n",
        "\tcl_device_id deviceID = NULL;\n",
        "\tcl_uint retNumDevices;\n",
        "\tcl_uint retNumPlatforms;\n",
        "\tcl_int ret = clGetPlatformIDs(1, &platformId, &retNumPlatforms);\n",
        "\tret = clGetDeviceIDs(platformId, CL_DEVICE_TYPE_DEFAULT, 1, &deviceID, &retNumDevices);\n",
        "\n",
        "\t// Creating context.\n",
        "\tcl_context context = clCreateContext(NULL, 1, &deviceID, NULL, NULL,  &ret);\n",
        "\n",
        "\t// Creating command queue\n",
        "\tcl_command_queue commandQueue = clCreateCommandQueue(context, deviceID, 0, &ret);\n",
        "\n",
        "\t// Create program from kernel source\n",
        "\tcl_program program = clCreateProgramWithSource(context, 1, (const char **)&kernelSource, (const size_t *)&kernelSize, &ret);\t\n",
        "\n",
        "\t// Build program\n",
        "\tret = clBuildProgram(program, 1, &deviceID, NULL, NULL, NULL);\n",
        "\n",
        "\t// Create kernel\n",
        "\tcl_kernel kernel = clCreateKernel(program, \"hello\", &ret);\n",
        "\n",
        "\t// Execute the kernel\n",
        "\tsize_t globalItemSize = GLOBAl_SIZE;\n",
        "\tsize_t localItemSize = LOCAL_SIZE;\n",
        "\tret = clEnqueueNDRangeKernel(commandQueue, kernel, 1, NULL, &globalItemSize, &localItemSize, 0, NULL, NULL);\n",
        "\n",
        "  printf(\"That's all!\\n\");\t\t\n",
        "\n",
        "\t// Clean up, release memory.\n",
        "\tret = clFlush(commandQueue);\n",
        "\tret = clFinish(commandQueue);\n",
        "\tret = clReleaseCommandQueue(commandQueue);\n",
        "\tret = clReleaseKernel(kernel);\n",
        "\tret = clReleaseProgram(program);\t\n",
        "\tret = clReleaseContext(context);\n",
        "\n",
        "\treturn 0;\n",
        "}"
      ],
      "execution_count": 2,
      "outputs": [
        {
          "output_type": "stream",
          "name": "stdout",
          "text": [
            "Overwriting hello_CL.c\n"
          ]
        }
      ]
    },
    {
      "cell_type": "code",
      "metadata": {
        "id": "Hlk-sYHgxepF",
        "colab": {
          "base_uri": "https://localhost:8080/"
        },
        "outputId": "5fd5db79-da63-4edb-d7be-dfb0b551e038"
      },
      "source": [
        " !nvcc -o hello_CL hello_CL.c -lOpenCL && ./hello_CL"
      ],
      "execution_count": 3,
      "outputs": [
        {
          "output_type": "stream",
          "name": "stdout",
          "text": [
            "Hello world! I'm a thread in block 3\n",
            "Hello world! I'm a thread in block 0\n",
            "Hello world! I'm a thread in block 1\n",
            "Hello world! I'm a thread in block 2\n",
            "That's all!\n"
          ]
        }
      ]
    }
  ]
}
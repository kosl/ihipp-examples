{
  "nbformat": 4,
  "nbformat_minor": 0,
  "metadata": {
    "colab": {
      "name": "Hello_World_CUDA_extended.ipynb",
      "provenance": [],
      "collapsed_sections": []
    },
    "kernelspec": {
      "name": "python3",
      "display_name": "Python 3"
    },
    "accelerator": "GPU"
  },
  "cells": [
    {
      "cell_type": "markdown",
      "metadata": {
        "id": "-OkNjKhmRUim"
      },
      "source": [
        "##**Exercise: Hello world CUDA extended**\n",
        "\n",
        "Modify the Hello world CUDA example from the previous step to complete the following tasks:\n",
        "\n",
        "- define 2 blocks with 4 threads each\n",
        "- print the \"Hello World\" message to reflect also information on the thread number from each block (hint: use the built-in variable ```threadIdx.x```)\n",
        "\n"
      ]
    },
    {
      "cell_type": "code",
      "metadata": {
        "colab": {
          "base_uri": "https://localhost:8080/"
        },
        "id": "i-H2vP1ZMuKS",
        "outputId": "6f0ef0c4-ab56-4bfd-bf1f-23dc86602efa"
      },
      "source": [
        "!nvidia-smi"
      ],
      "execution_count": null,
      "outputs": [
        {
          "output_type": "stream",
          "name": "stdout",
          "text": [
            "Wed Dec 22 14:02:14 2021       \n",
            "+-----------------------------------------------------------------------------+\n",
            "| NVIDIA-SMI 495.44       Driver Version: 460.32.03    CUDA Version: 11.2     |\n",
            "|-------------------------------+----------------------+----------------------+\n",
            "| GPU  Name        Persistence-M| Bus-Id        Disp.A | Volatile Uncorr. ECC |\n",
            "| Fan  Temp  Perf  Pwr:Usage/Cap|         Memory-Usage | GPU-Util  Compute M. |\n",
            "|                               |                      |               MIG M. |\n",
            "|===============================+======================+======================|\n",
            "|   0  Tesla K80           Off  | 00000000:00:04.0 Off |                    0 |\n",
            "| N/A   37C    P8    27W / 149W |      0MiB / 11441MiB |      0%      Default |\n",
            "|                               |                      |                  N/A |\n",
            "+-------------------------------+----------------------+----------------------+\n",
            "                                                                               \n",
            "+-----------------------------------------------------------------------------+\n",
            "| Processes:                                                                  |\n",
            "|  GPU   GI   CI        PID   Type   Process name                  GPU Memory |\n",
            "|        ID   ID                                                   Usage      |\n",
            "|=============================================================================|\n",
            "|  No running processes found                                                 |\n",
            "+-----------------------------------------------------------------------------+\n"
          ]
        }
      ]
    },
    {
      "cell_type": "code",
      "metadata": {
        "id": "MUKG-RytoEO3",
        "colab": {
          "base_uri": "https://localhost:8080/"
        },
        "outputId": "0da2cb71-33c9-4755-fc6c-4eb43c19211b"
      },
      "source": [
        " %%file hello.cu\n",
        "#include <stdio.h>\n",
        " \n",
        "#define NUM_BLOCKS 4\n",
        "#define BLOCK_SIZE 1\n",
        " \n",
        "__global__ void hello()\n",
        "{\n",
        "    int idx = blockIdx.x;\n",
        "    printf(\"Hello world! I'm a thread in block %d\\n\", idx);\n",
        "}\n",
        " \n",
        " \n",
        "int main(int argc,char **argv)\n",
        "{\n",
        "    // launch the kernel\n",
        "    hello<<<NUM_BLOCKS, BLOCK_SIZE>>>();\n",
        " \n",
        "    // force the printf()s to flush\n",
        "    cudaDeviceSynchronize();\n",
        " \n",
        "    printf(\"That's all!\\n\");\n",
        " \n",
        "    return 0;\n",
        "}"
      ],
      "execution_count": null,
      "outputs": [
        {
          "output_type": "stream",
          "name": "stdout",
          "text": [
            "Writing hello.cu\n"
          ]
        }
      ]
    },
    {
      "cell_type": "code",
      "metadata": {
        "id": "P5iKD5xxoVvl",
        "colab": {
          "base_uri": "https://localhost:8080/"
        },
        "outputId": "e2ed64f0-8c5b-43bc-a148-f857d1319423"
      },
      "source": [
        "!PATH=/usr/local/cuda-10.1/bin:${PATH} nvcc -o hello_cuda hello.cu && ./hello_cuda"
      ],
      "execution_count": 3,
      "outputs": [
        {
          "output_type": "stream",
          "name": "stdout",
          "text": [
            "Hello world! I'm a thread in block 3\n",
            "Hello world! I'm a thread in block 0\n",
            "Hello world! I'm a thread in block 1\n",
            "Hello world! I'm a thread in block 2\n",
            "That's all!\n"
          ]
        }
      ]
    },
    {
      "cell_type": "markdown",
      "metadata": {
        "id": "LQC4dGbIK3t3"
      },
      "source": [
        "You can compare with our solution:"
      ]
    },
    {
      "cell_type": "code",
      "metadata": {
        "id": "TMh8j_oLLB-K",
        "colab": {
          "base_uri": "https://localhost:8080/"
        },
        "outputId": "26321e16-a98a-40eb-8a84-6134d8bd14ce"
      },
      "source": [
        " %%file hello_exercise.cu\n",
        "#include <stdio.h>\n",
        " \n",
        "#define NUM_BLOCKS 2\n",
        "#define BLOCK_SIZE 4\n",
        " \n",
        "__global__ void hello()\n",
        "{\n",
        "    int bidx = blockIdx.x;\n",
        "    int tidx = threadIdx.x;\n",
        "    printf(\"Hello world! I'm a thread %d in block %d\\n\", tidx, bidx);\n",
        "}\n",
        " \n",
        " \n",
        "int main(int argc,char **argv)\n",
        "{\n",
        "    // launch the kernel\n",
        "    hello<<<NUM_BLOCKS, BLOCK_SIZE>>>();\n",
        " \n",
        "    // force the printf()s to flush\n",
        "    cudaDeviceSynchronize();\n",
        " \n",
        "    printf(\"That's all!\\n\");\n",
        " \n",
        "    return 0;\n",
        "}"
      ],
      "execution_count": 4,
      "outputs": [
        {
          "output_type": "stream",
          "name": "stdout",
          "text": [
            "Writing hello_exercise.cu\n"
          ]
        }
      ]
    },
    {
      "cell_type": "code",
      "metadata": {
        "id": "-wgRQB5KLU5T",
        "colab": {
          "base_uri": "https://localhost:8080/"
        },
        "outputId": "c906f7f2-4ae5-426b-afd3-6fe0865f2090"
      },
      "source": [
        " !PATH=/usr/local/cuda-10.1/bin:${PATH} nvcc -o hello_cuda_exercise hello_exercise.cu && ./hello_cuda_exercise"
      ],
      "execution_count": 5,
      "outputs": [
        {
          "output_type": "stream",
          "name": "stdout",
          "text": [
            "Hello world! I'm a thread 0 in block 0\n",
            "Hello world! I'm a thread 1 in block 0\n",
            "Hello world! I'm a thread 2 in block 0\n",
            "Hello world! I'm a thread 3 in block 0\n",
            "Hello world! I'm a thread 0 in block 1\n",
            "Hello world! I'm a thread 1 in block 1\n",
            "Hello world! I'm a thread 2 in block 1\n",
            "Hello world! I'm a thread 3 in block 1\n",
            "That's all!\n"
          ]
        }
      ]
    }
  ]
}
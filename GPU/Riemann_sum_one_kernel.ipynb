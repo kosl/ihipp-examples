{
 "cells": [
  {
   "cell_type": "markdown",
   "metadata": {
    "id": "Suh22TEsvu3r"
   },
   "source": [
    "## Numerical integration (Riemann sum): calculating $\\Phi(1) = \\frac 1 {\\sqrt{2\\pi}} \\int_{0}^1 e^{-x^2/2} \\, dx$\n",
    "(see, e.g.: https://mathworld.wolfram.com/NormalDistributionFunction.html)."
   ]
  },
  {
   "cell_type": "markdown",
   "metadata": {
    "id": "ZOvHuKAYb9Cp"
   },
   "source": [
    "#### CUDA version with one kernel (trapezoid median)"
   ]
  },
  {
   "cell_type": "code",
   "execution_count": 14,
   "metadata": {
    "colab": {
     "base_uri": "https://localhost:8080/"
    },
    "id": "zEvQG27n2jaB",
    "outputId": "0c9aa8b6-b9bd-4879-94d4-4dd8acc7bc8e"
   },
   "outputs": [
    {
     "name": "stdout",
     "output_type": "stream",
     "text": [
      "Overwriting riemann_cuda_double.cu\n"
     ]
    }
   ],
   "source": [
    "%%file riemann_cuda_double.cu\n",
    "#include <stdio.h>\n",
    "#include <stdlib.h>\n",
    "#include <math.h>\n",
    "#include <cuda.h>\n",
    "#include <cuda_runtime.h>\n",
    "#include <device_launch_parameters.h>\n",
    " \n",
    "#define N 100000000\n",
    " \n",
    "/* CUDA error wraper */\n",
    "static void CUDA_ERROR( cudaError_t err) \n",
    "{\n",
    "    if (err != cudaSuccess) {\n",
    "        printf(\"CUDA ERROR: %s, exiting\\n\", cudaGetErrorString(err));\n",
    "        exit(-1);\n",
    "    }\n",
    "}\n",
    " \n",
    "__global__ void medianTrapezoid(double *a, int n)\n",
    "{\n",
    "  int idx = blockIdx.x * blockDim.x + threadIdx.x;\n",
    "  double x = (double)idx / (double)n;\n",
    " \n",
    "  if(idx < n)\n",
    "    a[idx] = (exp(-x * x / 2.0) + exp(-(x + 1 / (double)n) * (x + 1 / (double)n) / 2.0)) / 2.0;\n",
    "}\n",
    " \n",
    "double riemannCUDA(int n)\n",
    "{\n",
    "  ///size of the arrays in bytes\n",
    "  size_t size = n * sizeof(double);\n",
    " \n",
    "  // allocate array on host and device\n",
    "  double* a_h = (double *)malloc(size);\n",
    "  double* a_d; cudaMalloc((double **) &a_d, size);\n",
    " \n",
    "  // do calculation on device\n",
    "  int block_size = 1024;\n",
    "  int n_blocks = n/block_size + (n % block_size == 0 ? 0:1);\n",
    "  printf(\"CUDA kernel 'medianTrapezoid' launch with %d blocks of %d threads\\n\", n_blocks, block_size);\n",
    "  medianTrapezoid <<< n_blocks, block_size >>> (a_d, n);\n",
    "  \n",
    "  // copy results from device to host\n",
    "  cudaMemcpy(a_h, a_d, sizeof(double)*n, cudaMemcpyDeviceToHost);\n",
    " \n",
    "  // add up results\n",
    "  double sum = 0;\n",
    "  for (int i=0; i < n; i++) sum += a_h[i];\n",
    "  sum *= (1.0 / sqrt(2.0 * M_PI)) / (double)n;\n",
    "  \n",
    "  // clean up\n",
    "  free(a_h); cudaFree(a_d);\n",
    "  \n",
    "  return sum;\n",
    "}\n",
    " \n",
    "int main(int argc, char** argv){\n",
    " \n",
    "  /*get info on our GPU, defaulting to first one*/\n",
    "  cudaDeviceProp prop;\n",
    "  CUDA_ERROR(cudaGetDeviceProperties(&prop,0));\n",
    "  printf(\"Found GPU '%s' with %g GB of global memory, max %d threads per block, and %d multiprocessors\\n\", \n",
    "         prop.name, prop.totalGlobalMem/(1024.0*1024.0*1024.0),\n",
    "         prop.maxThreadsPerBlock,prop.multiProcessorCount);\n",
    " \n",
    "  /*init CUDA*/\n",
    "  CUDA_ERROR(cudaSetDevice(0));\n",
    " \n",
    "  clock_t t1; \n",
    "  t1 = clock();\n",
    " \n",
    "  double sum = riemannCUDA(N);\n",
    " \n",
    "  t1 = clock() - t1;\n",
    " \n",
    "  double time_taken1 = ((double)t1)/CLOCKS_PER_SEC; // in seconds\n",
    " \n",
    "  printf(\"Riemann sum CUDA (double precision) for N = %d    : %.17g \\n\", N, sum);\n",
    "  printf(\"Total time (measured by CPU)                              : %f s\\n\", time_taken1);\n",
    "}"
   ]
  },
  {
   "cell_type": "code",
   "execution_count": 15,
   "metadata": {
    "colab": {
     "base_uri": "https://localhost:8080/"
    },
    "id": "7Z9F6lnj4Stf",
    "outputId": "66077581-22e0-4f71-91e1-2fbc70491480"
   },
   "outputs": [
    {
     "name": "stdout",
     "output_type": "stream",
     "text": [
      "Found GPU 'Quadro P400' with 2 GB of global memory, max 1024 threads per block, and 2 multiprocessors\n",
      "CUDA kernel 'medianTrapezoid' launch with 97657 blocks of 1024 threads\n",
      "Riemann sum CUDA (double precision) for N = 100000000    : 0.34134474606859416 \n",
      "Total time (measured by CPU)                              : 1.085263 s\n"
     ]
    }
   ],
   "source": [
    "!PATH=/usr/local/cuda-10.1/bin:${PATH} nvcc -o riemann_cuda_double riemann_cuda_double.cu && ./riemann_cuda_double"
   ]
  },
  {
   "cell_type": "markdown",
   "metadata": {
    "id": "5RSfS2LcvUXc"
   },
   "source": [
    "#### OpenCL version with one kernel (trapezoid median)"
   ]
  },
  {
   "cell_type": "code",
   "execution_count": 16,
   "metadata": {
    "colab": {
     "base_uri": "https://localhost:8080/"
    },
    "id": "FEGdwMHFrgGk",
    "outputId": "02d160aa-29f4-433d-fcb6-2311822484ad"
   },
   "outputs": [
    {
     "name": "stdout",
     "output_type": "stream",
     "text": [
      "Writing riemann.cl\n"
     ]
    }
   ],
   "source": [
    "%%file riemann.cl\n",
    "__kernel void medianTrapezoid(__global double *a, int n) {\n",
    "    \n",
    "    int idx = get_global_id(0);\n",
    "    double x = (double)idx / (double)n;\n",
    " \n",
    "    if(idx < n)\n",
    "       a[idx] = (exp(-x * x / 2.0) + exp(-(x + 1 / (double)n) * (x + 1 / (double)n) / 2.0)) / 2.0;\n",
    "}"
   ]
  },
  {
   "cell_type": "code",
   "execution_count": 17,
   "metadata": {},
   "outputs": [
    {
     "name": "stdout",
     "output_type": "stream",
     "text": [
      "Writing riemann_opencl_double.c\n"
     ]
    }
   ],
   "source": [
    "%%file riemann_opencl_double.c\n",
    "#include <stdio.h>\n",
    "#include <stdlib.h>\n",
    "#include <math.h>\n",
    "#include <time.h>\n",
    "#include <CL/cl.h>\n",
    "\n",
    "#define MAX_SOURCE_SIZE (0x100000)\n",
    "\n",
    "#define N 100000000\n",
    "\n",
    "double riemannCL(int n)\n",
    "{\n",
    "    //Allocate memory to host variable\n",
    "    double *a = (double*)malloc(sizeof(double)*n);\n",
    "    \n",
    "    // Load the kernel source code into the array source_str\n",
    "    FILE *fp;\n",
    "    char *source_str;\n",
    "    size_t source_size;\n",
    "\n",
    "    fp = fopen(\"riemann.cl\", \"r\");\n",
    "    if (!fp) {\n",
    "        fprintf(stderr, \"Failed to load kernel.\\n\");\n",
    "        exit(1);\n",
    "    }\n",
    "    source_str = (char*)malloc(MAX_SOURCE_SIZE);\n",
    "    source_size = fread( source_str, 1, MAX_SOURCE_SIZE, fp);\n",
    "    fclose( fp );\n",
    "\n",
    "    // Get platform and device information\n",
    "    cl_platform_id platform_id = NULL;\n",
    "    cl_device_id device_id = NULL;   \n",
    "    cl_uint ret_num_devices;\n",
    "    cl_uint ret_num_platforms;\n",
    "    cl_int ret = clGetPlatformIDs(1, &platform_id, &ret_num_platforms);\n",
    "    ret = clGetDeviceIDs( platform_id, CL_DEVICE_TYPE_ALL, 1, \n",
    "            &device_id, &ret_num_devices);\n",
    "\n",
    "    // Create an OpenCL context\n",
    "    cl_context context = clCreateContext( NULL, 1, &device_id, NULL, NULL, &ret);\n",
    "\n",
    "    // Create a command queue\n",
    "    cl_command_queue command_queue = clCreateCommandQueue(context, device_id, 0, &ret);\n",
    "\n",
    "    // Create memory buffers on the device for each vector \n",
    "    cl_mem a_mem_obj = clCreateBuffer(context, CL_MEM_READ_WRITE, \n",
    "            n * sizeof(double), NULL, &ret);\n",
    "\n",
    "    // Create a program from the kernel source\n",
    "    cl_program program = clCreateProgramWithSource(context, 1, \n",
    "            (const char **)&source_str, (const size_t *)&source_size, &ret);\n",
    "\n",
    "    // Build the program\n",
    "    ret = clBuildProgram(program, 1, &device_id, NULL, NULL, NULL);\n",
    "\n",
    "    clock_t t2; \n",
    "    t2 = clock(); \n",
    "\n",
    "    // Create the OpenCL kernel\n",
    "    cl_kernel kernel = clCreateKernel(program, \"medianTrapezoid\", &ret);\n",
    "\n",
    "    // Set the arguments of the kernel\n",
    "    ret = clSetKernelArg(kernel, 0, sizeof(cl_mem), (void *)&a_mem_obj);    \n",
    "    ret = clSetKernelArg(kernel, 1, sizeof(cl_int), (void *)&n);\n",
    "    \n",
    "    // Execute the OpenCL kernel\n",
    "    size_t local_item_size = 256;\n",
    "    int n_blocks = n/local_item_size + (n % local_item_size == 0 ? 0:1);\n",
    "    size_t global_item_size = n_blocks * local_item_size;\n",
    "    printf(\"OpenCL kernel 'medianTrapezoid' launch with %d blocks of %lu threads\\n\\n\", n_blocks, local_item_size);\n",
    "\n",
    "    ret = clEnqueueNDRangeKernel(command_queue, kernel, 1, NULL, \n",
    "            &global_item_size, &local_item_size, 0, NULL, NULL);\n",
    "\n",
    "    t2 = clock() - t2;\n",
    "\n",
    "    double time_taken2 = ((double)t2)/CLOCKS_PER_SEC; // in seconds\n",
    "\n",
    "    clock_t t3; \n",
    "    t3 = clock();\n",
    "\n",
    "    ret = clEnqueueReadBuffer(command_queue, a_mem_obj, CL_TRUE, 0, \n",
    "            n * sizeof(double), a, 0, NULL, NULL);\n",
    "\n",
    "    t3 = clock() - t3;\n",
    "\n",
    "    double time_taken3 = ((double)t3)/CLOCKS_PER_SEC; // in seconds\n",
    "\n",
    "    clock_t t4; \n",
    "    t4 = clock(); \n",
    "\n",
    "    // add up results\n",
    "    double sum = 0;\n",
    "    for (int i=0; i < n; i++) sum += a[i];\n",
    "    sum *= (1.0 / sqrt(2.0 * M_PI)) / (double)n;\n",
    "\n",
    "    t4 = clock() - t4;\n",
    "\n",
    "    double time_taken4 = ((double)t4)/CLOCKS_PER_SEC; // in seconds\n",
    "\n",
    "    // Clean up\n",
    "    ret = clFlush(command_queue);\n",
    "    ret = clFinish(command_queue);\n",
    "    ret = clReleaseKernel(kernel);\n",
    "    ret = clReleaseProgram(program);\n",
    "    ret = clReleaseMemObject(a_mem_obj); \n",
    "    ret = clReleaseCommandQueue(command_queue);\n",
    "    ret = clReleaseContext(context);\n",
    "    free(a);\n",
    "\n",
    "    printf(\"OpenCL and CPU code diagnostics:\\n\");\n",
    "    printf(\"OpenCL kernel execution time (measured by CPU):        %f ms\\n\", time_taken2 * 1000);\n",
    "    printf(\"Device to host memory transfer time (measured by CPU): %f s\\n\", time_taken3);\n",
    "    printf(\"CPU execution time for adding sum (measured by CPU):   %f s\\n\\n\", time_taken4);\n",
    "  \n",
    "    return sum;\n",
    "}\n",
    "\n",
    "int main(int argc, char** argv){\n",
    "\n",
    "  clock_t t1; \n",
    "  t1 = clock(); \n",
    "\n",
    "  double sum = riemannCL(N);\n",
    "\n",
    "  t1 = clock() - t1;\n",
    "\n",
    "  double time_taken1 = ((double)t1)/CLOCKS_PER_SEC; // in seconds\n",
    "\n",
    "  printf(\"Riemann sum OpenCL (double precision) for N = %d    : %.17g \\n\", N, sum);\n",
    "  printf(\"Total time (measured by CPU)                                : %f s\\n\", time_taken1);\n",
    "}"
   ]
  },
  {
   "cell_type": "code",
   "execution_count": 18,
   "metadata": {},
   "outputs": [
    {
     "name": "stdout",
     "output_type": "stream",
     "text": [
      "OpenCL kernel 'medianTrapezoid' launch with 390625 blocks of 256 threads\n",
      "\n",
      "OpenCL and CPU code diagnostics:\n",
      "OpenCL kernel execution time (measured by CPU):        0.627000 ms\n",
      "Device to host memory transfer time (measured by CPU): 2.710906 s\n",
      "CPU execution time for adding sum (measured by CPU):   0.225112 s\n",
      "\n",
      "Riemann sum OpenCL (double precision) for N = 100000000    : 0.34134474606859416 \n",
      "Total time (measured by CPU)                                : 3.188447 s\n"
     ]
    }
   ],
   "source": [
    "!nvcc -o riemann_opencl_double riemann_opencl_double.c -lOpenCL && ./riemann_opencl_double"
   ]
  },
  {
   "cell_type": "code",
   "execution_count": null,
   "metadata": {},
   "outputs": [],
   "source": []
  }
 ],
 "metadata": {
  "accelerator": "GPU",
  "colab": {
   "collapsed_sections": [],
   "name": "Riemann_sum_CUDA_one_kernel.ipynb",
   "provenance": []
  },
  "kernelspec": {
   "display_name": "Python 3 (ipykernel)",
   "language": "python",
   "name": "python3"
  },
  "language_info": {
   "codemirror_mode": {
    "name": "ipython",
    "version": 3
   },
   "file_extension": ".py",
   "mimetype": "text/x-python",
   "name": "python",
   "nbconvert_exporter": "python",
   "pygments_lexer": "ipython3",
   "version": "3.9.7"
  }
 },
 "nbformat": 4,
 "nbformat_minor": 1
}

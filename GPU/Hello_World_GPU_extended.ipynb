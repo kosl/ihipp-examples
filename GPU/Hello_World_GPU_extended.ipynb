{
 "cells": [
  {
   "cell_type": "markdown",
   "metadata": {
    "id": "-OkNjKhmRUim"
   },
   "source": [
    "## **Exercise: Hello world CUDA extended**\n",
    "\n",
    "Modify the Hello world CUDA example from the previous step to complete the following tasks:\n",
    "\n",
    "- define 2 blocks with 4 threads each\n",
    "- print the \"Hello World\" message to reflect also information on the thread number from each block (hint: use the built-in variable ```threadIdx.x```)\n",
    "\n"
   ]
  },
  {
   "cell_type": "code",
   "execution_count": null,
   "metadata": {
    "colab": {
     "base_uri": "https://localhost:8080/"
    },
    "id": "i-H2vP1ZMuKS",
    "outputId": "6f0ef0c4-ab56-4bfd-bf1f-23dc86602efa",
    "scrolled": true
   },
   "outputs": [],
   "source": [
    "!nvidia-smi"
   ]
  },
  {
   "cell_type": "code",
   "execution_count": null,
   "metadata": {
    "colab": {
     "base_uri": "https://localhost:8080/"
    },
    "id": "MUKG-RytoEO3",
    "outputId": "0da2cb71-33c9-4755-fc6c-4eb43c19211b"
   },
   "outputs": [],
   "source": [
    " %%file hello.cu\n",
    "#include <stdio.h>\n",
    " \n",
    "#define NUM_BLOCKS 4\n",
    "#define BLOCK_SIZE 1\n",
    " \n",
    "__global__ void hello()\n",
    "{\n",
    "    int idx = blockIdx.x;\n",
    "    printf(\"Hello world! I'm a thread in block %d\\n\", idx);\n",
    "}\n",
    " \n",
    " \n",
    "int main(int argc,char **argv)\n",
    "{\n",
    "    // launch the kernel\n",
    "    hello<<<NUM_BLOCKS, BLOCK_SIZE>>>();\n",
    " \n",
    "    // force the printf()s to flush\n",
    "    cudaDeviceSynchronize();\n",
    " \n",
    "    printf(\"That's all!\\n\");\n",
    " \n",
    "    return 0;\n",
    "}"
   ]
  },
  {
   "cell_type": "code",
   "execution_count": null,
   "metadata": {
    "colab": {
     "base_uri": "https://localhost:8080/"
    },
    "id": "P5iKD5xxoVvl",
    "outputId": "e2ed64f0-8c5b-43bc-a148-f857d1319423"
   },
   "outputs": [],
   "source": [
    "!PATH=/usr/local/cuda-10.1/bin:${PATH} nvcc -o hello_cuda hello.cu && ./hello_cuda"
   ]
  },
  {
   "cell_type": "markdown",
   "metadata": {
    "id": "LQC4dGbIK3t3"
   },
   "source": [
    "You can compare with our solution:"
   ]
  },
  {
   "cell_type": "code",
   "execution_count": null,
   "metadata": {
    "colab": {
     "base_uri": "https://localhost:8080/"
    },
    "id": "TMh8j_oLLB-K",
    "outputId": "26321e16-a98a-40eb-8a84-6134d8bd14ce"
   },
   "outputs": [],
   "source": [
    " %%file hello_exercise.cu\n",
    "#include <stdio.h>\n",
    " \n",
    "#define NUM_BLOCKS 2\n",
    "#define BLOCK_SIZE 4\n",
    " \n",
    "__global__ void hello()\n",
    "{\n",
    "    int bidx = blockIdx.x;\n",
    "    int tidx = threadIdx.x;\n",
    "    printf(\"Hello world! I'm a thread %d in block %d\\n\", tidx, bidx);\n",
    "}\n",
    " \n",
    " \n",
    "int main(int argc,char **argv)\n",
    "{\n",
    "    // launch the kernel\n",
    "    hello<<<NUM_BLOCKS, BLOCK_SIZE>>>();\n",
    " \n",
    "    // force the printf()s to flush\n",
    "    cudaDeviceSynchronize();\n",
    " \n",
    "    printf(\"That's all!\\n\");\n",
    " \n",
    "    return 0;\n",
    "}"
   ]
  },
  {
   "cell_type": "code",
   "execution_count": null,
   "metadata": {
    "colab": {
     "base_uri": "https://localhost:8080/"
    },
    "id": "-wgRQB5KLU5T",
    "outputId": "c906f7f2-4ae5-426b-afd3-6fe0865f2090"
   },
   "outputs": [],
   "source": [
    " !PATH=/usr/local/cuda-10.1/bin:${PATH} nvcc -o hello_cuda_exercise hello_exercise.cu && ./hello_cuda_exercise"
   ]
  },
  {
   "cell_type": "markdown",
   "metadata": {},
   "source": [
    "## Exercise: Hello world OpenCL extended\n",
    "\n",
    "Modify the Hello world OpenCL example from the previous step to complete the following tasks:\n",
    "\n",
    "- define 2 blocks (work-groups) with 4 threads (work-items) each\n",
    "- print the \"Hello World\" message to reflect also information on the thread (work-item) number from each block (work-group) (hint: use the built-in variables ```get_group_id(0)``` for work-groups and ```get_local_id(0)``` for work-items)"
   ]
  },
  {
   "cell_type": "code",
   "execution_count": null,
   "metadata": {},
   "outputs": [],
   "source": [
    "%%file hello.cl\n",
    "__kernel void hello() {\n",
    "    int gid = get_global_id(0);\n",
    "    printf(\"Hello world! I'm a thread in block %d\\n\", gid);\n",
    "}"
   ]
  },
  {
   "cell_type": "code",
   "execution_count": null,
   "metadata": {},
   "outputs": [],
   "source": [
    " %%file hello_CL.c\n",
    "#include <CL/cl.h>\n",
    "\n",
    "#include <stdio.h>\n",
    "#include <stdlib.h>\n",
    "\n",
    "#define MAX_SOURCE_SIZE (0x100000)\n",
    "\n",
    "#define GLOBAl_SIZE 4\n",
    "#define LOCAL_SIZE 1\n",
    "\n",
    "int main(int argc, char ** argv) {\n",
    "\n",
    "    // Load kernel from file hello.cl\n",
    "\n",
    "    FILE *kernelFile;\n",
    "    char *kernelSource;\n",
    "    size_t kernelSize;\n",
    "\n",
    "    kernelFile = fopen(\"hello.cl\", \"r\");\n",
    "\n",
    "    if (!kernelFile) {\n",
    "\n",
    "        fprintf(stderr, \"No file named hello.cl was found\\n\");\n",
    "\n",
    "        exit(-1);\n",
    "\n",
    "    }\n",
    "    kernelSource = (char*)malloc(MAX_SOURCE_SIZE);\n",
    "    kernelSize = fread(kernelSource, 1, MAX_SOURCE_SIZE, kernelFile);\n",
    "    fclose(kernelFile);\n",
    "\n",
    "    // Getting platform and device information\n",
    "    cl_platform_id platformId = NULL;\n",
    "    cl_device_id deviceID = NULL;\n",
    "    cl_uint retNumDevices;\n",
    "    cl_uint retNumPlatforms;\n",
    "    cl_int ret = clGetPlatformIDs(1, &platformId, &retNumPlatforms);\n",
    "    ret = clGetDeviceIDs(platformId, CL_DEVICE_TYPE_DEFAULT, 1, &deviceID, &retNumDevices);\n",
    "\n",
    "    // Creating context\n",
    "    cl_context context = clCreateContext(NULL, 1, &deviceID, NULL, NULL,  &ret);\n",
    "\n",
    "    // Creating command queue\n",
    "    cl_command_queue commandQueue = clCreateCommandQueue(context, deviceID, 0, &ret);\n",
    "\n",
    "    // Create program from kernel source\n",
    "    cl_program program = clCreateProgramWithSource(context, 1, (const char **)&kernelSource, (const size_t *)&kernelSize, &ret);\t\n",
    "\n",
    "    // Build program\n",
    "    ret = clBuildProgram(program, 1, &deviceID, NULL, NULL, NULL);\n",
    "\n",
    "    // Create kernel\n",
    "    cl_kernel kernel = clCreateKernel(program, \"hello\", &ret);\n",
    "\n",
    "    // Execute the kernel\n",
    "    size_t globalItemSize = GLOBAl_SIZE;\n",
    "    size_t localItemSize = LOCAL_SIZE;\n",
    "    ret = clEnqueueNDRangeKernel(commandQueue, kernel, 1, NULL, &globalItemSize, &localItemSize, 0, NULL, NULL);\n",
    "\n",
    "  printf(\"That's all!\\n\");\n",
    "\n",
    "    // Clean up, release memory.\n",
    "    ret = clFlush(commandQueue);\n",
    "    ret = clFinish(commandQueue);\n",
    "    ret = clReleaseCommandQueue(commandQueue);\n",
    "    ret = clReleaseKernel(kernel);\n",
    "    ret = clReleaseProgram(program);\n",
    "    ret = clReleaseContext(context);\n",
    "\n",
    "    return 0;\n",
    "}"
   ]
  },
  {
   "cell_type": "code",
   "execution_count": null,
   "metadata": {},
   "outputs": [],
   "source": [
    " !nvcc -o hello_CL hello_CL.c -lOpenCL && ./hello_CL"
   ]
  },
  {
   "cell_type": "markdown",
   "metadata": {},
   "source": [
    "You can compare with our solution:"
   ]
  },
  {
   "cell_type": "code",
   "execution_count": null,
   "metadata": {},
   "outputs": [],
   "source": [
    "%%file hello_exercise.cl\n",
    "__kernel void hello() {\n",
    "    int grid = get_group_id(0);\n",
    "    int lid = get_local_id(0);\n",
    "    printf(\"Hello world! I'm a thread %d in block %d\\n\", lid, grid);\n",
    "}"
   ]
  },
  {
   "cell_type": "code",
   "execution_count": null,
   "metadata": {},
   "outputs": [],
   "source": [
    " %%file hello_CL_exercise.c\n",
    "#include <CL/cl.h>\n",
    "\n",
    "#include <stdio.h>\n",
    "#include <stdlib.h>\n",
    "\n",
    "#define MAX_SOURCE_SIZE (0x100000)\n",
    "\n",
    "#define GLOBAl_SIZE 8\n",
    "#define LOCAL_SIZE 4\n",
    "\n",
    "int main(int argc, char ** argv) {\n",
    "\n",
    "    // Load kernel from file hello.cl\n",
    "\n",
    "    FILE *kernelFile;\n",
    "    char *kernelSource;\n",
    "    size_t kernelSize;\n",
    "\n",
    "    kernelFile = fopen(\"hello_exercise.cl\", \"r\");\n",
    "\n",
    "    if (!kernelFile) {\n",
    "\n",
    "    fprintf(stderr, \"No file named hello_exercise.cl was found\\n\");\n",
    "\n",
    "    exit(-1);\n",
    "\n",
    "    }\n",
    "    kernelSource = (char*)malloc(MAX_SOURCE_SIZE);\n",
    "    kernelSize = fread(kernelSource, 1, MAX_SOURCE_SIZE, kernelFile);\n",
    "    fclose(kernelFile);\n",
    "\n",
    "    // Getting platform and device information\n",
    "    cl_platform_id platformId = NULL;\n",
    "    cl_device_id deviceID = NULL;\n",
    "    cl_uint retNumDevices;\n",
    "    cl_uint retNumPlatforms;\n",
    "    cl_int ret = clGetPlatformIDs(1, &platformId, &retNumPlatforms);\n",
    "    ret = clGetDeviceIDs(platformId, CL_DEVICE_TYPE_DEFAULT, 1, &deviceID, &retNumDevices);\n",
    "\n",
    "    // Creating context\n",
    "    cl_context context = clCreateContext(NULL, 1, &deviceID, NULL, NULL,  &ret);\n",
    "\n",
    "    // Creating command queue\n",
    "    cl_command_queue commandQueue = clCreateCommandQueue(context, deviceID, 0, &ret);\n",
    "\n",
    "    // Create program from kernel source\n",
    "    cl_program program = clCreateProgramWithSource(context, 1, (const char **)&kernelSource, (const size_t *)&kernelSize, &ret);\t\n",
    "\n",
    "    // Build program\n",
    "    ret = clBuildProgram(program, 1, &deviceID, NULL, NULL, NULL);\n",
    "\n",
    "    // Create kernel\n",
    "    cl_kernel kernel = clCreateKernel(program, \"hello\", &ret);\n",
    "\n",
    "    // Execute the kernel\n",
    "    size_t globalItemSize = GLOBAl_SIZE;\n",
    "    size_t localItemSize = LOCAL_SIZE;\n",
    "    ret = clEnqueueNDRangeKernel(commandQueue, kernel, 1, NULL, &globalItemSize, &localItemSize, 0, NULL, NULL);\n",
    "\n",
    "    printf(\"That's all!\\n\");\n",
    "\n",
    "    // Clean up, release memory.\n",
    "    ret = clFlush(commandQueue);\n",
    "    ret = clFinish(commandQueue);\n",
    "    ret = clReleaseCommandQueue(commandQueue);\n",
    "    ret = clReleaseKernel(kernel);\n",
    "    ret = clReleaseProgram(program);\n",
    "    ret = clReleaseContext(context);\n",
    "\n",
    "    return 0;\n",
    "}"
   ]
  },
  {
   "cell_type": "code",
   "execution_count": null,
   "metadata": {
    "scrolled": false
   },
   "outputs": [],
   "source": [
    " !nvcc -o hello_CL_exercise hello_CL_exercise.c -lOpenCL && ./hello_CL_exercise"
   ]
  }
 ],
 "metadata": {
  "accelerator": "GPU",
  "colab": {
   "collapsed_sections": [],
   "name": "Hello_World_CUDA_extended.ipynb",
   "provenance": []
  },
  "kernelspec": {
   "display_name": "Python 3 (ipykernel)",
   "language": "python",
   "name": "python3"
  },
  "language_info": {
   "codemirror_mode": {
    "name": "ipython",
    "version": 3
   },
   "file_extension": ".py",
   "mimetype": "text/x-python",
   "name": "python",
   "nbconvert_exporter": "python",
   "pygments_lexer": "ipython3",
   "version": "3.9.7"
  }
 },
 "nbformat": 4,
 "nbformat_minor": 1
}

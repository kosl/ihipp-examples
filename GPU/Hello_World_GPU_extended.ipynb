{
 "cells": [
  {
   "cell_type": "markdown",
   "metadata": {
    "id": "-OkNjKhmRUim"
   },
   "source": [
    "## **Exercise: Hello world CUDA extended**\n",
    "\n",
    "Modify the Hello world CUDA example from the previous step to complete the following tasks:\n",
    "\n",
    "- define 2 blocks with 4 threads each\n",
    "- print the \"Hello World\" message to reflect also information on the thread number from each block (hint: use the built-in variable ```threadIdx.x```)\n",
    "\n"
   ]
  },
  {
   "cell_type": "code",
   "execution_count": 1,
   "metadata": {
    "colab": {
     "base_uri": "https://localhost:8080/"
    },
    "id": "i-H2vP1ZMuKS",
    "outputId": "6f0ef0c4-ab56-4bfd-bf1f-23dc86602efa",
    "scrolled": true
   },
   "outputs": [
    {
     "name": "stdout",
     "output_type": "stream",
     "text": [
      "Fri Feb  4 20:51:34 2022       \r\n",
      "+-----------------------------------------------------------------------------+\r\n",
      "| NVIDIA-SMI 470.85       Driver Version: 472.47       CUDA Version: 11.4     |\r\n",
      "|-------------------------------+----------------------+----------------------+\r\n",
      "| GPU  Name        Persistence-M| Bus-Id        Disp.A | Volatile Uncorr. ECC |\r\n",
      "| Fan  Temp  Perf  Pwr:Usage/Cap|         Memory-Usage | GPU-Util  Compute M. |\r\n",
      "|                               |                      |               MIG M. |\r\n",
      "|===============================+======================+======================|\r\n",
      "|   0  Quadro P400         Off  | 00000000:01:00.0 Off |                  N/A |\r\n",
      "| 34%   28C    P8    N/A /  N/A |    108MiB /  2048MiB |    ERR!      Default |\r\n",
      "|                               |                      |                  N/A |\r\n",
      "+-------------------------------+----------------------+----------------------+\r\n",
      "                                                                               \r\n",
      "+-----------------------------------------------------------------------------+\r\n",
      "| Processes:                                                                  |\r\n",
      "|  GPU   GI   CI        PID   Type   Process name                  GPU Memory |\r\n",
      "|        ID   ID                                                   Usage      |\r\n",
      "|=============================================================================|\r\n",
      "|  No running processes found                                                 |\r\n",
      "+-----------------------------------------------------------------------------+\r\n"
     ]
    }
   ],
   "source": [
    "!nvidia-smi"
   ]
  },
  {
   "cell_type": "code",
   "execution_count": 2,
   "metadata": {
    "colab": {
     "base_uri": "https://localhost:8080/"
    },
    "id": "MUKG-RytoEO3",
    "outputId": "0da2cb71-33c9-4755-fc6c-4eb43c19211b"
   },
   "outputs": [
    {
     "name": "stdout",
     "output_type": "stream",
     "text": [
      "Overwriting hello.cu\n"
     ]
    }
   ],
   "source": [
    " %%file hello.cu\n",
    "#include <stdio.h>\n",
    " \n",
    "#define NUM_BLOCKS 4\n",
    "#define BLOCK_SIZE 1\n",
    " \n",
    "__global__ void hello()\n",
    "{\n",
    "    int idx = blockIdx.x;\n",
    "    printf(\"Hello world! I'm a thread in block %d\\n\", idx);\n",
    "}\n",
    " \n",
    " \n",
    "int main(int argc,char **argv)\n",
    "{\n",
    "    // launch the kernel\n",
    "    hello<<<NUM_BLOCKS, BLOCK_SIZE>>>();\n",
    " \n",
    "    // force the printf()s to flush\n",
    "    cudaDeviceSynchronize();\n",
    " \n",
    "    printf(\"That's all!\\n\");\n",
    " \n",
    "    return 0;\n",
    "}"
   ]
  },
  {
   "cell_type": "code",
   "execution_count": 3,
   "metadata": {
    "colab": {
     "base_uri": "https://localhost:8080/"
    },
    "id": "P5iKD5xxoVvl",
    "outputId": "e2ed64f0-8c5b-43bc-a148-f857d1319423"
   },
   "outputs": [
    {
     "name": "stdout",
     "output_type": "stream",
     "text": [
      "Hello world! I'm a thread in block 0\r\n",
      "Hello world! I'm a thread in block 1\r\n",
      "Hello world! I'm a thread in block 2\r\n",
      "Hello world! I'm a thread in block 3\r\n",
      "That's all!\r\n"
     ]
    }
   ],
   "source": [
    "!PATH=/usr/local/cuda-10.1/bin:${PATH} nvcc -o hello_cuda hello.cu && ./hello_cuda"
   ]
  },
  {
   "cell_type": "markdown",
   "metadata": {
    "id": "LQC4dGbIK3t3"
   },
   "source": [
    "You can compare with our solution:"
   ]
  },
  {
   "cell_type": "code",
   "execution_count": 4,
   "metadata": {
    "colab": {
     "base_uri": "https://localhost:8080/"
    },
    "id": "TMh8j_oLLB-K",
    "outputId": "26321e16-a98a-40eb-8a84-6134d8bd14ce"
   },
   "outputs": [
    {
     "name": "stdout",
     "output_type": "stream",
     "text": [
      "Overwriting hello_exercise.cu\n"
     ]
    }
   ],
   "source": [
    " %%file hello_exercise.cu\n",
    "#include <stdio.h>\n",
    " \n",
    "#define NUM_BLOCKS 2\n",
    "#define BLOCK_SIZE 4\n",
    " \n",
    "__global__ void hello()\n",
    "{\n",
    "    int bidx = blockIdx.x;\n",
    "    int tidx = threadIdx.x;\n",
    "    printf(\"Hello world! I'm a thread %d in block %d\\n\", tidx, bidx);\n",
    "}\n",
    " \n",
    " \n",
    "int main(int argc,char **argv)\n",
    "{\n",
    "    // launch the kernel\n",
    "    hello<<<NUM_BLOCKS, BLOCK_SIZE>>>();\n",
    " \n",
    "    // force the printf()s to flush\n",
    "    cudaDeviceSynchronize();\n",
    " \n",
    "    printf(\"That's all!\\n\");\n",
    " \n",
    "    return 0;\n",
    "}"
   ]
  },
  {
   "cell_type": "code",
   "execution_count": 5,
   "metadata": {
    "colab": {
     "base_uri": "https://localhost:8080/"
    },
    "id": "-wgRQB5KLU5T",
    "outputId": "c906f7f2-4ae5-426b-afd3-6fe0865f2090"
   },
   "outputs": [
    {
     "name": "stdout",
     "output_type": "stream",
     "text": [
      "Hello world! I'm a thread 0 in block 0\r\n",
      "Hello world! I'm a thread 1 in block 0\r\n",
      "Hello world! I'm a thread 2 in block 0\r\n",
      "Hello world! I'm a thread 3 in block 0\r\n",
      "Hello world! I'm a thread 0 in block 1\r\n",
      "Hello world! I'm a thread 1 in block 1\r\n",
      "Hello world! I'm a thread 2 in block 1\r\n",
      "Hello world! I'm a thread 3 in block 1\r\n",
      "That's all!\r\n"
     ]
    }
   ],
   "source": [
    " !PATH=/usr/local/cuda-10.1/bin:${PATH} nvcc -o hello_cuda_exercise hello_exercise.cu && ./hello_cuda_exercise"
   ]
  },
  {
   "cell_type": "markdown",
   "metadata": {},
   "source": [
    "## Exercise: Hello world OpenCL extended\n",
    "\n",
    "Modify the Hello world OpenCL example from the previous step to complete the following tasks:\n",
    "\n",
    "- define 2 blocks (work-groups) with 4 threads (work-items) each\n",
    "- print the \"Hello World\" message to reflect also information on the thread (work-item) number from each block (work-group) (hint: use the built-in variables ```get_group_id(0)``` for work-groups and ```get_local_id(0)``` for work-items)"
   ]
  },
  {
   "cell_type": "code",
   "execution_count": 6,
   "metadata": {},
   "outputs": [
    {
     "name": "stdout",
     "output_type": "stream",
     "text": [
      "Overwriting hello.cl\n"
     ]
    }
   ],
   "source": [
    "%%file hello.cl\n",
    "__kernel void hello() {\n",
    "    int gid = get_global_id(0);\n",
    "    printf(\"Hello world! I'm a thread in block %d\\n\", gid);\n",
    "}"
   ]
  },
  {
   "cell_type": "code",
   "execution_count": 7,
   "metadata": {},
   "outputs": [
    {
     "name": "stdout",
     "output_type": "stream",
     "text": [
      "Overwriting hello_CL.c\n"
     ]
    }
   ],
   "source": [
    " %%file hello_CL.c\n",
    "#include <CL/cl.h>\n",
    "\n",
    "#include <stdio.h>\n",
    "#include <stdlib.h>\n",
    "\n",
    "#define MAX_SOURCE_SIZE (0x100000)\n",
    "\n",
    "#define GLOBAl_SIZE 4\n",
    "#define LOCAL_SIZE 1\n",
    "\n",
    "int main(int argc, char ** argv) {\n",
    "\n",
    "\t// Load kernel from file hello.cl\n",
    "\n",
    "\tFILE *kernelFile;\n",
    "\tchar *kernelSource;\n",
    "\tsize_t kernelSize;\n",
    "\n",
    "\tkernelFile = fopen(\"hello.cl\", \"r\");\n",
    "\n",
    "\tif (!kernelFile) {\n",
    "\n",
    "\t\tfprintf(stderr, \"No file named hello.cl was found\\n\");\n",
    "\n",
    "\t\texit(-1);\n",
    "\n",
    "\t}\n",
    "\tkernelSource = (char*)malloc(MAX_SOURCE_SIZE);\n",
    "\tkernelSize = fread(kernelSource, 1, MAX_SOURCE_SIZE, kernelFile);\n",
    "\tfclose(kernelFile);\n",
    "\n",
    "\t// Getting platform and device information\n",
    "\tcl_platform_id platformId = NULL;\n",
    "\tcl_device_id deviceID = NULL;\n",
    "\tcl_uint retNumDevices;\n",
    "\tcl_uint retNumPlatforms;\n",
    "\tcl_int ret = clGetPlatformIDs(1, &platformId, &retNumPlatforms);\n",
    "\tret = clGetDeviceIDs(platformId, CL_DEVICE_TYPE_DEFAULT, 1, &deviceID, &retNumDevices);\n",
    "\n",
    "\t// Creating context.\n",
    "\tcl_context context = clCreateContext(NULL, 1, &deviceID, NULL, NULL,  &ret);\n",
    "\n",
    "\t// Creating command queue\n",
    "\tcl_command_queue commandQueue = clCreateCommandQueue(context, deviceID, 0, &ret);\n",
    "\n",
    "\t// Create program from kernel source\n",
    "\tcl_program program = clCreateProgramWithSource(context, 1, (const char **)&kernelSource, (const size_t *)&kernelSize, &ret);\t\n",
    "\n",
    "\t// Build program\n",
    "\tret = clBuildProgram(program, 1, &deviceID, NULL, NULL, NULL);\n",
    "\n",
    "\t// Create kernel\n",
    "\tcl_kernel kernel = clCreateKernel(program, \"hello\", &ret);\n",
    "\n",
    "\t// Execute the kernel\n",
    "\tsize_t globalItemSize = GLOBAl_SIZE;\n",
    "\tsize_t localItemSize = LOCAL_SIZE;\n",
    "\tret = clEnqueueNDRangeKernel(commandQueue, kernel, 1, NULL, &globalItemSize, &localItemSize, 0, NULL, NULL);\n",
    "\n",
    "  printf(\"That's all!\\n\");\t\t\n",
    "\n",
    "\t// Clean up, release memory.\n",
    "\tret = clFlush(commandQueue);\n",
    "\tret = clFinish(commandQueue);\n",
    "\tret = clReleaseCommandQueue(commandQueue);\n",
    "\tret = clReleaseKernel(kernel);\n",
    "\tret = clReleaseProgram(program);\t\n",
    "\tret = clReleaseContext(context);\n",
    "\n",
    "\treturn 0;\n",
    "}"
   ]
  },
  {
   "cell_type": "code",
   "execution_count": 8,
   "metadata": {},
   "outputs": [
    {
     "name": "stdout",
     "output_type": "stream",
     "text": [
      "Hello world! I'm a thread in block 3\r\n",
      "Hello world! I'm a thread in block 0\r\n",
      "Hello world! I'm a thread in block 1\r\n",
      "Hello world! I'm a thread in block 2\r\n",
      "That's all!\r\n"
     ]
    }
   ],
   "source": [
    " !nvcc -o hello_CL hello_CL.c -lOpenCL && ./hello_CL"
   ]
  },
  {
   "cell_type": "markdown",
   "metadata": {},
   "source": [
    "You can compare with our solution:"
   ]
  },
  {
   "cell_type": "code",
   "execution_count": 9,
   "metadata": {},
   "outputs": [
    {
     "name": "stdout",
     "output_type": "stream",
     "text": [
      "Writing hello_exercise.cl\n"
     ]
    }
   ],
   "source": [
    "%%file hello_exercise.cl\n",
    "__kernel void hello() {\n",
    "    int grid = get_group_id(0);\n",
    "    int lid = get_local_id(0);\n",
    "    printf(\"Hello world! I'm a thread %d in block %d\\n\", lid, grid);\n",
    "}"
   ]
  },
  {
   "cell_type": "code",
   "execution_count": 10,
   "metadata": {},
   "outputs": [
    {
     "name": "stdout",
     "output_type": "stream",
     "text": [
      "Writing hello_CL_exercise.c\n"
     ]
    }
   ],
   "source": [
    " %%file hello_CL_exercise.c\n",
    "#include <CL/cl.h>\n",
    "\n",
    "#include <stdio.h>\n",
    "#include <stdlib.h>\n",
    "\n",
    "#define MAX_SOURCE_SIZE (0x100000)\n",
    "\n",
    "#define GLOBAl_SIZE 8\n",
    "#define LOCAL_SIZE 4\n",
    "\n",
    "int main(int argc, char ** argv) {\n",
    "\n",
    "\t// Load kernel from file hello.cl\n",
    "\n",
    "\tFILE *kernelFile;\n",
    "\tchar *kernelSource;\n",
    "\tsize_t kernelSize;\n",
    "\n",
    "\tkernelFile = fopen(\"hello_exercise.cl\", \"r\");\n",
    "\n",
    "\tif (!kernelFile) {\n",
    "\n",
    "\t\tfprintf(stderr, \"No file named hello_exercise.cl was found\\n\");\n",
    "\n",
    "\t\texit(-1);\n",
    "\n",
    "\t}\n",
    "\tkernelSource = (char*)malloc(MAX_SOURCE_SIZE);\n",
    "\tkernelSize = fread(kernelSource, 1, MAX_SOURCE_SIZE, kernelFile);\n",
    "\tfclose(kernelFile);\n",
    "\n",
    "\t// Getting platform and device information\n",
    "\tcl_platform_id platformId = NULL;\n",
    "\tcl_device_id deviceID = NULL;\n",
    "\tcl_uint retNumDevices;\n",
    "\tcl_uint retNumPlatforms;\n",
    "\tcl_int ret = clGetPlatformIDs(1, &platformId, &retNumPlatforms);\n",
    "\tret = clGetDeviceIDs(platformId, CL_DEVICE_TYPE_DEFAULT, 1, &deviceID, &retNumDevices);\n",
    "\n",
    "\t// Creating context.\n",
    "\tcl_context context = clCreateContext(NULL, 1, &deviceID, NULL, NULL,  &ret);\n",
    "\n",
    "\t// Creating command queue\n",
    "\tcl_command_queue commandQueue = clCreateCommandQueue(context, deviceID, 0, &ret);\n",
    "\n",
    "\t// Create program from kernel source\n",
    "\tcl_program program = clCreateProgramWithSource(context, 1, (const char **)&kernelSource, (const size_t *)&kernelSize, &ret);\t\n",
    "\n",
    "\t// Build program\n",
    "\tret = clBuildProgram(program, 1, &deviceID, NULL, NULL, NULL);\n",
    "\n",
    "\t// Create kernel\n",
    "\tcl_kernel kernel = clCreateKernel(program, \"hello\", &ret);\n",
    "\n",
    "\t// Execute the kernel\n",
    "\tsize_t globalItemSize = GLOBAl_SIZE;\n",
    "\tsize_t localItemSize = LOCAL_SIZE;\n",
    "\tret = clEnqueueNDRangeKernel(commandQueue, kernel, 1, NULL, &globalItemSize, &localItemSize, 0, NULL, NULL);\n",
    "\n",
    "  printf(\"That's all!\\n\");\t\t\n",
    "\n",
    "\t// Clean up, release memory.\n",
    "\tret = clFlush(commandQueue);\n",
    "\tret = clFinish(commandQueue);\n",
    "\tret = clReleaseCommandQueue(commandQueue);\n",
    "\tret = clReleaseKernel(kernel);\n",
    "\tret = clReleaseProgram(program);\t\n",
    "\tret = clReleaseContext(context);\n",
    "\n",
    "\treturn 0;\n",
    "}"
   ]
  },
  {
   "cell_type": "code",
   "execution_count": 11,
   "metadata": {},
   "outputs": [
    {
     "name": "stdout",
     "output_type": "stream",
     "text": [
      "Hello world! I'm a thread 0 in block 0\r\n",
      "Hello world! I'm a thread 1 in block 0\r\n",
      "Hello world! I'm a thread 2 in block 0\r\n",
      "Hello world! I'm a thread 3 in block 0\r\n",
      "Hello world! I'm a thread 0 in block 1\r\n",
      "Hello world! I'm a thread 1 in block 1\r\n",
      "Hello world! I'm a thread 2 in block 1\r\n",
      "Hello world! I'm a thread 3 in block 1\r\n",
      "That's all!\r\n"
     ]
    }
   ],
   "source": [
    " !nvcc -o hello_CL_exercise hello_CL_exercise.c -lOpenCL && ./hello_CL_exercise"
   ]
  },
  {
   "cell_type": "code",
   "execution_count": null,
   "metadata": {},
   "outputs": [],
   "source": []
  }
 ],
 "metadata": {
  "accelerator": "GPU",
  "colab": {
   "collapsed_sections": [],
   "name": "Hello_World_CUDA_extended.ipynb",
   "provenance": []
  },
  "kernelspec": {
   "display_name": "Python 3 (ipykernel)",
   "language": "python",
   "name": "python3"
  },
  "language_info": {
   "codemirror_mode": {
    "name": "ipython",
    "version": 3
   },
   "file_extension": ".py",
   "mimetype": "text/x-python",
   "name": "python",
   "nbconvert_exporter": "python",
   "pygments_lexer": "ipython3",
   "version": "3.9.7"
  }
 },
 "nbformat": 4,
 "nbformat_minor": 1
}

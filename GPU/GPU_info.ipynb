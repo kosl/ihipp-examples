{
 "cells": [
  {
   "cell_type": "markdown",
   "id": "93b0fc49",
   "metadata": {},
   "source": [
    "# Information and compute capabilities of a GPU"
   ]
  },
  {
   "cell_type": "markdown",
   "id": "96a11a6c",
   "metadata": {},
   "source": [
    "**In this exercise, you will check the information and compute capabilities of the GPU available for you in this session.**"
   ]
  },
  {
   "cell_type": "markdown",
   "id": "0a50a67c",
   "metadata": {},
   "source": [
    "**Complete the following tasks**:"
   ]
  },
  {
   "cell_type": "markdown",
   "id": "ff7105d6",
   "metadata": {},
   "source": [
    "- find general info on the GPU by:\n",
    "\n",
    "  `!nvidia-smi`\n"
   ]
  },
  {
   "cell_type": "code",
   "execution_count": null,
   "id": "e7c71b96",
   "metadata": {},
   "outputs": [],
   "source": []
  },
  {
   "cell_type": "markdown",
   "id": "5980401e",
   "metadata": {},
   "source": [
    "- find the diagnostic programs `deviceQuery` and `bandwidthTest` by:\n",
    "\n",
    "  `!ls -l /usr/local/cuda-11.4/extras/demo_suite`\n",
    "\n",
    "\n"
   ]
  },
  {
   "cell_type": "code",
   "execution_count": null,
   "id": "404f2517",
   "metadata": {},
   "outputs": [],
   "source": []
  },
  {
   "cell_type": "markdown",
   "id": "33d79954",
   "metadata": {},
   "source": [
    "- execute the diagnostic utilities to determine the main characteristics of the GPU (number of SMs, number of CUDA cores, global memory available, memory bandwidth) by:\n",
    "\n",
    "  `!/usr/local/cuda-11.4/extras/demo_suite/deviceQuery`\n"
   ]
  },
  {
   "cell_type": "code",
   "execution_count": null,
   "id": "584ff9be",
   "metadata": {},
   "outputs": [],
   "source": []
  },
  {
   "cell_type": "markdown",
   "id": "e9603555",
   "metadata": {},
   "source": [
    "- and\n",
    "\n",
    "  `!/usr/local/cuda-11.4/extras/demo_suite/bandwidthTest`"
   ]
  },
  {
   "cell_type": "code",
   "execution_count": null,
   "id": "869bd7dc",
   "metadata": {},
   "outputs": [],
   "source": []
  }
 ],
 "metadata": {
  "kernelspec": {
   "display_name": "Python 3 (ipykernel)",
   "language": "python",
   "name": "python3"
  },
  "language_info": {
   "codemirror_mode": {
    "name": "ipython",
    "version": 3
   },
   "file_extension": ".py",
   "mimetype": "text/x-python",
   "name": "python",
   "nbconvert_exporter": "python",
   "pygments_lexer": "ipython3",
   "version": "3.9.7"
  }
 },
 "nbformat": 4,
 "nbformat_minor": 5
}

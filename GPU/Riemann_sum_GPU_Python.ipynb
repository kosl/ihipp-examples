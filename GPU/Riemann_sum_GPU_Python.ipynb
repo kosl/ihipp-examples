{
 "cells": [
  {
   "cell_type": "code",
   "execution_count": 1,
   "metadata": {
    "colab": {
     "base_uri": "https://localhost:8080/"
    },
    "id": "xfy7RP9zkxXH",
    "outputId": "b5091a6c-859a-4983-910f-7b20bb91851c"
   },
   "outputs": [],
   "source": [
    "!pip -q install pycuda"
   ]
  },
  {
   "cell_type": "code",
   "execution_count": 2,
   "metadata": {
    "colab": {
     "base_uri": "https://localhost:8080/"
    },
    "id": "nbAk3CRok2oQ",
    "outputId": "31525dbb-cecc-4d23-cf65-284b080919f4"
   },
   "outputs": [
    {
     "name": "stdout",
     "output_type": "stream",
     "text": [
      "Overwriting riemann_pycuda.py\n"
     ]
    }
   ],
   "source": [
    "%%file riemann_pycuda.py\n",
    "from __future__ import print_function\n",
    "from __future__ import absolute_import\n",
    "import pycuda.driver as cuda\n",
    "import pycuda.autoinit\n",
    "from pycuda.compiler import SourceModule\n",
    "\n",
    "import time\n",
    "\n",
    "import numpy\n",
    "\n",
    "def iDivUp(a, b):\n",
    "    return a // b + 1\n",
    "\n",
    "N = 100000000\n",
    "\n",
    "def riemannCUDA(n):\n",
    "    a = numpy.empty([n])\n",
    "\n",
    "    a = a.astype(numpy.float64)\n",
    "\n",
    "    a_d = cuda.mem_alloc(a.size * a.dtype.itemsize)\n",
    "\n",
    "    mod = SourceModule(\"\"\"\n",
    "        __global__ void medianTrapezoid(double *a, int n)\n",
    "        {\n",
    "          int idx = blockIdx.x * blockDim.x + threadIdx.x;\n",
    "          double x = (double)idx / (double)n;\n",
    " \n",
    "          if(idx < n)\n",
    "            a[idx] = (exp(-x * x / 2.0) + exp(-(x + 1 / (double)n) * (x + 1 / (double)n) / 2.0)) / 2.0;\n",
    "        }\n",
    "        \"\"\")\n",
    "\n",
    "    func = mod.get_function(\"medianTrapezoid\")\n",
    "    block_size = 1024\n",
    "    n_blocks = iDivUp(n, block_size)\n",
    "    blockDim  = (block_size, 1, 1)\n",
    "    gridDim   = (n_blocks, 1, 1)\n",
    "    print(\"CUDA kernel 'medianTrapezoid' launch with %i blocks of %i threads\\n\" % (n_blocks, block_size))\n",
    "    func(a_d, numpy.int32(n), block=blockDim, grid=gridDim)\n",
    "\n",
    "    cuda.memcpy_dtoh(a, a_d)\n",
    "\n",
    "    Sum = numpy.sum(a) / numpy.sqrt(2 * numpy.pi) / numpy.float64(n)\n",
    "\n",
    "    return Sum\n",
    "\n",
    "dev = pycuda.autoinit.device\n",
    "\n",
    "dev_name = dev.name()\n",
    "total_memory = dev.total_memory() / 1024.0 / 1024.0 / 1024.0\n",
    "threads_per_block = dev.get_attribute(pycuda.driver.device_attribute.MAX_THREADS_PER_BLOCK)\n",
    "sm_count = dev.get_attribute(pycuda.driver.device_attribute.MULTIPROCESSOR_COUNT)\n",
    "\n",
    "print(\"Found GPU '%s' with %.3f GB of global memory, max %i threads per block, and %i multiprocessors\\n\" % \n",
    "       (dev_name, total_memory, threads_per_block, sm_count))\n",
    "\n",
    "start = time.time()\n",
    "\n",
    "Sum = riemannCUDA(N)\n",
    "\n",
    "end = time.time()\n",
    "\n",
    "time_taken = end - start # in seconds\n",
    "\n",
    "print(\"Riemann sum pyCUDA (double precision) for N = %i  : %.17f\" % (N, Sum));\n",
    "print(\"Total time (measured by CPU)                              : %f s\" % time_taken);"
   ]
  },
  {
   "cell_type": "code",
   "execution_count": 3,
   "metadata": {
    "colab": {
     "base_uri": "https://localhost:8080/"
    },
    "id": "8GYXOGc7k45d",
    "outputId": "eaf6bc0c-4e9e-4192-da49-7d7e1cf349c5"
   },
   "outputs": [
    {
     "name": "stdout",
     "output_type": "stream",
     "text": [
      "Found GPU 'Quadro P400' with 2.000 GB of global memory, max 1024 threads per block, and 2 multiprocessors\n",
      "\n",
      "CUDA kernel 'medianTrapezoid' launch with 97657 blocks of 1024 threads\n",
      "\n",
      "Riemann sum pyCUDA (double precision) for N = 100000000  : 0.34134474606854387\n",
      "Total time (measured by CPU)                              : 0.931964 s\n"
     ]
    }
   ],
   "source": [
    "!PATH=/usr/local/cuda-10.1/bin:${PATH} python riemann_pycuda.py"
   ]
  },
  {
   "cell_type": "code",
   "execution_count": 4,
   "metadata": {
    "colab": {
     "base_uri": "https://localhost:8080/"
    },
    "id": "BN-EHfKQl91a",
    "outputId": "5e02442e-1d4f-4eda-a356-e979a1a8eaf2"
   },
   "outputs": [],
   "source": [
    "!pip -q install pyopencl"
   ]
  },
  {
   "cell_type": "code",
   "execution_count": 5,
   "metadata": {
    "colab": {
     "base_uri": "https://localhost:8080/"
    },
    "id": "nSzLEAx8l-L7",
    "outputId": "da0b87a9-0075-41d9-9938-8072480c70e7"
   },
   "outputs": [
    {
     "name": "stdout",
     "output_type": "stream",
     "text": [
      "Overwriting riemann_pyopencl.py\n"
     ]
    }
   ],
   "source": [
    "%%file riemann_pyopencl.py\n",
    "from __future__ import absolute_import, print_function\n",
    "import numpy as np\n",
    "import pyopencl as cl\n",
    "\n",
    "import time\n",
    "\n",
    "def iDivUp(a, b):\n",
    "    return a // b + 1\n",
    "\n",
    "N = 100000000\n",
    "\n",
    "def riemannOpenCL(n):\n",
    "\n",
    "    a = np.empty([n])\n",
    "    a = a.astype(np.float64)\n",
    "\n",
    "    queue = cl.CommandQueue(ctx)\n",
    "\n",
    "    mf = cl.mem_flags\n",
    "    a_d = cl.Buffer(ctx, mf.WRITE_ONLY, a.nbytes)\n",
    "\n",
    "    prg = cl.Program(ctx, \"\"\"\n",
    "    __kernel void medianTrapezoid(__global double *a, int n) {\n",
    "    \n",
    "        int idx = get_global_id(0);\n",
    "        double x = (double)idx / (double)n;\n",
    " \n",
    "        if(idx < n)\n",
    "           a[idx] = (exp(-x * x / 2.0) + exp(-(x + 1 / (double)n) * (x + 1 / (double)n) / 2.0)) / 2.0;\n",
    "    }\n",
    "    \"\"\").build()\n",
    "\n",
    "    local_item_size = 256\n",
    "    n_blocks = iDivUp(n, local_item_size)\n",
    "    global_item_size = n_blocks * local_item_size\n",
    "    print(\"OpenCL kernel 'medianTrapezoid' launch with %i blocks of %i threads\\n\" % (n_blocks, local_item_size))\n",
    "    prg.medianTrapezoid(queue, (global_item_size, 1, 1), (local_item_size, 1, 1), a_d, np.int32(n))\n",
    "\n",
    "    cl.enqueue_copy(queue, a, a_d)\n",
    "\n",
    "    Sum = np.sum(a) / np.sqrt(2 * np.pi) / np.float64(n)\n",
    "\n",
    "    return Sum\n",
    "\n",
    "platform = cl.get_platforms()[0]\n",
    "device = platform.get_devices()[0]\n",
    "ctx = cl.Context([device])\n",
    "\n",
    "dev_name = device.name\n",
    "total_memory = device.global_mem_size / 1024.0 / 1024.0 / 1024.0\n",
    "threads_per_block = device.max_work_group_size\n",
    "sm_count = device.max_compute_units\n",
    "\n",
    "print(\"Found GPU '%s' with %.3f GB of global memory, max %i threads per block, and %i multiprocessors\\n\" % \n",
    "       (dev_name, total_memory, threads_per_block, sm_count))\n",
    "\n",
    "start = time.time()\n",
    "\n",
    "Sum = riemannOpenCL(N)\n",
    "\n",
    "end = time.time()\n",
    "\n",
    "time_taken = end - start # in seconds\n",
    "\n",
    "print(\"Riemann sum pyOpenCL (double precision) for N = %i  : %.17f\" % (N, Sum));\n",
    "print(\"Total time (measured by CPU)                                : %f s\" % time_taken);"
   ]
  },
  {
   "cell_type": "code",
   "execution_count": 6,
   "metadata": {
    "colab": {
     "base_uri": "https://localhost:8080/"
    },
    "id": "ucuDiRLPl-im",
    "outputId": "0b5c2b8a-82a5-407c-bd98-572bad2cff17"
   },
   "outputs": [
    {
     "name": "stdout",
     "output_type": "stream",
     "text": [
      "Found GPU 'Intel(R) Graphics [0x3e92]' with 6.301 GB of global memory, max 256 threads per block, and 24 multiprocessors\n",
      "\n",
      "OpenCL kernel 'medianTrapezoid' launch with 390626 blocks of 256 threads\n",
      "\n",
      "Riemann sum pyOpenCL (double precision) for N = 100000000  : 0.34134474606854387\n",
      "Total time (measured by CPU)                                : 2.861034 s\n"
     ]
    }
   ],
   "source": [
    "!PATH=/usr/local/cuda-10.1/bin:${PATH} python riemann_pyopencl.py"
   ]
  },
  {
   "cell_type": "code",
   "execution_count": null,
   "metadata": {},
   "outputs": [],
   "source": []
  }
 ],
 "metadata": {
  "accelerator": "GPU",
  "colab": {
   "collapsed_sections": [],
   "name": "Python_GPU.ipynb",
   "provenance": []
  },
  "kernelspec": {
   "display_name": "Python 3 (ipykernel)",
   "language": "python",
   "name": "python3"
  },
  "language_info": {
   "codemirror_mode": {
    "name": "ipython",
    "version": 3
   },
   "file_extension": ".py",
   "mimetype": "text/x-python",
   "name": "python",
   "nbconvert_exporter": "python",
   "pygments_lexer": "ipython3",
   "version": "3.9.7"
  }
 },
 "nbformat": 4,
 "nbformat_minor": 1
}

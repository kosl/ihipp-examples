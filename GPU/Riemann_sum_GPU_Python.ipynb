{
  "nbformat": 4,
  "nbformat_minor": 0,
  "metadata": {
    "colab": {
      "name": "Python_GPU.ipynb",
      "provenance": [],
      "collapsed_sections": []
    },
    "kernelspec": {
      "name": "python3",
      "display_name": "Python 3"
    },
    "language_info": {
      "name": "python"
    },
    "accelerator": "GPU"
  },
  "cells": [
    {
      "cell_type": "code",
      "metadata": {
        "id": "xfy7RP9zkxXH",
        "colab": {
          "base_uri": "https://localhost:8080/"
        },
        "outputId": "b5091a6c-859a-4983-910f-7b20bb91851c"
      },
      "source": [
        "!pip -q install pycuda"
      ],
      "execution_count": 1,
      "outputs": [
        {
          "output_type": "stream",
          "name": "stdout",
          "text": [
            "\u001b[?25l\r\u001b[K     |▏                               | 10 kB 15.4 MB/s eta 0:00:01\r\u001b[K     |▍                               | 20 kB 16.2 MB/s eta 0:00:01\r\u001b[K     |▋                               | 30 kB 18.7 MB/s eta 0:00:01\r\u001b[K     |▉                               | 40 kB 13.7 MB/s eta 0:00:01\r\u001b[K     |█                               | 51 kB 6.2 MB/s eta 0:00:01\r\u001b[K     |█▏                              | 61 kB 6.5 MB/s eta 0:00:01\r\u001b[K     |█▍                              | 71 kB 5.9 MB/s eta 0:00:01\r\u001b[K     |█▋                              | 81 kB 6.5 MB/s eta 0:00:01\r\u001b[K     |█▊                              | 92 kB 6.7 MB/s eta 0:00:01\r\u001b[K     |██                              | 102 kB 5.6 MB/s eta 0:00:01\r\u001b[K     |██▏                             | 112 kB 5.6 MB/s eta 0:00:01\r\u001b[K     |██▍                             | 122 kB 5.6 MB/s eta 0:00:01\r\u001b[K     |██▌                             | 133 kB 5.6 MB/s eta 0:00:01\r\u001b[K     |██▊                             | 143 kB 5.6 MB/s eta 0:00:01\r\u001b[K     |███                             | 153 kB 5.6 MB/s eta 0:00:01\r\u001b[K     |███▏                            | 163 kB 5.6 MB/s eta 0:00:01\r\u001b[K     |███▎                            | 174 kB 5.6 MB/s eta 0:00:01\r\u001b[K     |███▌                            | 184 kB 5.6 MB/s eta 0:00:01\r\u001b[K     |███▊                            | 194 kB 5.6 MB/s eta 0:00:01\r\u001b[K     |████                            | 204 kB 5.6 MB/s eta 0:00:01\r\u001b[K     |████                            | 215 kB 5.6 MB/s eta 0:00:01\r\u001b[K     |████▎                           | 225 kB 5.6 MB/s eta 0:00:01\r\u001b[K     |████▌                           | 235 kB 5.6 MB/s eta 0:00:01\r\u001b[K     |████▊                           | 245 kB 5.6 MB/s eta 0:00:01\r\u001b[K     |████▉                           | 256 kB 5.6 MB/s eta 0:00:01\r\u001b[K     |█████                           | 266 kB 5.6 MB/s eta 0:00:01\r\u001b[K     |█████▎                          | 276 kB 5.6 MB/s eta 0:00:01\r\u001b[K     |█████▌                          | 286 kB 5.6 MB/s eta 0:00:01\r\u001b[K     |█████▋                          | 296 kB 5.6 MB/s eta 0:00:01\r\u001b[K     |█████▉                          | 307 kB 5.6 MB/s eta 0:00:01\r\u001b[K     |██████                          | 317 kB 5.6 MB/s eta 0:00:01\r\u001b[K     |██████▎                         | 327 kB 5.6 MB/s eta 0:00:01\r\u001b[K     |██████▍                         | 337 kB 5.6 MB/s eta 0:00:01\r\u001b[K     |██████▋                         | 348 kB 5.6 MB/s eta 0:00:01\r\u001b[K     |██████▉                         | 358 kB 5.6 MB/s eta 0:00:01\r\u001b[K     |███████                         | 368 kB 5.6 MB/s eta 0:00:01\r\u001b[K     |███████▏                        | 378 kB 5.6 MB/s eta 0:00:01\r\u001b[K     |███████▍                        | 389 kB 5.6 MB/s eta 0:00:01\r\u001b[K     |███████▋                        | 399 kB 5.6 MB/s eta 0:00:01\r\u001b[K     |███████▉                        | 409 kB 5.6 MB/s eta 0:00:01\r\u001b[K     |████████                        | 419 kB 5.6 MB/s eta 0:00:01\r\u001b[K     |████████▏                       | 430 kB 5.6 MB/s eta 0:00:01\r\u001b[K     |████████▍                       | 440 kB 5.6 MB/s eta 0:00:01\r\u001b[K     |████████▋                       | 450 kB 5.6 MB/s eta 0:00:01\r\u001b[K     |████████▊                       | 460 kB 5.6 MB/s eta 0:00:01\r\u001b[K     |█████████                       | 471 kB 5.6 MB/s eta 0:00:01\r\u001b[K     |█████████▏                      | 481 kB 5.6 MB/s eta 0:00:01\r\u001b[K     |█████████▍                      | 491 kB 5.6 MB/s eta 0:00:01\r\u001b[K     |█████████▌                      | 501 kB 5.6 MB/s eta 0:00:01\r\u001b[K     |█████████▊                      | 512 kB 5.6 MB/s eta 0:00:01\r\u001b[K     |██████████                      | 522 kB 5.6 MB/s eta 0:00:01\r\u001b[K     |██████████▏                     | 532 kB 5.6 MB/s eta 0:00:01\r\u001b[K     |██████████▎                     | 542 kB 5.6 MB/s eta 0:00:01\r\u001b[K     |██████████▌                     | 552 kB 5.6 MB/s eta 0:00:01\r\u001b[K     |██████████▊                     | 563 kB 5.6 MB/s eta 0:00:01\r\u001b[K     |███████████                     | 573 kB 5.6 MB/s eta 0:00:01\r\u001b[K     |███████████                     | 583 kB 5.6 MB/s eta 0:00:01\r\u001b[K     |███████████▎                    | 593 kB 5.6 MB/s eta 0:00:01\r\u001b[K     |███████████▌                    | 604 kB 5.6 MB/s eta 0:00:01\r\u001b[K     |███████████▊                    | 614 kB 5.6 MB/s eta 0:00:01\r\u001b[K     |███████████▉                    | 624 kB 5.6 MB/s eta 0:00:01\r\u001b[K     |████████████                    | 634 kB 5.6 MB/s eta 0:00:01\r\u001b[K     |████████████▎                   | 645 kB 5.6 MB/s eta 0:00:01\r\u001b[K     |████████████▌                   | 655 kB 5.6 MB/s eta 0:00:01\r\u001b[K     |████████████▋                   | 665 kB 5.6 MB/s eta 0:00:01\r\u001b[K     |████████████▉                   | 675 kB 5.6 MB/s eta 0:00:01\r\u001b[K     |█████████████                   | 686 kB 5.6 MB/s eta 0:00:01\r\u001b[K     |█████████████▎                  | 696 kB 5.6 MB/s eta 0:00:01\r\u001b[K     |█████████████▍                  | 706 kB 5.6 MB/s eta 0:00:01\r\u001b[K     |█████████████▋                  | 716 kB 5.6 MB/s eta 0:00:01\r\u001b[K     |█████████████▉                  | 727 kB 5.6 MB/s eta 0:00:01\r\u001b[K     |██████████████                  | 737 kB 5.6 MB/s eta 0:00:01\r\u001b[K     |██████████████▏                 | 747 kB 5.6 MB/s eta 0:00:01\r\u001b[K     |██████████████▍                 | 757 kB 5.6 MB/s eta 0:00:01\r\u001b[K     |██████████████▋                 | 768 kB 5.6 MB/s eta 0:00:01\r\u001b[K     |██████████████▉                 | 778 kB 5.6 MB/s eta 0:00:01\r\u001b[K     |███████████████                 | 788 kB 5.6 MB/s eta 0:00:01\r\u001b[K     |███████████████▏                | 798 kB 5.6 MB/s eta 0:00:01\r\u001b[K     |███████████████▍                | 808 kB 5.6 MB/s eta 0:00:01\r\u001b[K     |███████████████▋                | 819 kB 5.6 MB/s eta 0:00:01\r\u001b[K     |███████████████▊                | 829 kB 5.6 MB/s eta 0:00:01\r\u001b[K     |████████████████                | 839 kB 5.6 MB/s eta 0:00:01\r\u001b[K     |████████████████▏               | 849 kB 5.6 MB/s eta 0:00:01\r\u001b[K     |████████████████▍               | 860 kB 5.6 MB/s eta 0:00:01\r\u001b[K     |████████████████▌               | 870 kB 5.6 MB/s eta 0:00:01\r\u001b[K     |████████████████▊               | 880 kB 5.6 MB/s eta 0:00:01\r\u001b[K     |█████████████████               | 890 kB 5.6 MB/s eta 0:00:01\r\u001b[K     |█████████████████▏              | 901 kB 5.6 MB/s eta 0:00:01\r\u001b[K     |█████████████████▍              | 911 kB 5.6 MB/s eta 0:00:01\r\u001b[K     |█████████████████▌              | 921 kB 5.6 MB/s eta 0:00:01\r\u001b[K     |█████████████████▊              | 931 kB 5.6 MB/s eta 0:00:01\r\u001b[K     |██████████████████              | 942 kB 5.6 MB/s eta 0:00:01\r\u001b[K     |██████████████████▏             | 952 kB 5.6 MB/s eta 0:00:01\r\u001b[K     |██████████████████▎             | 962 kB 5.6 MB/s eta 0:00:01\r\u001b[K     |██████████████████▌             | 972 kB 5.6 MB/s eta 0:00:01\r\u001b[K     |██████████████████▊             | 983 kB 5.6 MB/s eta 0:00:01\r\u001b[K     |███████████████████             | 993 kB 5.6 MB/s eta 0:00:01\r\u001b[K     |███████████████████             | 1.0 MB 5.6 MB/s eta 0:00:01\r\u001b[K     |███████████████████▎            | 1.0 MB 5.6 MB/s eta 0:00:01\r\u001b[K     |███████████████████▌            | 1.0 MB 5.6 MB/s eta 0:00:01\r\u001b[K     |███████████████████▊            | 1.0 MB 5.6 MB/s eta 0:00:01\r\u001b[K     |███████████████████▉            | 1.0 MB 5.6 MB/s eta 0:00:01\r\u001b[K     |████████████████████            | 1.1 MB 5.6 MB/s eta 0:00:01\r\u001b[K     |████████████████████▎           | 1.1 MB 5.6 MB/s eta 0:00:01\r\u001b[K     |████████████████████▌           | 1.1 MB 5.6 MB/s eta 0:00:01\r\u001b[K     |████████████████████▋           | 1.1 MB 5.6 MB/s eta 0:00:01\r\u001b[K     |████████████████████▉           | 1.1 MB 5.6 MB/s eta 0:00:01\r\u001b[K     |█████████████████████           | 1.1 MB 5.6 MB/s eta 0:00:01\r\u001b[K     |█████████████████████▎          | 1.1 MB 5.6 MB/s eta 0:00:01\r\u001b[K     |█████████████████████▍          | 1.1 MB 5.6 MB/s eta 0:00:01\r\u001b[K     |█████████████████████▋          | 1.1 MB 5.6 MB/s eta 0:00:01\r\u001b[K     |█████████████████████▉          | 1.1 MB 5.6 MB/s eta 0:00:01\r\u001b[K     |██████████████████████          | 1.2 MB 5.6 MB/s eta 0:00:01\r\u001b[K     |██████████████████████▏         | 1.2 MB 5.6 MB/s eta 0:00:01\r\u001b[K     |██████████████████████▍         | 1.2 MB 5.6 MB/s eta 0:00:01\r\u001b[K     |██████████████████████▋         | 1.2 MB 5.6 MB/s eta 0:00:01\r\u001b[K     |██████████████████████▉         | 1.2 MB 5.6 MB/s eta 0:00:01\r\u001b[K     |███████████████████████         | 1.2 MB 5.6 MB/s eta 0:00:01\r\u001b[K     |███████████████████████▏        | 1.2 MB 5.6 MB/s eta 0:00:01\r\u001b[K     |███████████████████████▍        | 1.2 MB 5.6 MB/s eta 0:00:01\r\u001b[K     |███████████████████████▋        | 1.2 MB 5.6 MB/s eta 0:00:01\r\u001b[K     |███████████████████████▊        | 1.2 MB 5.6 MB/s eta 0:00:01\r\u001b[K     |████████████████████████        | 1.3 MB 5.6 MB/s eta 0:00:01\r\u001b[K     |████████████████████████▏       | 1.3 MB 5.6 MB/s eta 0:00:01\r\u001b[K     |████████████████████████▍       | 1.3 MB 5.6 MB/s eta 0:00:01\r\u001b[K     |████████████████████████▌       | 1.3 MB 5.6 MB/s eta 0:00:01\r\u001b[K     |████████████████████████▊       | 1.3 MB 5.6 MB/s eta 0:00:01\r\u001b[K     |█████████████████████████       | 1.3 MB 5.6 MB/s eta 0:00:01\r\u001b[K     |█████████████████████████▏      | 1.3 MB 5.6 MB/s eta 0:00:01\r\u001b[K     |█████████████████████████▎      | 1.3 MB 5.6 MB/s eta 0:00:01\r\u001b[K     |█████████████████████████▌      | 1.3 MB 5.6 MB/s eta 0:00:01\r\u001b[K     |█████████████████████████▊      | 1.4 MB 5.6 MB/s eta 0:00:01\r\u001b[K     |██████████████████████████      | 1.4 MB 5.6 MB/s eta 0:00:01\r\u001b[K     |██████████████████████████      | 1.4 MB 5.6 MB/s eta 0:00:01\r\u001b[K     |██████████████████████████▎     | 1.4 MB 5.6 MB/s eta 0:00:01\r\u001b[K     |██████████████████████████▌     | 1.4 MB 5.6 MB/s eta 0:00:01\r\u001b[K     |██████████████████████████▊     | 1.4 MB 5.6 MB/s eta 0:00:01\r\u001b[K     |██████████████████████████▉     | 1.4 MB 5.6 MB/s eta 0:00:01\r\u001b[K     |███████████████████████████     | 1.4 MB 5.6 MB/s eta 0:00:01\r\u001b[K     |███████████████████████████▎    | 1.4 MB 5.6 MB/s eta 0:00:01\r\u001b[K     |███████████████████████████▌    | 1.4 MB 5.6 MB/s eta 0:00:01\r\u001b[K     |███████████████████████████▋    | 1.5 MB 5.6 MB/s eta 0:00:01\r\u001b[K     |███████████████████████████▉    | 1.5 MB 5.6 MB/s eta 0:00:01\r\u001b[K     |████████████████████████████    | 1.5 MB 5.6 MB/s eta 0:00:01\r\u001b[K     |████████████████████████████▎   | 1.5 MB 5.6 MB/s eta 0:00:01\r\u001b[K     |████████████████████████████▍   | 1.5 MB 5.6 MB/s eta 0:00:01\r\u001b[K     |████████████████████████████▋   | 1.5 MB 5.6 MB/s eta 0:00:01\r\u001b[K     |████████████████████████████▉   | 1.5 MB 5.6 MB/s eta 0:00:01\r\u001b[K     |█████████████████████████████   | 1.5 MB 5.6 MB/s eta 0:00:01\r\u001b[K     |█████████████████████████████▏  | 1.5 MB 5.6 MB/s eta 0:00:01\r\u001b[K     |█████████████████████████████▍  | 1.5 MB 5.6 MB/s eta 0:00:01\r\u001b[K     |█████████████████████████████▋  | 1.6 MB 5.6 MB/s eta 0:00:01\r\u001b[K     |█████████████████████████████▉  | 1.6 MB 5.6 MB/s eta 0:00:01\r\u001b[K     |██████████████████████████████  | 1.6 MB 5.6 MB/s eta 0:00:01\r\u001b[K     |██████████████████████████████▏ | 1.6 MB 5.6 MB/s eta 0:00:01\r\u001b[K     |██████████████████████████████▍ | 1.6 MB 5.6 MB/s eta 0:00:01\r\u001b[K     |██████████████████████████████▋ | 1.6 MB 5.6 MB/s eta 0:00:01\r\u001b[K     |██████████████████████████████▊ | 1.6 MB 5.6 MB/s eta 0:00:01\r\u001b[K     |███████████████████████████████ | 1.6 MB 5.6 MB/s eta 0:00:01\r\u001b[K     |███████████████████████████████▏| 1.6 MB 5.6 MB/s eta 0:00:01\r\u001b[K     |███████████████████████████████▍| 1.6 MB 5.6 MB/s eta 0:00:01\r\u001b[K     |███████████████████████████████▌| 1.7 MB 5.6 MB/s eta 0:00:01\r\u001b[K     |███████████████████████████████▊| 1.7 MB 5.6 MB/s eta 0:00:01\r\u001b[K     |████████████████████████████████| 1.7 MB 5.6 MB/s eta 0:00:01\r\u001b[K     |████████████████████████████████| 1.7 MB 5.6 MB/s \n",
            "\u001b[?25h  Installing build dependencies ... \u001b[?25l\u001b[?25hdone\n",
            "  Getting requirements to build wheel ... \u001b[?25l\u001b[?25hdone\n",
            "    Preparing wheel metadata ... \u001b[?25l\u001b[?25hdone\n",
            "\u001b[K     |████████████████████████████████| 66 kB 4.2 MB/s \n",
            "\u001b[K     |████████████████████████████████| 75 kB 3.4 MB/s \n",
            "\u001b[?25h  Building wheel for pycuda (PEP 517) ... \u001b[?25l\u001b[?25hdone\n",
            "  Building wheel for pytools (setup.py) ... \u001b[?25l\u001b[?25hdone\n"
          ]
        }
      ]
    },
    {
      "cell_type": "code",
      "metadata": {
        "colab": {
          "base_uri": "https://localhost:8080/"
        },
        "id": "nbAk3CRok2oQ",
        "outputId": "31525dbb-cecc-4d23-cf65-284b080919f4"
      },
      "source": [
        "%%file riemann_pycuda.py\n",
        "from __future__ import print_function\n",
        "from __future__ import absolute_import\n",
        "import pycuda.driver as cuda\n",
        "import pycuda.autoinit\n",
        "from pycuda.compiler import SourceModule\n",
        "\n",
        "import time\n",
        "\n",
        "import numpy\n",
        "\n",
        "def iDivUp(a, b):\n",
        "    return a // b + 1\n",
        "\n",
        "N = 1000000000\n",
        "\n",
        "def riemannCUDA(n):\n",
        "    a = numpy.empty([n])\n",
        "\n",
        "    a = a.astype(numpy.float64)\n",
        "\n",
        "    a_d = cuda.mem_alloc(a.size * a.dtype.itemsize)\n",
        "\n",
        "    mod = SourceModule(\"\"\"\n",
        "        __global__ void medianTrapezoid(double *a, int n)\n",
        "        {\n",
        "          int idx = blockIdx.x * blockDim.x + threadIdx.x;\n",
        "          double x = (double)idx / (double)n;\n",
        " \n",
        "          if(idx < n)\n",
        "            a[idx] = (exp(-x * x / 2.0) + exp(-(x + 1 / (double)n) * (x + 1 / (double)n) / 2.0)) / 2.0;\n",
        "        }\n",
        "        \"\"\")\n",
        "\n",
        "    func = mod.get_function(\"medianTrapezoid\")\n",
        "    block_size = 1024\n",
        "    n_blocks = iDivUp(n, block_size)\n",
        "    blockDim  = (block_size, 1, 1)\n",
        "    gridDim   = (n_blocks, 1, 1)\n",
        "    print(\"CUDA kernel 'medianTrapezoid' launch with %i blocks of %i threads\\n\" % (n_blocks, block_size))\n",
        "    func(a_d, numpy.int32(n), block=blockDim, grid=gridDim)\n",
        "\n",
        "    cuda.memcpy_dtoh(a, a_d)\n",
        "\n",
        "    Sum = numpy.sum(a) / numpy.sqrt(2 * numpy.pi) / numpy.float64(n)\n",
        "\n",
        "    return Sum\n",
        "\n",
        "dev = pycuda.autoinit.device\n",
        "\n",
        "dev_name = dev.name()\n",
        "total_memory = dev.total_memory() / 1024.0 / 1024.0 / 1024.0\n",
        "threads_per_block = dev.get_attribute(pycuda.driver.device_attribute.MAX_THREADS_PER_BLOCK)\n",
        "sm_count = dev.get_attribute(pycuda.driver.device_attribute.MULTIPROCESSOR_COUNT)\n",
        "\n",
        "print(\"Found GPU '%s' with %.3f GB of global memory, max %i threads per block, and %i multiprocessors\\n\" % \n",
        "       (dev_name, total_memory, threads_per_block, sm_count))\n",
        "\n",
        "start = time.time()\n",
        "\n",
        "Sum = riemannCUDA(N)\n",
        "\n",
        "end = time.time()\n",
        "\n",
        "time_taken = end - start # in seconds\n",
        "\n",
        "print(\"Riemann sum pyCUDA (double precision) for N = %i  : %.17f\" % (N, Sum));\n",
        "print(\"Total time (measured by CPU)                              : %f s\" % time_taken);"
      ],
      "execution_count": 2,
      "outputs": [
        {
          "output_type": "stream",
          "name": "stdout",
          "text": [
            "Writing riemann_pycuda.py\n"
          ]
        }
      ]
    },
    {
      "cell_type": "code",
      "metadata": {
        "colab": {
          "base_uri": "https://localhost:8080/"
        },
        "id": "8GYXOGc7k45d",
        "outputId": "eaf6bc0c-4e9e-4192-da49-7d7e1cf349c5"
      },
      "source": [
        "!PATH=/usr/local/cuda-10.1/bin:${PATH} python riemann_pycuda.py"
      ],
      "execution_count": 3,
      "outputs": [
        {
          "output_type": "stream",
          "name": "stdout",
          "text": [
            "Found GPU 'Tesla K80' with 11.173 GB of global memory, max 1024 threads per block, and 13 multiprocessors\n",
            "\n",
            "tcmalloc: large alloc 8000004096 bytes == 0x56070c4d6000 @  0x7f86804651e7 0x7f867e02546e 0x7f867e075c7b 0x7f867e07635f 0x7f867e118103 0x5607093464b0 0x560709346240 0x5607093ba0f3 0x560709347afa 0x5607093b5915 0x5607093b49ee 0x5607093b46f3 0x56070947e4c2 0x56070947e83d 0x56070947e6e6 0x560709456163 0x560709455e0c 0x7f867f24fbf7 0x560709455cea\n",
            "tcmalloc: large alloc 8000004096 bytes == 0x5608e9b50000 @  0x7f86804651e7 0x7f867e02546e 0x7f867e075c7b 0x7f867e075d97 0x7f867e10e887 0x5607093464b0 0x560709437e1d 0x5607093b9e99 0x560709347afa 0x5607093b5915 0x5607093b49ee 0x5607093b46f3 0x56070947e4c2 0x56070947e83d 0x56070947e6e6 0x560709456163 0x560709455e0c 0x7f867f24fbf7 0x560709455cea\n",
            "CUDA kernel 'medianTrapezoid' launch with 976563 blocks of 1024 threads\n",
            "\n",
            "Riemann sum pyCUDA (double precision) for N = 1000000000  : 0.34134474606853665\n",
            "Total time (measured by CPU)                              : 5.321124 s\n"
          ]
        }
      ]
    },
    {
      "cell_type": "code",
      "metadata": {
        "id": "BN-EHfKQl91a",
        "colab": {
          "base_uri": "https://localhost:8080/"
        },
        "outputId": "5e02442e-1d4f-4eda-a356-e979a1a8eaf2"
      },
      "source": [
        "!pip -q install pyopencl"
      ],
      "execution_count": 4,
      "outputs": [
        {
          "output_type": "stream",
          "name": "stdout",
          "text": [
            "\u001b[?25l\r\u001b[K     |▍                               | 10 kB 22.3 MB/s eta 0:00:01\r\u001b[K     |▊                               | 20 kB 13.0 MB/s eta 0:00:01\r\u001b[K     |█▏                              | 30 kB 10.2 MB/s eta 0:00:01\r\u001b[K     |█▌                              | 40 kB 8.9 MB/s eta 0:00:01\r\u001b[K     |█▉                              | 51 kB 5.2 MB/s eta 0:00:01\r\u001b[K     |██▎                             | 61 kB 5.6 MB/s eta 0:00:01\r\u001b[K     |██▋                             | 71 kB 5.6 MB/s eta 0:00:01\r\u001b[K     |███                             | 81 kB 6.3 MB/s eta 0:00:01\r\u001b[K     |███▍                            | 92 kB 4.8 MB/s eta 0:00:01\r\u001b[K     |███▊                            | 102 kB 5.3 MB/s eta 0:00:01\r\u001b[K     |████                            | 112 kB 5.3 MB/s eta 0:00:01\r\u001b[K     |████▌                           | 122 kB 5.3 MB/s eta 0:00:01\r\u001b[K     |████▉                           | 133 kB 5.3 MB/s eta 0:00:01\r\u001b[K     |█████▏                          | 143 kB 5.3 MB/s eta 0:00:01\r\u001b[K     |█████▋                          | 153 kB 5.3 MB/s eta 0:00:01\r\u001b[K     |██████                          | 163 kB 5.3 MB/s eta 0:00:01\r\u001b[K     |██████▎                         | 174 kB 5.3 MB/s eta 0:00:01\r\u001b[K     |██████▊                         | 184 kB 5.3 MB/s eta 0:00:01\r\u001b[K     |███████                         | 194 kB 5.3 MB/s eta 0:00:01\r\u001b[K     |███████▌                        | 204 kB 5.3 MB/s eta 0:00:01\r\u001b[K     |███████▉                        | 215 kB 5.3 MB/s eta 0:00:01\r\u001b[K     |████████▏                       | 225 kB 5.3 MB/s eta 0:00:01\r\u001b[K     |████████▋                       | 235 kB 5.3 MB/s eta 0:00:01\r\u001b[K     |█████████                       | 245 kB 5.3 MB/s eta 0:00:01\r\u001b[K     |█████████▎                      | 256 kB 5.3 MB/s eta 0:00:01\r\u001b[K     |█████████▊                      | 266 kB 5.3 MB/s eta 0:00:01\r\u001b[K     |██████████                      | 276 kB 5.3 MB/s eta 0:00:01\r\u001b[K     |██████████▍                     | 286 kB 5.3 MB/s eta 0:00:01\r\u001b[K     |██████████▉                     | 296 kB 5.3 MB/s eta 0:00:01\r\u001b[K     |███████████▏                    | 307 kB 5.3 MB/s eta 0:00:01\r\u001b[K     |███████████▌                    | 317 kB 5.3 MB/s eta 0:00:01\r\u001b[K     |████████████                    | 327 kB 5.3 MB/s eta 0:00:01\r\u001b[K     |████████████▎                   | 337 kB 5.3 MB/s eta 0:00:01\r\u001b[K     |████████████▋                   | 348 kB 5.3 MB/s eta 0:00:01\r\u001b[K     |█████████████                   | 358 kB 5.3 MB/s eta 0:00:01\r\u001b[K     |█████████████▍                  | 368 kB 5.3 MB/s eta 0:00:01\r\u001b[K     |█████████████▉                  | 378 kB 5.3 MB/s eta 0:00:01\r\u001b[K     |██████████████▏                 | 389 kB 5.3 MB/s eta 0:00:01\r\u001b[K     |██████████████▌                 | 399 kB 5.3 MB/s eta 0:00:01\r\u001b[K     |███████████████                 | 409 kB 5.3 MB/s eta 0:00:01\r\u001b[K     |███████████████▎                | 419 kB 5.3 MB/s eta 0:00:01\r\u001b[K     |███████████████▋                | 430 kB 5.3 MB/s eta 0:00:01\r\u001b[K     |████████████████                | 440 kB 5.3 MB/s eta 0:00:01\r\u001b[K     |████████████████▍               | 450 kB 5.3 MB/s eta 0:00:01\r\u001b[K     |████████████████▊               | 460 kB 5.3 MB/s eta 0:00:01\r\u001b[K     |█████████████████▏              | 471 kB 5.3 MB/s eta 0:00:01\r\u001b[K     |█████████████████▌              | 481 kB 5.3 MB/s eta 0:00:01\r\u001b[K     |█████████████████▉              | 491 kB 5.3 MB/s eta 0:00:01\r\u001b[K     |██████████████████▎             | 501 kB 5.3 MB/s eta 0:00:01\r\u001b[K     |██████████████████▋             | 512 kB 5.3 MB/s eta 0:00:01\r\u001b[K     |███████████████████             | 522 kB 5.3 MB/s eta 0:00:01\r\u001b[K     |███████████████████▍            | 532 kB 5.3 MB/s eta 0:00:01\r\u001b[K     |███████████████████▊            | 542 kB 5.3 MB/s eta 0:00:01\r\u001b[K     |████████████████████▏           | 552 kB 5.3 MB/s eta 0:00:01\r\u001b[K     |████████████████████▌           | 563 kB 5.3 MB/s eta 0:00:01\r\u001b[K     |████████████████████▉           | 573 kB 5.3 MB/s eta 0:00:01\r\u001b[K     |█████████████████████▎          | 583 kB 5.3 MB/s eta 0:00:01\r\u001b[K     |█████████████████████▋          | 593 kB 5.3 MB/s eta 0:00:01\r\u001b[K     |██████████████████████          | 604 kB 5.3 MB/s eta 0:00:01\r\u001b[K     |██████████████████████▍         | 614 kB 5.3 MB/s eta 0:00:01\r\u001b[K     |██████████████████████▊         | 624 kB 5.3 MB/s eta 0:00:01\r\u001b[K     |███████████████████████         | 634 kB 5.3 MB/s eta 0:00:01\r\u001b[K     |███████████████████████▌        | 645 kB 5.3 MB/s eta 0:00:01\r\u001b[K     |███████████████████████▉        | 655 kB 5.3 MB/s eta 0:00:01\r\u001b[K     |████████████████████████▏       | 665 kB 5.3 MB/s eta 0:00:01\r\u001b[K     |████████████████████████▋       | 675 kB 5.3 MB/s eta 0:00:01\r\u001b[K     |█████████████████████████       | 686 kB 5.3 MB/s eta 0:00:01\r\u001b[K     |█████████████████████████▎      | 696 kB 5.3 MB/s eta 0:00:01\r\u001b[K     |█████████████████████████▊      | 706 kB 5.3 MB/s eta 0:00:01\r\u001b[K     |██████████████████████████      | 716 kB 5.3 MB/s eta 0:00:01\r\u001b[K     |██████████████████████████▌     | 727 kB 5.3 MB/s eta 0:00:01\r\u001b[K     |██████████████████████████▉     | 737 kB 5.3 MB/s eta 0:00:01\r\u001b[K     |███████████████████████████▏    | 747 kB 5.3 MB/s eta 0:00:01\r\u001b[K     |███████████████████████████▋    | 757 kB 5.3 MB/s eta 0:00:01\r\u001b[K     |████████████████████████████    | 768 kB 5.3 MB/s eta 0:00:01\r\u001b[K     |████████████████████████████▎   | 778 kB 5.3 MB/s eta 0:00:01\r\u001b[K     |████████████████████████████▊   | 788 kB 5.3 MB/s eta 0:00:01\r\u001b[K     |█████████████████████████████   | 798 kB 5.3 MB/s eta 0:00:01\r\u001b[K     |█████████████████████████████▍  | 808 kB 5.3 MB/s eta 0:00:01\r\u001b[K     |█████████████████████████████▉  | 819 kB 5.3 MB/s eta 0:00:01\r\u001b[K     |██████████████████████████████▏ | 829 kB 5.3 MB/s eta 0:00:01\r\u001b[K     |██████████████████████████████▌ | 839 kB 5.3 MB/s eta 0:00:01\r\u001b[K     |███████████████████████████████ | 849 kB 5.3 MB/s eta 0:00:01\r\u001b[K     |███████████████████████████████▎| 860 kB 5.3 MB/s eta 0:00:01\r\u001b[K     |███████████████████████████████▋| 870 kB 5.3 MB/s eta 0:00:01\r\u001b[K     |████████████████████████████████| 879 kB 5.3 MB/s \n",
            "\u001b[?25h"
          ]
        }
      ]
    },
    {
      "cell_type": "code",
      "metadata": {
        "colab": {
          "base_uri": "https://localhost:8080/"
        },
        "id": "nSzLEAx8l-L7",
        "outputId": "da0b87a9-0075-41d9-9938-8072480c70e7"
      },
      "source": [
        "%%file riemann_pyopencl.py\n",
        "from __future__ import absolute_import, print_function\n",
        "import numpy as np\n",
        "import pyopencl as cl\n",
        "\n",
        "import time\n",
        "\n",
        "def iDivUp(a, b):\n",
        "    return a // b + 1\n",
        "\n",
        "N = 1000000000\n",
        "\n",
        "def riemannOpenCL(n):\n",
        "\n",
        "    a = np.empty([n])\n",
        "    a = a.astype(np.float64)\n",
        "\n",
        "    queue = cl.CommandQueue(ctx)\n",
        "\n",
        "    mf = cl.mem_flags\n",
        "    a_d = cl.Buffer(ctx, mf.WRITE_ONLY, a.nbytes)\n",
        "\n",
        "    prg = cl.Program(ctx, \"\"\"\n",
        "    __kernel void medianTrapezoid(__global double *a, int n) {\n",
        "    \n",
        "        int idx = get_global_id(0);\n",
        "        double x = (double)idx / (double)n;\n",
        " \n",
        "        if(idx < n)\n",
        "           a[idx] = (exp(-x * x / 2.0) + exp(-(x + 1 / (double)n) * (x + 1 / (double)n) / 2.0)) / 2.0;\n",
        "    }\n",
        "    \"\"\").build()\n",
        "\n",
        "    local_item_size = 1024\n",
        "    n_blocks = iDivUp(n, local_item_size)\n",
        "    global_item_size = n_blocks * local_item_size\n",
        "    print(\"OpenCL kernel 'medianTrapezoid' launch with %i blocks of %i threads\\n\" % (n_blocks, local_item_size))\n",
        "    prg.medianTrapezoid(queue, (global_item_size, 1, 1), (local_item_size, 1, 1), a_d, np.int32(n))\n",
        "\n",
        "    cl.enqueue_copy(queue, a, a_d)\n",
        "\n",
        "    Sum = np.sum(a) / np.sqrt(2 * np.pi) / np.float64(n)\n",
        "\n",
        "    return Sum\n",
        "\n",
        "platform = cl.get_platforms()[0]\n",
        "device = platform.get_devices()[0]\n",
        "ctx = cl.Context([device])\n",
        "\n",
        "dev_name = device.name\n",
        "total_memory = device.global_mem_size / 1024.0 / 1024.0 / 1024.0\n",
        "threads_per_block = device.max_work_group_size\n",
        "sm_count = device.max_compute_units\n",
        "\n",
        "print(\"Found GPU '%s' with %.3f GB of global memory, max %i threads per block, and %i multiprocessors\\n\" % \n",
        "       (dev_name, total_memory, threads_per_block, sm_count))\n",
        "\n",
        "start = time.time()\n",
        "\n",
        "Sum = riemannOpenCL(N)\n",
        "\n",
        "end = time.time()\n",
        "\n",
        "time_taken = end - start # in seconds\n",
        "\n",
        "print(\"Riemann sum pyOpenCL (double precision) for N = %i  : %.17f\" % (N, Sum));\n",
        "print(\"Total time (measured by CPU)                                : %f s\" % time_taken);"
      ],
      "execution_count": 5,
      "outputs": [
        {
          "output_type": "stream",
          "name": "stdout",
          "text": [
            "Writing riemann_pyopencl.py\n"
          ]
        }
      ]
    },
    {
      "cell_type": "code",
      "metadata": {
        "colab": {
          "base_uri": "https://localhost:8080/"
        },
        "id": "ucuDiRLPl-im",
        "outputId": "0b5c2b8a-82a5-407c-bd98-572bad2cff17"
      },
      "source": [
        "!PATH=/usr/local/cuda-10.1/bin:${PATH} python riemann_pyopencl.py"
      ],
      "execution_count": 6,
      "outputs": [
        {
          "output_type": "stream",
          "name": "stdout",
          "text": [
            "Found GPU 'Tesla K80' with 11.173 GB of global memory, max 1024 threads per block, and 13 multiprocessors\n",
            "\n",
            "tcmalloc: large alloc 8000004096 bytes == 0x56503d174000 @  0x7f7a6ad631e7 0x7f7a6892346e 0x7f7a68973c7b 0x7f7a6897435f 0x7f7a68a16103 0x5650391074b0 0x565039107240 0x56503917b0f3 0x565039108afa 0x565039176915 0x5650391759ee 0x5650391756f3 0x56503923f4c2 0x56503923f83d 0x56503923f6e6 0x565039217163 0x565039216e0c 0x7f7a69b4dbf7 0x565039216cea\n",
            "tcmalloc: large alloc 8000004096 bytes == 0x56521a7da000 @  0x7f7a6ad631e7 0x7f7a6892346e 0x7f7a68973c7b 0x7f7a68973d97 0x7f7a68a0c887 0x5650391074b0 0x5650391f8e1d 0x56503917ae99 0x565039108afa 0x565039176915 0x5650391759ee 0x5650391756f3 0x56503923f4c2 0x56503923f83d 0x56503923f6e6 0x565039217163 0x565039216e0c 0x7f7a69b4dbf7 0x565039216cea\n",
            "OpenCL kernel 'medianTrapezoid' launch with 976563 blocks of 1024 threads\n",
            "\n",
            "Riemann sum pyOpenCL (double precision) for N = 1000000000  : 0.34134474606853665\n",
            "Total time (measured by CPU)                                : 5.343776 s\n"
          ]
        }
      ]
    }
  ]
}
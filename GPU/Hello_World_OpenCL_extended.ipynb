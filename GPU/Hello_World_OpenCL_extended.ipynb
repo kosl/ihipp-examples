{
  "nbformat": 4,
  "nbformat_minor": 0,
  "metadata": {
    "colab": {
      "name": "Hello_World_OpenCL_extended.ipynb",
      "provenance": [],
      "collapsed_sections": []
    },
    "kernelspec": {
      "name": "python3",
      "display_name": "Python 3"
    },
    "accelerator": "GPU"
  },
  "cells": [
    {
      "cell_type": "markdown",
      "metadata": {
        "id": "-OkNjKhmRUim"
      },
      "source": [
        "## Exercise: Hello world OpenCL extended\n",
        "\n",
        "Modify the Hello world OpenCL example from the previous step to complete the following tasks:\n",
        "\n",
        "- define 2 blocks (work-groups) with 4 threads (work-items) each\n",
        "- print the \"Hello World\" message to reflect also information on the thread (work-item) number from each block (work-group) (hint: use the built-in variables ```get_group_id(0)``` for work-groups and ```get_local_id(0)``` for work-items)"
      ]
    },
    {
      "cell_type": "code",
      "metadata": {
        "id": "n_kBtaZmidSt"
      },
      "source": [
        "%%sh \n",
        "cat > hello.cl << EOF\n",
        "__kernel void hello() {\n",
        "    int gid = get_global_id(0);\n",
        "    printf(\"Hello world! I'm a thread in block %d\\n\", gid);\n",
        "}\n",
        "EOF"
      ],
      "execution_count": null,
      "outputs": []
    },
    {
      "cell_type": "code",
      "metadata": {
        "id": "BWNF0rxtwyCj"
      },
      "source": [
        " %%sh \n",
        "cat > hello_CL.c << EOF\n",
        "#include <CL/cl.h>\n",
        "\n",
        "#include <stdio.h>\n",
        "#include <stdlib.h>\n",
        "\n",
        "#define MAX_SOURCE_SIZE (0x100000)\n",
        "\n",
        "#define GLOBAl_SIZE 4\n",
        "#define LOCAL_SIZE 1\n",
        "\n",
        "int main(int argc, char ** argv) {\n",
        "\n",
        "\t// Load kernel from file hello.cl\n",
        "\n",
        "\tFILE *kernelFile;\n",
        "\tchar *kernelSource;\n",
        "\tsize_t kernelSize;\n",
        "\n",
        "\tkernelFile = fopen(\"hello.cl\", \"r\");\n",
        "\n",
        "\tif (!kernelFile) {\n",
        "\n",
        "\t\tfprintf(stderr, \"No file named hello.cl was found\\n\");\n",
        "\n",
        "\t\texit(-1);\n",
        "\n",
        "\t}\n",
        "\tkernelSource = (char*)malloc(MAX_SOURCE_SIZE);\n",
        "\tkernelSize = fread(kernelSource, 1, MAX_SOURCE_SIZE, kernelFile);\n",
        "\tfclose(kernelFile);\n",
        "\n",
        "\t// Getting platform and device information\n",
        "\tcl_platform_id platformId = NULL;\n",
        "\tcl_device_id deviceID = NULL;\n",
        "\tcl_uint retNumDevices;\n",
        "\tcl_uint retNumPlatforms;\n",
        "\tcl_int ret = clGetPlatformIDs(1, &platformId, &retNumPlatforms);\n",
        "\tret = clGetDeviceIDs(platformId, CL_DEVICE_TYPE_DEFAULT, 1, &deviceID, &retNumDevices);\n",
        "\n",
        "\t// Creating context.\n",
        "\tcl_context context = clCreateContext(NULL, 1, &deviceID, NULL, NULL,  &ret);\n",
        "\n",
        "\t// Creating command queue\n",
        "\tcl_command_queue commandQueue = clCreateCommandQueue(context, deviceID, 0, &ret);\n",
        "\n",
        "\t// Create program from kernel source\n",
        "\tcl_program program = clCreateProgramWithSource(context, 1, (const char **)&kernelSource, (const size_t *)&kernelSize, &ret);\t\n",
        "\n",
        "\t// Build program\n",
        "\tret = clBuildProgram(program, 1, &deviceID, NULL, NULL, NULL);\n",
        "\n",
        "\t// Create kernel\n",
        "\tcl_kernel kernel = clCreateKernel(program, \"hello\", &ret);\n",
        "\n",
        "\t// Execute the kernel\n",
        "\tsize_t globalItemSize = GLOBAl_SIZE;\n",
        "\tsize_t localItemSize = LOCAL_SIZE;\n",
        "\tret = clEnqueueNDRangeKernel(commandQueue, kernel, 1, NULL, &globalItemSize, &localItemSize, 0, NULL, NULL);\n",
        "\n",
        "  printf(\"That's all!\\n\");\t\t\n",
        "\n",
        "\t// Clean up, release memory.\n",
        "\tret = clFlush(commandQueue);\n",
        "\tret = clFinish(commandQueue);\n",
        "\tret = clReleaseCommandQueue(commandQueue);\n",
        "\tret = clReleaseKernel(kernel);\n",
        "\tret = clReleaseProgram(program);\t\n",
        "\tret = clReleaseContext(context);\n",
        "\n",
        "\treturn 0;\n",
        "}\n",
        "EOF"
      ],
      "execution_count": null,
      "outputs": []
    },
    {
      "cell_type": "code",
      "metadata": {
        "id": "Hlk-sYHgxepF",
        "colab": {
          "base_uri": "https://localhost:8080/"
        },
        "outputId": "a8fdd2f7-6025-41d3-cab9-9bc7bf3a5d0f"
      },
      "source": [
        " !nvcc -o hello_CL hello_CL.c -lOpenCL && ./hello_CL"
      ],
      "execution_count": null,
      "outputs": [
        {
          "output_type": "stream",
          "text": [
            "Hello world! I'm a thread in block 1\n",
            "Hello world! I'm a thread in block 2\n",
            "Hello world! I'm a thread in block 3\n",
            "Hello world! I'm a thread in block 0\n",
            "That's all!\n"
          ],
          "name": "stdout"
        }
      ]
    },
    {
      "cell_type": "markdown",
      "metadata": {
        "id": "XKuANp--yYjM"
      },
      "source": [
        "You can compare with our solution:"
      ]
    },
    {
      "cell_type": "code",
      "metadata": {
        "id": "AJy174o-yrOr"
      },
      "source": [
        "%%sh \n",
        "cat > hello_exercise.cl << EOF\n",
        "__kernel void hello() {\n",
        "    int grid = get_group_id(0);\n",
        "    int lid = get_local_id(0);\n",
        "    printf(\"Hello world! I'm a thread %d in block %d\\n\", lid, grid);\n",
        "} \n",
        "EOF"
      ],
      "execution_count": null,
      "outputs": []
    },
    {
      "cell_type": "code",
      "metadata": {
        "id": "altshNh5yrlb"
      },
      "source": [
        " %%sh \n",
        "cat > hello_CL_exercise.c << EOF\n",
        "#include <CL/cl.h>\n",
        "\n",
        "#include <stdio.h>\n",
        "#include <stdlib.h>\n",
        "\n",
        "#define MAX_SOURCE_SIZE (0x100000)\n",
        "\n",
        "#define GLOBAl_SIZE 8\n",
        "#define LOCAL_SIZE 4\n",
        "\n",
        "int main(int argc, char ** argv) {\n",
        "\n",
        "\t// Load kernel from file hello.cl\n",
        "\n",
        "\tFILE *kernelFile;\n",
        "\tchar *kernelSource;\n",
        "\tsize_t kernelSize;\n",
        "\n",
        "\tkernelFile = fopen(\"hello_exercise.cl\", \"r\");\n",
        "\n",
        "\tif (!kernelFile) {\n",
        "\n",
        "\t\tfprintf(stderr, \"No file named hello_exercise.cl was found\\n\");\n",
        "\n",
        "\t\texit(-1);\n",
        "\n",
        "\t}\n",
        "\tkernelSource = (char*)malloc(MAX_SOURCE_SIZE);\n",
        "\tkernelSize = fread(kernelSource, 1, MAX_SOURCE_SIZE, kernelFile);\n",
        "\tfclose(kernelFile);\n",
        "\n",
        "\t// Getting platform and device information\n",
        "\tcl_platform_id platformId = NULL;\n",
        "\tcl_device_id deviceID = NULL;\n",
        "\tcl_uint retNumDevices;\n",
        "\tcl_uint retNumPlatforms;\n",
        "\tcl_int ret = clGetPlatformIDs(1, &platformId, &retNumPlatforms);\n",
        "\tret = clGetDeviceIDs(platformId, CL_DEVICE_TYPE_DEFAULT, 1, &deviceID, &retNumDevices);\n",
        "\n",
        "\t// Creating context.\n",
        "\tcl_context context = clCreateContext(NULL, 1, &deviceID, NULL, NULL,  &ret);\n",
        "\n",
        "\t// Creating command queue\n",
        "\tcl_command_queue commandQueue = clCreateCommandQueue(context, deviceID, 0, &ret);\n",
        "\n",
        "\t// Create program from kernel source\n",
        "\tcl_program program = clCreateProgramWithSource(context, 1, (const char **)&kernelSource, (const size_t *)&kernelSize, &ret);\t\n",
        "\n",
        "\t// Build program\n",
        "\tret = clBuildProgram(program, 1, &deviceID, NULL, NULL, NULL);\n",
        "\n",
        "\t// Create kernel\n",
        "\tcl_kernel kernel = clCreateKernel(program, \"hello\", &ret);\n",
        "\n",
        "\t// Execute the kernel\n",
        "\tsize_t globalItemSize = GLOBAl_SIZE;\n",
        "\tsize_t localItemSize = LOCAL_SIZE;\n",
        "\tret = clEnqueueNDRangeKernel(commandQueue, kernel, 1, NULL, &globalItemSize, &localItemSize, 0, NULL, NULL);\n",
        "\n",
        "  printf(\"That's all!\\n\");\t\t\n",
        "\n",
        "\t// Clean up, release memory.\n",
        "\tret = clFlush(commandQueue);\n",
        "\tret = clFinish(commandQueue);\n",
        "\tret = clReleaseCommandQueue(commandQueue);\n",
        "\tret = clReleaseKernel(kernel);\n",
        "\tret = clReleaseProgram(program);\t\n",
        "\tret = clReleaseContext(context);\n",
        "\n",
        "\treturn 0;\n",
        "}\n",
        "EOF"
      ],
      "execution_count": null,
      "outputs": []
    },
    {
      "cell_type": "code",
      "metadata": {
        "id": "5u605I9kzSum",
        "colab": {
          "base_uri": "https://localhost:8080/"
        },
        "outputId": "e5ee057d-9678-4506-86ad-a8d8e70aaebf"
      },
      "source": [
        " !nvcc -o hello_CL_exercise hello_CL_exercise.c -lOpenCL && ./hello_CL_exercise"
      ],
      "execution_count": null,
      "outputs": [
        {
          "output_type": "stream",
          "text": [
            "Hello world! I'm a thread 0 in block 1\n",
            "Hello world! I'm a thread 1 in block 1\n",
            "Hello world! I'm a thread 2 in block 1\n",
            "Hello world! I'm a thread 3 in block 1\n",
            "Hello world! I'm a thread 0 in block 0\n",
            "Hello world! I'm a thread 1 in block 0\n",
            "Hello world! I'm a thread 2 in block 0\n",
            "Hello world! I'm a thread 3 in block 0\n",
            "That's all!\n"
          ],
          "name": "stdout"
        }
      ]
    }
  ]
}
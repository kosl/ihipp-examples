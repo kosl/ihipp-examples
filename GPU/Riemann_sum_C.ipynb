{
  "nbformat": 4,
  "nbformat_minor": 0,
  "metadata": {
    "colab": {
      "name": "Riemann_sum_C.ipynb",
      "provenance": [],
      "collapsed_sections": []
    },
    "kernelspec": {
      "name": "python3",
      "display_name": "Python 3"
    },
    "accelerator": "GPU"
  },
  "cells": [
    {
      "cell_type": "markdown",
      "metadata": {
        "id": "Suh22TEsvu3r"
      },
      "source": [
        "## Numerical integration (Riemann sum): calculating $\\Phi(1) = \\frac 1 {\\sqrt{2\\pi}} \\int_{0}^1 e^{-x^2/2} \\, dx$\n",
        "(see, e.g.: https://mathworld.wolfram.com/NormalDistributionFunction.html)."
      ]
    },
    {
      "cell_type": "markdown",
      "metadata": {
        "id": "jpSvZ0uFWRsN"
      },
      "source": [
        "### C Numerical integration (Riemann sum) with serial code on CPU"
      ]
    },
    {
      "cell_type": "code",
      "metadata": {
        "id": "CGqEZJ21Zv7U",
        "colab": {
          "base_uri": "https://localhost:8080/"
        },
        "outputId": "6ee729a7-c384-4717-c731-d2edd3b52ca7"
      },
      "source": [
        "%%file riemann_cpu_double.c\n",
        "#include <stdio.h>\n",
        "#include <stdlib.h>\n",
        "#include <math.h>\n",
        "#include <time.h>\n",
        "\n",
        "#include <string.h>\n",
        "#include <stdbool.h>\n",
        "\n",
        "#define N 1000000000\n",
        "\n",
        "double riemann(int n)\n",
        "{\n",
        "  double sum = 0;\n",
        "  for(int i = 0; i < n; ++i)\n",
        "  {\n",
        "    double x = (double) i / (double) n;\n",
        "    double fx = (exp(-x * x / 2.0) + exp(-(x + 1 / (double)n) * (x + 1 / (double)n) / 2.0)) / 2.0;\n",
        "    sum += fx;\n",
        "  }\n",
        "  sum *= (1.0 / sqrt(2.0 * M_PI)) / (double) n;\n",
        "  return sum;\n",
        "}\n",
        "\n",
        "int main(int argc, char** argv){\n",
        "\n",
        "  clock_t t1; \n",
        "  t1 = clock();\n",
        "\n",
        "  double sum = riemann(N);\n",
        "\n",
        "  t1 = clock() - t1;\n",
        "\n",
        "  double time_taken1 = ((double)t1)/CLOCKS_PER_SEC; // in seconds\n",
        "\n",
        "  printf(\"Riemann sum CPU (double precision) for N = %d     : %.17g \\n\", N, sum);\n",
        "  printf(\"Total time (measured by CPU)                              : %f s\\n\", time_taken1);\n",
        "}"
      ],
      "execution_count": 1,
      "outputs": [
        {
          "output_type": "stream",
          "name": "stdout",
          "text": [
            "Writing riemann_cpu_double.c\n"
          ]
        }
      ]
    },
    {
      "cell_type": "markdown",
      "metadata": {
        "id": "JPrlRbqLahHl"
      },
      "source": [
        "#### Compilation without optimization"
      ]
    },
    {
      "cell_type": "code",
      "metadata": {
        "id": "tiA3fViGaHjS",
        "colab": {
          "base_uri": "https://localhost:8080/"
        },
        "outputId": "48359282-4912-4bf0-f4dc-81fbabab1884"
      },
      "source": [
        "!g++ -o riemann_cpu_double riemann_cpu_double.c && ./riemann_cpu_double"
      ],
      "execution_count": 2,
      "outputs": [
        {
          "output_type": "stream",
          "name": "stdout",
          "text": [
            "Riemann sum CPU (double precision) for N = 1000000000     : 0.3413447460685729 \n",
            "Total time (measured by CPU)                              : 95.602548 s\n"
          ]
        }
      ]
    },
    {
      "cell_type": "markdown",
      "metadata": {
        "id": "-rQwXK3La0bl"
      },
      "source": [
        "#### Compilation with -O3 optimization"
      ]
    },
    {
      "cell_type": "code",
      "metadata": {
        "id": "C3MV5HkBbE-P",
        "colab": {
          "base_uri": "https://localhost:8080/"
        },
        "outputId": "b484c55f-2aff-4b58-a40a-ff77fbaffe20"
      },
      "source": [
        " !g++ -O3 -o riemann_cpu_double_o3 riemann_cpu_double.c && ./riemann_cpu_double_o3"
      ],
      "execution_count": 3,
      "outputs": [
        {
          "output_type": "stream",
          "name": "stdout",
          "text": [
            "Riemann sum CPU (double precision) for N = 1000000000     : 0.3413447460685729 \n",
            "Total time (measured by CPU)                              : 46.607318 s\n"
          ]
        }
      ]
    }
  ]
}
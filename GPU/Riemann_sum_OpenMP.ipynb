{
 "cells": [
  {
   "cell_type": "markdown",
   "metadata": {
    "id": "-OkNjKhmRUim"
   },
   "source": [
    "## OpenMP CPU: Riemann sum example"
   ]
  },
  {
   "cell_type": "code",
   "execution_count": null,
   "metadata": {
    "colab": {
     "base_uri": "https://localhost:8080/"
    },
    "id": "JcI3HoZ7R7L9",
    "outputId": "612eece0-b6cf-4822-f370-841ef17eb201",
    "scrolled": true
   },
   "outputs": [],
   "source": [
    "!lscpu"
   ]
  },
  {
   "cell_type": "code",
   "execution_count": null,
   "metadata": {
    "colab": {
     "base_uri": "https://localhost:8080/"
    },
    "id": "5ZUJKyHT-2gl",
    "outputId": "f05236a0-279b-44a8-b16b-c4e1abd2c8ee"
   },
   "outputs": [],
   "source": [
    "%%file riemann_openmp_cpu.c\n",
    "#include <stdio.h>\n",
    "#include <stdlib.h>\n",
    "#include <math.h>\n",
    "#include <omp.h>\n",
    "\n",
    "#define N 1000000000\n",
    "\n",
    "double riemann(int n)\n",
    "{\n",
    "  double sum = 0;\n",
    "  \n",
    "  #pragma omp parallel for reduction(+:sum)\n",
    "  for(int i = 0; i < n; ++i)\n",
    "  {\n",
    "    double x = (double) i / (double) n;\n",
    "    sum += (exp(-x * x / 2.0) + exp(-(x + 1 / (double)n) * (x + 1 / (double)n) / 2.0)) / 2.0;\n",
    "  }\n",
    "\n",
    "  sum *= (1.0 / sqrt(2.0 * M_PI)) / (double) n;\n",
    "\n",
    "  return sum;\n",
    "}\n",
    "\n",
    "int main(int argc, char** argv){\n",
    "  double start = omp_get_wtime();\n",
    "  double sum = riemann(N);\n",
    "\n",
    "  printf(\"Riemann sum OpenMP CPU (double precision) for N = %d     : %.17g \\n\", N, sum);\n",
    "  printf(\"Total time: \\t %f s\\n\", omp_get_wtime()-start);\n",
    "}"
   ]
  },
  {
   "cell_type": "code",
   "execution_count": null,
   "metadata": {
    "id": "cnodYYDl_UsP"
   },
   "outputs": [],
   "source": [
    "!g++ -O3 -Wall riemann_openmp_cpu.c -o riemann_openmp_cpu -fopenmp -lm"
   ]
  },
  {
   "cell_type": "code",
   "execution_count": null,
   "metadata": {
    "colab": {
     "base_uri": "https://localhost:8080/"
    },
    "id": "72vAauaTn9Pd",
    "outputId": "8a7541a0-93f0-4489-d39f-270335e41a41"
   },
   "outputs": [],
   "source": [
    "!OMP_NUM_THREADS=1 ./riemann_openmp_cpu"
   ]
  },
  {
   "cell_type": "code",
   "execution_count": null,
   "metadata": {
    "colab": {
     "base_uri": "https://localhost:8080/"
    },
    "id": "7TZuwer3oIA0",
    "outputId": "9b664498-3462-43ce-a4bb-b947c1e2e84e"
   },
   "outputs": [],
   "source": [
    "!OMP_NUM_THREADS=6 ./riemann_openmp_cpu"
   ]
  }
 ],
 "metadata": {
  "accelerator": "GPU",
  "colab": {
   "collapsed_sections": [],
   "name": "Riemann_sum_OpenMP.ipynb",
   "provenance": []
  },
  "kernelspec": {
   "display_name": "Python 3 (ipykernel)",
   "language": "python",
   "name": "python3"
  },
  "language_info": {
   "codemirror_mode": {
    "name": "ipython",
    "version": 3
   },
   "file_extension": ".py",
   "mimetype": "text/x-python",
   "name": "python",
   "nbconvert_exporter": "python",
   "pygments_lexer": "ipython3",
   "version": "3.9.7"
  }
 },
 "nbformat": 4,
 "nbformat_minor": 1
}

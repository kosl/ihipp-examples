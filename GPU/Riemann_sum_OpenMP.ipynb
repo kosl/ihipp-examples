{
  "nbformat": 4,
  "nbformat_minor": 0,
  "metadata": {
    "colab": {
      "name": "Riemann_sum_OpenMP.ipynb",
      "provenance": [],
      "collapsed_sections": []
    },
    "kernelspec": {
      "name": "python3",
      "display_name": "Python 3"
    },
    "accelerator": "GPU"
  },
  "cells": [
    {
      "cell_type": "markdown",
      "metadata": {
        "id": "-OkNjKhmRUim"
      },
      "source": [
        "## OpenMP CPU: Riemann sum example"
      ]
    },
    {
      "cell_type": "code",
      "metadata": {
        "colab": {
          "base_uri": "https://localhost:8080/"
        },
        "id": "JcI3HoZ7R7L9",
        "outputId": "612eece0-b6cf-4822-f370-841ef17eb201"
      },
      "source": [
        "!lscpu"
      ],
      "execution_count": 1,
      "outputs": [
        {
          "output_type": "stream",
          "name": "stdout",
          "text": [
            "Architecture:        x86_64\n",
            "CPU op-mode(s):      32-bit, 64-bit\n",
            "Byte Order:          Little Endian\n",
            "CPU(s):              2\n",
            "On-line CPU(s) list: 0,1\n",
            "Thread(s) per core:  2\n",
            "Core(s) per socket:  1\n",
            "Socket(s):           1\n",
            "NUMA node(s):        1\n",
            "Vendor ID:           GenuineIntel\n",
            "CPU family:          6\n",
            "Model:               63\n",
            "Model name:          Intel(R) Xeon(R) CPU @ 2.30GHz\n",
            "Stepping:            0\n",
            "CPU MHz:             2299.998\n",
            "BogoMIPS:            4599.99\n",
            "Hypervisor vendor:   KVM\n",
            "Virtualization type: full\n",
            "L1d cache:           32K\n",
            "L1i cache:           32K\n",
            "L2 cache:            256K\n",
            "L3 cache:            46080K\n",
            "NUMA node0 CPU(s):   0,1\n",
            "Flags:               fpu vme de pse tsc msr pae mce cx8 apic sep mtrr pge mca cmov pat pse36 clflush mmx fxsr sse sse2 ss ht syscall nx pdpe1gb rdtscp lm constant_tsc rep_good nopl xtopology nonstop_tsc cpuid tsc_known_freq pni pclmulqdq ssse3 fma cx16 pcid sse4_1 sse4_2 x2apic movbe popcnt aes xsave avx f16c rdrand hypervisor lahf_lm abm invpcid_single ssbd ibrs ibpb stibp fsgsbase tsc_adjust bmi1 avx2 smep bmi2 erms invpcid xsaveopt arat md_clear arch_capabilities\n"
          ]
        }
      ]
    },
    {
      "cell_type": "code",
      "metadata": {
        "id": "5ZUJKyHT-2gl",
        "colab": {
          "base_uri": "https://localhost:8080/"
        },
        "outputId": "f05236a0-279b-44a8-b16b-c4e1abd2c8ee"
      },
      "source": [
        "%%file riemann_openmp_cpu.c\n",
        "#include <stdio.h>\n",
        "#include <stdlib.h>\n",
        "#include <math.h>\n",
        "#include <omp.h>\n",
        "\n",
        "#define N 1000000000\n",
        "\n",
        "double riemann(int n)\n",
        "{\n",
        "  double sum = 0;\n",
        "  \n",
        "  #pragma omp parallel for reduction(+:sum)\n",
        "  for(int i = 0; i < n; ++i)\n",
        "  {\n",
        "    double x = (double) i / (double) n;\n",
        "    sum += (exp(-x * x / 2.0) + exp(-(x + 1 / (double)n) * (x + 1 / (double)n) / 2.0)) / 2.0;\n",
        "  }\n",
        "\n",
        "  sum *= (1.0 / sqrt(2.0 * M_PI)) / (double) n;\n",
        "\n",
        "  return sum;\n",
        "}\n",
        "\n",
        "int main(int argc, char** argv){\n",
        "  double start = omp_get_wtime();\n",
        "  double sum = riemann(N);\n",
        "\n",
        "  printf(\"Riemann sum OpenMP CPU (double precision) for N = %d     : %.17g \\n\", N, sum);\n",
        "  printf(\"Total time: \\t %f s\\n\", omp_get_wtime()-start);\n",
        "}"
      ],
      "execution_count": 2,
      "outputs": [
        {
          "output_type": "stream",
          "name": "stdout",
          "text": [
            "Writing riemann_openmp_cpu.c\n"
          ]
        }
      ]
    },
    {
      "cell_type": "code",
      "metadata": {
        "id": "cnodYYDl_UsP"
      },
      "source": [
        "!g++ -O3 -Wall riemann_openmp_cpu.c -o riemann_openmp_cpu -fopenmp -lm"
      ],
      "execution_count": 3,
      "outputs": []
    },
    {
      "cell_type": "code",
      "metadata": {
        "colab": {
          "base_uri": "https://localhost:8080/"
        },
        "id": "72vAauaTn9Pd",
        "outputId": "8a7541a0-93f0-4489-d39f-270335e41a41"
      },
      "source": [
        "!OMP_NUM_THREADS=1 ./riemann_openmp_cpu"
      ],
      "execution_count": 4,
      "outputs": [
        {
          "output_type": "stream",
          "name": "stdout",
          "text": [
            "Riemann sum OpenMP CPU (double precision) for N = 1000000000     : 0.3413447460685729 \n",
            "Total time: \t 41.149845 s\n"
          ]
        }
      ]
    },
    {
      "cell_type": "code",
      "metadata": {
        "colab": {
          "base_uri": "https://localhost:8080/"
        },
        "id": "7TZuwer3oIA0",
        "outputId": "9b664498-3462-43ce-a4bb-b947c1e2e84e"
      },
      "source": [
        "!OMP_NUM_THREADS=2 ./riemann_openmp_cpu"
      ],
      "execution_count": 5,
      "outputs": [
        {
          "output_type": "stream",
          "name": "stdout",
          "text": [
            "Riemann sum OpenMP CPU (double precision) for N = 1000000000     : 0.34134474606856957 \n",
            "Total time: \t 32.113645 s\n"
          ]
        }
      ]
    }
  ]
}
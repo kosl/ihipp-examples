{
 "cells": [
  {
   "cell_type": "code",
   "execution_count": 1,
   "metadata": {},
   "outputs": [],
   "source": [
    "%%sh \n",
    "cat > riemann_openmp_gpu.c << EOF\n",
    "#include <stdio.h>\n",
    "#include <stdlib.h>\n",
    "#include <math.h>\n",
    "#include <omp.h>\n",
    "\n",
    "#define N 1000000000\n",
    "\n",
    "double riemann(int n)\n",
    "{\n",
    "  double sum = 0;\n",
    "  \n",
    "  #pragma omp target teams distribute parallel for simd map(tofrom: sum) map(to: n) reduction(+:sum)\n",
    "  for(int i = 0; i < n; ++i)\n",
    "  {\n",
    "    double x = (double) i / (double) n;\n",
    "    sum += (exp(-x * x / 2.0) + exp(-(x + 1 / (double)n) * (x + 1 / (double)n) / 2.0)) / 2.0;\n",
    "  }\n",
    "\n",
    "  sum *= (1.0 / sqrt(2.0 * M_PI)) / (double) n;\n",
    "\n",
    "  return sum;\n",
    "}\n",
    "\n",
    "int main(int argc, char** argv){\n",
    "  double start = omp_get_wtime();\n",
    "  double sum = riemann(N);\n",
    "\n",
    "  printf(\"Riemann sum OpenMP GPU (double precision) for N = %d     : %.17g \\n\", N, sum);\n",
    "  printf(\"Total time: \\t %f s\\n\", omp_get_wtime()-start);\n",
    "}\n",
    "EOF"
   ]
  },
  {
   "cell_type": "code",
   "execution_count": 2,
   "metadata": {},
   "outputs": [],
   "source": [
    "!g++ -O3 -Wall riemann_openmp_gpu.c -o riemann_openmp_gpu -fopenmp -foffload=-lm -fno-stack-protector"
   ]
  },
  {
   "cell_type": "code",
   "execution_count": 3,
   "metadata": {},
   "outputs": [
    {
     "name": "stdout",
     "output_type": "stream",
     "text": [
      "Riemann sum OpenMP GPU (double precision) for N = 1000000000     : 0.3413447460685432 \r\n",
      "Total time: \t 5.246176 s\r\n"
     ]
    }
   ],
   "source": [
    "!./riemann_openmp_gpu"
   ]
  }
 ],
 "metadata": {
  "kernelspec": {
   "display_name": "Python 3",
   "language": "python",
   "name": "python3"
  },
  "language_info": {
   "codemirror_mode": {
    "name": "ipython",
    "version": 3
   },
   "file_extension": ".py",
   "mimetype": "text/x-python",
   "name": "python",
   "nbconvert_exporter": "python",
   "pygments_lexer": "ipython3",
   "version": "3.7.6"
  }
 },
 "nbformat": 4,
 "nbformat_minor": 4
}

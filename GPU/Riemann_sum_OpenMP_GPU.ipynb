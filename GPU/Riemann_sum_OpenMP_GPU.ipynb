{
  "nbformat": 4,
  "nbformat_minor": 0,
  "metadata": {
    "colab": {
      "name": "OpenMP-GPU.ipynb",
      "provenance": [],
      "collapsed_sections": []
    },
    "kernelspec": {
      "name": "python3",
      "display_name": "Python 3"
    },
    "language_info": {
      "name": "python"
    },
    "accelerator": "GPU"
  },
  "cells": [
    {
      "cell_type": "markdown",
      "metadata": {
        "id": "W0v920wRFemq"
      },
      "source": [
        "# OpenMP 4.5 GPU example"
      ]
    },
    {
      "cell_type": "code",
      "metadata": {
        "colab": {
          "base_uri": "https://localhost:8080/"
        },
        "id": "rHgd7i42-dOV",
        "outputId": "3f445867-02ee-45aa-d959-4e7c03e53452"
      },
      "source": [
        "!apt-cache search nvptx"
      ],
      "execution_count": 1,
      "outputs": [
        {
          "output_type": "stream",
          "name": "stdout",
          "text": [
            "gcc-7-offload-nvptx - GCC offloading compiler to NVPTX\n",
            "gcc-8-offload-nvptx - GCC offloading compiler to NVPTX\n",
            "gcc-offload-nvptx - GCC offloading compiler to NVPTX\n",
            "libgomp-plugin-nvptx1 - GCC OpenMP v4.5 plugin for offloading to NVPTX\n",
            "nvptx-tools - collection of tools for use with nvptx-none GCC toolchains\n"
          ]
        }
      ]
    },
    {
      "cell_type": "code",
      "metadata": {
        "colab": {
          "base_uri": "https://localhost:8080/"
        },
        "id": "s2d1npUS-pSX",
        "outputId": "5d243018-585d-44b2-b97b-b1ea854bcf3d"
      },
      "source": [
        "!apt-get install gcc-8-offload-nvptx  libgomp-plugin-nvptx1 "
      ],
      "execution_count": 2,
      "outputs": [
        {
          "output_type": "stream",
          "name": "stdout",
          "text": [
            "Reading package lists... Done\n",
            "Building dependency tree       \n",
            "Reading state information... Done\n",
            "The following additional packages will be installed:\n",
            "  cpp-8 gcc-8 libasan5 libgcc-8-dev libubsan1 nvptx-tools\n",
            "Suggested packages:\n",
            "  gcc-8-locales gcc-8-multilib gcc-8-doc libgcc1-dbg libgomp1-dbg libitm1-dbg\n",
            "  libatomic1-dbg libasan5-dbg liblsan0-dbg libtsan0-dbg libubsan1-dbg\n",
            "  libmpx2-dbg libquadmath0-dbg nvidia-cuda-toolkit\n",
            "The following NEW packages will be installed:\n",
            "  cpp-8 gcc-8 gcc-8-offload-nvptx libasan5 libgcc-8-dev libgomp-plugin-nvptx1\n",
            "  libubsan1 nvptx-tools\n",
            "0 upgraded, 8 newly installed, 0 to remove and 37 not upgraded.\n",
            "Need to get 25.8 MB of archives.\n",
            "After this operation, 122 MB of additional disk space will be used.\n",
            "Get:1 http://archive.ubuntu.com/ubuntu bionic-updates/universe amd64 cpp-8 amd64 8.4.0-1ubuntu1~18.04 [7,225 kB]\n",
            "Get:2 http://archive.ubuntu.com/ubuntu bionic-updates/main amd64 libasan5 amd64 8.4.0-1ubuntu1~18.04 [366 kB]\n",
            "Get:3 http://archive.ubuntu.com/ubuntu bionic-updates/main amd64 libubsan1 amd64 8.4.0-1ubuntu1~18.04 [122 kB]\n",
            "Get:4 http://archive.ubuntu.com/ubuntu bionic-updates/main amd64 libgcc-8-dev amd64 8.4.0-1ubuntu1~18.04 [2,305 kB]\n",
            "Get:5 http://archive.ubuntu.com/ubuntu bionic-updates/universe amd64 gcc-8 amd64 8.4.0-1ubuntu1~18.04 [8,044 kB]\n",
            "Get:6 http://archive.ubuntu.com/ubuntu bionic/universe amd64 nvptx-tools amd64 0.20180301-1 [27.8 kB]\n",
            "Get:7 http://archive.ubuntu.com/ubuntu bionic-updates/universe amd64 libgomp-plugin-nvptx1 amd64 8.4.0-1ubuntu1~18.04 [13.4 kB]\n",
            "Get:8 http://archive.ubuntu.com/ubuntu bionic-updates/universe amd64 gcc-8-offload-nvptx amd64 8.4.0-1ubuntu1~18.04 [7,681 kB]\n",
            "Fetched 25.8 MB in 2s (11.9 MB/s)\n",
            "Selecting previously unselected package cpp-8.\n",
            "(Reading database ... 155222 files and directories currently installed.)\n",
            "Preparing to unpack .../0-cpp-8_8.4.0-1ubuntu1~18.04_amd64.deb ...\n",
            "Unpacking cpp-8 (8.4.0-1ubuntu1~18.04) ...\n",
            "Selecting previously unselected package libasan5:amd64.\n",
            "Preparing to unpack .../1-libasan5_8.4.0-1ubuntu1~18.04_amd64.deb ...\n",
            "Unpacking libasan5:amd64 (8.4.0-1ubuntu1~18.04) ...\n",
            "Selecting previously unselected package libubsan1:amd64.\n",
            "Preparing to unpack .../2-libubsan1_8.4.0-1ubuntu1~18.04_amd64.deb ...\n",
            "Unpacking libubsan1:amd64 (8.4.0-1ubuntu1~18.04) ...\n",
            "Selecting previously unselected package libgcc-8-dev:amd64.\n",
            "Preparing to unpack .../3-libgcc-8-dev_8.4.0-1ubuntu1~18.04_amd64.deb ...\n",
            "Unpacking libgcc-8-dev:amd64 (8.4.0-1ubuntu1~18.04) ...\n",
            "Selecting previously unselected package gcc-8.\n",
            "Preparing to unpack .../4-gcc-8_8.4.0-1ubuntu1~18.04_amd64.deb ...\n",
            "Unpacking gcc-8 (8.4.0-1ubuntu1~18.04) ...\n",
            "Selecting previously unselected package nvptx-tools.\n",
            "Preparing to unpack .../5-nvptx-tools_0.20180301-1_amd64.deb ...\n",
            "Unpacking nvptx-tools (0.20180301-1) ...\n",
            "Selecting previously unselected package libgomp-plugin-nvptx1:amd64.\n",
            "Preparing to unpack .../6-libgomp-plugin-nvptx1_8.4.0-1ubuntu1~18.04_amd64.deb ...\n",
            "Unpacking libgomp-plugin-nvptx1:amd64 (8.4.0-1ubuntu1~18.04) ...\n",
            "Selecting previously unselected package gcc-8-offload-nvptx.\n",
            "Preparing to unpack .../7-gcc-8-offload-nvptx_8.4.0-1ubuntu1~18.04_amd64.deb ...\n",
            "Unpacking gcc-8-offload-nvptx (8.4.0-1ubuntu1~18.04) ...\n",
            "Setting up cpp-8 (8.4.0-1ubuntu1~18.04) ...\n",
            "Setting up nvptx-tools (0.20180301-1) ...\n",
            "Setting up libgomp-plugin-nvptx1:amd64 (8.4.0-1ubuntu1~18.04) ...\n",
            "Setting up libasan5:amd64 (8.4.0-1ubuntu1~18.04) ...\n",
            "Setting up libubsan1:amd64 (8.4.0-1ubuntu1~18.04) ...\n",
            "Setting up libgcc-8-dev:amd64 (8.4.0-1ubuntu1~18.04) ...\n",
            "Setting up gcc-8 (8.4.0-1ubuntu1~18.04) ...\n",
            "Setting up gcc-8-offload-nvptx (8.4.0-1ubuntu1~18.04) ...\n",
            "Processing triggers for man-db (2.8.3-2ubuntu0.1) ...\n",
            "Processing triggers for libc-bin (2.27-3ubuntu1.3) ...\n",
            "/sbin/ldconfig.real: /usr/local/lib/python3.7/dist-packages/ideep4py/lib/libmkldnn.so.0 is not a symbolic link\n",
            "\n"
          ]
        }
      ]
    },
    {
      "cell_type": "code",
      "metadata": {
        "colab": {
          "base_uri": "https://localhost:8080/"
        },
        "id": "bWstIpo8-zNp",
        "outputId": "737aebc1-1818-49e3-cc0f-d9601545b576"
      },
      "source": [
        "%%file riemann_openmp_gpu.c\n",
        "#include <stdio.h>\n",
        "#include <stdlib.h>\n",
        "#include <math.h>\n",
        "#include <omp.h>\n",
        "\n",
        "#define N 1000000000\n",
        "\n",
        "double riemann(int n)\n",
        "{\n",
        "  double sum = 0;\n",
        "  \n",
        "  #pragma omp target teams distribute parallel for simd map(tofrom: sum) map(to: n) reduction(+:sum)\n",
        "  for(int i = 0; i < n; ++i)\n",
        "  {\n",
        "    double x = (double) i / (double) n;\n",
        "    sum += (exp(-x * x / 2.0) + exp(-(x + 1 / (double)n) * (x + 1 / (double)n) / 2.0)) / 2.0;\n",
        "  }\n",
        "\n",
        "  sum *= (1.0 / sqrt(2.0 * M_PI)) / (double) n;\n",
        "\n",
        "  return sum;\n",
        "}\n",
        "\n",
        "int main(int argc, char** argv){\n",
        "  double start = omp_get_wtime();\n",
        "  double sum = riemann(N);\n",
        "\n",
        "  printf(\"Riemann sum OpenMP GPU (double precision) for N = %d     : %.17g \\n\", N, sum);\n",
        "  printf(\"Total time: \\t %f s\\n\", omp_get_wtime()-start);\n",
        "}"
      ],
      "execution_count": 3,
      "outputs": [
        {
          "output_type": "stream",
          "name": "stdout",
          "text": [
            "Writing riemann_openmp_gpu.c\n"
          ]
        }
      ]
    },
    {
      "cell_type": "code",
      "metadata": {
        "colab": {
          "base_uri": "https://localhost:8080/"
        },
        "id": "QD-yBJGtEvWp",
        "outputId": "5dbc690e-da69-48e7-b577-0df83dee5079"
      },
      "source": [
        "!find / -name nvcc"
      ],
      "execution_count": 4,
      "outputs": [
        {
          "output_type": "stream",
          "name": "stdout",
          "text": [
            "find: ‘/proc/30/task/30/net’: Invalid argument\n",
            "find: ‘/proc/30/net’: Invalid argument\n",
            "/usr/local/cuda-10.0/bin/nvcc\n",
            "/usr/local/cuda-10.1/bin/nvcc\n",
            "/usr/local/cuda-11.1/bin/nvcc\n",
            "/usr/local/cuda-11.0/bin/nvcc\n"
          ]
        }
      ]
    },
    {
      "cell_type": "code",
      "metadata": {
        "id": "ApaLc0IP_BQf"
      },
      "source": [
        "!PATH=/usr/local/cuda-10.1/bin:${PATH} gcc-8 -O3 -Wall riemann_openmp_gpu.c -o riemann_openmp_gpu -fopenmp -foffload=-lm -fno-stack-protector -lm"
      ],
      "execution_count": 5,
      "outputs": []
    },
    {
      "cell_type": "code",
      "metadata": {
        "colab": {
          "base_uri": "https://localhost:8080/"
        },
        "id": "DwN0pTox_Kp4",
        "outputId": "4572d618-e6d2-4bcb-b83d-64a818cf5b75"
      },
      "source": [
        "!./riemann_openmp_gpu"
      ],
      "execution_count": 8,
      "outputs": [
        {
          "output_type": "stream",
          "name": "stdout",
          "text": [
            "Riemann sum OpenMP GPU (double precision) for N = 1000000000     : 0.34134474606854326 \n",
            "Total time: \t 0.928782 s\n"
          ]
        }
      ]
    },
    {
      "cell_type": "code",
      "metadata": {
        "id": "GxMZHwGuE_Ym",
        "colab": {
          "base_uri": "https://localhost:8080/"
        },
        "outputId": "7216de34-b771-4ef4-b55d-c5fbbd916454"
      },
      "source": [
        "!nvprof ./riemann_openmp_gpu"
      ],
      "execution_count": 9,
      "outputs": [
        {
          "output_type": "stream",
          "name": "stdout",
          "text": [
            "==494== NVPROF is profiling process 494, command: ./riemann_openmp_gpu\n",
            "==494== Warning: Auto boost enabled on device 0. Profiling results may be inconsistent.\n",
            "==494== Warning: Profiling results might be incorrect with current version of nvcc compiler used to compile cuda app. Compile with nvcc compiler 9.0 or later version to get correct profiling results. Ignore this warning if code is already compiled with the recommended nvcc version \n",
            "Riemann sum OpenMP GPU (double precision) for N = 1000000000     : 0.3413447460685432 \n",
            "Total time: \t 1.141155 s\n",
            "==494== Profiling application: ./riemann_openmp_gpu\n",
            "==494== Profiling result:\n",
            "            Type  Time(%)      Time     Calls       Avg       Min       Max  Name\n",
            " GPU activities:  100.00%  779.14ms         1  779.14ms  779.14ms  779.14ms  riemann$_omp_fn$0\n",
            "                    0.00%  4.2560us         1  4.2560us  4.2560us  4.2560us  [CUDA memcpy DtoH]\n",
            "                    0.00%  1.9200us         1  1.9200us  1.9200us  1.9200us  [CUDA memcpy HtoD]\n",
            "      API calls:   74.99%  779.16ms         1  779.16ms  779.16ms  779.16ms  cuCtxSynchronize\n",
            "                   16.95%  176.10ms         1  176.10ms  176.10ms  176.10ms  cuCtxCreate\n",
            "                    5.08%  52.745ms         1  52.745ms  52.745ms  52.745ms  cuCtxDestroy\n",
            "                    1.24%  12.882ms         2  6.4409ms  345.64us  12.536ms  cuMemFree\n",
            "                    0.86%  8.9161ms         1  8.9161ms  8.9161ms  8.9161ms  cuModuleLoadData\n",
            "                    0.48%  5.0204ms        44  114.10us  31.890us  1.1902ms  cuLinkAddData\n",
            "                    0.17%  1.7763ms         1  1.7763ms  1.7763ms  1.7763ms  cuLinkComplete\n",
            "                    0.07%  751.02us         1  751.02us  751.02us  751.02us  cuLaunchKernel\n",
            "                    0.06%  605.96us         1  605.96us  605.96us  605.96us  cuMemAllocHost\n",
            "                    0.04%  431.42us         2  215.71us  154.38us  277.05us  cuMemAlloc\n",
            "                    0.03%  301.95us         1  301.95us  301.95us  301.95us  cuMemFreeHost\n",
            "                    0.01%  132.68us        14  9.4760us     175ns  126.40us  cuDeviceGetAttribute\n",
            "                    0.00%  43.390us         1  43.390us  43.390us  43.390us  cuMemcpyDtoH\n",
            "                    0.00%  40.096us         1  40.096us  40.096us  40.096us  cuLinkCreate\n",
            "                    0.00%  17.193us         7  2.4560us     228ns  12.727us  cuCtxGetDevice\n",
            "                    0.00%  16.604us         1  16.604us  16.604us  16.604us  cuMemcpyHtoD\n",
            "                    0.00%  5.5410us         1  5.5410us  5.5410us  5.5410us  cuDeviceGetPCIBusId\n",
            "                    0.00%  3.0940us         3  1.0310us     355ns  1.6940us  cuMemGetAddressRange\n",
            "                    0.00%  2.2360us         1  2.2360us  2.2360us  2.2360us  cuInit\n",
            "                    0.00%  2.0160us         4     504ns     172ns     877ns  cuDeviceGetCount\n",
            "                    0.00%  1.7690us         1  1.7690us  1.7690us  1.7690us  cuLinkDestroy\n",
            "                    0.00%  1.5730us         2     786ns     489ns  1.0840us  cuDeviceGet\n",
            "                    0.00%  1.1500us         1  1.1500us  1.1500us  1.1500us  cuModuleGetFunction\n",
            "                    0.00%  1.1100us         2     555ns     336ns     774ns  cuFuncGetAttribute\n",
            "                    0.00%  1.0960us         1  1.0960us  1.0960us  1.0960us  cuMemHostGetDevicePointer\n",
            "                    0.00%     780ns         1     780ns     780ns     780ns  cuModuleGetGlobal\n",
            "                    0.00%     621ns         1     621ns     621ns     621ns  cuCtxGetCurrent\n"
          ]
        }
      ]
    }
  ]
}
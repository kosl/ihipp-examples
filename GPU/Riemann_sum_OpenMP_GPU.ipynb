{
  "nbformat": 4,
  "nbformat_minor": 0,
  "metadata": {
    "colab": {
      "name": "OpenMP-GPU.ipynb",
      "provenance": [],
      "collapsed_sections": []
    },
    "kernelspec": {
      "name": "python3",
      "display_name": "Python 3"
    },
    "language_info": {
      "name": "python"
    },
    "accelerator": "GPU"
  },
  "cells": [
    {
      "cell_type": "markdown",
      "metadata": {
        "id": "W0v920wRFemq"
      },
      "source": [
        "# OpenMP 4.5 GPU example"
      ]
    },
    {
      "cell_type": "code",
      "metadata": {
        "colab": {
          "base_uri": "https://localhost:8080/"
        },
        "id": "rHgd7i42-dOV",
        "outputId": "01e196da-41e4-4590-f167-ace6828ec7dd"
      },
      "source": [
        "!apt-cache search nvptx"
      ],
      "execution_count": 1,
      "outputs": [
        {
          "output_type": "stream",
          "name": "stdout",
          "text": [
            "gcc-7-offload-nvptx - GCC offloading compiler to NVPTX\n",
            "gcc-8-offload-nvptx - GCC offloading compiler to NVPTX\n",
            "gcc-offload-nvptx - GCC offloading compiler to NVPTX\n",
            "libgomp-plugin-nvptx1 - GCC OpenMP v4.5 plugin for offloading to NVPTX\n",
            "nvptx-tools - collection of tools for use with nvptx-none GCC toolchains\n"
          ]
        }
      ]
    },
    {
      "cell_type": "code",
      "metadata": {
        "colab": {
          "base_uri": "https://localhost:8080/"
        },
        "id": "s2d1npUS-pSX",
        "outputId": "efa0156e-c0d1-4534-e00b-159fcf91971f"
      },
      "source": [
        "!apt-get install gcc-8-offload-nvptx  libgomp-plugin-nvptx1 "
      ],
      "execution_count": 2,
      "outputs": [
        {
          "output_type": "stream",
          "name": "stdout",
          "text": [
            "Reading package lists... Done\n",
            "Building dependency tree       \n",
            "Reading state information... Done\n",
            "gcc-8-offload-nvptx is already the newest version (8.4.0-1ubuntu1~18.04).\n",
            "libgomp-plugin-nvptx1 is already the newest version (8.4.0-1ubuntu1~18.04).\n",
            "0 upgraded, 0 newly installed, 0 to remove and 37 not upgraded.\n"
          ]
        }
      ]
    },
    {
      "cell_type": "code",
      "metadata": {
        "colab": {
          "base_uri": "https://localhost:8080/"
        },
        "id": "bWstIpo8-zNp",
        "outputId": "a4848adb-fd13-47ff-dea4-bd84f5d20aa1"
      },
      "source": [
        "%%file riemann_openmp_gpu.c\n",
        "#include <stdio.h>\n",
        "#include <stdlib.h>\n",
        "#include <math.h>\n",
        "#include <omp.h>\n",
        "\n",
        "#define N 1000000000\n",
        "\n",
        "double riemann(int n)\n",
        "{\n",
        "  double sum = 0;\n",
        "  \n",
        "  #pragma omp target teams distribute parallel for simd map(tofrom: sum) map(to: n) reduction(+:sum)\n",
        "  for(int i = 0; i < n; ++i)\n",
        "  {\n",
        "    double x = (double) i / (double) n;\n",
        "    sum += (exp(-x * x / 2.0) + exp(-(x + 1 / (double)n) * (x + 1 / (double)n) / 2.0)) / 2.0;\n",
        "  }\n",
        "\n",
        "  sum *= (1.0 / sqrt(2.0 * M_PI)) / (double) n;\n",
        "\n",
        "  return sum;\n",
        "}\n",
        "\n",
        "int main(int argc, char** argv){\n",
        "  double start = omp_get_wtime();\n",
        "  double sum = riemann(N);\n",
        "\n",
        "  printf(\"Riemann sum OpenMP GPU (double precision) for N = %d     : %.17g \\n\", N, sum);\n",
        "  printf(\"Total time: \\t %f s\\n\", omp_get_wtime()-start);\n",
        "}"
      ],
      "execution_count": 3,
      "outputs": [
        {
          "output_type": "stream",
          "name": "stdout",
          "text": [
            "Overwriting riemann_openmp_gpu.c\n"
          ]
        }
      ]
    },
    {
      "cell_type": "code",
      "metadata": {
        "colab": {
          "base_uri": "https://localhost:8080/"
        },
        "id": "QD-yBJGtEvWp",
        "outputId": "fccf831a-c263-4bdb-eefe-abe5f4fffaef"
      },
      "source": [
        "!find / -name nvcc"
      ],
      "execution_count": 4,
      "outputs": [
        {
          "output_type": "stream",
          "name": "stdout",
          "text": [
            "/usr/local/cuda-11.1/bin/nvcc\n",
            "/usr/local/cuda-10.1/bin/nvcc\n",
            "/usr/local/cuda-10.0/bin/nvcc\n",
            "/usr/local/cuda-11.0/bin/nvcc\n"
          ]
        }
      ]
    },
    {
      "cell_type": "code",
      "metadata": {
        "id": "ApaLc0IP_BQf"
      },
      "source": [
        "!PATH=/usr/local/cuda-10.1/bin:${PATH} gcc-8 -O3 -Wall riemann_openmp_gpu.c -o riemann_openmp_gpu -fopenmp -foffload=-lm -fno-stack-protector -lm"
      ],
      "execution_count": 5,
      "outputs": []
    },
    {
      "cell_type": "code",
      "metadata": {
        "colab": {
          "base_uri": "https://localhost:8080/"
        },
        "id": "DwN0pTox_Kp4",
        "outputId": "d9236fe2-54c4-4920-aec2-fb9ba5e297bd"
      },
      "source": [
        "!./riemann_openmp_gpu"
      ],
      "execution_count": 6,
      "outputs": [
        {
          "output_type": "stream",
          "name": "stdout",
          "text": [
            "Riemann sum OpenMP GPU (double precision) for N = 1000000000     : 0.34134474606854309 \n",
            "Total time: \t 0.921027 s\n"
          ]
        }
      ]
    },
    {
      "cell_type": "code",
      "metadata": {
        "id": "GxMZHwGuE_Ym",
        "colab": {
          "base_uri": "https://localhost:8080/"
        },
        "outputId": "03650afb-eae3-4249-8f88-5ffad0611b29"
      },
      "source": [
        "!nvprof ./riemann_openmp_gpu"
      ],
      "execution_count": 7,
      "outputs": [
        {
          "output_type": "stream",
          "name": "stdout",
          "text": [
            "==570== NVPROF is profiling process 570, command: ./riemann_openmp_gpu\n",
            "==570== Warning: Auto boost enabled on device 0. Profiling results may be inconsistent.\n",
            "==570== Warning: Profiling results might be incorrect with current version of nvcc compiler used to compile cuda app. Compile with nvcc compiler 9.0 or later version to get correct profiling results. Ignore this warning if code is already compiled with the recommended nvcc version \n",
            "Riemann sum OpenMP GPU (double precision) for N = 1000000000     : 0.3413447460685432 \n",
            "Total time: \t 1.094383 s\n",
            "==570== Profiling application: ./riemann_openmp_gpu\n",
            "==570== Profiling result:\n",
            "            Type  Time(%)      Time     Calls       Avg       Min       Max  Name\n",
            " GPU activities:  100.00%  719.70ms         1  719.70ms  719.70ms  719.70ms  riemann$_omp_fn$0\n",
            "                    0.00%  3.6480us         1  3.6480us  3.6480us  3.6480us  [CUDA memcpy DtoH]\n",
            "                    0.00%  1.9520us         1  1.9520us  1.9520us  1.9520us  [CUDA memcpy HtoD]\n",
            "      API calls:   72.41%  719.72ms         1  719.72ms  719.72ms  719.72ms  cuCtxSynchronize\n",
            "                   19.37%  192.51ms         1  192.51ms  192.51ms  192.51ms  cuCtxCreate\n",
            "                    5.65%  56.183ms         1  56.183ms  56.183ms  56.183ms  cuCtxDestroy\n",
            "                    0.92%  9.1318ms         2  4.5659ms  296.02us  8.8358ms  cuMemFree\n",
            "                    0.86%  8.5133ms         1  8.5133ms  8.5133ms  8.5133ms  cuModuleLoadData\n",
            "                    0.43%  4.2523ms        44  96.643us  28.750us  1.2263ms  cuLinkAddData\n",
            "                    0.10%  947.49us         1  947.49us  947.49us  947.49us  cuLinkComplete\n",
            "                    0.09%  849.40us         1  849.40us  849.40us  849.40us  cuLaunchKernel\n",
            "                    0.07%  681.62us         1  681.62us  681.62us  681.62us  cuMemAllocHost\n",
            "                    0.05%  454.19us         2  227.10us  161.87us  292.32us  cuMemAlloc\n",
            "                    0.04%  441.69us         1  441.69us  441.69us  441.69us  cuMemFreeHost\n",
            "                    0.01%  108.86us        14  7.7750us     174ns  102.70us  cuDeviceGetAttribute\n",
            "                    0.01%  60.108us         1  60.108us  60.108us  60.108us  cuMemcpyDtoH\n",
            "                    0.00%  37.248us         1  37.248us  37.248us  37.248us  cuLinkCreate\n",
            "                    0.00%  15.460us         1  15.460us  15.460us  15.460us  cuMemcpyHtoD\n",
            "                    0.00%  6.9490us         1  6.9490us  6.9490us  6.9490us  cuDeviceGetPCIBusId\n",
            "                    0.00%  6.1450us         1  6.1450us  6.1450us  6.1450us  cuMemHostGetDevicePointer\n",
            "                    0.00%  4.6710us         7     667ns     278ns  1.3190us  cuCtxGetDevice\n",
            "                    0.00%  2.9880us         4     747ns     266ns  1.4790us  cuDeviceGetCount\n",
            "                    0.00%  2.9680us         3     989ns     386ns  1.6170us  cuMemGetAddressRange\n",
            "                    0.00%  1.9460us         1  1.9460us  1.9460us  1.9460us  cuLinkDestroy\n",
            "                    0.00%  1.7430us         2     871ns     454ns  1.2890us  cuDeviceGet\n",
            "                    0.00%  1.6360us         1  1.6360us  1.6360us  1.6360us  cuInit\n",
            "                    0.00%  1.1310us         1  1.1310us  1.1310us  1.1310us  cuModuleGetGlobal\n",
            "                    0.00%  1.0550us         1  1.0550us  1.0550us  1.0550us  cuModuleGetFunction\n",
            "                    0.00%  1.0380us         2     519ns     331ns     707ns  cuFuncGetAttribute\n",
            "                    0.00%     695ns         1     695ns     695ns     695ns  cuCtxGetCurrent\n"
          ]
        }
      ]
    },
    {
      "cell_type": "code",
      "metadata": {
        "id": "u-ezQEXTOlxH"
      },
      "source": [
        ""
      ],
      "execution_count": 7,
      "outputs": []
    }
  ]
}
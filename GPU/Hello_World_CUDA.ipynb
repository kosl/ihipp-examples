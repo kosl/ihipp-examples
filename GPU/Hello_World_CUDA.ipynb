{
  "nbformat": 4,
  "nbformat_minor": 0,
  "metadata": {
    "colab": {
      "name": "Hello_World_CUDA.ipynb",
      "provenance": [],
      "collapsed_sections": []
    },
    "kernelspec": {
      "name": "python3",
      "display_name": "Python 3"
    },
    "accelerator": "GPU"
  },
  "cells": [
    {
      "cell_type": "markdown",
      "metadata": {
        "id": "-OkNjKhmRUim"
      },
      "source": [
        "##**Hello world CUDA example**\n",
        "\n",
        "\n",
        "Let's create our first CUDA program. Modify this skeleton to write a minimal CUDA program to:\n",
        "\n",
        "- define 2 blocks with 4 threads each\n",
        "- print the \"Hello World\" message to reflect also information on the thread number from each block (hint: use the built-in variable ```threadIdx.x```)\n",
        "\n"
      ]
    },
    {
      "cell_type": "code",
      "metadata": {
        "colab": {
          "base_uri": "https://localhost:8080/"
        },
        "id": "i-H2vP1ZMuKS",
        "outputId": "fb3a7e54-1373-4ed3-95a8-70f36f74b63b"
      },
      "source": [
        "!nvidia-smi"
      ],
      "execution_count": 1,
      "outputs": [
        {
          "output_type": "stream",
          "text": [
            "Mon Jul 12 14:56:06 2021       \n",
            "+-----------------------------------------------------------------------------+\n",
            "| NVIDIA-SMI 470.42.01    Driver Version: 460.32.03    CUDA Version: 11.2     |\n",
            "|-------------------------------+----------------------+----------------------+\n",
            "| GPU  Name        Persistence-M| Bus-Id        Disp.A | Volatile Uncorr. ECC |\n",
            "| Fan  Temp  Perf  Pwr:Usage/Cap|         Memory-Usage | GPU-Util  Compute M. |\n",
            "|                               |                      |               MIG M. |\n",
            "|===============================+======================+======================|\n",
            "|   0  Tesla T4            Off  | 00000000:00:04.0 Off |                    0 |\n",
            "| N/A   49C    P8     9W /  70W |      0MiB / 15109MiB |      0%      Default |\n",
            "|                               |                      |                  N/A |\n",
            "+-------------------------------+----------------------+----------------------+\n",
            "                                                                               \n",
            "+-----------------------------------------------------------------------------+\n",
            "| Processes:                                                                  |\n",
            "|  GPU   GI   CI        PID   Type   Process name                  GPU Memory |\n",
            "|        ID   ID                                                   Usage      |\n",
            "|=============================================================================|\n",
            "|  No running processes found                                                 |\n",
            "+-----------------------------------------------------------------------------+\n"
          ],
          "name": "stdout"
        }
      ]
    },
    {
      "cell_type": "code",
      "metadata": {
        "id": "MUKG-RytoEO3"
      },
      "source": [
        " %%sh \n",
        "cat > hello.cu << EOF\n",
        "#include <stdio.h>\n",
        " \n",
        "#define NUM_BLOCKS 4\n",
        "#define BLOCK_SIZE 1\n",
        " \n",
        "__global__ void hello()\n",
        "{\n",
        "    int idx = blockIdx.x;\n",
        "    printf(\"Hello world! I'm a thread in block %d\\n\", idx);\n",
        "}\n",
        " \n",
        " \n",
        "int main(int argc,char **argv)\n",
        "{\n",
        "    // launch the kernel\n",
        "    hello<<<NUM_BLOCKS, BLOCK_SIZE>>>();\n",
        " \n",
        "    // force the printf()s to flush\n",
        "    cudaDeviceSynchronize();\n",
        " \n",
        "    printf(\"That's all!\\n\");\n",
        " \n",
        "    return 0;\n",
        "}\n",
        "EOF"
      ],
      "execution_count": 2,
      "outputs": []
    },
    {
      "cell_type": "code",
      "metadata": {
        "id": "P5iKD5xxoVvl",
        "colab": {
          "base_uri": "https://localhost:8080/"
        },
        "outputId": "0fe0d675-7933-4ac3-c5a3-071412875283"
      },
      "source": [
        " !nvcc -o hello_cuda hello.cu && ./hello_cuda"
      ],
      "execution_count": 3,
      "outputs": [
        {
          "output_type": "stream",
          "text": [
            "Hello world! I'm a thread in block 1\n",
            "Hello world! I'm a thread in block 3\n",
            "Hello world! I'm a thread in block 2\n",
            "Hello world! I'm a thread in block 0\n",
            "That's all!\n"
          ],
          "name": "stdout"
        }
      ]
    },
    {
      "cell_type": "markdown",
      "metadata": {
        "id": "LQC4dGbIK3t3"
      },
      "source": [
        "You can compare with our solution:"
      ]
    },
    {
      "cell_type": "code",
      "metadata": {
        "id": "TMh8j_oLLB-K"
      },
      "source": [
        " %%sh \n",
        "cat > hello_exercise.cu << EOF\n",
        "#include <stdio.h>\n",
        " \n",
        "#define NUM_BLOCKS 2\n",
        "#define BLOCK_SIZE 4\n",
        " \n",
        "__global__ void hello()\n",
        "{\n",
        "    int bidx = blockIdx.x;\n",
        "    int tidx = threadIdx.x;\n",
        "    printf(\"Hello world! I'm a thread %d in block %d\\n\", tidx, bidx);\n",
        "}\n",
        " \n",
        " \n",
        "int main(int argc,char **argv)\n",
        "{\n",
        "    // launch the kernel\n",
        "    hello<<<NUM_BLOCKS, BLOCK_SIZE>>>();\n",
        " \n",
        "    // force the printf()s to flush\n",
        "    cudaDeviceSynchronize();\n",
        " \n",
        "    printf(\"That's all!\\n\");\n",
        " \n",
        "    return 0;\n",
        "}\n",
        "EOF"
      ],
      "execution_count": 4,
      "outputs": []
    },
    {
      "cell_type": "code",
      "metadata": {
        "id": "-wgRQB5KLU5T",
        "colab": {
          "base_uri": "https://localhost:8080/"
        },
        "outputId": "113baf47-1527-45a9-9c50-5d07e3f016d5"
      },
      "source": [
        " !nvcc -o hello_cuda_exercise hello_exercise.cu && ./hello_cuda_exercise"
      ],
      "execution_count": 5,
      "outputs": [
        {
          "output_type": "stream",
          "text": [
            "Hello world! I'm a thread 0 in block 1\n",
            "Hello world! I'm a thread 1 in block 1\n",
            "Hello world! I'm a thread 2 in block 1\n",
            "Hello world! I'm a thread 3 in block 1\n",
            "Hello world! I'm a thread 0 in block 0\n",
            "Hello world! I'm a thread 1 in block 0\n",
            "Hello world! I'm a thread 2 in block 0\n",
            "Hello world! I'm a thread 3 in block 0\n",
            "That's all!\n"
          ],
          "name": "stdout"
        }
      ]
    }
  ]
}
{
  "nbformat": 4,
  "nbformat_minor": 0,
  "metadata": {
    "colab": {
      "name": "Hello_World_CUDA.ipynb",
      "provenance": [],
      "collapsed_sections": []
    },
    "kernelspec": {
      "name": "python3",
      "display_name": "Python 3"
    },
    "accelerator": "GPU"
  },
  "cells": [
    {
      "cell_type": "markdown",
      "metadata": {
        "id": "-OkNjKhmRUim"
      },
      "source": [
        "##**Hello world CUDA example**\n",
        "\n"
      ]
    },
    {
      "cell_type": "code",
      "metadata": {
        "colab": {
          "base_uri": "https://localhost:8080/"
        },
        "id": "i-H2vP1ZMuKS",
        "outputId": "6bc7f789-c275-4713-c2cf-8ef88f727320"
      },
      "source": [
        "!nvidia-smi"
      ],
      "execution_count": 1,
      "outputs": [
        {
          "output_type": "stream",
          "name": "stdout",
          "text": [
            "Wed Dec 22 13:58:11 2021       \n",
            "+-----------------------------------------------------------------------------+\n",
            "| NVIDIA-SMI 495.44       Driver Version: 460.32.03    CUDA Version: 11.2     |\n",
            "|-------------------------------+----------------------+----------------------+\n",
            "| GPU  Name        Persistence-M| Bus-Id        Disp.A | Volatile Uncorr. ECC |\n",
            "| Fan  Temp  Perf  Pwr:Usage/Cap|         Memory-Usage | GPU-Util  Compute M. |\n",
            "|                               |                      |               MIG M. |\n",
            "|===============================+======================+======================|\n",
            "|   0  Tesla K80           Off  | 00000000:00:04.0 Off |                    0 |\n",
            "| N/A   72C    P8    35W / 149W |      0MiB / 11441MiB |      0%      Default |\n",
            "|                               |                      |                  N/A |\n",
            "+-------------------------------+----------------------+----------------------+\n",
            "                                                                               \n",
            "+-----------------------------------------------------------------------------+\n",
            "| Processes:                                                                  |\n",
            "|  GPU   GI   CI        PID   Type   Process name                  GPU Memory |\n",
            "|        ID   ID                                                   Usage      |\n",
            "|=============================================================================|\n",
            "|  No running processes found                                                 |\n",
            "+-----------------------------------------------------------------------------+\n"
          ]
        }
      ]
    },
    {
      "cell_type": "code",
      "metadata": {
        "id": "MUKG-RytoEO3",
        "colab": {
          "base_uri": "https://localhost:8080/"
        },
        "outputId": "f8624989-5f50-4920-91e2-81c8af3e0779"
      },
      "source": [
        " %%file hello.cu\n",
        "#include <stdio.h>\n",
        " \n",
        "#define NUM_BLOCKS 4\n",
        "#define BLOCK_SIZE 1\n",
        " \n",
        "__global__ void hello()\n",
        "{\n",
        "    int idx = blockIdx.x;\n",
        "    printf(\"Hello world! I'm a thread in block %d\\n\", idx);\n",
        "}\n",
        " \n",
        " \n",
        "int main(int argc,char **argv)\n",
        "{\n",
        "    // launch the kernel\n",
        "    hello<<<NUM_BLOCKS, BLOCK_SIZE>>>();\n",
        " \n",
        "    // force the printf()s to flush\n",
        "    cudaDeviceSynchronize();\n",
        " \n",
        "    printf(\"That's all!\\n\");\n",
        " \n",
        "    return 0;\n",
        "}"
      ],
      "execution_count": 2,
      "outputs": [
        {
          "output_type": "stream",
          "name": "stdout",
          "text": [
            "Writing hello.cu\n"
          ]
        }
      ]
    },
    {
      "cell_type": "code",
      "metadata": {
        "id": "P5iKD5xxoVvl",
        "colab": {
          "base_uri": "https://localhost:8080/"
        },
        "outputId": "a26e6977-a0a7-42e5-b29d-df76faec6313"
      },
      "source": [
        " !PATH=/usr/local/cuda-10.1/bin:${PATH} nvcc -o hello_cuda hello.cu && ./hello_cuda"
      ],
      "execution_count": 3,
      "outputs": [
        {
          "output_type": "stream",
          "name": "stdout",
          "text": [
            "Hello world! I'm a thread in block 3\n",
            "Hello world! I'm a thread in block 0\n",
            "Hello world! I'm a thread in block 2\n",
            "Hello world! I'm a thread in block 1\n",
            "That's all!\n"
          ]
        }
      ]
    }
  ]
}
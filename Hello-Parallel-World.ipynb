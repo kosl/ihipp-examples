{
 "cells": [
  {
   "cell_type": "code",
   "execution_count": 1,
   "id": "b85aa0ce",
   "metadata": {},
   "outputs": [],
   "source": [
    "#pragma cling load(\"libomp.so\")\n",
    "#include <omp.h>"
   ]
  },
  {
   "cell_type": "code",
   "execution_count": 2,
   "id": "dbfada83",
   "metadata": {},
   "outputs": [
    {
     "name": "stdout",
     "output_type": "stream",
     "text": [
      "Hello 0\n",
      "Hello 2\n",
      "Hello 3\n",
      "Hello 1\n"
     ]
    }
   ],
   "source": [
    "#pragma omp parallel num_threads(4)\n",
    "{\n",
    "    printf(\"Hello %d\\n\", omp_get_thread_num());\n",
    "}"
   ]
  },
  {
   "cell_type": "code",
   "execution_count": 3,
   "id": "d8d4ccab",
   "metadata": {},
   "outputs": [],
   "source": [
    "#include <mpi.h>"
   ]
  },
  {
   "cell_type": "code",
   "execution_count": 4,
   "id": "5a239373",
   "metadata": {
    "scrolled": true
   },
   "outputs": [
    {
     "name": "stdout",
     "output_type": "stream",
     "text": [
      "Writing executable to a.x\n"
     ]
    }
   ],
   "source": [
    "%%executable  a.x -- -lmpi\n",
    "MPI_Init(NULL, NULL);\n",
    "int rank;\n",
    "MPI_Comm_rank(MPI_COMM_WORLD, &rank);\n",
    "printf(\"Hello from processor %d\\n\", rank);\n",
    "MPI_Finalize();"
   ]
  },
  {
   "cell_type": "code",
   "execution_count": 5,
   "id": "b3955979",
   "metadata": {},
   "outputs": [
    {
     "name": "stdout",
     "output_type": "stream",
     "text": [
      "Hello from processor 2\n",
      "Hello from processor 0\n",
      "Hello from processor 3\n",
      "Hello from processor 1\n"
     ]
    }
   ],
   "source": [
    "!mpirun -np 4 a.x"
   ]
  },
  {
   "cell_type": "code",
   "execution_count": null,
   "id": "8f0b3b57",
   "metadata": {},
   "outputs": [],
   "source": []
  }
 ],
 "metadata": {
  "kernelspec": {
   "display_name": "C++14 OpenMP",
   "language": "C++14",
   "name": "xcpp14"
  },
  "language_info": {
   "codemirror_mode": "text/x-c++src",
   "file_extension": ".cpp",
   "mimetype": "text/x-c++src",
   "name": "c++",
   "version": "14"
  }
 },
 "nbformat": 4,
 "nbformat_minor": 5
}

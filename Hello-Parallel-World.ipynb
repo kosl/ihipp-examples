{
 "cells": [
  {
   "cell_type": "markdown",
   "id": "f11cd946",
   "metadata": {},
   "source": [
    "## Interactive C++ example (Cling)"
   ]
  },
  {
   "cell_type": "code",
   "execution_count": null,
   "id": "b85aa0ce",
   "metadata": {},
   "outputs": [],
   "source": [
    "#pragma cling load(\"libomp.so\")\n",
    "#include <omp.h>"
   ]
  },
  {
   "cell_type": "code",
   "execution_count": null,
   "id": "dbfada83",
   "metadata": {},
   "outputs": [],
   "source": [
    "#pragma omp parallel num_threads(4)\n",
    "{\n",
    "    printf(\"Hello, world %d\\n\", omp_get_thread_num());\n",
    "}"
   ]
  },
  {
   "cell_type": "code",
   "execution_count": null,
   "id": "a4be1d80",
   "metadata": {},
   "outputs": [],
   "source": [
    "?omp::parallel # This is inline help example for OpenMP"
   ]
  },
  {
   "cell_type": "code",
   "execution_count": null,
   "id": "d8d4ccab",
   "metadata": {},
   "outputs": [],
   "source": [
    "#include <mpi.h>"
   ]
  },
  {
   "cell_type": "code",
   "execution_count": null,
   "id": "5a239373",
   "metadata": {
    "scrolled": true
   },
   "outputs": [],
   "source": [
    "%%executable  a.x -- -lmpi\n",
    "MPI_Init(NULL, NULL);\n",
    "int rank;\n",
    "MPI_Comm_rank(MPI_COMM_WORLD, &rank);\n",
    "printf(\"Hello from processor %d\\n\", rank);\n",
    "MPI_Finalize();"
   ]
  },
  {
   "cell_type": "code",
   "execution_count": null,
   "id": "d670fe1c",
   "metadata": {},
   "outputs": [],
   "source": [
    "?MPI::MPI_Comm_rank # MPI help example"
   ]
  },
  {
   "cell_type": "code",
   "execution_count": null,
   "id": "b3955979",
   "metadata": {},
   "outputs": [],
   "source": [
    "!mpirun -np 4 a.x"
   ]
  },
  {
   "cell_type": "markdown",
   "id": "17b022c5",
   "metadata": {},
   "source": [
    "## Python MPI with mpi4py"
   ]
  },
  {
   "cell_type": "code",
   "execution_count": null,
   "id": "8f0b3b57",
   "metadata": {},
   "outputs": [],
   "source": [
    "%%file hello.py\n",
    "from mpi4py import MPI\n",
    "comm = MPI.COMM_WORLD\n",
    "rank = comm.Get_rank()\n",
    "print(\"Hello, world from processor %d\" % rank);"
   ]
  },
  {
   "cell_type": "code",
   "execution_count": null,
   "id": "794f34d4",
   "metadata": {},
   "outputs": [],
   "source": [
    "!mpirun -np 4 python hello.py"
   ]
  },
  {
   "cell_type": "markdown",
   "id": "ef85c097",
   "metadata": {},
   "source": [
    "## FORTRAN MPI"
   ]
  },
  {
   "cell_type": "code",
   "execution_count": null,
   "id": "4fcf16cc",
   "metadata": {},
   "outputs": [],
   "source": [
    "%%file hello.f90\n",
    "program hello\n",
    "use mpi\n",
    "integer ( kind = 4 ) error\n",
    "integer ( kind = 4 ) id\n",
    "call MPI_Init(error);\n",
    "call MPI_Comm_rank(MPI_COMM_WORLD, id, error);\n",
    "print *, 'Hello, world', id\n",
    "call MPI_Finalize(error)\n",
    "end"
   ]
  },
  {
   "cell_type": "code",
   "execution_count": null,
   "id": "1e2279fe",
   "metadata": {},
   "outputs": [],
   "source": [
    "!mpif90 hello.f90 && mpirun -np 4 a.out"
   ]
  }
 ],
 "metadata": {
  "kernelspec": {
   "display_name": "C++14 with OpenMP and MPI",
   "language": "C++14",
   "name": "xcpp14"
  },
  "language_info": {
   "codemirror_mode": "text/x-c++src",
   "file_extension": ".cpp",
   "mimetype": "text/x-c++src",
   "name": "c++",
   "version": "14"
  }
 },
 "nbformat": 4,
 "nbformat_minor": 5
}

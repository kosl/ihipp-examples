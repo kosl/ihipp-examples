{
 "cells": [
  {
   "cell_type": "markdown",
   "id": "cc88bcff",
   "metadata": {},
   "source": [
    "## OpenMP *sections* directive"
   ]
  },
  {
   "cell_type": "markdown",
   "id": "18ee95cc",
   "metadata": {},
   "source": [
    "The section construct is one way to distribute different tasks between existing threads. The requirement is that each block must be independent of the other blocks. Then each thread executes one block at a time. "
   ]
  },
  {
   "cell_type": "code",
   "execution_count": 33,
   "id": "b00cbed2",
   "metadata": {},
   "outputs": [
    {
     "name": "stdout",
     "output_type": "stream",
     "text": [
      "id = 0, \n",
      "id = 1, \n"
     ]
    }
   ],
   "source": [
    "#pragma cling load(\"libomp.so\")\n",
    "#include <omp.h>\n",
    "#include <stdio.h>\n",
    "\n",
    "#pragma omp parallel num_threads(4)\n",
    "{\n",
    "    #pragma omp sections\n",
    "    {\n",
    "        #pragma omp section\n",
    "        {\n",
    "            printf (\"id = %d, \\n\", omp_get_thread_num());\n",
    "        }\n",
    "\n",
    "        #pragma omp section\n",
    "        { \n",
    "            printf (\"id = %d, \\n\", omp_get_thread_num());\n",
    "        }\n",
    "    }\n",
    "\n",
    "}"
   ]
  },
  {
   "cell_type": "markdown",
   "id": "cc8279f1",
   "metadata": {},
   "source": [
    "## OpenMP *for* directive"
   ]
  },
  {
   "cell_type": "markdown",
   "id": "586de296",
   "metadata": {},
   "source": [
    "The for loop construct specifies that the iterations of the following for loop will be executed in parallel. The iterations are distributed across the threads that already exist."
   ]
  },
  {
   "cell_type": "code",
   "execution_count": 36,
   "id": "dd403b48",
   "metadata": {},
   "outputs": [
    {
     "name": "stdout",
     "output_type": "stream",
     "text": [
      "25 25 25 25 "
     ]
    }
   ],
   "source": [
    "#pragma cling load(\"libomp.so\")\n",
    "#include <omp.h>\n",
    "#include <stdio.h>\n",
    "\n",
    "int n = 4; //number of threads\n",
    "int* iterations;\n",
    "iterations = (int *) malloc (n*sizeof(int));\n",
    "int f = 100;\n",
    "\n",
    "//set array values to 0\n",
    "for(int loop = 0; loop < n; loop++)\n",
    "{\n",
    "    iterations[loop] = 0;\n",
    "}\n",
    "\n",
    "#pragma omp parallel num_threads(n) shared(iterations, f)\n",
    "{    \n",
    "    #pragma omp for \n",
    "    for (int i = 0; i < f; i++)\n",
    "    {\n",
    "        iterations[omp_get_thread_num()]++;\n",
    "    }\n",
    "}\n",
    "\n",
    "for(int loop = 0; loop < n; loop++)\n",
    "{\n",
    "    printf(\"%d \", iterations[loop]);\n",
    "}\n",
    "\n",
    "free(iterations);"
   ]
  },
  {
   "cell_type": "markdown",
   "id": "4a8f8402",
   "metadata": {},
   "source": [
    "## OpenMP *single* directive"
   ]
  },
  {
   "cell_type": "markdown",
   "id": "e29298a9",
   "metadata": {},
   "source": [
    "The single construct is associated with a block of code. The block is executed by only one thread in the team. All the other threads wait until the thread finishes executing the block."
   ]
  },
  {
   "cell_type": "code",
   "execution_count": 10,
   "id": "25fc9b5a",
   "metadata": {},
   "outputs": [
    {
     "name": "stdout",
     "output_type": "stream",
     "text": [
      "The first sum is 10\n",
      "The second sum is 20\n"
     ]
    }
   ],
   "source": [
    "#pragma cling load(\"libomp.so\")\n",
    "#include <omp.h>\n",
    "#include <stdio.h>\n",
    "\n",
    "int n = 4; //number of threads\n",
    "int sum1 = 0;\n",
    "int sum2 = 0;\n",
    "\n",
    "#pragma omp parallel num_threads(n) shared(sum1, sum2)\n",
    "{\n",
    "\n",
    "    #pragma omp for\n",
    "    for (int i = 0; i < 10; i++)\n",
    "    {\n",
    "        sum1 += 1;\n",
    "    }\n",
    "\n",
    "    #pragma omp single\n",
    "    {\n",
    "        printf(\"The first sum is %d\\n\", sum1);\n",
    "    }\n",
    "\n",
    "    #pragma omp for\n",
    "    for (int i = 0; i < 10; i++)\n",
    "    {\n",
    "        sum2 += 2;\n",
    "    }\n",
    "\n",
    "    #pragma omp single\n",
    "    {\n",
    "        printf(\"The second sum is %d\\n\", sum2);\n",
    "    }\n",
    "\n",
    "}"
   ]
  },
  {
   "cell_type": "markdown",
   "id": "68a25d65",
   "metadata": {},
   "source": [
    "## OpenMP *task* directive"
   ]
  },
  {
   "cell_type": "markdown",
   "id": "518804a9",
   "metadata": {},
   "source": []
  },
  {
   "cell_type": "code",
   "execution_count": 44,
   "id": "fcf4d2b4",
   "metadata": {},
   "outputs": [
    {
     "name": "stdout",
     "output_type": "stream",
     "text": [
      "A car race "
     ]
    }
   ],
   "source": [
    "#pragma cling load(\"libomp.so\")\n",
    "#include <omp.h>\n",
    "#include <stdio.h>\n",
    "\n",
    "int n = 2; //number of threads\n",
    "\n",
    "#pragma omp parallel num_threads(n)\n",
    "{\n",
    "\n",
    "    #pragma omp single\n",
    "    {\n",
    "        printf(\"A \");\n",
    "        #pragma omp task\n",
    "        {printf(\"race \");}\n",
    "        #pragma omp task\n",
    "        {printf(\"car \");}\n",
    "    }\n",
    "\n",
    "}"
   ]
  }
 ],
 "metadata": {
  "kernelspec": {
   "display_name": "C++14 with OpenMP and MPI",
   "language": "C++14",
   "name": "xcpp14"
  },
  "language_info": {
   "codemirror_mode": "text/x-c++src",
   "file_extension": ".cpp",
   "mimetype": "text/x-c++src",
   "name": "c++",
   "version": "14"
  }
 },
 "nbformat": 4,
 "nbformat_minor": 5
}

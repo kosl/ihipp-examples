{
 "cells": [
  {
   "cell_type": "markdown",
   "id": "1df16b58",
   "metadata": {},
   "source": [
    "## Clauses"
   ]
  },
  {
   "cell_type": "markdown",
   "id": "32419adb",
   "metadata": {},
   "source": [
    "Answer the following questions about the code below.\n",
    "\n",
    "* How does the value of private and shared variable change when accessed by different threads?\n",
    "\n",
    "* Does the value of shared variable increase when being modified by multiple threads? Why?\n",
    "\n",
    "* Does the value of private variable increase when being modified by multiple threads?"
   ]
  },
  {
   "cell_type": "code",
   "execution_count": null,
   "id": "f9a196b5",
   "metadata": {},
   "outputs": [],
   "source": [
    "%%file clauses.c\n",
    "#include <stdio.h>\n",
    "#include <omp.h>\n",
    "\n",
    "int main()\n",
    "{\n",
    "    int num_threads = 4;\n",
    "    omp_set_num_threads(num_threads);\n",
    "\n",
    "    int private_var = 1000;\n",
    "    int shared_var = 5000;\n",
    "    int rank;\n",
    "\n",
    "    #pragma omp parallel private(private_var, rank) shared(shared_var)\n",
    "    {\n",
    "        rank = omp_get_thread_num();\n",
    "        printf(\"Thread ID is: %d\\n\", rank);  \n",
    "        private_var = private_var + num_threads;\n",
    "        printf(\"Value of private_var is: %d\\n\", private_var);\n",
    "        shared_var = shared_var + num_threads;\n",
    "        printf(\"Value of shared_var is: %d\\n\", shared_var);\n",
    "    }\n",
    "}"
   ]
  },
  {
   "cell_type": "code",
   "execution_count": null,
   "id": "11283a2e",
   "metadata": {},
   "outputs": [],
   "source": [
    "!gcc clauses.c -o clauses -fopenmp"
   ]
  },
  {
   "cell_type": "code",
   "execution_count": null,
   "id": "6862ccfd",
   "metadata": {
    "scrolled": true
   },
   "outputs": [],
   "source": [
    "!./clauses"
   ]
  }
 ],
 "metadata": {
  "kernelspec": {
   "display_name": "C++14 with OpenMP and MPI",
   "language": "C++14",
   "name": "xcpp14"
  },
  "language_info": {
   "codemirror_mode": "text/x-c++src",
   "file_extension": ".cpp",
   "mimetype": "text/x-c++src",
   "name": "c++",
   "version": "14"
  }
 },
 "nbformat": 4,
 "nbformat_minor": 5
}

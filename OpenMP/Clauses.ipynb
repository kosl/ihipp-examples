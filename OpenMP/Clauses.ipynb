{
 "cells": [
  {
   "cell_type": "markdown",
   "id": "1df16b58",
   "metadata": {},
   "source": [
    "## Clauses"
   ]
  },
  {
   "cell_type": "code",
   "execution_count": 1,
   "id": "f9a196b5",
   "metadata": {},
   "outputs": [
    {
     "name": "stdout",
     "output_type": "stream",
     "text": [
      "Thread ID is: 0\n",
      "Value of private_var is: 4\n",
      "Value of shared_var is: 4\n",
      "Thread ID is: 1\n",
      "Value of private_var is: 4\n",
      "Value of shared_var is: 8\n",
      "Thread ID is: 2\n",
      "Value of private_var is: 4\n",
      "Value of shared_var is: 12\n",
      "Thread ID is: 3\n",
      "Value of private_var is: 4\n",
      "Value of shared_var is: 16\n"
     ]
    }
   ],
   "source": [
    "#pragma cling load(\"libomp.so\")\n",
    "#include <omp.h>\n",
    "#include <stdio.h>\n",
    "\n",
    "int num_threads = 4;\n",
    "omp_set_num_threads(num_threads);\n",
    "\n",
    "int private_var = 0;\n",
    "int shared_var = 0;\n",
    "int rank;\n",
    "#pragma omp parallel private(private_var) shared(shared_var)\n",
    "{\n",
    "    rank = omp_get_thread_num();\n",
    "    printf(\"Thread ID is: %d\\n\", rank);  \n",
    "    private_var = private_var + num_threads;\n",
    "    printf(\"Value of private_var is: %d\\n\", private_var);\n",
    "    shared_var = shared_var + num_threads;\n",
    "    printf(\"Value of shared_var is: %d\\n\", shared_var);\n",
    "}"
   ]
  }
 ],
 "metadata": {
  "kernelspec": {
   "display_name": "C++14 with OpenMP and MPI",
   "language": "C++14",
   "name": "xcpp14"
  },
  "language_info": {
   "codemirror_mode": "text/x-c++src",
   "file_extension": ".cpp",
   "mimetype": "text/x-c++src",
   "name": "c++",
   "version": "14"
  }
 },
 "nbformat": 4,
 "nbformat_minor": 5
}

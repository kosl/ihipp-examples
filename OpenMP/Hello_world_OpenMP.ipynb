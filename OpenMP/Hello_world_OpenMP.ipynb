{
 "cells": [
  {
   "cell_type": "markdown",
   "metadata": {},
   "source": [
    "## Hello World! OpenMP in C"
   ]
  },
  {
   "cell_type": "code",
   "execution_count": null,
   "metadata": {
    "colab": {
     "base_uri": "https://localhost:8080/"
    },
    "id": "mZbKbqoQFHD4",
    "outputId": "829b59f6-12ab-4b93-983e-391c918302cb"
   },
   "outputs": [],
   "source": [
    "%%file hello_world.c\n",
    "#include <stdio.h>\n",
    "#include <omp.h>\n",
    "\n",
    "int main(int argc, char** argv){\n",
    "  #pragma omp parallel num_threads(2)\n",
    "  {\n",
    "    printf(\"Hello World!\\n\");\n",
    "  }\n",
    "    \n",
    "  return 0;\n",
    "}"
   ]
  },
  {
   "cell_type": "code",
   "execution_count": null,
   "metadata": {
    "id": "uD4pFPAYGyze"
   },
   "outputs": [],
   "source": [
    "!gcc hello_world.c -o hello_world -fopenmp"
   ]
  },
  {
   "cell_type": "code",
   "execution_count": null,
   "metadata": {
    "colab": {
     "base_uri": "https://localhost:8080/"
    },
    "id": "Jg6E6d46F5ey",
    "outputId": "c5fe1b5b-2cbc-49ff-ff05-0605b496d530"
   },
   "outputs": [],
   "source": [
    "!./hello_world"
   ]
  },
  {
   "cell_type": "markdown",
   "metadata": {},
   "source": [
    "## Hello World! OpenMP in Fortran"
   ]
  },
  {
   "cell_type": "code",
   "execution_count": null,
   "metadata": {
    "colab": {
     "base_uri": "https://localhost:8080/"
    },
    "id": "_jDgu93QHdyJ",
    "outputId": "a0261331-bdaa-472f-d24f-97cf8d70b06f"
   },
   "outputs": [],
   "source": [
    "%%file hello_world.f90\n",
    "PROGRAM Hello_World\n",
    "USE OMP_LIB\n",
    "\n",
    "!$OMP PARALLEL num_threads(2)\n",
    "\n",
    "    PRINT *, \"Hello World!\"\n",
    "\n",
    "!$OMP END PARALLEL\n",
    "\n",
    "END"
   ]
  },
  {
   "cell_type": "code",
   "execution_count": null,
   "metadata": {
    "id": "fy9mKwO1KIeu"
   },
   "outputs": [],
   "source": [
    "!gfortran hello_world.f90 -o hello_world.exe -fopenmp"
   ]
  },
  {
   "cell_type": "code",
   "execution_count": null,
   "metadata": {
    "colab": {
     "base_uri": "https://localhost:8080/"
    },
    "id": "0P4DoVjJLYIr",
    "outputId": "b8d988db-314b-45f4-bd6c-b0f5ecdbd148"
   },
   "outputs": [],
   "source": [
    "!./hello_world.exe"
   ]
  }
 ],
 "metadata": {
  "colab": {
   "collapsed_sections": [],
   "name": "Hello_world_OpenMP.ipynb",
   "provenance": []
  },
  "kernelspec": {
   "display_name": "Python 3 (ipykernel)",
   "language": "python",
   "name": "python3"
  },
  "language_info": {
   "codemirror_mode": {
    "name": "ipython",
    "version": 3
   },
   "file_extension": ".py",
   "mimetype": "text/x-python",
   "name": "python",
   "nbconvert_exporter": "python",
   "pygments_lexer": "ipython3",
   "version": "3.9.7"
  }
 },
 "nbformat": 4,
 "nbformat_minor": 1
}

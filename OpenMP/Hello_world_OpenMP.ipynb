{
  "nbformat": 4,
  "nbformat_minor": 0,
  "metadata": {
    "colab": {
      "name": "Hello_world_OpenMP.ipynb",
      "provenance": [],
      "collapsed_sections": []
    },
    "kernelspec": {
      "name": "python3",
      "display_name": "Python 3"
    },
    "language_info": {
      "name": "python"
    }
  },
  "cells": [
    {
      "cell_type": "code",
      "metadata": {
        "colab": {
          "base_uri": "https://localhost:8080/"
        },
        "id": "mZbKbqoQFHD4",
        "outputId": "829b59f6-12ab-4b93-983e-391c918302cb"
      },
      "source": [
        "%%file hello_world.c\n",
        "#include <stdio.h>\n",
        "#include <omp.h>\n",
        "\n",
        "int main(int argc, char** argv){\n",
        "  #pragma omp parallel num_threads(2)\n",
        "  {\n",
        "    printf(\"Hello World!\\n\");\n",
        "  }\n",
        "}"
      ],
      "execution_count": 1,
      "outputs": [
        {
          "output_type": "stream",
          "name": "stdout",
          "text": [
            "Overwriting hello_world.c\n"
          ]
        }
      ]
    },
    {
      "cell_type": "code",
      "metadata": {
        "id": "uD4pFPAYGyze"
      },
      "source": [
        "!gcc hello_world.c -o hello_world -fopenmp"
      ],
      "execution_count": 2,
      "outputs": []
    },
    {
      "cell_type": "code",
      "metadata": {
        "colab": {
          "base_uri": "https://localhost:8080/"
        },
        "id": "Jg6E6d46F5ey",
        "outputId": "c5fe1b5b-2cbc-49ff-ff05-0605b496d530"
      },
      "source": [
        "!./hello_world"
      ],
      "execution_count": 3,
      "outputs": [
        {
          "output_type": "stream",
          "name": "stdout",
          "text": [
            "Hello World!\n",
            "Hello World!\n"
          ]
        }
      ]
    },
    {
      "cell_type": "code",
      "metadata": {
        "colab": {
          "base_uri": "https://localhost:8080/"
        },
        "id": "_jDgu93QHdyJ",
        "outputId": "a0261331-bdaa-472f-d24f-97cf8d70b06f"
      },
      "source": [
        "%%file hello_world.f90\n",
        "PROGRAM Hello_World\n",
        "USE OMP_LIB\n",
        "\n",
        "!$OMP PARALLEL num_threads(2)\n",
        "\n",
        "    PRINT *, \"Hello World!\"\n",
        "\n",
        "!$OMP END PARALLEL\n",
        "\n",
        "END"
      ],
      "execution_count": 4,
      "outputs": [
        {
          "output_type": "stream",
          "name": "stdout",
          "text": [
            "Overwriting hello_world.f90\n"
          ]
        }
      ]
    },
    {
      "cell_type": "code",
      "metadata": {
        "id": "fy9mKwO1KIeu"
      },
      "source": [
        "!gfortran hello_world.f90 -o hello_world.exe -fopenmp"
      ],
      "execution_count": 5,
      "outputs": []
    },
    {
      "cell_type": "code",
      "metadata": {
        "colab": {
          "base_uri": "https://localhost:8080/"
        },
        "id": "0P4DoVjJLYIr",
        "outputId": "b8d988db-314b-45f4-bd6c-b0f5ecdbd148"
      },
      "source": [
        "!./hello_world.exe"
      ],
      "execution_count": 6,
      "outputs": [
        {
          "output_type": "stream",
          "name": "stdout",
          "text": [
            " Hello World!\n",
            " Hello World!\n"
          ]
        }
      ]
    }
  ]
}
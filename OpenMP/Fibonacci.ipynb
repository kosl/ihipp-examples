{
 "cells": [
  {
   "cell_type": "markdown",
   "id": "383246f7",
   "metadata": {},
   "source": [
    "## Fibonacci "
   ]
  },
  {
   "cell_type": "markdown",
   "id": "21fbea81",
   "metadata": {},
   "source": [
    "In the following example, the tasking concept is used to compute Fibonacci numbers recursively."
   ]
  },
  {
   "cell_type": "markdown",
   "id": "45c9cd7e",
   "metadata": {},
   "source": [
    "This is the recursive approach to compute Fibonacci without using OpenMP. "
   ]
  },
  {
   "cell_type": "code",
   "execution_count": null,
   "id": "4b03b4b6",
   "metadata": {},
   "outputs": [],
   "source": [
    "int fib(int n) {\n",
    "    if (n < 2) return n;\n",
    "    int x = fib(n - 1);\n",
    "    int y = fib(n - 2);\n",
    "    return x+y;\n",
    "}"
   ]
  },
  {
   "cell_type": "code",
   "execution_count": null,
   "id": "49edac67",
   "metadata": {},
   "outputs": [],
   "source": [
    "int n = 8;\n",
    "printf (\"fib(%d) = %d\\n\", n, fib(n));"
   ]
  },
  {
   "cell_type": "markdown",
   "id": "b4de12be",
   "metadata": {},
   "source": [
    "Now let's look at the same example done with tasking. \n",
    "\n",
    "* Only one thread executes single, we only need to print once. \n",
    "* For every fib() call two tasks are generated, one computes fib(n-1), one fib(n-2). \n",
    "* Tasks will be recursively generated until the argument passed to fib() is less than 2. \n",
    "* Taskwait ensures that the two tasks generated are completed before we return the sum. "
   ]
  },
  {
   "cell_type": "code",
   "execution_count": null,
   "id": "624bebca",
   "metadata": {},
   "outputs": [],
   "source": [
    "#pragma cling load(\"libomp.so\")\n",
    "#include <stdlib.h>\n",
    "#include <stdio.h>\n",
    "#include <omp.h>\n",
    "\n",
    "int fib(int n) {\n",
    "    if (n < 2) return n;\n",
    "    int x, y;\n",
    "    #pragma omp task shared(x) firstprivate(n)\n",
    "    {\n",
    "        x = fib(n - 1);\n",
    "    }\n",
    "    #pragma omp task shared(y) firstprivate(n)\n",
    "    {\n",
    "        y = fib(n - 2);\n",
    "    }\n",
    "    #pragma omp taskwait\n",
    "    return x+y;\n",
    "}"
   ]
  },
  {
   "cell_type": "code",
   "execution_count": null,
   "id": "a73e4945",
   "metadata": {},
   "outputs": [],
   "source": [
    "int n_threads = 4;\n",
    "omp_set_num_threads(n_threads);\n",
    "\n",
    "int n = 8;\n",
    "#pragma omp parallel shared(n)\n",
    "{\n",
    "    #pragma omp single\n",
    "    printf (\"fib(%d) = %d\\n\", n, fib(n));\n",
    "}"
   ]
  }
 ],
 "metadata": {
  "kernelspec": {
   "display_name": "C++14 with OpenMP and MPI",
   "language": "C++14",
   "name": "xcpp14"
  },
  "language_info": {
   "codemirror_mode": "text/x-c++src",
   "file_extension": ".cpp",
   "mimetype": "text/x-c++src",
   "name": "c++",
   "version": "14"
  }
 },
 "nbformat": 4,
 "nbformat_minor": 5
}

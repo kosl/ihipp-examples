{
 "cells": [
  {
   "cell_type": "markdown",
   "id": "6039ffa1",
   "metadata": {},
   "source": [
    "## OpenMP *critical* directive\n",
    "The enclosed code in the *critical* construct is executed by all threads but only one thread at a time. A thread waits at the beginning of a critical region until no other thread in the team is executing this critical region."
   ]
  },
  {
   "cell_type": "markdown",
   "id": "7d49908d",
   "metadata": {},
   "source": [
    "#### Example comparing *critical* with *single* directive:"
   ]
  },
  {
   "cell_type": "markdown",
   "id": "ca6288a1",
   "metadata": {},
   "source": [
    "Before you run the example:\n",
    "* What are the expected values of a and b?"
   ]
  },
  {
   "cell_type": "code",
   "execution_count": null,
   "id": "21733b2f",
   "metadata": {},
   "outputs": [],
   "source": [
    "#pragma cling load(\"libomp.so\")\n",
    "#include <omp.h>\n",
    "#include <stdio.h>\n",
    "\n",
    "int a = 0, b = 0;\n",
    "#pragma omp parallel num_threads(4)\n",
    "{\n",
    "    #pragma omp single // Only one thread executes this section\n",
    "    a++;\n",
    "    #pragma omp critical // Only one thread at a time can execute this section\n",
    "    b++;\n",
    "}\n",
    "printf(\"single: %d, critical: %d\\n\", a, b);"
   ]
  },
  {
   "cell_type": "markdown",
   "id": "84010617",
   "metadata": {},
   "source": [
    "#### Example trying to find the largest number from an array of random numbers. "
   ]
  },
  {
   "cell_type": "markdown",
   "id": "2b432c25",
   "metadata": {},
   "source": [
    "Before you run the example:\n",
    "* Why is the use of critical directive iimportant in this example?"
   ]
  },
  {
   "cell_type": "code",
   "execution_count": null,
   "id": "2fbfd740",
   "metadata": {},
   "outputs": [],
   "source": [
    "#pragma cling load(\"libomp.so\")\n",
    "#include <omp.h>\n",
    "#include <stdio.h>\n",
    "\n",
    "#define SIZE 10\n",
    "\n",
    "int i;\n",
    "int max;\n",
    "int a[SIZE];\n",
    "\n",
    "for (i = 0; i < SIZE; i++)\n",
    "{\n",
    "    a[i] = rand();\n",
    "    printf(\"%d\\n\", a[i]);\n",
    "}\n",
    "\n",
    "max = a[0];\n",
    "#pragma omp parallel for num_threads(4)\n",
    "for (i = 1; i < SIZE; i++)\n",
    "{\n",
    "    if (a[i] > max)\n",
    "    {\n",
    "        #pragma omp critical\n",
    "        {\n",
    "            if (a[i] > max)\n",
    "                max = a[i];\n",
    "        }\n",
    "    }\n",
    "}\n",
    "\n",
    "printf(\"max = %d\\n\", max);"
   ]
  }
 ],
 "metadata": {
  "kernelspec": {
   "display_name": "C++14 with OpenMP and MPI",
   "language": "C++14",
   "name": "xcpp14"
  },
  "language_info": {
   "codemirror_mode": "text/x-c++src",
   "file_extension": ".cpp",
   "mimetype": "text/x-c++src",
   "name": "c++",
   "version": "14"
  }
 },
 "nbformat": 4,
 "nbformat_minor": 5
}

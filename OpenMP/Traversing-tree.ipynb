{
 "cells": [
  {
   "cell_type": "markdown",
   "id": "14c3ee24",
   "metadata": {},
   "source": [
    "## Traversing of a tree"
   ]
  },
  {
   "cell_type": "markdown",
   "id": "21fbea81",
   "metadata": {},
   "source": [
    "This is a program that traverses a linked list computing a sequence of Fibonacci numbers at each node. \n",
    "\n",
    "Parallelize this program using parallel region, tasks and other directives. Compare your solution’s complexity compared to the approach without tasks."
   ]
  },
  {
   "cell_type": "markdown",
   "id": "178a08f0",
   "metadata": {},
   "source": [
    " "
   ]
  },
  {
   "cell_type": "markdown",
   "id": "3974f170",
   "metadata": {},
   "source": [
    "Defined libraries, variables, structs and functions:"
   ]
  },
  {
   "cell_type": "code",
   "execution_count": null,
   "id": "399def29",
   "metadata": {},
   "outputs": [],
   "source": [
    "#pragma cling load(\"libomp.so\")\n",
    "#include <stdlib.h>\n",
    "#include <stdio.h>\n",
    "#include <omp.h>\n",
    "\n",
    "#define N 5\n",
    "#define FS 38"
   ]
  },
  {
   "cell_type": "code",
   "execution_count": null,
   "id": "c4f7c321",
   "metadata": {},
   "outputs": [],
   "source": [
    "struct node {\n",
    "    int data;\n",
    "    int fibdata;\n",
    "    struct node* next;\n",
    "};"
   ]
  },
  {
   "cell_type": "code",
   "execution_count": null,
   "id": "5393b5e0",
   "metadata": {},
   "outputs": [],
   "source": [
    "int fib(int n) {\n",
    "    int x, y;\n",
    "    if (n < 2) {\n",
    "      return (n);\n",
    "    } else {\n",
    "      x = fib(n - 1);\n",
    "      y = fib(n - 2);\n",
    "      return (x + y);\n",
    "    }\n",
    "}"
   ]
  },
  {
   "cell_type": "code",
   "execution_count": null,
   "id": "a11b0fdb",
   "metadata": {},
   "outputs": [],
   "source": [
    "void processwork(struct node* p) {\n",
    "    int n;\n",
    "    n = p->data;\n",
    "    p->fibdata = fib(n);\n",
    "}"
   ]
  },
  {
   "cell_type": "code",
   "execution_count": null,
   "id": "0716ff1e",
   "metadata": {},
   "outputs": [],
   "source": [
    "struct node* init_list(struct node* p) {\n",
    "    int i;\n",
    "    struct node* head = NULL;\n",
    "    struct node* temp = NULL;\n",
    "\n",
    "    head = (struct node*)malloc(sizeof(struct node));\n",
    "    p = head;\n",
    "    p->data = FS;\n",
    "    p->fibdata = 0;\n",
    "    for (i=0; i< N; i++) {\n",
    "       temp  = (struct node*)malloc(sizeof(struct node));\n",
    "       p->next = temp;\n",
    "       p = temp;\n",
    "       p->data = FS + i + 1;\n",
    "       p->fibdata = i+1;\n",
    "    }\n",
    "    p->next = NULL;\n",
    "    return head;\n",
    "}"
   ]
  },
  {
   "cell_type": "markdown",
   "id": "1e1e23e0",
   "metadata": {},
   "source": [
    "Main part of the program:"
   ]
  },
  {
   "cell_type": "code",
   "execution_count": null,
   "id": "77c55521",
   "metadata": {},
   "outputs": [],
   "source": [
    "double start, end;\n",
    "struct node *p=NULL;\n",
    "struct node *temp=NULL;\n",
    "struct node *head=NULL;\n",
    "\n",
    "printf(\"Process linked list\\n\");\n",
    "printf(\"Each linked list node will be processed by function 'processwork()'\\n\");\n",
    "printf(\"Each ll node will compute %d fibonacci numbers beginning with %d\\n\",N,FS);      \n",
    "\n",
    "p = init_list(p);\n",
    "head = p;\n",
    "\n",
    "start = omp_get_wtime();\n",
    "{\n",
    "    while (p != NULL) {\n",
    "       processwork(p);\n",
    "       p = p->next;\n",
    "    }\n",
    "}\n",
    "\n",
    "end = omp_get_wtime();\n",
    "p = head;\n",
    "while (p != NULL) {\n",
    "    printf(\"%d : %d\\n\",p->data, p->fibdata);\n",
    "    temp = p->next;\n",
    "    free (p);\n",
    "    p = temp;\n",
    "}\n",
    "free (p);\n",
    "\n",
    "printf(\"Compute Time: %f seconds\\n\", end - start);"
   ]
  },
  {
   "cell_type": "markdown",
   "id": "e730c48b",
   "metadata": {},
   "source": [
    "### After successful execution, you can compare with the solution:"
   ]
  },
  {
   "cell_type": "code",
   "execution_count": null,
   "id": "f52c9776",
   "metadata": {
    "scrolled": true
   },
   "outputs": [],
   "source": [
    "int num_threads = 2;\n",
    "omp_set_num_threads(num_threads);\n",
    "\n",
    "double start, end;\n",
    "struct node *p=NULL;\n",
    "struct node *temp=NULL;\n",
    "struct node *head=NULL;\n",
    "\n",
    "printf(\"Process linked list\\n\");\n",
    "printf(\"Each linked list node will be processed by function 'processwork()'\\n\");\n",
    "printf(\"Each ll node will compute %d fibonacci numbers beginning with %d\\n\",N,FS);      \n",
    "\n",
    "p = init_list(p);\n",
    "head = p;\n",
    "\n",
    "start = omp_get_wtime();\n",
    "\n",
    "#pragma omp parallel \n",
    "{\n",
    "    #pragma omp master\n",
    "        printf(\"Threads:      %d\\n\", omp_get_num_threads());\n",
    "\n",
    "        #pragma omp single\n",
    "        {\n",
    "            p=head;\n",
    "            while (p) {\n",
    "                #pragma omp task firstprivate(p) //first private is required\n",
    "                {\n",
    "                    processwork(p);\n",
    "                }\n",
    "              p = p->next;\n",
    "           }\n",
    "        }\n",
    "}\n",
    "\n",
    "end = omp_get_wtime();\n",
    "p = head;\n",
    "while (p != NULL) {\n",
    "    printf(\"%d : %d\\n\",p->data, p->fibdata);\n",
    "    temp = p->next;\n",
    "    free (p);\n",
    "    p = temp;\n",
    "}  \n",
    "free (p);\n",
    "\n",
    "printf(\"Compute Time: %f seconds\\n\", end - start);"
   ]
  }
 ],
 "metadata": {
  "kernelspec": {
   "display_name": "C++14 with OpenMP and MPI",
   "language": "C++14",
   "name": "xcpp14"
  },
  "language_info": {
   "codemirror_mode": "text/x-c++src",
   "file_extension": ".cpp",
   "mimetype": "text/x-c++src",
   "name": "c++",
   "version": "14"
  }
 },
 "nbformat": 4,
 "nbformat_minor": 5
}

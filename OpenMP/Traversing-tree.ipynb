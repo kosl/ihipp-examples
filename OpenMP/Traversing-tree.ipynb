{
 "cells": [
  {
   "cell_type": "markdown",
   "id": "14c3ee24",
   "metadata": {},
   "source": [
    "## Traversing of a tree"
   ]
  },
  {
   "cell_type": "markdown",
   "id": "21fbea81",
   "metadata": {},
   "source": [
    "This is a program that traverses a linked list computing a sequence of Fibonacci numbers at each node. \n",
    "\n",
    "Parallelize this program using parallel region, tasks and other directives. In the main part of the program you should:\n",
    "* parallelize the part where we do processwork for all the nodes\n",
    "* the printing of the number of threads should be only done by the master thread\n",
    "* think about what else must be done by one thread only\n",
    "* add a task directive\n",
    "\n",
    "Compare your solution’s complexity compared to the approach without tasks."
   ]
  },
  {
   "cell_type": "markdown",
   "id": "178a08f0",
   "metadata": {},
   "source": [
    " "
   ]
  },
  {
   "cell_type": "markdown",
   "id": "3974f170",
   "metadata": {},
   "source": [
    "Defined libraries, variables, structs and functions:"
   ]
  },
  {
   "cell_type": "code",
   "execution_count": 2,
   "id": "399def29",
   "metadata": {},
   "outputs": [],
   "source": [
    "#pragma cling load(\"libomp.so\")\n",
    "#include <stdlib.h>\n",
    "#include <stdio.h>\n",
    "#include <omp.h>\n",
    "\n",
    "#define N 5\n",
    "#define FS 38"
   ]
  },
  {
   "cell_type": "code",
   "execution_count": 3,
   "id": "c4f7c321",
   "metadata": {},
   "outputs": [],
   "source": [
    "struct node {\n",
    "    int data;\n",
    "    int fibdata;\n",
    "    struct node* next;\n",
    "};"
   ]
  },
  {
   "cell_type": "code",
   "execution_count": 4,
   "id": "5393b5e0",
   "metadata": {},
   "outputs": [],
   "source": [
    "int fib(int n) {\n",
    "    int x, y;\n",
    "    if (n < 2) {\n",
    "      return (n);\n",
    "    } else {\n",
    "      x = fib(n - 1);\n",
    "      y = fib(n - 2);\n",
    "      return x + y;\n",
    "    }\n",
    "}"
   ]
  },
  {
   "cell_type": "code",
   "execution_count": 5,
   "id": "a11b0fdb",
   "metadata": {},
   "outputs": [],
   "source": [
    "void processwork(struct node* p) {\n",
    "    int n;\n",
    "    n = p->data;\n",
    "    p->fibdata = fib(n);\n",
    "}"
   ]
  },
  {
   "cell_type": "code",
   "execution_count": 6,
   "id": "0716ff1e",
   "metadata": {},
   "outputs": [],
   "source": [
    "struct node* init_list(struct node* p) {\n",
    "    int i;\n",
    "    struct node* head = NULL;\n",
    "    struct node* temp = NULL;\n",
    "\n",
    "    head = (struct node*)malloc(sizeof(struct node));\n",
    "    p = head;\n",
    "    p->data = FS;\n",
    "    p->fibdata = 0;\n",
    "    for (i=0; i< N; i++) {\n",
    "       temp  = (struct node*)malloc(sizeof(struct node));\n",
    "       p->next = temp;\n",
    "       p = temp;\n",
    "       p->data = FS + i + 1;\n",
    "       p->fibdata = i+1;\n",
    "    }\n",
    "    p->next = NULL;\n",
    "    return head;\n",
    "}"
   ]
  },
  {
   "cell_type": "markdown",
   "id": "1e1e23e0",
   "metadata": {},
   "source": [
    "Main part of the program:"
   ]
  },
  {
   "cell_type": "code",
   "execution_count": 7,
   "id": "77c55521",
   "metadata": {},
   "outputs": [
    {
     "name": "stdout",
     "output_type": "stream",
     "text": [
      "38 : 39088169\n",
      "39 : 63245986\n",
      "40 : 102334155\n",
      "41 : 165580141\n",
      "42 : 267914296\n",
      "43 : 433494437\n",
      "Compute Time: 10.355958 seconds\n"
     ]
    }
   ],
   "source": [
    "double start, end;\n",
    "struct node *p=NULL;\n",
    "struct node *temp=NULL;\n",
    "struct node *head=NULL;\n",
    "\n",
    "p = init_list(p); //initialize linked list\n",
    "head = p; //start processwork with head\n",
    "\n",
    "start = omp_get_wtime();\n",
    "{\n",
    "    while (p != NULL) {\n",
    "       processwork(p); //each node will compute N fibonacci numbers starting with FS\n",
    "       p = p->next;\n",
    "    }\n",
    "}\n",
    "\n",
    "end = omp_get_wtime();\n",
    "p = head;\n",
    "while (p != NULL) {\n",
    "    printf(\"%d : %d\\n\",p->data, p->fibdata);\n",
    "    temp = p->next;\n",
    "    free (p);\n",
    "    p = temp;\n",
    "}\n",
    "free (p);\n",
    "\n",
    "printf(\"Compute Time: %f seconds\\n\", end - start);"
   ]
  },
  {
   "cell_type": "markdown",
   "id": "e730c48b",
   "metadata": {},
   "source": [
    "### After successful execution, you can compare with the solution:"
   ]
  },
  {
   "cell_type": "code",
   "execution_count": null,
   "id": "f52c9776",
   "metadata": {
    "scrolled": true
   },
   "outputs": [],
   "source": [
    "int num_threads = 2;\n",
    "omp_set_num_threads(num_threads);\n",
    "\n",
    "double start, end;\n",
    "struct node *p=NULL;\n",
    "struct node *temp=NULL;\n",
    "struct node *head=NULL;\n",
    "\n",
    "p = init_list(p);\n",
    "head = p;\n",
    "\n",
    "start = omp_get_wtime();\n",
    "\n",
    "#pragma omp parallel \n",
    "{\n",
    "    #pragma omp master\n",
    "        printf(\"Threads:      %d\\n\", omp_get_num_threads());\n",
    "\n",
    "        #pragma omp single\n",
    "        {\n",
    "            p=head;\n",
    "            while (p) {\n",
    "                #pragma omp task firstprivate(p) //first private is required\n",
    "                {\n",
    "                    processwork(p);\n",
    "                }\n",
    "              p = p->next;\n",
    "           }\n",
    "        }\n",
    "}\n",
    "\n",
    "end = omp_get_wtime();\n",
    "p = head;\n",
    "while (p != NULL) {\n",
    "    printf(\"%d : %d\\n\",p->data, p->fibdata);\n",
    "    temp = p->next;\n",
    "    free (p);\n",
    "    p = temp;\n",
    "}  \n",
    "free (p);\n",
    "\n",
    "printf(\"Compute Time: %f seconds\\n\", end - start);"
   ]
  }
 ],
 "metadata": {
  "kernelspec": {
   "display_name": "C++14 with OpenMP and MPI",
   "language": "C++14",
   "name": "xcpp14"
  },
  "language_info": {
   "codemirror_mode": "text/x-c++src",
   "file_extension": ".cpp",
   "mimetype": "text/x-c++src",
   "name": "c++",
   "version": "14"
  }
 },
 "nbformat": 4,
 "nbformat_minor": 5
}

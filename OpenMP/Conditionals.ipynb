{
 "cells": [
  {
   "cell_type": "markdown",
   "id": "4f662db0",
   "metadata": {},
   "source": [
    "## Conditionals"
   ]
  },
  {
   "cell_type": "markdown",
   "id": "f8bb4dac",
   "metadata": {},
   "source": [
    "Similar to any programming language OpenMP also has conditional statements. "
   ]
  },
  {
   "cell_type": "code",
   "execution_count": null,
   "id": "e032500c",
   "metadata": {},
   "outputs": [],
   "source": [
    "%%file conditionals.c\n",
    "#include <stdio.h>\n",
    "#include <omp.h>\n",
    "\n",
    "int main()\n",
    "{\n",
    "    int rank;\n",
    "\n",
    "    #ifdef _OPENMP\n",
    "        //this code block is executed only when\n",
    "        //compiled with OpenMP, otherwise it is ignored\n",
    "        printf(\"%d avail.processors\\n\", omp_get_num_procs());\n",
    "    #endif\n",
    "\n",
    "    #ifdef _OPENMP\n",
    "    #pragma omp parallel num_threads(4) private(rank)\n",
    "    {\n",
    "        rank = omp_get_thread_num();\n",
    "        int nr_threads = omp_get_num_threads();\n",
    "        printf(\"I am thread %i of %i threads\\n\", rank, nr_threads);\n",
    "    }\n",
    "    #else\n",
    "    {\n",
    "        printf(\"This program is not compiled with OpenMP\\n\");\n",
    "    }\n",
    "    #endif\n",
    "\n",
    "}"
   ]
  },
  {
   "cell_type": "code",
   "execution_count": null,
   "id": "6479d31f",
   "metadata": {},
   "outputs": [],
   "source": [
    "!gcc conditionals.c -o conditionals -fopenmp"
   ]
  },
  {
   "cell_type": "code",
   "execution_count": null,
   "id": "4b022892",
   "metadata": {},
   "outputs": [],
   "source": [
    "!./conditionals"
   ]
  }
 ],
 "metadata": {
  "kernelspec": {
   "display_name": "C++14 with OpenMP and MPI",
   "language": "C++14",
   "name": "xcpp14"
  },
  "language_info": {
   "codemirror_mode": "text/x-c++src",
   "file_extension": ".cpp",
   "mimetype": "text/x-c++src",
   "name": "c++",
   "version": "14"
  }
 },
 "nbformat": 4,
 "nbformat_minor": 5
}

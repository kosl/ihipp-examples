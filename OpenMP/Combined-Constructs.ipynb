{
 "cells": [
  {
   "cell_type": "markdown",
   "id": "27d39f6b",
   "metadata": {},
   "source": [
    "# OpenMP *reduction* clause"
   ]
  },
  {
   "cell_type": "markdown",
   "id": "c8734443",
   "metadata": {},
   "source": [
    "The reduction clause can be used to perform recurrence calculations in parallel. We must provide:\n",
    "* an operation (+ / * / o)\n",
    "* a reduction variable\n",
    "\n",
    "        reduction (operator:list)\n",
    "        \n",
    "For example, the following for loop"
   ]
  },
  {
   "cell_type": "code",
   "execution_count": 13,
   "id": "17aa0762",
   "metadata": {},
   "outputs": [
    {
     "name": "stdout",
     "output_type": "stream",
     "text": [
      "sum: 190"
     ]
    }
   ],
   "source": [
    "int sum = 0;\n",
    "for (int i = 0; i<20; i++)\n",
    "{\n",
    "    sum = sum + i;\n",
    "}\n",
    "printf(\"sum: %d\", sum);"
   ]
  },
  {
   "cell_type": "markdown",
   "id": "b3b28e7d",
   "metadata": {},
   "source": [
    "can be parallelized with the *reduction* clause where the operation is *+* and the variable is *sum*:"
   ]
  },
  {
   "cell_type": "code",
   "execution_count": 14,
   "id": "4a6c8636",
   "metadata": {},
   "outputs": [
    {
     "name": "stdout",
     "output_type": "stream",
     "text": [
      "sum: 190"
     ]
    }
   ],
   "source": [
    "#pragma cling load(\"libomp.so\")\n",
    "#include <omp.h>\n",
    "\n",
    "int sum = 0;\n",
    "#pragma omp parallel for reduction(+:sum)\n",
    "for (int i = 0; i<20; i++)\n",
    "{\n",
    "    sum = sum + i;\n",
    "}\n",
    "printf(\"sum: %d\", sum);"
   ]
  }
 ],
 "metadata": {
  "kernelspec": {
   "display_name": "C++14 with OpenMP and MPI",
   "language": "C++14",
   "name": "xcpp14"
  },
  "language_info": {
   "codemirror_mode": "text/x-c++src",
   "file_extension": ".cpp",
   "mimetype": "text/x-c++src",
   "name": "c++",
   "version": "14"
  }
 },
 "nbformat": 4,
 "nbformat_minor": 5
}

{
 "cells": [
  {
   "cell_type": "markdown",
   "id": "e3340e7f",
   "metadata": {},
   "source": [
    "## Sum and substract"
   ]
  },
  {
   "cell_type": "markdown",
   "id": "ece68b17",
   "metadata": {},
   "source": [
    "In this exercise you will get to practice a sum and substract reduction within a combined parallel loop construct.\n",
    "\n",
    "In the exercise we are generating a number of people and these people are substracting our value of apples. What you need to do is parallelize our code. \n",
    "\n",
    "1. Add a parallel region with *for* clause. \n",
    "2. Add two reduction clauses: one that adds people, another that substracts apples. \n",
    "\n",
    "Then answer this:\n",
    "* What happens when we try to make people \"shared\"? Why can't you?"
   ]
  },
  {
   "cell_type": "code",
   "execution_count": null,
   "id": "f79d8dd9",
   "metadata": {
    "scrolled": true
   },
   "outputs": [],
   "source": [
    "%%file reduction.c\n",
    "#include <stdio.h>\n",
    "#include <omp.h>\n",
    "\n",
    "double generate_people(int i, int j)\n",
    "{\n",
    "    return (2 * i + 3 * j); // some dummy return value\n",
    "}\n",
    "\n",
    "int main()\n",
    "    {\n",
    "    int num_threads = 4;\n",
    "    omp_set_num_threads(num_threads);\n",
    "\n",
    "    int num = 10;\n",
    "    int people = 0;\n",
    "    int apples = 5000;\n",
    "\n",
    "    for (int i = 0; i < num; i++) {\n",
    "        for (int j = i+1; j < num; j++) {\n",
    "            int ppl = generate_people(i, j);\n",
    "            people += ppl;\n",
    "            apples -= ppl;\n",
    "        }\n",
    "    }\n",
    "\n",
    "    printf(\"people = %d\\n\", people);\n",
    "    printf(\"apples = %d\", apples);\n",
    "}"
   ]
  },
  {
   "cell_type": "code",
   "execution_count": null,
   "id": "23ce6bf5",
   "metadata": {},
   "outputs": [],
   "source": [
    "!gcc reduction.c -o reduction -fopenmp"
   ]
  },
  {
   "cell_type": "code",
   "execution_count": null,
   "id": "16a473ec",
   "metadata": {},
   "outputs": [],
   "source": [
    "!./reduction"
   ]
  },
  {
   "cell_type": "markdown",
   "id": "ea5562d3",
   "metadata": {},
   "source": [
    "#### After successful execution, you can compare with our solution: "
   ]
  },
  {
   "cell_type": "code",
   "execution_count": null,
   "id": "da5df497",
   "metadata": {},
   "outputs": [],
   "source": [
    "%%file reduction.c\n",
    "#include <stdio.h>\n",
    "#include <omp.h>\n",
    "\n",
    "double generate_people(int i, int j)\n",
    "{\n",
    "    return (2 * i + 3 * j); // some dummy return value\n",
    "}\n",
    "\n",
    "int main()\n",
    "    {\n",
    "    int num_threads = 4;\n",
    "    omp_set_num_threads(num_threads);\n",
    "\n",
    "    int num = 10;\n",
    "    int people = 0;\n",
    "    int apples = 5000;\n",
    "\n",
    "    #pragma omp parallel for reduction(+:people) reduction(-:apples)\n",
    "    for (int i = 0; i < num; i++) {\n",
    "        for (int j = i+1; j < num; j++) {\n",
    "            int ppl = generate_people(i, j);\n",
    "            people += ppl;\n",
    "            apples -= ppl;\n",
    "        }\n",
    "    }\n",
    "\n",
    "    printf(\"people = %d\\n\", people);\n",
    "    printf(\"apples = %d\", apples);\n",
    "}"
   ]
  },
  {
   "cell_type": "code",
   "execution_count": null,
   "id": "d5903b7b",
   "metadata": {},
   "outputs": [],
   "source": [
    "!gcc reduction.c -o reduction -fopenmp"
   ]
  },
  {
   "cell_type": "code",
   "execution_count": null,
   "id": "5b88d4a3",
   "metadata": {},
   "outputs": [],
   "source": [
    "!./reduction"
   ]
  }
 ],
 "metadata": {
  "kernelspec": {
   "display_name": "C++14 with OpenMP and MPI",
   "language": "C++14",
   "name": "xcpp14"
  },
  "language_info": {
   "codemirror_mode": "text/x-c++src",
   "file_extension": ".cpp",
   "mimetype": "text/x-c++src",
   "name": "c++",
   "version": "14"
  }
 },
 "nbformat": 4,
 "nbformat_minor": 5
}

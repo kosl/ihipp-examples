{
 "cells": [
  {
   "cell_type": "markdown",
   "id": "f9f10307",
   "metadata": {},
   "source": [
    "## Exercise 1: Parallel region"
   ]
  },
  {
   "cell_type": "markdown",
   "id": "200e8257",
   "metadata": {},
   "source": [
    "Our goal is to use:\n",
    "* runtime library calls\n",
    "* conditional compilation\n",
    "* environment variables\n",
    "* parallel regions, private and shared clauses\n",
    "\n",
    "This is a simple Hello world example. Please add additional code by following the *TODO* instructions and add conditional compilations *if compiled with OpenMP then*. "
   ]
  },
  {
   "cell_type": "code",
   "execution_count": 18,
   "id": "d8369bf9",
   "metadata": {},
   "outputs": [
    {
     "name": "stdout",
     "output_type": "stream",
     "text": [
      "hello world -1\n"
     ]
    }
   ],
   "source": [
    "#pragma cling load(\"libomp.so\")\n",
    "#include <stdio.h>\n",
    "#include <unistd.h>\n",
    "\n",
    "//TODO: include header file for OpenMP library\n",
    "\n",
    "int i;\n",
    "\n",
    "i = -1;\n",
    "\n",
    "//TODO: put the next code block into a parallel region with 4 threads\n",
    "//TODO: set i to ID of this thread\n",
    "\n",
    "printf(\"hello world %d\\n\", i );"
   ]
  },
  {
   "cell_type": "markdown",
   "id": "feb7442f",
   "metadata": {},
   "source": [
    "### Here is the solution:"
   ]
  },
  {
   "cell_type": "code",
   "execution_count": 19,
   "id": "ad73bf1b",
   "metadata": {},
   "outputs": [
    {
     "name": "stdout",
     "output_type": "stream",
     "text": [
      "hello world 2\n",
      "hello world 1\n",
      "hello world 3\n",
      "hello world 0\n"
     ]
    }
   ],
   "source": [
    "#pragma cling load(\"libomp.so\")\n",
    "#include <stdio.h>\n",
    "#include <unistd.h>\n",
    "\n",
    "#ifdef _OPENMP //conditional compilation because library routines are available only within OpenMP\n",
    "#  include <omp.h> //header file for OpenMP library routines\n",
    "#endif\n",
    "\n",
    "int i;\n",
    "\n",
    "i = -1;\n",
    "\n",
    "//parallel region\n",
    "#pragma omp parallel num_threads(4) private(i) //private-clause that each thread has its own private i variable\n",
    "{\n",
    "    # ifdef _OPENMP //conditional compilation because library routines are available only within OpenMP\n",
    "        i = omp_get_thread_num(); //query the ID of the thread that calls this function\n",
    "    # endif\n",
    "    sleep(1); //storing data into i and reading i in the print statement, one would see the race-condition in the output if one forgets to make i private\n",
    "    printf( \"hello world %d\\n\", i );\n",
    "}"
   ]
  },
  {
   "cell_type": "code",
   "execution_count": null,
   "id": "e3e8f224",
   "metadata": {},
   "outputs": [],
   "source": []
  }
 ],
 "metadata": {
  "kernelspec": {
   "display_name": "C++14 with OpenMP and MPI",
   "language": "C++14",
   "name": "xcpp14"
  },
  "language_info": {
   "codemirror_mode": "text/x-c++src",
   "file_extension": ".cpp",
   "mimetype": "text/x-c++src",
   "name": "c++",
   "version": "14"
  }
 },
 "nbformat": 4,
 "nbformat_minor": 5
}

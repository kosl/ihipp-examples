{
 "cells": [
  {
   "cell_type": "markdown",
   "id": "f9f10307",
   "metadata": {},
   "source": [
    "## Exercise: Parallel region"
   ]
  },
  {
   "cell_type": "markdown",
   "id": "200e8257",
   "metadata": {},
   "source": [
    "Our goal in this exercise is to practice using:\n",
    "* runtime functions\n",
    "* directive format\n",
    "* parallel constructs\n",
    "* private and shared clauses\n",
    "\n",
    "This is a simple Hello world template. What is the expected output? "
   ]
  },
  {
   "cell_type": "code",
   "execution_count": null,
   "id": "063c25fe",
   "metadata": {},
   "outputs": [],
   "source": [
    "#pragma cling load(\"libomp.so\")\n",
    "#include <stdio.h>\n",
    "#include <unistd.h>\n",
    "#include <omp.h>\n",
    "\n",
    "int i;\n",
    "\n",
    "i = -1;\n",
    "\n",
    "printf(\"hello world %d\\n\", i );"
   ]
  },
  {
   "cell_type": "markdown",
   "id": "60146f31",
   "metadata": {},
   "source": [
    "In the above exercise you should:\n",
    "\n",
    "1. Set the desired number of threads to 4 using one of the runtime functions. \n",
    "\n",
    "2. Set variable i to ID of this thread using one of the runtime functions. \n",
    "\n",
    "3. Add a parallel region to make the code run in parallel. \n",
    "\n",
    "4. Add the OpenMP conditional clause when including OpenMP header file and using runtime functions. \n",
    "\n",
    "Before you run the program, what do you think will happen?\n",
    "\n",
    "Now run the program and observe the output. You can change the number of threads to 12 or other and observe the output. Check if you get a race condition. If you could not see the race condition, then apply this trick:\n",
    "\n",
    "5. Add a sleep(1); before the print statement. \n",
    "\n",
    "Run again. To fix the race condition:\n",
    "\n",
    "6. Add a private clause to the parallel region for the variable i.\n",
    "\n",
    "What will happen? Observe the difference in the output. Why is the output different?"
   ]
  },
  {
   "cell_type": "markdown",
   "id": "feb7442f",
   "metadata": {},
   "source": [
    "### Here is the solution to compare and try out:"
   ]
  },
  {
   "cell_type": "code",
   "execution_count": null,
   "id": "ad73bf1b",
   "metadata": {},
   "outputs": [],
   "source": [
    "#pragma cling load(\"libomp.so\")\n",
    "#include <stdio.h>\n",
    "#include <unistd.h>\n",
    "\n",
    "#ifdef _OPENMP //conditional compilation because library routines are available only within OpenMP\n",
    "#  include <omp.h> //header file for OpenMP library routines\n",
    "#endif\n",
    "\n",
    "int i;\n",
    "\n",
    "i = -1;\n",
    "\n",
    "int num_threads = 4;\n",
    "# ifdef _OPENMP\n",
    "    omp_set_num_threads(num_threads); //set the desired number of threads\n",
    "# endif\n",
    "\n",
    "//parallel region\n",
    "#pragma omp parallel private(i) //private-clause that each thread has its own private i variable\n",
    "{\n",
    "    # ifdef _OPENMP\n",
    "        i = omp_get_thread_num(); //query the ID of the thread that calls this function\n",
    "    # endif\n",
    "    sleep(1); //storing data into i and reading i in the print statement, one would see the race-condition in the output if one forgets to make i private\n",
    "    printf( \"hello world %d\\n\", i );\n",
    "}"
   ]
  }
 ],
 "metadata": {
  "kernelspec": {
   "display_name": "C++14 with OpenMP and MPI",
   "language": "C++14",
   "name": "xcpp14"
  },
  "language_info": {
   "codemirror_mode": "text/x-c++src",
   "file_extension": ".cpp",
   "mimetype": "text/x-c++src",
   "name": "c++",
   "version": "14"
  }
 },
 "nbformat": 4,
 "nbformat_minor": 5
}

{
 "cells": [
  {
   "cell_type": "markdown",
   "id": "e5927960",
   "metadata": {},
   "source": [
    "# Exercise 2: Calculate pi with *reduction*"
   ]
  },
  {
   "cell_type": "markdown",
   "id": "3bd6d815",
   "metadata": {},
   "source": [
    "Our goal is to use:\n",
    "* reduction clause\n",
    "* combined parallel worksharing constructs: parallel for\n",
    "\n",
    "This is a continuation of previous exercise when we computed pi. Remove *critical* directive and your additional partial sum variable, then add *reduction* clause and compile. "
   ]
  },
  {
   "cell_type": "code",
   "execution_count": 2,
   "id": "ec9dd54e",
   "metadata": {},
   "outputs": [
    {
     "name": "stdout",
     "output_type": "stream",
     "text": [
      "OpenMP-parallel with 4 threads\n",
      "computed pi =         3.14159265358967\n",
      "CPU time (clock)                =      0.03347 sec\n",
      "wall clock time (omp_get_wtime) =      0.06255 sec\n",
      "wall clock time (gettimeofday)  =      0.06256 sec\n"
     ]
    }
   ],
   "source": [
    "#pragma cling load(\"libomp.so\")\n",
    "#include <stdio.h>\n",
    "#include <time.h>\n",
    "#include <sys/time.h>\n",
    "#include <omp.h>\n",
    "\n",
    "#define f(A) (4.0/(1.0+A*A))\n",
    "\n",
    "//declarations\n",
    "const int n = 10000000;\n",
    "int i;\n",
    "double w, x, sum, pi;\n",
    "clock_t t1, t2;\n",
    "struct timeval tv1, tv2;\n",
    "struct timezone tz;\n",
    "double wt1, wt2;\n",
    "\n",
    "double sum0; //partial sum\n",
    "\n",
    "#   pragma omp parallel num_threads(4)\n",
    "{ \n",
    "#     pragma omp single \n",
    "  printf(\"OpenMP-parallel with %1d threads\\n\", omp_get_num_threads());\n",
    "} /* end omp parallel */\n",
    "# pragma omp barrier\n",
    "\n",
    "gettimeofday(&tv1, &tz);\n",
    "wt1=omp_get_wtime();\n",
    "t1=clock();\n",
    "\n",
    "/* calculate pi = integral [0..1] 4/(1+x**2) dx */\n",
    "w=1.0/n;\n",
    "sum=0.0;\n",
    "#pragma omp parallel num_threads(4) private(x,sum0), shared(w,sum)\n",
    "{\n",
    "    sum0=0.0;\n",
    "    #pragma omp for nowait\n",
    "    for (i=1;i<=n;i++)\n",
    "    {\n",
    "        x=w*((double)i-0.5);\n",
    "        sum0=sum0+f(x);\n",
    "    }\n",
    "    # pragma omp critical\n",
    "    {\n",
    "        sum=sum+sum0;\n",
    "    }\n",
    "} /*end omp parallel*/ \n",
    "pi=w*sum;\n",
    "\n",
    "t2=clock();\n",
    "wt2=omp_get_wtime();\n",
    "gettimeofday(&tv2, &tz);\n",
    "printf( \"computed pi = %24.16g\\n\", pi );\n",
    "printf( \"CPU time (clock)                = %12.4g sec\\n\", (t2-t1)/1000000.0 );\n",
    "printf( \"wall clock time (omp_get_wtime) = %12.4g sec\\n\", wt2-wt1 );\n",
    "printf( \"wall clock time (gettimeofday)  = %12.4g sec\\n\", (tv2.tv_sec-tv1.tv_sec) + (tv2.tv_usec-tv1.tv_usec)*1e-6 );"
   ]
  },
  {
   "cell_type": "markdown",
   "id": "b48e3260",
   "metadata": {},
   "source": [
    "After successful execution, you may compare your result with the provided solution:"
   ]
  },
  {
   "cell_type": "code",
   "execution_count": 8,
   "id": "3a64c8cc",
   "metadata": {},
   "outputs": [
    {
     "name": "stdout",
     "output_type": "stream",
     "text": [
      "OpenMP-parallel with 4 threads\n",
      "computed pi =         3.14159265358967\n",
      "CPU time (clock)                =      0.03343 sec\n",
      "wall clock time (omp_get_wtime) =      0.05709 sec\n",
      "wall clock time (gettimeofday)  =      0.05709 sec\n"
     ]
    }
   ],
   "source": [
    "#pragma cling load(\"libomp.so\")\n",
    "#include <stdio.h>\n",
    "#include <time.h>\n",
    "#include <sys/time.h>\n",
    "#include <omp.h>\n",
    "\n",
    "#define f(A) (4.0/(1.0+A*A))\n",
    "\n",
    "//declarations\n",
    "const int n = 10000000;\n",
    "int i;\n",
    "double w, x, sum, pi;\n",
    "clock_t t1, t2;\n",
    "struct timeval tv1, tv2;\n",
    "struct timezone tz;\n",
    "double wt1, wt2;\n",
    "\n",
    "#   pragma omp parallel num_threads(4)\n",
    "{ \n",
    "#     pragma omp single \n",
    "  printf(\"OpenMP-parallel with %1d threads\\n\", omp_get_num_threads());\n",
    "} /* end omp parallel */\n",
    "# pragma omp barrier\n",
    "\n",
    "gettimeofday(&tv1, &tz);\n",
    "wt1=omp_get_wtime();\n",
    "t1=clock();\n",
    "\n",
    "/* calculate pi = integral [0..1] 4/(1+x**2) dx */\n",
    "w=1.0/n;\n",
    "sum=0.0;\n",
    "#pragma omp parallel num_threads(4) private(x), shared(w,sum)\n",
    "{\n",
    "    #pragma omp for reduction(+:sum)\n",
    "    for (i=1;i<=n;i++)\n",
    "    {\n",
    "        x=w*((double)i-0.5);\n",
    "        sum=sum+f(x);\n",
    "    }\n",
    "} /*end omp parallel*/ \n",
    "pi=w*sum;\n",
    "\n",
    "t2=clock();\n",
    "wt2=omp_get_wtime();\n",
    "gettimeofday(&tv2, &tz);\n",
    "printf( \"computed pi = %24.16g\\n\", pi );\n",
    "printf( \"CPU time (clock)                = %12.4g sec\\n\", (t2-t1)/1000000.0 );\n",
    "printf( \"wall clock time (omp_get_wtime) = %12.4g sec\\n\", wt2-wt1 );\n",
    "printf( \"wall clock time (gettimeofday)  = %12.4g sec\\n\", (tv2.tv_sec-tv1.tv_sec) + (tv2.tv_usec-tv1.tv_usec)*1e-6 );"
   ]
  },
  {
   "cell_type": "markdown",
   "id": "637e7af0",
   "metadata": {},
   "source": [
    "Is the value of pi correct? **Great!** Now change the parallel region so you use the combined construct *parallel for* and compile. "
   ]
  },
  {
   "cell_type": "markdown",
   "id": "261efec5",
   "metadata": {},
   "source": [
    "After successful execution, you may compare your result with the provided solution:"
   ]
  },
  {
   "cell_type": "code",
   "execution_count": 14,
   "id": "99e740a8",
   "metadata": {},
   "outputs": [
    {
     "name": "stdout",
     "output_type": "stream",
     "text": [
      "OpenMP-parallel with 4 threads\n",
      "computed pi =         3.14159265358967\n",
      "CPU time (clock)                =      0.03331 sec\n",
      "wall clock time (omp_get_wtime) =      0.06528 sec\n",
      "wall clock time (gettimeofday)  =      0.06528 sec\n"
     ]
    }
   ],
   "source": [
    "#pragma cling load(\"libomp.so\")\n",
    "#include <stdio.h>\n",
    "#include <time.h>\n",
    "#include <sys/time.h>\n",
    "#include <omp.h>\n",
    "\n",
    "#define f(A) (4.0/(1.0+A*A))\n",
    "\n",
    "//declarations\n",
    "const int n = 10000000;\n",
    "int i;\n",
    "double w, x, sum, pi;\n",
    "clock_t t1, t2;\n",
    "struct timeval tv1, tv2;\n",
    "struct timezone tz;\n",
    "double wt1, wt2;\n",
    "\n",
    "#   pragma omp parallel num_threads(4)\n",
    "{ \n",
    "#     pragma omp single \n",
    "  printf(\"OpenMP-parallel with %1d threads\\n\", omp_get_num_threads());\n",
    "} /* end omp parallel */\n",
    "# pragma omp barrier\n",
    "\n",
    "gettimeofday(&tv1, &tz);\n",
    "wt1=omp_get_wtime();\n",
    "t1=clock();\n",
    "\n",
    "/* calculate pi = integral [0..1] 4/(1+x**2) dx */\n",
    "w=1.0/n;\n",
    "sum=0.0;\n",
    "#pragma omp parallel for private(x) shared(w) reduction(+:sum) num_threads(4)\n",
    "for (i=1;i<=n;i++)\n",
    "{\n",
    "    x=w*((double)i-0.5);\n",
    "    sum=sum+f(x);\n",
    "}\n",
    "/*end omp parallel*/ \n",
    "pi=w*sum;\n",
    "\n",
    "t2=clock();\n",
    "wt2=omp_get_wtime();\n",
    "gettimeofday(&tv2, &tz);\n",
    "printf( \"computed pi = %24.16g\\n\", pi );\n",
    "printf( \"CPU time (clock)                = %12.4g sec\\n\", (t2-t1)/1000000.0 );\n",
    "printf( \"wall clock time (omp_get_wtime) = %12.4g sec\\n\", wt2-wt1 );\n",
    "printf( \"wall clock time (gettimeofday)  = %12.4g sec\\n\", (tv2.tv_sec-tv1.tv_sec) + (tv2.tv_usec-tv1.tv_usec)*1e-6 );"
   ]
  }
 ],
 "metadata": {
  "kernelspec": {
   "display_name": "C++14 with OpenMP and MPI",
   "language": "C++14",
   "name": "xcpp14"
  },
  "language_info": {
   "codemirror_mode": "text/x-c++src",
   "file_extension": ".cpp",
   "mimetype": "text/x-c++src",
   "name": "c++",
   "version": "14"
  }
 },
 "nbformat": 4,
 "nbformat_minor": 5
}

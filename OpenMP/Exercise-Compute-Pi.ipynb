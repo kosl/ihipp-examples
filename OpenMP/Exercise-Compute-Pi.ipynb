{
 "cells": [
  {
   "cell_type": "markdown",
   "id": "cfd06097",
   "metadata": {},
   "source": [
    "## Exercise 2: Calculate pi"
   ]
  },
  {
   "cell_type": "markdown",
   "id": "b29c89ce",
   "metadata": {},
   "source": [
    "Our goal in this exercise is to practice:\n",
    "* worksharing constructs: for\n",
    "* synchronization constructs: critical directive\n",
    "\n",
    "This is a code example of computing pi. In the exercise below you should add a parallel region and *for* directive to the part that computes pi. "
   ]
  },
  {
   "cell_type": "code",
   "execution_count": 10,
   "id": "5828af6d",
   "metadata": {
    "scrolled": true
   },
   "outputs": [
    {
     "name": "stdout",
     "output_type": "stream",
     "text": [
      "OpenMP-parallel with 4 threads\n",
      "computed pi =        3.141592653589731\n",
      "CPU time (clock)                =        0.159 sec\n",
      "wall clock time (omp_get_wtime) =       0.1995 sec\n",
      "wall clock time (gettimeofday)  =       0.1995 sec\n"
     ]
    }
   ],
   "source": [
    "#pragma cling load(\"libomp.so\")\n",
    "#include <stdio.h>\n",
    "#include <time.h>\n",
    "#include <sys/time.h>\n",
    "#include <omp.h>\n",
    "\n",
    "#define f(A) (4.0/(1.0+A*A))\n",
    "\n",
    "int num_threads = 4;\n",
    "omp_set_num_threads(num_threads);\n",
    "\n",
    "//declarations\n",
    "const int n = 10000000;\n",
    "int i;\n",
    "double w, x, sum, pi;\n",
    "clock_t t1, t2;\n",
    "struct timeval tv1, tv2;\n",
    "struct timezone tz;\n",
    "double wt1, wt2;\n",
    "\n",
    "#   pragma omp parallel\n",
    "{ \n",
    "#     pragma omp single \n",
    "  printf(\"OpenMP-parallel with %1d threads\\n\", omp_get_num_threads());\n",
    "} /* end omp parallel */\n",
    "# pragma omp barrier\n",
    "\n",
    "gettimeofday(&tv1, &tz);\n",
    "wt1 = omp_get_wtime();\n",
    "t1 = clock();\n",
    "\n",
    "/* calculate pi = integral [0..1] 4/(1+x**2) dx */\n",
    "w = 1.0/n;\n",
    "sum = 0.0;\n",
    "for (i = 1; i <= n; i++)\n",
    "{\n",
    "    x = w*((double)i-0.5);\n",
    "    sum = sum+f(x);\n",
    "}\n",
    "pi = w*sum;\n",
    " \n",
    "t2 = clock();\n",
    "wt2 = omp_get_wtime();\n",
    "gettimeofday(&tv2, &tz);\n",
    "printf( \"computed pi = %24.16g\\n\", pi );\n",
    "printf( \"CPU time (clock)                = %12.4g sec\\n\", (t2-t1)/1000000.0 );\n",
    "printf( \"wall clock time (omp_get_wtime) = %12.4g sec\\n\", wt2-wt1 );\n",
    "printf( \"wall clock time (gettimeofday)  = %12.4g sec\\n\", (tv2.tv_sec-tv1.tv_sec) + (tv2.tv_usec-tv1.tv_usec)*1e-6 );"
   ]
  },
  {
   "cell_type": "markdown",
   "id": "488ea6f9",
   "metadata": {},
   "source": [
    "Is the calculation correct? Test it out more than once and try to find the race-condition. "
   ]
  },
  {
   "cell_type": "markdown",
   "id": "9a7b41ef",
   "metadata": {},
   "source": [
    "Compare your incomplete solution with this incomplete solution:"
   ]
  },
  {
   "cell_type": "code",
   "execution_count": 6,
   "id": "c7d105b5",
   "metadata": {},
   "outputs": [
    {
     "name": "stdout",
     "output_type": "stream",
     "text": [
      "OpenMP-parallel with 4 threads\n",
      "computed pi =        1.169188131363253\n",
      "CPU time (clock)                =      0.03598 sec\n",
      "wall clock time (omp_get_wtime) =      0.05974 sec\n",
      "wall clock time (gettimeofday)  =      0.05974 sec\n"
     ]
    }
   ],
   "source": [
    "#pragma cling load(\"libomp.so\")\n",
    "#include <stdio.h>\n",
    "#include <time.h>\n",
    "#include <sys/time.h>\n",
    "#include <omp.h>\n",
    "\n",
    "#define f(A) (4.0/(1.0+A*A))\n",
    "\n",
    "int num_threads = 4;\n",
    "omp_set_num_threads(num_threads);\n",
    "\n",
    "//declarations\n",
    "const int n = 10000000;\n",
    "int i;\n",
    "double w, x, sum, pi;\n",
    "clock_t t1, t2;\n",
    "struct timeval tv1, tv2;\n",
    "struct timezone tz;\n",
    "double wt1, wt2;\n",
    "\n",
    "#   pragma omp parallel\n",
    "{ \n",
    "#     pragma omp single \n",
    "  printf(\"OpenMP-parallel with %1d threads\\n\", omp_get_num_threads());\n",
    "} /* end omp parallel */\n",
    "# pragma omp barrier\n",
    "\n",
    "gettimeofday(&tv1, &tz);\n",
    "wt1 = omp_get_wtime();\n",
    "t1 = clock();\n",
    "\n",
    "/* calculate pi = integral [0..1] 4/(1+x**2) dx */\n",
    "w = 1.0/n;\n",
    "sum = 0.0;\n",
    "#pragma omp parallel\n",
    "{\n",
    "    #pragma omp for\n",
    "    for (i = 1; i <= n; i++)\n",
    "    {\n",
    "        x = w*((double)i-0.5);\n",
    "        sum = sum+f(x);\n",
    "    }\n",
    "} /*end omp parallel*/ \n",
    "pi = w*sum;\n",
    "\n",
    "t2 = clock();\n",
    "wt2 = omp_get_wtime();\n",
    "gettimeofday(&tv2, &tz);\n",
    "printf( \"computed pi = %24.16g\\n\", pi );\n",
    "printf( \"CPU time (clock)                = %12.4g sec\\n\", (t2-t1)/1000000.0 );\n",
    "printf( \"wall clock time (omp_get_wtime) = %12.4g sec\\n\", wt2-wt1 );\n",
    "printf( \"wall clock time (gettimeofday)  = %12.4g sec\\n\", (tv2.tv_sec-tv1.tv_sec) + (tv2.tv_usec-tv1.tv_usec)*1e-6 );"
   ]
  },
  {
   "cell_type": "markdown",
   "id": "eb5282fc",
   "metadata": {},
   "source": [
    "Add private(x) clause. Is it still incorrect?"
   ]
  },
  {
   "cell_type": "markdown",
   "id": "faf2f063",
   "metadata": {},
   "source": [
    "Compare with our incomplete solution below:"
   ]
  },
  {
   "cell_type": "code",
   "execution_count": 8,
   "id": "419dd0d9",
   "metadata": {},
   "outputs": [
    {
     "name": "stdout",
     "output_type": "stream",
     "text": [
      "OpenMP-parallel with 4 threads\n",
      "computed pi =       0.9367670240268653\n",
      "CPU time (clock)                =      0.03355 sec\n",
      "wall clock time (omp_get_wtime) =      0.05609 sec\n",
      "wall clock time (gettimeofday)  =      0.05609 sec\n"
     ]
    }
   ],
   "source": [
    "#pragma cling load(\"libomp.so\")\n",
    "#include <stdio.h>\n",
    "#include <time.h>\n",
    "#include <sys/time.h>\n",
    "#include <omp.h>\n",
    "\n",
    "#define f(A) (4.0/(1.0+A*A))\n",
    "\n",
    "int num_threads = 4;\n",
    "omp_set_num_threads(num_threads);\n",
    "\n",
    "//declarations\n",
    "const int n = 10000000;\n",
    "int i;\n",
    "double w, x, sum, pi;\n",
    "clock_t t1, t2;\n",
    "struct timeval tv1, tv2;\n",
    "struct timezone tz;\n",
    "double wt1, wt2;\n",
    "\n",
    "#   pragma omp parallel\n",
    "{ \n",
    "#     pragma omp single \n",
    "  printf(\"OpenMP-parallel with %1d threads\\n\", omp_get_num_threads());\n",
    "} /* end omp parallel */\n",
    "# pragma omp barrier\n",
    "\n",
    "gettimeofday(&tv1, &tz);\n",
    "wt1 = omp_get_wtime();\n",
    "t1 = clock();\n",
    "\n",
    "/* calculate pi = integral [0..1] 4/(1+x**2) dx */\n",
    "w = 1.0/n;\n",
    "sum = 0.0;\n",
    "#pragma omp parallel private(x), shared(w,sum)\n",
    "{\n",
    "    #pragma omp for\n",
    "    for (i = 1; i <= n; i++)\n",
    "    {\n",
    "        x = w*((double)i-0.5);\n",
    "        sum = sum+f(x);\n",
    "    }\n",
    "} /*end omp parallel*/ \n",
    "pi = w*sum;\n",
    "\n",
    "t2 = clock();\n",
    "wt2 = omp_get_wtime();\n",
    "gettimeofday(&tv2, &tz);\n",
    "printf( \"computed pi = %24.16g\\n\", pi );\n",
    "printf( \"CPU time (clock)                = %12.4g sec\\n\", (t2-t1)/1000000.0 );\n",
    "printf( \"wall clock time (omp_get_wtime) = %12.4g sec\\n\", wt2-wt1 );\n",
    "printf( \"wall clock time (gettimeofday)  = %12.4g sec\\n\", (tv2.tv_sec-tv1.tv_sec) + (tv2.tv_usec-tv1.tv_usec)*1e-6 );"
   ]
  },
  {
   "cell_type": "markdown",
   "id": "d81a2828",
   "metadata": {},
   "source": [
    "Now add a *critical* directive around the sum statement and compile."
   ]
  },
  {
   "cell_type": "markdown",
   "id": "395108fb",
   "metadata": {},
   "source": [
    "After successful execution, you may compare your result with the provided solution:"
   ]
  },
  {
   "cell_type": "code",
   "execution_count": null,
   "id": "1254ef98",
   "metadata": {},
   "outputs": [],
   "source": [
    "#pragma cling load(\"libomp.so\")\n",
    "#include <stdio.h>\n",
    "#include <time.h>\n",
    "#include <sys/time.h>\n",
    "#include <omp.h>\n",
    "\n",
    "#define f(A) (4.0/(1.0+A*A))\n",
    "\n",
    "int num_threads = 4;\n",
    "omp_set_num_threads(num_threads);\n",
    "\n",
    "//declarations\n",
    "const int n = 10000000;\n",
    "int i;\n",
    "double w, x, sum, pi;\n",
    "clock_t t1, t2;\n",
    "struct timeval tv1, tv2;\n",
    "struct timezone tz;\n",
    "double wt1, wt2;\n",
    "\n",
    "#   pragma omp parallel\n",
    "{ \n",
    "#     pragma omp single \n",
    "  printf(\"OpenMP-parallel with %1d threads\\n\", omp_get_num_threads());\n",
    "} /* end omp parallel */\n",
    "# pragma omp barrier\n",
    "\n",
    "gettimeofday(&tv1, &tz);\n",
    "wt1 = omp_get_wtime();\n",
    "t1 = clock();\n",
    "\n",
    "/* calculate pi = integral [0..1] 4/(1+x**2) dx */\n",
    "w = 1.0/n;\n",
    "sum = 0.0;\n",
    "#pragma omp parallel private(x), shared(w,sum)\n",
    "{\n",
    "    #pragma omp for\n",
    "    for (i = 1; i <= n; i++)\n",
    "    {\n",
    "        x = w*((double)i-0.5);\n",
    "        /* the critical region inside of a loop with many\n",
    "       iterations may cause a huge overhead */  \n",
    "        #pragma omp critical\n",
    "        {\n",
    "            sum = sum+f(x);\n",
    "        }\n",
    "    }\n",
    "} /*end omp parallel*/ \n",
    "pi = w*sum;\n",
    "\n",
    "t2 = clock();\n",
    "wt2 = omp_get_wtime();\n",
    "gettimeofday(&tv2, &tz);\n",
    "printf( \"computed pi = %24.16g\\n\", pi );\n",
    "printf( \"CPU time (clock)                = %12.4g sec\\n\", (t2-t1)/1000000.0 );\n",
    "printf( \"wall clock time (omp_get_wtime) = %12.4g sec\\n\", wt2-wt1 );\n",
    "printf( \"wall clock time (gettimeofday)  = %12.4g sec\\n\", (tv2.tv_sec-tv1.tv_sec) + (tv2.tv_usec-tv1.tv_usec)*1e-6 );"
   ]
  },
  {
   "cell_type": "markdown",
   "id": "54a1e0c5",
   "metadata": {},
   "source": [
    "The value of pi is correct but the execution time is too long. How can you optimize your code?"
   ]
  },
  {
   "cell_type": "markdown",
   "id": "aaeb7c55",
   "metadata": {},
   "source": [
    "Try moving *critical* directive outside of a loop and compile. "
   ]
  },
  {
   "cell_type": "markdown",
   "id": "8ae99d14",
   "metadata": {},
   "source": [
    "Compare the CPU time for the template program and CPU time for our solution. Have we significantly optimized our code?"
   ]
  },
  {
   "cell_type": "markdown",
   "id": "98a84f64",
   "metadata": {},
   "source": [
    "### After successful execution, you may compare your result with the provided solution:"
   ]
  },
  {
   "cell_type": "code",
   "execution_count": 14,
   "id": "68b6811f",
   "metadata": {},
   "outputs": [
    {
     "name": "stdout",
     "output_type": "stream",
     "text": [
      "OpenMP-parallel with 4 threads\n",
      "computed pi =         3.14159265358967\n",
      "CPU time (clock)                =      0.03397 sec\n",
      "wall clock time (omp_get_wtime) =      0.06564 sec\n",
      "wall clock time (gettimeofday)  =      0.06565 sec\n"
     ]
    }
   ],
   "source": [
    "#pragma cling load(\"libomp.so\")\n",
    "#include <stdio.h>\n",
    "#include <time.h>\n",
    "#include <sys/time.h>\n",
    "#include <omp.h>\n",
    "\n",
    "#define f(A) (4.0/(1.0+A*A))\n",
    "\n",
    "int num_threads = 4;\n",
    "omp_set_num_threads(num_threads);\n",
    "\n",
    "//declarations\n",
    "const int n = 10000000;\n",
    "int i;\n",
    "double w, x, sum, pi;\n",
    "clock_t t1, t2;\n",
    "struct timeval tv1, tv2;\n",
    "struct timezone tz;\n",
    "double wt1, wt2;\n",
    "\n",
    "double sum0; //partial sum\n",
    "\n",
    "#   pragma omp parallel\n",
    "{ \n",
    "#     pragma omp single \n",
    "  printf(\"OpenMP-parallel with %1d threads\\n\", omp_get_num_threads());\n",
    "} /* end omp parallel */\n",
    "# pragma omp barrier\n",
    "\n",
    "gettimeofday(&tv1, &tz);\n",
    "wt1 = omp_get_wtime();\n",
    "t1 = clock();\n",
    "\n",
    "/* calculate pi = integral [0..1] 4/(1+x**2) dx */\n",
    "w = 1.0/n;\n",
    "sum = 0.0;\n",
    "#pragma omp parallel private(x,sum0), shared(w,sum)\n",
    "{\n",
    "    sum0 = 0.0;\n",
    "    #pragma omp for nowait\n",
    "    for (i = 1; i <= n; i++)\n",
    "    {\n",
    "        x = w*((double)i-0.5);\n",
    "        sum0 = sum0+f(x);\n",
    "    }\n",
    "    # pragma omp critical\n",
    "    {\n",
    "        sum = sum+sum0;\n",
    "    }\n",
    "} /*end omp parallel*/ \n",
    "pi = w*sum;\n",
    "\n",
    "t2 = clock();\n",
    "wt2 = omp_get_wtime();\n",
    "gettimeofday(&tv2, &tz);\n",
    "printf( \"computed pi = %24.16g\\n\", pi );\n",
    "printf( \"CPU time (clock)                = %12.4g sec\\n\", (t2-t1)/1000000.0 );\n",
    "printf( \"wall clock time (omp_get_wtime) = %12.4g sec\\n\", wt2-wt1 );\n",
    "printf( \"wall clock time (gettimeofday)  = %12.4g sec\\n\", (tv2.tv_sec-tv1.tv_sec) + (tv2.tv_usec-tv1.tv_usec)*1e-6 );"
   ]
  }
 ],
 "metadata": {
  "kernelspec": {
   "display_name": "C++14 with OpenMP and MPI",
   "language": "C++14",
   "name": "xcpp14"
  },
  "language_info": {
   "codemirror_mode": "text/x-c++src",
   "file_extension": ".cpp",
   "mimetype": "text/x-c++src",
   "name": "c++",
   "version": "14"
  }
 },
 "nbformat": 4,
 "nbformat_minor": 5
}

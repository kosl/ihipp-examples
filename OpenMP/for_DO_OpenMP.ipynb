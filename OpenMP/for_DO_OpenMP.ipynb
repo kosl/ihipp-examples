{
  "nbformat": 4,
  "nbformat_minor": 0,
  "metadata": {
    "colab": {
      "name": "for_DO_OpenMP.ipynb",
      "provenance": [],
      "collapsed_sections": []
    },
    "kernelspec": {
      "name": "python3",
      "display_name": "Python 3"
    },
    "language_info": {
      "name": "python"
    }
  },
  "cells": [
    {
      "cell_type": "code",
      "metadata": {
        "colab": {
          "base_uri": "https://localhost:8080/"
        },
        "id": "mZbKbqoQFHD4",
        "outputId": "596ad1d5-7b1c-42ad-a3aa-0d897e75f76e"
      },
      "source": [
        "%%file vector_add.c\n",
        "#include <stdio.h>\n",
        "#include <stdlib.h>\n",
        "#include <omp.h>\n",
        "#define CHUNKSIZE 202\n",
        "#define N     2020\n",
        "\n",
        "int main(int argc, char** argv){\n",
        "\n",
        "int i, chunk;\n",
        "float a[N], b[N], c[N];\n",
        "\n",
        "/* Some initializations */\n",
        "for (i=1; i <= N; i++){\n",
        "  a[i] = i * 1.0;\n",
        "  b[i] = 2020.0 - a[i];\n",
        "}\n",
        "chunk = CHUNKSIZE;\n",
        "\n",
        "#pragma omp parallel shared(a,b,c,chunk) private(i)\n",
        "  {\n",
        "\n",
        "  #pragma omp for schedule(dynamic,chunk) nowait\n",
        "  for (i=1; i <= N; i++)\n",
        "    c[i] = a[i] + b[i];\n",
        "\n",
        "  }  /* end of parallel section */\n",
        "  \n",
        "  for(i = 1; i <= N; i++){\n",
        "        if (i % 101 == 0)\n",
        "          printf(\"%.5f + %.5f = %.5f\\n\", a[i], b[i], c[i]);\n",
        "    }\n",
        "}"
      ],
      "execution_count": 1,
      "outputs": [
        {
          "output_type": "stream",
          "name": "stdout",
          "text": [
            "Overwriting vector_add.c\n"
          ]
        }
      ]
    },
    {
      "cell_type": "code",
      "metadata": {
        "id": "uD4pFPAYGyze"
      },
      "source": [
        "!gcc vector_add.c -o vector_add -fopenmp"
      ],
      "execution_count": 2,
      "outputs": []
    },
    {
      "cell_type": "code",
      "metadata": {
        "colab": {
          "base_uri": "https://localhost:8080/"
        },
        "id": "Jg6E6d46F5ey",
        "outputId": "9a563657-46a7-4598-9b22-4f70976b950b"
      },
      "source": [
        "!./vector_add"
      ],
      "execution_count": 3,
      "outputs": [
        {
          "output_type": "stream",
          "name": "stdout",
          "text": [
            "101.00000 + 1919.00000 = 2020.00000\n",
            "202.00000 + 1818.00000 = 2020.00000\n",
            "303.00000 + 1717.00000 = 2020.00000\n",
            "404.00000 + 1616.00000 = 2020.00000\n",
            "505.00000 + 1515.00000 = 2020.00000\n",
            "606.00000 + 1414.00000 = 2020.00000\n",
            "707.00000 + 1313.00000 = 2020.00000\n",
            "808.00000 + 1212.00000 = 2020.00000\n",
            "909.00000 + 1111.00000 = 2020.00000\n",
            "1010.00000 + 1010.00000 = 2020.00000\n",
            "1111.00000 + 909.00000 = 2020.00000\n",
            "1212.00000 + 808.00000 = 2020.00000\n",
            "1313.00000 + 707.00000 = 2020.00000\n",
            "1414.00000 + 606.00000 = 2020.00000\n",
            "1515.00000 + 505.00000 = 2020.00000\n",
            "1616.00000 + 404.00000 = 2020.00000\n",
            "1717.00000 + 303.00000 = 2020.00000\n",
            "1818.00000 + 202.00000 = 2020.00000\n",
            "1919.00000 + 101.00000 = 2020.00000\n",
            "2020.00000 + 0.00000 = 2020.00000\n"
          ]
        }
      ]
    },
    {
      "cell_type": "code",
      "metadata": {
        "colab": {
          "base_uri": "https://localhost:8080/"
        },
        "id": "_jDgu93QHdyJ",
        "outputId": "671a6d02-29dd-49cd-c30e-d88639eb9b4a"
      },
      "source": [
        "%%file vector_add.f90\n",
        "      PROGRAM VECTOR_ADD\n",
        "\n",
        "      INTEGER N, CHUNKSIZE, CHUNK, I\n",
        "      PARAMETER (N=2020) \n",
        "      PARAMETER (CHUNKSIZE=202) \n",
        "      REAL A(N), B(N), C(N)\n",
        "\n",
        "!     Some initializations\n",
        "      DO I = 1, N\n",
        "        A(I) = I * 1.0\n",
        "        B(I) = 2020.0 - A(I)\n",
        "      ENDDO\n",
        "      CHUNK = CHUNKSIZE\n",
        "        \n",
        "!$OMP PARALLEL SHARED(A,B,C,CHUNK) PRIVATE(I)\n",
        "\n",
        "!$OMP DO SCHEDULE(DYNAMIC,CHUNK)\n",
        "      DO I = 1, N\n",
        "         C(I) = A(I) + B(I)\n",
        "      ENDDO\n",
        "!$OMP END DO NOWAIT\n",
        "\n",
        "!$OMP END PARALLEL\n",
        "\n",
        "      DO I = 1, N\n",
        "        IF (MOD(I, 101) == 0) THEN\n",
        "          PRINT *,  A(I), \"+\", B(I), \"=\", C(I)\n",
        "        END IF\n",
        "      ENDDO\n",
        "\n",
        "      END\n"
      ],
      "execution_count": 4,
      "outputs": [
        {
          "output_type": "stream",
          "name": "stdout",
          "text": [
            "Overwriting vector_add.f90\n"
          ]
        }
      ]
    },
    {
      "cell_type": "code",
      "metadata": {
        "id": "fy9mKwO1KIeu"
      },
      "source": [
        "!gfortran vector_add.f90 -o vector_add.exe -fopenmp"
      ],
      "execution_count": 5,
      "outputs": []
    },
    {
      "cell_type": "code",
      "metadata": {
        "colab": {
          "base_uri": "https://localhost:8080/"
        },
        "id": "0P4DoVjJLYIr",
        "outputId": "8584e784-b80d-4c1f-99ee-d29ac4b7bbbb"
      },
      "source": [
        "!./vector_add.exe"
      ],
      "execution_count": 6,
      "outputs": [
        {
          "output_type": "stream",
          "name": "stdout",
          "text": [
            "   101.000000     +   1919.00000     =   2020.00000    \n",
            "   202.000000     +   1818.00000     =   2020.00000    \n",
            "   303.000000     +   1717.00000     =   2020.00000    \n",
            "   404.000000     +   1616.00000     =   2020.00000    \n",
            "   505.000000     +   1515.00000     =   2020.00000    \n",
            "   606.000000     +   1414.00000     =   2020.00000    \n",
            "   707.000000     +   1313.00000     =   2020.00000    \n",
            "   808.000000     +   1212.00000     =   2020.00000    \n",
            "   909.000000     +   1111.00000     =   2020.00000    \n",
            "   1010.00000     +   1010.00000     =   2020.00000    \n",
            "   1111.00000     +   909.000000     =   2020.00000    \n",
            "   1212.00000     +   808.000000     =   2020.00000    \n",
            "   1313.00000     +   707.000000     =   2020.00000    \n",
            "   1414.00000     +   606.000000     =   2020.00000    \n",
            "   1515.00000     +   505.000000     =   2020.00000    \n",
            "   1616.00000     +   404.000000     =   2020.00000    \n",
            "   1717.00000     +   303.000000     =   2020.00000    \n",
            "   1818.00000     +   202.000000     =   2020.00000    \n",
            "   1919.00000     +   101.000000     =   2020.00000    \n",
            "   2020.00000     +   0.00000000     =   2020.00000    \n"
          ]
        }
      ]
    }
  ]
}
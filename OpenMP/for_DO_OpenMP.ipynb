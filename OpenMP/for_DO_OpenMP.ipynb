{
 "cells": [
  {
   "cell_type": "markdown",
   "metadata": {},
   "source": [
    "## FOR OpenMP construct in C"
   ]
  },
  {
   "cell_type": "code",
   "execution_count": null,
   "metadata": {
    "colab": {
     "base_uri": "https://localhost:8080/"
    },
    "id": "mZbKbqoQFHD4",
    "outputId": "596ad1d5-7b1c-42ad-a3aa-0d897e75f76e"
   },
   "outputs": [],
   "source": [
    "%%file vector_add.c\n",
    "#include <stdio.h>\n",
    "#include <stdlib.h>\n",
    "#include <omp.h>\n",
    "#define CHUNKSIZE 202\n",
    "#define N     2021\n",
    "\n",
    "int main(int argc, char** argv){\n",
    "\n",
    "int i, chunk;\n",
    "float a[N], b[N], c[N];\n",
    "\n",
    "/* Some initializations */\n",
    "for (i=1; i <= N; i++){\n",
    "  a[i] = i * 1.0;\n",
    "  b[i] = 2020.0 - a[i];\n",
    "}\n",
    "chunk = CHUNKSIZE;\n",
    "\n",
    "#pragma omp parallel shared(a,b,c,chunk) private(i)\n",
    "  {\n",
    "\n",
    "  #pragma omp for schedule(dynamic,chunk) nowait\n",
    "  for (i=1; i <= N; i++)\n",
    "    c[i] = a[i] + b[i];\n",
    "\n",
    "  }  /* end of parallel section */\n",
    "  \n",
    "  for(i = 1; i <= N; i++){\n",
    "        if (i % 101 == 0)\n",
    "          printf(\"%.5f + %.5f = %.5f\\n\", a[i], b[i], c[i]);\n",
    "    }\n",
    "  \n",
    "  return 0;\n",
    "}"
   ]
  },
  {
   "cell_type": "code",
   "execution_count": null,
   "metadata": {
    "id": "uD4pFPAYGyze"
   },
   "outputs": [],
   "source": [
    "!gcc vector_add.c -o vector_add -fopenmp"
   ]
  },
  {
   "cell_type": "code",
   "execution_count": null,
   "metadata": {
    "colab": {
     "base_uri": "https://localhost:8080/"
    },
    "id": "Jg6E6d46F5ey",
    "outputId": "9a563657-46a7-4598-9b22-4f70976b950b"
   },
   "outputs": [],
   "source": [
    "!./vector_add"
   ]
  },
  {
   "cell_type": "markdown",
   "metadata": {},
   "source": [
    "## DO OpenMP construct in Fortran"
   ]
  },
  {
   "cell_type": "code",
   "execution_count": null,
   "metadata": {
    "colab": {
     "base_uri": "https://localhost:8080/"
    },
    "id": "_jDgu93QHdyJ",
    "outputId": "671a6d02-29dd-49cd-c30e-d88639eb9b4a"
   },
   "outputs": [],
   "source": [
    "%%file vector_add.f90\n",
    "      PROGRAM VECTOR_ADD\n",
    "\n",
    "      INTEGER N, CHUNKSIZE, CHUNK, I\n",
    "      PARAMETER (N=2020) \n",
    "      PARAMETER (CHUNKSIZE=202) \n",
    "      REAL A(N), B(N), C(N)\n",
    "\n",
    "!     Some initializations\n",
    "      DO I = 1, N\n",
    "        A(I) = I * 1.0\n",
    "        B(I) = 2020.0 - A(I)\n",
    "      ENDDO\n",
    "      CHUNK = CHUNKSIZE\n",
    "        \n",
    "!$OMP PARALLEL SHARED(A,B,C,CHUNK) PRIVATE(I)\n",
    "\n",
    "!$OMP DO SCHEDULE(DYNAMIC,CHUNK)\n",
    "      DO I = 1, N\n",
    "         C(I) = A(I) + B(I)\n",
    "      ENDDO\n",
    "!$OMP END DO NOWAIT\n",
    "\n",
    "!$OMP END PARALLEL\n",
    "\n",
    "      DO I = 1, N\n",
    "        IF (MOD(I, 101) == 0) THEN\n",
    "          PRINT *,  A(I), \"+\", B(I), \"=\", C(I)\n",
    "        END IF\n",
    "      ENDDO\n",
    "\n",
    "      END\n"
   ]
  },
  {
   "cell_type": "code",
   "execution_count": null,
   "metadata": {
    "id": "fy9mKwO1KIeu"
   },
   "outputs": [],
   "source": [
    "!gfortran vector_add.f90 -o vector_add.exe -fopenmp"
   ]
  },
  {
   "cell_type": "code",
   "execution_count": null,
   "metadata": {
    "colab": {
     "base_uri": "https://localhost:8080/"
    },
    "id": "0P4DoVjJLYIr",
    "outputId": "8584e784-b80d-4c1f-99ee-d29ac4b7bbbb"
   },
   "outputs": [],
   "source": [
    "!./vector_add.exe"
   ]
  }
 ],
 "metadata": {
  "colab": {
   "collapsed_sections": [],
   "name": "for_DO_OpenMP.ipynb",
   "provenance": []
  },
  "kernelspec": {
   "display_name": "Python 3 (ipykernel)",
   "language": "python",
   "name": "python3"
  },
  "language_info": {
   "codemirror_mode": {
    "name": "ipython",
    "version": 3
   },
   "file_extension": ".py",
   "mimetype": "text/x-python",
   "name": "python",
   "nbconvert_exporter": "python",
   "pygments_lexer": "ipython3",
   "version": "3.9.7"
  }
 },
 "nbformat": 4,
 "nbformat_minor": 1
}

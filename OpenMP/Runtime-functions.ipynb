{
 "cells": [
  {
   "cell_type": "markdown",
   "id": "aa8ae55e",
   "metadata": {},
   "source": [
    "## Runtime functions, variables and constructs"
   ]
  },
  {
   "cell_type": "markdown",
   "id": "80725519",
   "metadata": {},
   "source": [
    "Answer the following questions about the code below. \n",
    "* What is the expected output? What are the values of `rank` and `nr_threads`?\n",
    "* Is the output always the same? What order are the threads printing in?\n",
    "* What would happen if we change the number of threads to 12? "
   ]
  },
  {
   "cell_type": "code",
   "execution_count": null,
   "id": "30da583d",
   "metadata": {},
   "outputs": [],
   "source": [
    "%%file hello_world.c\n",
    "#include <stdio.h>\n",
    "#include <omp.h>\n",
    "\n",
    "int main()\n",
    "{\n",
    "    int num_threads = 4;\n",
    "    omp_set_num_threads(num_threads);\n",
    "\n",
    "    #pragma omp parallel\n",
    "    {\n",
    "        int rank = omp_get_thread_num();\n",
    "        int nr_threads = omp_get_num_threads();\n",
    "        printf(\"I am thread %i of %i threads\\n\", rank, nr_threads);\n",
    "    }\n",
    "    \n",
    "    return 0;\n",
    "}"
   ]
  },
  {
   "cell_type": "code",
   "execution_count": null,
   "id": "78e9c750",
   "metadata": {},
   "outputs": [],
   "source": [
    "!gcc hello_world.c -o hello_world -fopenmp"
   ]
  },
  {
   "cell_type": "code",
   "execution_count": null,
   "id": "6807da09",
   "metadata": {
    "scrolled": true
   },
   "outputs": [],
   "source": [
    "!./hello_world"
   ]
  }
 ],
 "metadata": {
  "kernelspec": {
   "display_name": "C++14 with OpenMP and MPI",
   "language": "C++14",
   "name": "xcpp14"
  },
  "language_info": {
   "codemirror_mode": "text/x-c++src",
   "file_extension": ".cpp",
   "mimetype": "text/x-c++src",
   "name": "c++",
   "version": "14"
  }
 },
 "nbformat": 4,
 "nbformat_minor": 5
}

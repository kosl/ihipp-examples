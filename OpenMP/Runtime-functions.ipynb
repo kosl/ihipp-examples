{
 "cells": [
  {
   "cell_type": "markdown",
   "id": "aa8ae55e",
   "metadata": {},
   "source": [
    "## Runtime functions, variables and constructs"
   ]
  },
  {
   "cell_type": "code",
   "execution_count": null,
   "id": "30da583d",
   "metadata": {},
   "outputs": [],
   "source": [
    "#pragma cling load(\"libomp.so\")\n",
    "#include <omp.h>\n",
    "\n",
    "int num_threads = 4;\n",
    "omp_set_num_threads(4);\n",
    "int rank;\n",
    "#pragma omp parallel\n",
    "{\n",
    "    rank = omp_get_thread_num();\n",
    "    int nr_threads = omp_get_num_threads();\n",
    "    printf(\"I am thread %i of %i threads\\n\", rank, nr_threads);\n",
    "}"
   ]
  }
 ],
 "metadata": {
  "kernelspec": {
   "display_name": "C++14 with OpenMP and MPI",
   "language": "C++14",
   "name": "xcpp14"
  },
  "language_info": {
   "codemirror_mode": "text/x-c++src",
   "file_extension": ".cpp",
   "mimetype": "text/x-c++src",
   "name": "c++",
   "version": "14"
  }
 },
 "nbformat": 4,
 "nbformat_minor": 5
}

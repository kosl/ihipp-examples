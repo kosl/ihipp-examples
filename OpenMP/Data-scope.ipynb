{
 "cells": [
  {
   "cell_type": "markdown",
   "id": "10450a26",
   "metadata": {},
   "source": [
    "## Data Scope Clauses"
   ]
  },
  {
   "cell_type": "code",
   "execution_count": null,
   "id": "34b06498",
   "metadata": {},
   "outputs": [],
   "source": [
    "%%file scope.c\n",
    "#include <stdio.h>\n",
    "#include <omp.h>\n",
    "\n",
    "int main()\n",
    "    {\n",
    "    int num_threads = 4;\n",
    "    omp_set_num_threads(num_threads);\n",
    "\n",
    "    int var_shared = -777;\n",
    "    int var_private = -777;\n",
    "    int var_firstprivate = -777;\n",
    "    int var_lastprivate = -777;\n",
    "\n",
    "    #pragma omp parallel shared(var_shared) private(var_private) firstprivate(var_firstprivate)\n",
    "    {\n",
    "        #pragma omp for lastprivate(var_lastprivate)\n",
    "        for (int i = 0; i < 1000; i++)\n",
    "        {\n",
    "            var_shared = i;\n",
    "            var_private = i;\n",
    "            var_firstprivate = i;\n",
    "            var_lastprivate = i;\n",
    "        }\n",
    "    }\n",
    "\n",
    "    printf(\"after parallel region: %d %d %d %d\", \n",
    "           var_shared, var_private, var_firstprivate, var_lastprivate);\n",
    "}"
   ]
  },
  {
   "cell_type": "code",
   "execution_count": null,
   "id": "d9680cd0",
   "metadata": {},
   "outputs": [],
   "source": [
    "!gcc scope.c -o scope -fopenmp"
   ]
  },
  {
   "cell_type": "code",
   "execution_count": null,
   "id": "75355d56",
   "metadata": {},
   "outputs": [],
   "source": [
    "!./scope"
   ]
  }
 ],
 "metadata": {
  "kernelspec": {
   "display_name": "C++14 with OpenMP and MPI",
   "language": "C++14",
   "name": "xcpp14"
  },
  "language_info": {
   "codemirror_mode": "text/x-c++src",
   "file_extension": ".cpp",
   "mimetype": "text/x-c++src",
   "name": "c++",
   "version": "14"
  }
 },
 "nbformat": 4,
 "nbformat_minor": 5
}

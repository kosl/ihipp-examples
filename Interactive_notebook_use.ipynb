{
 "cells": [
  {
   "cell_type": "markdown",
   "id": "49f7748f",
   "metadata": {},
   "source": [
    "# Interactive notebook use"
   ]
  },
  {
   "cell_type": "markdown",
   "id": "c00df5c2",
   "metadata": {},
   "source": [
    "**In this exercise you will learn how to use Jupyter notebooks interactively. All the examples and exercises in this course will be available in such notebooks.**"
   ]
  },
  {
   "cell_type": "markdown",
   "id": "b8ab91db",
   "metadata": {},
   "source": [
    "**Follow the guide in this notebook to get acquainted with the platform.**"
   ]
  },
  {
   "cell_type": "markdown",
   "id": "31937558",
   "metadata": {},
   "source": [
    "Jupyter notebooks are essentially notebooks with cells of code you can run interactively in any order. The cells assume the code is in C++, C or Python, depending on the notebook kernel in use. For example, you can run the following line of interactive C code (provided by `xeus-cling` C++ kernel) by selecting the cell and click on the *Run* button above."
   ]
  },
  {
   "cell_type": "code",
   "execution_count": null,
   "id": "e7c71b96",
   "metadata": {
    "scrolled": true
   },
   "outputs": [],
   "source": [
    "printf(\"Hello world!\");"
   ]
  },
  {
   "cell_type": "markdown",
   "id": "eceae378",
   "metadata": {},
   "source": [
    "The above code can be run as a C code if simply put a line `%%file hello_world.c` on top and add `main()` around with necessary headers. All the code below the first line will be saved to the file `hello_world.c`."
   ]
  },
  {
   "cell_type": "code",
   "execution_count": null,
   "id": "000876fc",
   "metadata": {},
   "outputs": [],
   "source": [
    "%%file hello_world.c\n",
    "#include <stdio.h>\n",
    "\n",
    "int main(int argc, char** argv){\n",
    "    \n",
    "    printf(\"Hello World!\\n\");\n",
    "    \n",
    "  return 0;\n",
    "}"
   ]
  },
  {
   "cell_type": "markdown",
   "id": "a8897c8e",
   "metadata": {},
   "source": [
    "You can use the `gcc` compiler and execute the executable with `./hello_world`:"
   ]
  },
  {
   "cell_type": "code",
   "execution_count": null,
   "id": "29bbc208",
   "metadata": {},
   "outputs": [],
   "source": [
    "!gcc hello_world.c -o hello_world && ./hello_world"
   ]
  },
  {
   "cell_type": "markdown",
   "id": "b133bda0",
   "metadata": {},
   "source": [
    "Notice the use of the `!` sign. This sign preceding any command in the notebook cell will make use of the Linux shell (Ubuntu)."
   ]
  },
  {
   "cell_type": "markdown",
   "id": "a598b58b",
   "metadata": {},
   "source": [
    "In notebooks you can also save, compile and run non-C++ (or Python) codes. For example, to save and run the following Python code:"
   ]
  },
  {
   "cell_type": "code",
   "execution_count": null,
   "id": "404f2517",
   "metadata": {},
   "outputs": [],
   "source": [
    "%%file hello_world.py\n",
    "print(\"Hello world!\")"
   ]
  },
  {
   "cell_type": "code",
   "execution_count": null,
   "id": "869bd7dc",
   "metadata": {},
   "outputs": [],
   "source": [
    "!python hello_world.py"
   ]
  },
  {
   "cell_type": "markdown",
   "id": "d98e7791",
   "metadata": {},
   "source": [
    "Similarly, you will use other compilers for Fortran, MPI and CUDA, as well as compiler options for OpenMP and OpenCL. You can also check which GPU accelerator is available on the platform by:"
   ]
  },
  {
   "cell_type": "code",
   "execution_count": null,
   "id": "2fb9bb51",
   "metadata": {},
   "outputs": [],
   "source": [
    "!nvidia-smi"
   ]
  },
  {
   "cell_type": "markdown",
   "id": "f16d3037",
   "metadata": {},
   "source": [
    "## Interactive help for OpenMP and MPI clauses\n",
    "For OpenMP and MPI clauses we have provided interactive help. Help is shown provided question mark, namespace (omp or MPI) followed by :: and a clause (OpenMP pragma or MPI function name). For example:"
   ]
  },
  {
   "cell_type": "code",
   "execution_count": null,
   "id": "510f0aec",
   "metadata": {},
   "outputs": [],
   "source": [
    "?omp::parallel"
   ]
  },
  {
   "cell_type": "code",
   "execution_count": null,
   "id": "dfe4ef5a",
   "metadata": {},
   "outputs": [],
   "source": [
    "?MPI::MPI_Init"
   ]
  }
 ],
 "metadata": {
  "kernelspec": {
   "display_name": "C++14 with OpenMP and MPI",
   "language": "C++14",
   "name": "xcpp14"
  },
  "language_info": {
   "codemirror_mode": "text/x-c++src",
   "file_extension": ".cpp",
   "mimetype": "text/x-c++src",
   "name": "c++",
   "version": "14"
  }
 },
 "nbformat": 4,
 "nbformat_minor": 5
}

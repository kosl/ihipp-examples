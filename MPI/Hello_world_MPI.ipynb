{
 "cells": [
  {
   "cell_type": "markdown",
   "metadata": {},
   "source": [
    "## Hello World! MPI in C"
   ]
  },
  {
   "cell_type": "code",
   "execution_count": null,
   "metadata": {},
   "outputs": [],
   "source": [
    "?MPI::MPI_Init"
   ]
  },
  {
   "cell_type": "code",
   "execution_count": null,
   "metadata": {
    "colab": {
     "base_uri": "https://localhost:8080/"
    },
    "id": "mZbKbqoQFHD4",
    "outputId": "16a7f4e8-44be-41c6-86b2-33032164f3a7"
   },
   "outputs": [],
   "source": [
    "%%file hello_world.c\n",
    "#include <stdio.h>\n",
    "#include <mpi.h>\n",
    "\n",
    "int main(int argc, char** argv){\n",
    "    printf(\"Hello World!\\n\");\n",
    "    \n",
    "    return 0;\n",
    "}"
   ]
  },
  {
   "cell_type": "code",
   "execution_count": null,
   "metadata": {
    "id": "uD4pFPAYGyze"
   },
   "outputs": [],
   "source": [
    "!mpicc hello_world.c -o hello_world"
   ]
  },
  {
   "cell_type": "code",
   "execution_count": null,
   "metadata": {
    "colab": {
     "base_uri": "https://localhost:8080/"
    },
    "id": "Jg6E6d46F5ey",
    "outputId": "8a2ce162-21fe-4ff3-83f1-1dba868e4389"
   },
   "outputs": [],
   "source": [
    "!mpirun -np 4 --allow-run-as-root ./hello_world"
   ]
  },
  {
   "cell_type": "markdown",
   "metadata": {},
   "source": [
    "## Hello World! MPI in Fortran"
   ]
  },
  {
   "cell_type": "code",
   "execution_count": null,
   "metadata": {
    "colab": {
     "base_uri": "https://localhost:8080/"
    },
    "id": "_jDgu93QHdyJ",
    "outputId": "5e23a6f9-9494-499a-cfcb-61ea0da515a9"
   },
   "outputs": [],
   "source": [
    "%%file hello_world.f90\n",
    "program hello\n",
    "use mpi\n",
    "print *, 'Hello world!'\n",
    "end"
   ]
  },
  {
   "cell_type": "code",
   "execution_count": null,
   "metadata": {
    "id": "fy9mKwO1KIeu"
   },
   "outputs": [],
   "source": [
    "!mpif90 hello_world.f90 -o hello_world.exe"
   ]
  },
  {
   "cell_type": "code",
   "execution_count": null,
   "metadata": {
    "colab": {
     "base_uri": "https://localhost:8080/"
    },
    "id": "0P4DoVjJLYIr",
    "outputId": "7791d1d4-2943-43b0-a570-a793561be8e2"
   },
   "outputs": [],
   "source": [
    "!mpirun -np 4 --allow-run-as-root ./hello_world.exe"
   ]
  },
  {
   "cell_type": "markdown",
   "metadata": {},
   "source": [
    "## Hello World! MPI in Python"
   ]
  },
  {
   "cell_type": "code",
   "execution_count": null,
   "metadata": {
    "colab": {
     "base_uri": "https://localhost:8080/"
    },
    "id": "aYJFwA5n83il",
    "outputId": "2406f660-31fb-45c6-e8f5-82d0bda507ca"
   },
   "outputs": [],
   "source": [
    "%%file hello.py\n",
    "from mpi4py import MPI\n",
    "print(\"Hello world!\")"
   ]
  },
  {
   "cell_type": "code",
   "execution_count": null,
   "metadata": {
    "colab": {
     "base_uri": "https://localhost:8080/"
    },
    "id": "cQNLatzm9KI3",
    "outputId": "ed7f1d43-67f7-49e8-a760-b1d99fd4b15d"
   },
   "outputs": [],
   "source": [
    "!mpirun -np 4 --allow-run-as-root python hello.py"
   ]
  }
 ],
 "metadata": {
  "colab": {
   "collapsed_sections": [],
   "name": "Hello_world_MPI.ipynb",
   "provenance": []
  },
  "kernelspec": {
   "display_name": "C++17 with OpenMP and MPI",
   "language": "C++17",
   "name": "xcpp17"
  },
  "language_info": {
   "codemirror_mode": "text/x-c++src",
   "file_extension": ".cpp",
   "mimetype": "text/x-c++src",
   "name": "c++",
   "version": "17"
  }
 },
 "nbformat": 4,
 "nbformat_minor": 1
}

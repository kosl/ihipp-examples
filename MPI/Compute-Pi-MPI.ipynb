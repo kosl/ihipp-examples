{
 "cells": [
  {
   "cell_type": "markdown",
   "id": "f166b008",
   "metadata": {},
   "source": [
    "## Calculate PI"
   ]
  },
  {
   "cell_type": "markdown",
   "id": "1b46418c",
   "metadata": {},
   "source": [
    "In this exercise you will get to practice using both broadcast and reduce MPI routines. The program will calculate the value of pi derived from integral by approximation using Riemann sum. \n",
    "\n",
    "The program takes the following steps:\n",
    "\n",
    "1. Root process (process 0) asks the user for the number of integral intervals (for interactive notebooks we have hardcoded this number) and then broadcasts this number to all of the other processes.\n",
    "\n",
    "2. Each process then locally adds up every n’th interval.\n",
    "\n",
    "3. Finally, the sums computed are added together using reduction."
   ]
  },
  {
   "cell_type": "markdown",
   "id": "d911644e",
   "metadata": {},
   "source": [
    "***\n",
    "#### C skeleton"
   ]
  },
  {
   "cell_type": "code",
   "execution_count": null,
   "id": "3fed415a",
   "metadata": {},
   "outputs": [],
   "source": [
    "%%file pi.c\n",
    "#include <stdio.h>\n",
    "#include <mpi.h>\n",
    "\n",
    "int main()\n",
    "{\n",
    "    int rank, size, i;\n",
    "    double PI_value = 3.141592653589793238462643;\n",
    "    double mypi, pi, w, sum, x;\n",
    "\n",
    "    MPI_Init(NULL, NULL);\n",
    "    MPI_Comm_size(MPI_COMM_WORLD, &size);\n",
    "    MPI_Comm_rank(MPI_COMM_WORLD, &rank);\n",
    "\n",
    "    int n = 0;\n",
    "    if (rank == 0) {\n",
    "        //printf(\"Enter the number of intervals:\");\n",
    "        //scanf(\"%d\",&n);\n",
    "        if (n==0) n = 1024*size;\n",
    "    }\n",
    "    // TODO: broadcast\n",
    "\n",
    "    w = 1.0 / n;\n",
    "    sum = 0.0;\n",
    "    for (i = rank + 1; i <= n; i += size) {\n",
    "        x = w * ((double)i - 0.5);\n",
    "        sum += 4.0 / (1.0 + x*x);\n",
    "    }\n",
    "    mypi = w * sum;\n",
    "\n",
    "    // TODO: reduce\n",
    "\n",
    "    if (rank == 0) {\n",
    "        printf(\"pi is approximately %.16f, Error is %.16f\\n\",\n",
    "           pi, fabs(pi - PI_value));\n",
    "    }\n",
    "\n",
    "    MPI_Finalize();\n",
    "}"
   ]
  },
  {
   "cell_type": "markdown",
   "id": "1d4a1d57",
   "metadata": {},
   "source": [
    "Now compile it and run it with 4 processes. "
   ]
  },
  {
   "cell_type": "code",
   "execution_count": null,
   "id": "f36f8be0",
   "metadata": {
    "scrolled": true
   },
   "outputs": [],
   "source": [
    "!mpicc pi.c -o pi && mpirun -np 4 --allow-run-as-root pi"
   ]
  },
  {
   "cell_type": "markdown",
   "id": "b5d523ee",
   "metadata": {},
   "source": [
    "***\n",
    "#### Python skeleton"
   ]
  },
  {
   "cell_type": "code",
   "execution_count": null,
   "id": "7596fb48",
   "metadata": {},
   "outputs": [],
   "source": [
    "%%file pi.py\n",
    "from mpi4py import MPI\n",
    "\n",
    "comm = MPI.COMM_WORLD\n",
    "rank = comm.Get_rank()\n",
    "size = comm.Get_size()\n",
    "PI_value = 3.141592653589793238462643\n",
    "\n",
    "n = 0\n",
    "if rank == 0:\n",
    "    n = 1024*size\n",
    "# TODO: broadcast\n",
    "\n",
    "w = 1/n\n",
    "sum = 0;\n",
    "for i in range (rank+1, n, size):\n",
    "    x = w * (i - 0.5)\n",
    "    sum += 4.0 / (1.0 + x*x)\n",
    "mypi = w * sum\n",
    "\n",
    "# TODO: reduce\n",
    "\n",
    "if rank == 0:\n",
    "    print(\"pi is approximately %.16f, Error is %.16f\" % (pi,\n",
    "        abs(pi - PI_value)))"
   ]
  },
  {
   "cell_type": "markdown",
   "id": "f15f4b77",
   "metadata": {},
   "source": [
    "Now compile it and run it with 4 processes. "
   ]
  },
  {
   "cell_type": "code",
   "execution_count": null,
   "id": "12057c78",
   "metadata": {},
   "outputs": [],
   "source": [
    "!mpirun -np 4 --allow-run-as-root python pi.py"
   ]
  },
  {
   "cell_type": "markdown",
   "id": "9936fe22",
   "metadata": {},
   "source": [
    "***\n",
    "#### Fortran skeleton"
   ]
  },
  {
   "cell_type": "code",
   "execution_count": null,
   "id": "edcc496f",
   "metadata": {},
   "outputs": [],
   "source": [
    "%%file pi.f90\n",
    "program pi\n",
    "use mpi\n",
    "\n",
    "integer ( kind = 4 ) error\n",
    "integer :: i, rank, size, n\n",
    "double precision :: PI_value, mypi, rootpi, w, sum, x\n",
    "PI_value = 3.141592653589793238462643\n",
    "\n",
    "call MPI_Init(error)\n",
    "call MPI_Comm_rank(MPI_COMM_WORLD, rank, error)\n",
    "call MPI_Comm_size(MPI_COMM_WORLD, size, error)\n",
    "\n",
    "n = 0\n",
    "if (rank == 0) then\n",
    "    n = 1024*size\n",
    "endif\n",
    "! TODO: broadcast\n",
    "\n",
    "w = 1.0 / n\n",
    "sum = 0.0\n",
    "do i = rank+1, n, size\n",
    "    x = w * (i-0.5)\n",
    "    sum = sum + 4.0 / (1.0 + x*x)\n",
    "end do\n",
    "mypi = w * sum\n",
    "\n",
    "! TODO: reduce\n",
    "\n",
    "if (rank == 0) then\n",
    "    print *, \"pi is approximately\", rootpi, \"Error is\", abs(rootpi - PI_value)\n",
    "endif\n",
    "\n",
    "call MPI_Finalize(error)\n",
    "end"
   ]
  },
  {
   "cell_type": "markdown",
   "id": "6f56ea58",
   "metadata": {},
   "source": [
    "Now compile it and run it with 4 processes. "
   ]
  },
  {
   "cell_type": "code",
   "execution_count": null,
   "id": "e9b2ab62",
   "metadata": {},
   "outputs": [],
   "source": [
    "!mpif90 pi.f90 && mpirun -np 4 --allow-run-as-root a.out"
   ]
  },
  {
   "cell_type": "markdown",
   "id": "76d6e30d",
   "metadata": {},
   "source": [
    "***"
   ]
  },
  {
   "cell_type": "markdown",
   "id": "bbeebe3d",
   "metadata": {},
   "source": [
    " "
   ]
  },
  {
   "cell_type": "markdown",
   "id": "6088d5ce",
   "metadata": {},
   "source": [
    "### You can compare with our solution:"
   ]
  },
  {
   "cell_type": "markdown",
   "id": "45d3fdb7",
   "metadata": {},
   "source": [
    "***\n",
    "#### C solution"
   ]
  },
  {
   "cell_type": "code",
   "execution_count": null,
   "id": "9add07dd",
   "metadata": {},
   "outputs": [],
   "source": [
    "%%file pi.c\n",
    "#include <stdio.h>\n",
    "#include <mpi.h>\n",
    "\n",
    "int main()\n",
    "{\n",
    "    int rank, size, i;\n",
    "    double PI_value = 3.141592653589793238462643;\n",
    "    double mypi, pi, w, sum, x;\n",
    "\n",
    "    MPI_Init(NULL, NULL);\n",
    "    MPI_Comm_size(MPI_COMM_WORLD, &size);\n",
    "    MPI_Comm_rank(MPI_COMM_WORLD, &rank);\n",
    "\n",
    "    int n = 0;\n",
    "    if (rank == 0) {\n",
    "        //printf(\"Enter the number of intervals:\");\n",
    "        //scanf(\"%d\",&n);\n",
    "        if (n==0) n = 1024*size;\n",
    "    }\n",
    "    MPI_Bcast(&n, 1, MPI_INT, 0, MPI_COMM_WORLD);\n",
    "\n",
    "    w = 1.0 / n;\n",
    "    sum = 0.0;\n",
    "    for (i = rank + 1; i <= n; i += size) {\n",
    "        x = w * ((double)i - 0.5);\n",
    "        sum += 4.0 / (1.0 + x*x);\n",
    "    }\n",
    "    mypi = w * sum;\n",
    "\n",
    "    MPI_Reduce(&mypi, &pi, 1, MPI_DOUBLE, MPI_SUM, 0, MPI_COMM_WORLD);\n",
    "\n",
    "    if (rank == 0) {\n",
    "        printf(\"pi is approximately %.16f, Error is %.16f\\n\",\n",
    "           pi, fabs(pi - PI_value));\n",
    "    }\n",
    "\n",
    "    MPI_Finalize();\n",
    "}"
   ]
  },
  {
   "cell_type": "code",
   "execution_count": null,
   "id": "6fc5bc10",
   "metadata": {},
   "outputs": [],
   "source": [
    "!mpicc pi.c -o pi && mpirun -np 4 --allow-run-as-root pi"
   ]
  },
  {
   "cell_type": "markdown",
   "id": "a467c8f8",
   "metadata": {},
   "source": [
    "***\n",
    "#### Python solution"
   ]
  },
  {
   "cell_type": "code",
   "execution_count": null,
   "id": "304966f0",
   "metadata": {},
   "outputs": [],
   "source": [
    "%%file pi.py\n",
    "from mpi4py import MPI\n",
    "\n",
    "comm = MPI.COMM_WORLD\n",
    "rank = comm.Get_rank()\n",
    "size = comm.Get_size()\n",
    "PI_value = 3.141592653589793238462643\n",
    "\n",
    "n = 0\n",
    "if rank == 0:\n",
    "    n = 1024*size\n",
    "n = comm.bcast(n, root=0)\n",
    "\n",
    "w = 1/n\n",
    "sum = 0;\n",
    "for i in range (rank+1, n, size):\n",
    "    x = w * (i - 0.5)\n",
    "    sum += 4.0 / (1.0 + x*x)\n",
    "mypi = w * sum\n",
    "\n",
    "pi = comm.reduce(mypi, op=MPI.SUM, root=0)\n",
    "\n",
    "if rank == 0:\n",
    "    print(\"pi is approximately %.16f, Error is %.16f\" % (pi,\n",
    "        abs(pi - PI_value)))"
   ]
  },
  {
   "cell_type": "code",
   "execution_count": null,
   "id": "fb648087",
   "metadata": {},
   "outputs": [],
   "source": [
    "!mpirun -np 4 --allow-run-as-root python pi.py"
   ]
  },
  {
   "cell_type": "markdown",
   "id": "6976409a",
   "metadata": {},
   "source": [
    "***\n",
    "#### Fortran solution"
   ]
  },
  {
   "cell_type": "code",
   "execution_count": null,
   "id": "86652edb",
   "metadata": {},
   "outputs": [],
   "source": [
    "%%file pi.f90\n",
    "program pi\n",
    "use mpi\n",
    "\n",
    "integer ( kind = 4 ) error\n",
    "integer :: i, rank, size, n\n",
    "double precision :: PI_value, mypi, rootpi, w, sum, x\n",
    "PI_value = 3.141592653589793238462643\n",
    "\n",
    "call MPI_Init(error)\n",
    "call MPI_Comm_rank(MPI_COMM_WORLD, rank, error)\n",
    "call MPI_Comm_size(MPI_COMM_WORLD, size, error)\n",
    "\n",
    "n = 0\n",
    "if (rank == 0) then\n",
    "    n = 1024*size\n",
    "endif\n",
    "call MPI_Bcast(n, 1, MPI_INT, 0, MPI_COMM_WORLD, error)\n",
    "\n",
    "w = 1.0 / n\n",
    "sum = 0.0\n",
    "do i = rank+1, n, size\n",
    "    x = w * (i-0.5)\n",
    "    sum = sum + 4.0 / (1.0 + x*x)\n",
    "end do\n",
    "mypi = w * sum\n",
    "\n",
    "call MPI_Reduce(mypi, rootpi, 1, MPI_DOUBLE_PRECISION, MPI_SUM, 0, MPI_COMM_WORLD, error)    \n",
    "\n",
    "if (rank == 0) then\n",
    "    print *, \"pi is approximately\", rootpi, \"Error is\", abs(rootpi - PI_value)\n",
    "endif\n",
    "\n",
    "call MPI_Finalize(error)\n",
    "end"
   ]
  },
  {
   "cell_type": "code",
   "execution_count": null,
   "id": "43d4acdd",
   "metadata": {},
   "outputs": [],
   "source": [
    "!mpif90 pi.f90 && mpirun -np 4 --allow-run-as-root a.out"
   ]
  }
 ],
 "metadata": {
  "kernelspec": {
   "display_name": "C++14 with OpenMP and MPI",
   "language": "C++14",
   "name": "xcpp14"
  },
  "language_info": {
   "codemirror_mode": "text/x-c++src",
   "file_extension": ".cpp",
   "mimetype": "text/x-c++src",
   "name": "c++",
   "version": "14"
  }
 },
 "nbformat": 4,
 "nbformat_minor": 5
}

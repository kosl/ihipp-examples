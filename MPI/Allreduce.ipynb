{
 "cells": [
  {
   "cell_type": "markdown",
   "id": "f166b008",
   "metadata": {},
   "source": [
    "## MPI_Allreduce"
   ]
  },
  {
   "cell_type": "markdown",
   "id": "5337f774",
   "metadata": {},
   "source": [
    "This is an example of the pass-around-the-ring program that uses MPI global reduction to perform the global sum of all ranks. "
   ]
  },
  {
   "cell_type": "code",
   "execution_count": null,
   "id": "468048d4",
   "metadata": {},
   "outputs": [],
   "source": [
    "?MPI::MPI_Allreduce"
   ]
  },
  {
   "cell_type": "markdown",
   "id": "45d3fdb7",
   "metadata": {},
   "source": [
    "***\n",
    "#### C program"
   ]
  },
  {
   "cell_type": "code",
   "execution_count": null,
   "id": "9add07dd",
   "metadata": {},
   "outputs": [],
   "source": [
    "%%file allreduce.c\n",
    "#include <stdio.h>\n",
    "#include <mpi.h>\n",
    "\n",
    "int main()\n",
    "{\n",
    "    int rank, size;\n",
    "    int sum;\n",
    "\n",
    "    MPI_Init(NULL, NULL);\n",
    "    MPI_Comm_rank(MPI_COMM_WORLD, &rank);\n",
    "    MPI_Comm_size(MPI_COMM_WORLD, &size);\n",
    "\n",
    "    // Compute sum of all ranks\n",
    "    MPI_Allreduce(&rank, &sum, 1, MPI_INT, MPI_SUM, MPI_COMM_WORLD);\n",
    "\n",
    "    printf(\"PE%i:\\tSum = %i\\n\", rank, sum);\n",
    "\n",
    "    MPI_Finalize();\n",
    "}"
   ]
  },
  {
   "cell_type": "code",
   "execution_count": null,
   "id": "6fc5bc10",
   "metadata": {},
   "outputs": [],
   "source": [
    "!mpicc allreduce.c && mpirun -np 4 --allow-run-as-root a.out"
   ]
  },
  {
   "cell_type": "markdown",
   "id": "a467c8f8",
   "metadata": {},
   "source": [
    "***\n",
    "#### Python program"
   ]
  },
  {
   "cell_type": "code",
   "execution_count": null,
   "id": "304966f0",
   "metadata": {},
   "outputs": [],
   "source": [
    "%%file allreduce.py\n",
    "from mpi4py import MPI\n",
    "\n",
    "comm = MPI.COMM_WORLD\n",
    "rank = comm.Get_rank()\n",
    "size = comm.Get_size()\n",
    "sum = 0\n",
    "\n",
    "# Compute sum of all ranks\n",
    "sum = comm.allreduce(rank, op=MPI.SUM)\n",
    "\n",
    "print(\"PE%i:\\tSum = %i\" % (rank, sum))"
   ]
  },
  {
   "cell_type": "code",
   "execution_count": null,
   "id": "fb648087",
   "metadata": {},
   "outputs": [],
   "source": [
    "!mpirun -np 4 --allow-run-as-root python allreduce.py"
   ]
  },
  {
   "cell_type": "markdown",
   "id": "6976409a",
   "metadata": {},
   "source": [
    "***\n",
    "#### Fortran program"
   ]
  },
  {
   "cell_type": "code",
   "execution_count": null,
   "id": "86652edb",
   "metadata": {},
   "outputs": [],
   "source": [
    "%%file allreduce.f90\n",
    "program allreduce\n",
    "use mpi\n",
    "\n",
    "integer ( kind = 4 ) error\n",
    "integer :: rank, size\n",
    "integer :: sum\n",
    "\n",
    "call MPI_Init(error)\n",
    "call MPI_Comm_rank(MPI_COMM_WORLD, rank, error)\n",
    "call MPI_Comm_size(MPI_COMM_WORLD, size, error)\n",
    "\n",
    "! Compute sum of all ranks\n",
    "call MPI_AllReduce(rank, sum, 1, MPI_INTEGER, MPI_SUM, MPI_COMM_WORLD, error)\n",
    "\n",
    "print *, \"PE\", rank, \": Sum = \", sum\n",
    "\n",
    "call MPI_Finalize(error)\n",
    "end"
   ]
  },
  {
   "cell_type": "code",
   "execution_count": null,
   "id": "43d4acdd",
   "metadata": {},
   "outputs": [],
   "source": [
    "!mpif90 allreduce.f90 && mpirun -np 4 --allow-run-as-root a.out"
   ]
  }
 ],
 "metadata": {
  "kernelspec": {
   "display_name": "C++14 with OpenMP and MPI",
   "language": "C++14",
   "name": "xcpp14"
  },
  "language_info": {
   "codemirror_mode": "text/x-c++src",
   "file_extension": ".cpp",
   "mimetype": "text/x-c++src",
   "name": "c++",
   "version": "14"
  }
 },
 "nbformat": 4,
 "nbformat_minor": 5
}

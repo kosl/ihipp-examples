{
 "cells": [
  {
   "cell_type": "markdown",
   "id": "f166b008",
   "metadata": {},
   "source": [
    "## Hello world with MPI"
   ]
  },
  {
   "cell_type": "markdown",
   "id": "1b46418c",
   "metadata": {},
   "source": [
    "Create your first MPI program. Modify the skeleton to write a minimal MPI program where:\n",
    "\n",
    "- every process writes its rank and the size of MPI_COMM_WORLD\n",
    "\n",
    "- only process ranked 0 in MPI_COMM_WORLD prints \"hello world\".\n",
    "\n",
    "Is it possible for the output of all MPI processes to be in the sequence of the ranks? Or is there no chance to guarantee this?"
   ]
  },
  {
   "cell_type": "code",
   "execution_count": null,
   "id": "8ce7e138",
   "metadata": {},
   "outputs": [],
   "source": [
    "?MPI::MPI_Init"
   ]
  },
  {
   "cell_type": "code",
   "execution_count": null,
   "id": "4198caa8",
   "metadata": {},
   "outputs": [],
   "source": [
    "?MPI::MPI_Comm_rank"
   ]
  },
  {
   "cell_type": "code",
   "execution_count": null,
   "id": "1760350f",
   "metadata": {},
   "outputs": [],
   "source": [
    "?MPI::MPI_Comm_size"
   ]
  },
  {
   "cell_type": "code",
   "execution_count": null,
   "id": "c897c5d1",
   "metadata": {},
   "outputs": [],
   "source": [
    "?MPI::MPI_Finalize"
   ]
  },
  {
   "cell_type": "markdown",
   "id": "d911644e",
   "metadata": {},
   "source": [
    "***\n",
    "#### C skeleton"
   ]
  },
  {
   "cell_type": "code",
   "execution_count": null,
   "id": "3c1f14da",
   "metadata": {},
   "outputs": [],
   "source": [
    "%%file hello-world.c\n",
    "#include <stdio.h>\n",
    "#include <mpi.h>\n",
    "\n",
    "int main()\n",
    "{\n",
    "    //add your code here\n",
    "    printf (\"Hello world!\\n\");\n",
    "}"
   ]
  },
  {
   "cell_type": "markdown",
   "id": "1d4a1d57",
   "metadata": {},
   "source": [
    "Now compile it and run it with 4 processes. "
   ]
  },
  {
   "cell_type": "code",
   "execution_count": null,
   "id": "f36f8be0",
   "metadata": {
    "scrolled": true
   },
   "outputs": [],
   "source": [
    "!mpicc hello-world.c -o hello-world && mpirun -np 4 --allow-run-as-root hello-world"
   ]
  },
  {
   "cell_type": "markdown",
   "id": "b5d523ee",
   "metadata": {},
   "source": [
    "***\n",
    "#### Python skeleton"
   ]
  },
  {
   "cell_type": "code",
   "execution_count": null,
   "id": "7596fb48",
   "metadata": {},
   "outputs": [],
   "source": [
    "%%file hello.py\n",
    "from mpi4py import MPI\n",
    "#add your code here\n",
    "print(\"Hello world!\")"
   ]
  },
  {
   "cell_type": "markdown",
   "id": "f15f4b77",
   "metadata": {},
   "source": [
    "Now compile it and run it with 4 processes. "
   ]
  },
  {
   "cell_type": "code",
   "execution_count": null,
   "id": "12057c78",
   "metadata": {},
   "outputs": [],
   "source": [
    "!mpirun -np 4 --allow-run-as-root python hello.py"
   ]
  },
  {
   "cell_type": "markdown",
   "id": "9936fe22",
   "metadata": {},
   "source": [
    "***\n",
    "#### Fortran skeleton"
   ]
  },
  {
   "cell_type": "code",
   "execution_count": null,
   "id": "edcc496f",
   "metadata": {},
   "outputs": [],
   "source": [
    "%%file hello.f90\n",
    "program hello\n",
    "use mpi\n",
    "! add your code here\n",
    "print *, 'Hello world!'\n",
    "end"
   ]
  },
  {
   "cell_type": "markdown",
   "id": "6f56ea58",
   "metadata": {},
   "source": [
    "Now compile it and run it with 4 processes. "
   ]
  },
  {
   "cell_type": "code",
   "execution_count": null,
   "id": "e9b2ab62",
   "metadata": {},
   "outputs": [],
   "source": [
    "!mpif90 hello.f90 && mpirun -np 4 --allow-run-as-root a.out"
   ]
  },
  {
   "cell_type": "markdown",
   "id": "76d6e30d",
   "metadata": {},
   "source": [
    "***"
   ]
  },
  {
   "cell_type": "markdown",
   "id": "bbeebe3d",
   "metadata": {},
   "source": [
    " "
   ]
  },
  {
   "cell_type": "markdown",
   "id": "6088d5ce",
   "metadata": {},
   "source": [
    "### You can compare with our solution:"
   ]
  },
  {
   "cell_type": "markdown",
   "id": "45d3fdb7",
   "metadata": {},
   "source": [
    "***\n",
    "#### C solution"
   ]
  },
  {
   "cell_type": "code",
   "execution_count": null,
   "id": "9add07dd",
   "metadata": {},
   "outputs": [],
   "source": [
    "%%file hello-world.c\n",
    "#include <stdio.h>\n",
    "#include <mpi.h>\n",
    "\n",
    "int main()\n",
    "{\n",
    "    int rank, size;\n",
    "    MPI_Init(NULL, NULL);\n",
    "    MPI_Comm_rank(MPI_COMM_WORLD, &rank);\n",
    "    MPI_Comm_size(MPI_COMM_WORLD, &size);\n",
    "    if (rank == 0) {\n",
    "        printf(\"Hello world!\\n\");\n",
    "    }\n",
    "    printf(\"I am process %i out of %i.\\n\", rank, size);\n",
    "    MPI_Finalize();\n",
    "}"
   ]
  },
  {
   "cell_type": "code",
   "execution_count": null,
   "id": "6fc5bc10",
   "metadata": {},
   "outputs": [],
   "source": [
    "!mpicc hello-world.c -o hello-world && mpirun -np 4 --allow-run-as-root hello-world"
   ]
  },
  {
   "cell_type": "markdown",
   "id": "a467c8f8",
   "metadata": {},
   "source": [
    "***\n",
    "#### Python solution"
   ]
  },
  {
   "cell_type": "code",
   "execution_count": null,
   "id": "304966f0",
   "metadata": {},
   "outputs": [],
   "source": [
    "%%file hello.py\n",
    "from mpi4py import MPI\n",
    "comm = MPI.COMM_WORLD\n",
    "rank = comm.Get_rank()\n",
    "size = comm.Get_size()\n",
    "if rank == 0:\n",
    "    print(\"Hello world!\")\n",
    "print(\"I am process %d out of %d.\" % (rank, size))"
   ]
  },
  {
   "cell_type": "code",
   "execution_count": null,
   "id": "fb648087",
   "metadata": {},
   "outputs": [],
   "source": [
    "!mpirun -np 4 --allow-run-as-root python hello.py"
   ]
  },
  {
   "cell_type": "markdown",
   "id": "6976409a",
   "metadata": {},
   "source": [
    "***\n",
    "#### Fortran solution"
   ]
  },
  {
   "cell_type": "code",
   "execution_count": null,
   "id": "86652edb",
   "metadata": {},
   "outputs": [],
   "source": [
    "%%file hello.f90\n",
    "program hello\n",
    "use mpi\n",
    "integer ( kind = 4 ) error\n",
    "integer ( kind = 4 ) rank\n",
    "integer ( kind = 4 ) size\n",
    "call MPI_Init(error);\n",
    "call MPI_Comm_rank(MPI_COMM_WORLD, rank, error);\n",
    "call MPI_Comm_size(MPI_COMM_WORLD, size, error);\n",
    "if (rank .eq. 0) then\n",
    "    print *, 'Hello world!'\n",
    "end if\n",
    "print *, 'I am process', rank, ' out of', size\n",
    "call MPI_Finalize(error)\n",
    "end"
   ]
  },
  {
   "cell_type": "code",
   "execution_count": null,
   "id": "43d4acdd",
   "metadata": {},
   "outputs": [],
   "source": [
    "!mpif90 hello.f90 && mpirun -np 4 --allow-run-as-root a.out"
   ]
  },
  {
   "cell_type": "markdown",
   "id": "863323b5",
   "metadata": {},
   "source": [
    "Answer: The stdout of each process becomes automatically merged into global stdout of all MPI processes. The merge is undefined and there are no sequence rules. A sequence can be defined only if all output on stdout is done only by one MPI process, e.g. using \n",
    "\n",
    "    if rank == 0"
   ]
  }
 ],
 "metadata": {
  "kernelspec": {
   "display_name": "C++14 with OpenMP and MPI",
   "language": "C++14",
   "name": "xcpp14"
  },
  "language_info": {
   "codemirror_mode": "text/x-c++src",
   "file_extension": ".cpp",
   "mimetype": "text/x-c++src",
   "name": "c++",
   "version": "14"
  }
 },
 "nbformat": 4,
 "nbformat_minor": 5
}

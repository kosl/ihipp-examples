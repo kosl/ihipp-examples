{
 "cells": [
  {
   "cell_type": "markdown",
   "id": "f166b008",
   "metadata": {},
   "source": [
    "## Dynamic receiving"
   ]
  },
  {
   "cell_type": "markdown",
   "id": "1b46418c",
   "metadata": {},
   "source": [
    "Process 0 sends a random amount of numbers to a receiver and the receiver then finds out how many numbers were sent. Instead of receiving and simply providing a large buffer to handle all possible sizes of messages, we use `MPI_Probe` to query the message size before actually receiving it. "
   ]
  },
  {
   "cell_type": "code",
   "execution_count": null,
   "id": "dfc7bb6e",
   "metadata": {},
   "outputs": [],
   "source": [
    "?MPI::MPI_Probe"
   ]
  },
  {
   "cell_type": "code",
   "execution_count": null,
   "id": "307f532e",
   "metadata": {},
   "outputs": [],
   "source": [
    "?MPI::MPI_Get_count"
   ]
  },
  {
   "cell_type": "markdown",
   "id": "45d3fdb7",
   "metadata": {},
   "source": [
    "***\n",
    "#### C solution"
   ]
  },
  {
   "cell_type": "code",
   "execution_count": null,
   "id": "9add07dd",
   "metadata": {},
   "outputs": [],
   "source": [
    "%%file recv.c\n",
    "#include <stdio.h>\n",
    "#include <mpi.h>\n",
    "\n",
    "int main()\n",
    "{\n",
    "    int rank;\n",
    "    MPI_Init(NULL, NULL);\n",
    "    MPI_Comm_rank(MPI_COMM_WORLD, &rank);\n",
    "\n",
    "    int number_amount;\n",
    "    if (rank == 0) {\n",
    "        const int MAX_NUMBERS = 100;\n",
    "        int numbers[MAX_NUMBERS];\n",
    "        // Pick a random amount of integers to send to process 1\n",
    "        srand(time(NULL));\n",
    "        number_amount = (rand() / (float)RAND_MAX) * MAX_NUMBERS;\n",
    "\n",
    "        // Send the amount of integers to process 1\n",
    "        MPI_Send(numbers, number_amount, MPI_INT, 1, 0, MPI_COMM_WORLD);\n",
    "        printf(\"I am %i and I sent %d numbers to 1\\n\", rank, number_amount);\n",
    "    }\n",
    "    else if (rank == 1) {\n",
    "        MPI_Status status;\n",
    "        // Probe for an incoming message from process 0\n",
    "        MPI_Probe(0, 0, MPI_COMM_WORLD, &status);\n",
    "\n",
    "        // Get the size of the message\n",
    "        MPI_Get_count(&status, MPI_INT, &number_amount);\n",
    "        // Allocate a buffer just big enough\n",
    "        int* number_buf = (int*)malloc(sizeof(int) * number_amount);\n",
    "\n",
    "        // Receive the message\n",
    "        MPI_Recv(number_buf, number_amount, MPI_INT, 0, 0, MPI_COMM_WORLD, MPI_STATUS_IGNORE);\n",
    "        printf(\"I am %i and I dynamically received %d numbers from 0.\\n\", rank, number_amount);\n",
    "        free(number_buf);\n",
    "    }\n",
    "\n",
    "    MPI_Finalize();\n",
    "}"
   ]
  },
  {
   "cell_type": "code",
   "execution_count": null,
   "id": "6fc5bc10",
   "metadata": {},
   "outputs": [],
   "source": [
    "!mpirun -np 2 a.x"
   ]
  },
  {
   "cell_type": "markdown",
   "id": "6976409a",
   "metadata": {},
   "source": [
    "***\n",
    "#### Fortran solution"
   ]
  },
  {
   "cell_type": "code",
   "execution_count": null,
   "id": "86652edb",
   "metadata": {},
   "outputs": [],
   "source": [
    "%%file recv.f90\n",
    "program recv\n",
    "use mpi\n",
    "\n",
    "integer ( kind = 4 ) error\n",
    "integer ( kind = 4 ) rank\n",
    "integer :: number_amount, MAX_NUMBERS\n",
    "real :: r\n",
    "integer, allocatable :: numbers(:), number_buf(:)\n",
    "integer :: status(MPI_STATUS_SIZE)\n",
    "\n",
    "call MPI_Init(error);\n",
    "call MPI_Comm_rank(MPI_COMM_WORLD, rank, error);\n",
    "\n",
    "if (rank .eq. 0) then\n",
    "    MAX_NUMBERS = 100\n",
    "    allocate(numbers(0:MAX_NUMBERS-1))\n",
    "    ! Pick a random amount of integers to send to process 1\n",
    "    call random_number(r)\n",
    "    number_amount = floor(MAX_NUMBERS*r)\n",
    "    \n",
    "    ! Send the amount of integers to process 1\n",
    "    call MPI_Send(numbers, number_amount, MPI_INT, 1, 0, MPI_COMM_WORLD, error)\n",
    "    print *, 'I am', rank, ' and I sent', number_amount, ' numbers to 1'\n",
    "    deallocate(numbers)\n",
    "else if (rank .eq. 1) then\n",
    "    ! Probe for an incoming message from process 0\n",
    "    call MPI_Probe(0, 0, MPI_COMM_WORLD, status, error);\n",
    "    \n",
    "    ! Get the size of the message\n",
    "    call MPI_Get_count(status, MPI_INT, number_amount, error);\n",
    "    ! Allocate a buffer just big enough\n",
    "    allocate(number_buf(0:number_amount-1))\n",
    "    \n",
    "    ! Receive the message\n",
    "    call MPI_Recv(number_buf, number_amount, MPI_INT, 0, 0, MPI_COMM_WORLD, status, error)\n",
    "    print *, 'I am', rank, ' and I dynamically received', number_amount, ' numbers from 0'\n",
    "    deallocate(number_buf)\n",
    "end if\n",
    "\n",
    "call MPI_Finalize(error)\n",
    "end"
   ]
  },
  {
   "cell_type": "code",
   "execution_count": null,
   "id": "43d4acdd",
   "metadata": {},
   "outputs": [],
   "source": [
    "!mpif90 recv.f90 && mpirun -np 2 --allow-run-as-root a.out"
   ]
  }
 ],
 "metadata": {
  "kernelspec": {
   "display_name": "C++14 with OpenMP and MPI",
   "language": "C++14",
   "name": "xcpp14"
  },
  "language_info": {
   "codemirror_mode": "text/x-c++src",
   "file_extension": ".cpp",
   "mimetype": "text/x-c++src",
   "name": "c++",
   "version": "14"
  }
 },
 "nbformat": 4,
 "nbformat_minor": 5
}

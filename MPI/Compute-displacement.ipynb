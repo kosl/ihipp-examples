{
 "cells": [
  {
   "cell_type": "markdown",
   "id": "c027980a",
   "metadata": {},
   "source": [
    "### How to compute the displacement"
   ]
  },
  {
   "cell_type": "code",
   "execution_count": null,
   "id": "0bc9468f",
   "metadata": {},
   "outputs": [],
   "source": [
    "?MPI::MPI_Get_address"
   ]
  },
  {
   "cell_type": "code",
   "execution_count": null,
   "id": "5f84c56f",
   "metadata": {},
   "outputs": [],
   "source": [
    "?MPI::MPI_Aint_diff"
   ]
  },
  {
   "cell_type": "code",
   "execution_count": null,
   "id": "c6e35851",
   "metadata": {},
   "outputs": [],
   "source": [
    "?MPI::MPI_Aint_add"
   ]
  },
  {
   "cell_type": "markdown",
   "id": "23fb5a14",
   "metadata": {},
   "source": [
    "***\n",
    "## C"
   ]
  },
  {
   "cell_type": "code",
   "execution_count": null,
   "id": "0da20f06",
   "metadata": {},
   "outputs": [],
   "source": [
    "#include <mpi.h>"
   ]
  },
  {
   "cell_type": "code",
   "execution_count": null,
   "id": "49b5c721",
   "metadata": {},
   "outputs": [],
   "source": [
    "%%executable  a.x -- -lmpi\n",
    "\n",
    "struct buff {\n",
    "    int i[3];\n",
    "    double d[5];\n",
    "} snd_buf;\n",
    "\n",
    "MPI_Aint iaddr0, iaddr1, disp;\n",
    "\n",
    "MPI_Init(NULL, NULL);\n",
    "\n",
    "// the address value &snd_buf.i[0] is stored into variavle iaddr0\n",
    "MPI_Get_address(&snd_buf.i[0], &iaddr0);\n",
    "MPI_Get_address(&snd_buf.d[0], &iaddr1);\n",
    "disp = MPI_Aint_diff(iaddr1, iaddr0);\n",
    "\n",
    "MPI_Finalize();"
   ]
  },
  {
   "cell_type": "code",
   "execution_count": null,
   "id": "2c4753bd",
   "metadata": {},
   "outputs": [],
   "source": [
    "!mpirun -np 2 a.x"
   ]
  },
  {
   "cell_type": "markdown",
   "id": "16a6f05e",
   "metadata": {},
   "source": [
    "***\n",
    "## Fortran"
   ]
  },
  {
   "cell_type": "code",
   "execution_count": null,
   "id": "5c045c54",
   "metadata": {},
   "outputs": [],
   "source": [
    "%%file ring.f90\n",
    "program ring\n",
    "use mpi\n",
    "\n",
    "type buff\n",
    "    sequence\n",
    "    integer, dimension(3) :: i\n",
    "    double precision, dimension(5) :: d\n",
    "end type buff\n",
    "type(buff) :: snd_buf\n",
    "\n",
    "integer(kind=MPI_ADDRESS_KIND) :: iaddr0, iaddr1, disp\n",
    "integer ( kind = 4 ) error\n",
    "\n",
    "call MPI_Init(error)\n",
    "\n",
    "! The address of snd_buf%i(1) is stored in iaddr0\n",
    "call MPI_Get_address(snd_buf%i(1), iaddr0, error)\n",
    "call MPI_Get_address(snd_buf%d(1), iaddr1, error)\n",
    "\n",
    "disp = MPI_Aint_diff(iaddr1, iaddr0)\n",
    "\n",
    "call MPI_Finalize(error)\n",
    "end"
   ]
  },
  {
   "cell_type": "code",
   "execution_count": null,
   "id": "9a18e121",
   "metadata": {},
   "outputs": [],
   "source": [
    "!mpif90 ring.f90 && mpirun -np 2 a.out"
   ]
  }
 ],
 "metadata": {
  "kernelspec": {
   "display_name": "C++14 with OpenMP and MPI",
   "language": "C++14",
   "name": "xcpp14"
  },
  "language_info": {
   "codemirror_mode": "text/x-c++src",
   "file_extension": ".cpp",
   "mimetype": "text/x-c++src",
   "name": "c++",
   "version": "14"
  }
 },
 "nbformat": 4,
 "nbformat_minor": 5
}

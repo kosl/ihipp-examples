{
 "cells": [
  {
   "cell_type": "markdown",
   "id": "f166b008",
   "metadata": {},
   "source": [
    "## Derived datatypes"
   ]
  },
  {
   "cell_type": "markdown",
   "id": "7eeba91f",
   "metadata": {},
   "source": [
    "In this exercise you will pass data around a ring with a derived datatype instead of an integer or an array like we did so far. You send and receive buffer will be a struct with two integers. \n",
    "\n",
    "1. Produce a new datatype that can be used as a buffer with the routines that you have learned in the previous step. \n",
    "\n",
    "2. Initialize the struct intigers with `rank` and `10*rank`. Therefore we will pass around two values and calculate two separate sums. \n",
    "\n",
    "3. Use the new datatype in the send and receive routine calls. Currently, the data is send with the description `snd_buf, 2, MPI_INTEGER` which you must modify by using a derived datatype and with a type map of “two integers”. "
   ]
  },
  {
   "cell_type": "markdown",
   "id": "90bda56f",
   "metadata": {},
   "source": [
    "***\n",
    "#### C program"
   ]
  },
  {
   "cell_type": "code",
   "execution_count": null,
   "id": "d69114b8",
   "metadata": {},
   "outputs": [],
   "source": [
    "#include <mpi.h>"
   ]
  },
  {
   "cell_type": "code",
   "execution_count": null,
   "id": "7077075a",
   "metadata": {},
   "outputs": [],
   "source": [
    "%%executable  a.x -- -lmpi\n",
    "\n",
    "int rank, size;\n",
    "int i, right, left;\n",
    "\n",
    "struct buff {\n",
    "    int i;\n",
    "    int j;\n",
    "} snd_buf, rcv_buf, sum;\n",
    "\n",
    "//__________ send_recv_type; // Produce new send-receive datatype\n",
    "\n",
    "MPI_Status status;\n",
    "MPI_Request request;\n",
    "\n",
    "MPI_Init(NULL, NULL);\n",
    "MPI_Comm_rank(MPI_COMM_WORLD, &rank);\n",
    "MPI_Comm_size(MPI_COMM_WORLD, &size);\n",
    "\n",
    "right = (rank+1)      % size;\n",
    "left  = (rank-1+size) % size;\n",
    "\n",
    "// Set MPI datatypes for sending and receiving partial sums\n",
    "//_________________________\n",
    "//_________________________\n",
    "\n",
    "// Init\n",
    "snd_buf.i = rank;\n",
    "snd_buf.j = 10*rank;\n",
    "sum.i = 0;\n",
    "sum.j = 0;\n",
    "\n",
    "// Modify the send and receive calls to use the derived datatype\n",
    "for(i = 0; i < size; i++) \n",
    "{\n",
    "    MPI_Issend(&snd_buf, 2, MPI_INT, right, 17, MPI_COMM_WORLD, &request);\n",
    "    MPI_Recv(&rcv_buf, 2, MPI_INT, left, 17, MPI_COMM_WORLD, &status);\n",
    "    MPI_Wait(&request, &status);\n",
    "    snd_buf = rcv_buf;\n",
    "    sum.i += rcv_buf.i;\n",
    "    sum.j += rcv_buf.j;\n",
    "}\n",
    "\n",
    "printf (\"PE%i:\\tSum = %i\\t%i\\n\", rank, sum.i, sum.j);\n",
    "\n",
    "MPI_Finalize();"
   ]
  },
  {
   "cell_type": "code",
   "execution_count": null,
   "id": "dfb3740d",
   "metadata": {},
   "outputs": [],
   "source": [
    "!mpirun -np 4 a.x"
   ]
  },
  {
   "cell_type": "markdown",
   "id": "6753e051",
   "metadata": {},
   "source": [
    "***\n",
    "#### Python program"
   ]
  },
  {
   "cell_type": "code",
   "execution_count": null,
   "id": "ee7f068f",
   "metadata": {},
   "outputs": [],
   "source": [
    "%%file ring.py\n",
    "from mpi4py import MPI\n",
    "from dataclasses import dataclass\n",
    "\n",
    "comm = MPI.COMM_WORLD\n",
    "rank = comm.Get_rank()\n",
    "size = comm.Get_size()\n",
    "status = MPI.Status()\n",
    "\n",
    "right = (rank+1) % size\n",
    "left = (rank-1+size) % size\n",
    "\n",
    "@dataclass\n",
    "class Buff:\n",
    "    i: int\n",
    "    j: int\n",
    "\n",
    "# Produce new send-receive datatype\n",
    "# Set MPI datatypes for sending and receiving partial sums\n",
    "#_________________________\n",
    "#_________________________\n",
    "\n",
    "# Init\n",
    "snd_buf = Buff(rank, 10*rank)\n",
    "rcv_buf = Buff(0, 0)\n",
    "sum = Buff(0, 0)\n",
    "\n",
    "# Modify the send and receive calls to use the derived datatype\n",
    "for i in range (0,size):\n",
    "    request = comm.issend(snd_buf, dest=right)\n",
    "    rcv_buf = comm.recv(source=left)\n",
    "    request.wait()\n",
    "    snd_buf = rcv_buf\n",
    "    sum.i += rcv_buf.i\n",
    "    sum.j += rcv_buf.j\n",
    "\n",
    "print(\"PE%i:\\tSum = %i\\t%i\" % (rank, sum.i, sum.j))"
   ]
  },
  {
   "cell_type": "code",
   "execution_count": null,
   "id": "20f75609",
   "metadata": {},
   "outputs": [],
   "source": [
    "!mpirun -np 4 python ring.py"
   ]
  },
  {
   "cell_type": "markdown",
   "id": "ba3e4e05",
   "metadata": {},
   "source": [
    "***\n",
    "#### Fortran program"
   ]
  },
  {
   "cell_type": "code",
   "execution_count": null,
   "id": "905cf65b",
   "metadata": {},
   "outputs": [],
   "source": [
    "%%file ring.f90\n",
    "program ring\n",
    "use mpi\n",
    "\n",
    "integer ( kind = 4 ) error\n",
    "integer :: rank, size\n",
    "integer :: i, right, left\n",
    "\n",
    "type buff\n",
    "    sequence\n",
    "    integer :: i\n",
    "    integer :: j\n",
    "end type buff\n",
    "type(buff), asynchronous :: snd_buf\n",
    "type(buff) :: rcv_buf, sum\n",
    "\n",
    "integer :: send_recv_type ! Produce new send-receive datatype\n",
    "integer :: status(MPI_STATUS_SIZE)\n",
    "integer :: request\n",
    "\n",
    "call MPI_Init(error)\n",
    "call MPI_Comm_rank(MPI_COMM_WORLD, rank, error)\n",
    "call MPI_Comm_size(MPI_COMM_WORLD, size, error)\n",
    "\n",
    "right = mod(rank+1,      size)\n",
    "left  = mod(rank-1+size, size)\n",
    "\n",
    "! Set MPI datatypes for sending and receiving partial sums\n",
    "! _________________________\n",
    "! _________________________\n",
    "\n",
    "! Init\n",
    "snd_buf%i = rank\n",
    "snd_buf%j = 10*rank\n",
    "sum%i = 0\n",
    "sum%j = 0\n",
    "\n",
    "! Modify the send and receive calls to use the derived datatype\n",
    "do i = 1, size\n",
    "    call MPI_Issend(snd_buf, 2, MPI_INTEGER, right, 17, MPI_COMM_WORLD, request, error)\n",
    "    call MPI_Recv(rcv_buf, 2, MPI_INTEGER, left, 17, MPI_COMM_WORLD, status, error)\n",
    "    call MPI_Wait(request, status, error)\n",
    "    if (.NOT.MPI_ASYNC_PROTECTS_NONBLOCKING) call MPI_F_sync_reg(snd_buf)\n",
    "    snd_buf = rcv_buf\n",
    "    sum%i = sum%i + rcv_buf%i\n",
    "    sum%j = sum%j + rcv_buf%j\n",
    "end do\n",
    "print *, 'PE', rank, ': Sum =', sum%i, sum%j\n",
    "call MPI_Finalize(error)\n",
    "end"
   ]
  },
  {
   "cell_type": "code",
   "execution_count": null,
   "id": "5e207fb5",
   "metadata": {},
   "outputs": [],
   "source": [
    "!mpif90 ring.f90 && mpirun -np 4 a.out"
   ]
  },
  {
   "cell_type": "markdown",
   "id": "20e5dc0d",
   "metadata": {},
   "source": [
    "***\n",
    "### You can compare with our solution:"
   ]
  },
  {
   "cell_type": "markdown",
   "id": "45d3fdb7",
   "metadata": {},
   "source": [
    "***\n",
    "#### C solution"
   ]
  },
  {
   "cell_type": "code",
   "execution_count": null,
   "id": "31dd4966",
   "metadata": {},
   "outputs": [],
   "source": [
    "%%executable  a.x -- -lmpi\n",
    "\n",
    "int rank, size;\n",
    "int i, right, left;\n",
    "\n",
    "struct buff {\n",
    "    int i;\n",
    "    int j;\n",
    "} snd_buf, rcv_buf, sum;\n",
    "\n",
    "MPI_Datatype send_recv_type; // Produce new send-receive datatype\n",
    "\n",
    "MPI_Status status;\n",
    "MPI_Request request;\n",
    "\n",
    "MPI_Init(NULL, NULL);\n",
    "MPI_Comm_rank(MPI_COMM_WORLD, &rank);\n",
    "MPI_Comm_size(MPI_COMM_WORLD, &size);\n",
    "\n",
    "right = (rank+1)      % size;\n",
    "left  = (rank-1+size) % size;\n",
    "\n",
    "// Set MPI datatypes for sending and receiving partial sums\n",
    "MPI_Type_contiguous(2, MPI_INT, &send_recv_type);\n",
    "MPI_Type_commit(&send_recv_type);\n",
    "\n",
    "// Init\n",
    "snd_buf.i = rank;\n",
    "snd_buf.j = 10*rank;\n",
    "sum.i = 0;\n",
    "sum.j = 0;\n",
    "\n",
    "// Modify the send and receive calls to use the derived datatype\n",
    "for(i = 0; i < size; i++) \n",
    "{\n",
    "    MPI_Issend(&snd_buf, 1, send_recv_type, right, 17, MPI_COMM_WORLD, &request);\n",
    "    MPI_Recv(&rcv_buf, 1, send_recv_type, left,  17, MPI_COMM_WORLD, &status);\n",
    "    MPI_Wait(&request, &status);\n",
    "    snd_buf = rcv_buf;\n",
    "    sum.i += rcv_buf.i;\n",
    "    sum.j += rcv_buf.j;\n",
    "}\n",
    "\n",
    "printf (\"PE%i:\\tSum = %i\\t%i\\n\", rank, sum.i, sum.j);\n",
    "\n",
    "MPI_Finalize();"
   ]
  },
  {
   "cell_type": "code",
   "execution_count": null,
   "id": "6fc5bc10",
   "metadata": {},
   "outputs": [],
   "source": [
    "!mpirun -np 4 a.x"
   ]
  },
  {
   "cell_type": "markdown",
   "id": "a467c8f8",
   "metadata": {},
   "source": [
    "***\n",
    "#### Python solution"
   ]
  },
  {
   "cell_type": "code",
   "execution_count": null,
   "id": "304966f0",
   "metadata": {},
   "outputs": [],
   "source": [
    "%%file ring.py\n",
    "from mpi4py import MPI\n",
    "from dataclasses import dataclass\n",
    "\n",
    "comm = MPI.COMM_WORLD\n",
    "rank = comm.Get_rank()\n",
    "size = comm.Get_size()\n",
    "status = MPI.Status()\n",
    "\n",
    "right = (rank+1) % size\n",
    "left = (rank-1+size) % size\n",
    "\n",
    "@dataclass\n",
    "class Buff:\n",
    "    i: int\n",
    "    j: int\n",
    "\n",
    "# Produce new send-receive datatype\n",
    "# Set MPI datatypes for sending and receiving partial sums\n",
    "send_recv_type = MPI.INT.Create_contiguous(2)\n",
    "send_recv_type.Commit()\n",
    "\n",
    "# Init\n",
    "snd_buf = Buff(rank, 10*rank)\n",
    "rcv_buf = Buff(0, 0)\n",
    "sum = Buff(0, 0)\n",
    "\n",
    "# Modify the send and receive calls to use the derived datatype\n",
    "for i in range (0,size):\n",
    "    request = comm.issend(snd_buf, dest=right)\n",
    "    rcv_buf = comm.recv(source=left)\n",
    "    request.wait()\n",
    "    snd_buf = rcv_buf\n",
    "    sum.i += rcv_buf.i\n",
    "    sum.j += rcv_buf.j\n",
    "\n",
    "print(\"PE%i:\\tSum = %i\\t%i\" % (rank, sum.i, sum.j))"
   ]
  },
  {
   "cell_type": "code",
   "execution_count": null,
   "id": "fb648087",
   "metadata": {},
   "outputs": [],
   "source": [
    "!mpirun -np 4 python ring.py"
   ]
  },
  {
   "cell_type": "markdown",
   "id": "6976409a",
   "metadata": {},
   "source": [
    "***\n",
    "#### Fortran solution"
   ]
  },
  {
   "cell_type": "code",
   "execution_count": null,
   "id": "86652edb",
   "metadata": {},
   "outputs": [],
   "source": [
    "%%file ring.f90\n",
    "program ring\n",
    "use mpi\n",
    "\n",
    "integer ( kind = 4 ) error\n",
    "integer :: rank, size\n",
    "integer :: i, right, left\n",
    "\n",
    "type buff\n",
    "    sequence\n",
    "    integer :: i\n",
    "    integer :: j\n",
    "end type buff\n",
    "type(buff), asynchronous :: snd_buf\n",
    "type(buff) :: rcv_buf, sum\n",
    "\n",
    "integer :: send_recv_type ! Produce new send-receive datatype\n",
    "integer :: status(MPI_STATUS_SIZE)\n",
    "integer :: request\n",
    "\n",
    "call MPI_Init(error)\n",
    "call MPI_Comm_rank(MPI_COMM_WORLD, rank, error)\n",
    "call MPI_Comm_size(MPI_COMM_WORLD, size, error)\n",
    "\n",
    "right = mod(rank+1,      size)\n",
    "left  = mod(rank-1+size, size)\n",
    "\n",
    "! Set MPI datatypes for sending and receiving partial sums\n",
    "call MPI_Type_contiguous(2, MPI_INTEGER, send_recv_type, error)\n",
    "call MPI_Type_commit(send_recv_type, error)\n",
    "\n",
    "! Init\n",
    "snd_buf%i = rank\n",
    "snd_buf%j = 10*rank\n",
    "sum%i = 0\n",
    "sum%j = 0\n",
    "\n",
    "! Modify the send and receive calls to use the derived datatype\n",
    "do i = 1, size\n",
    "    call MPI_Issend(snd_buf, 1, send_recv_type, right, 17, MPI_COMM_WORLD, request, error)\n",
    "    call MPI_Recv(rcv_buf, 1, send_recv_type, left, 17, MPI_COMM_WORLD, status, error)\n",
    "    call MPI_Wait(request, status, error)\n",
    "    if (.NOT.MPI_ASYNC_PROTECTS_NONBLOCKING) call MPI_F_sync_reg(snd_buf)\n",
    "    snd_buf = rcv_buf\n",
    "    sum%i = sum%i + rcv_buf%i\n",
    "    sum%j = sum%j + rcv_buf%j\n",
    "end do\n",
    "print *, 'PE', rank, ': Sum =', sum%i, sum%j\n",
    "call MPI_Finalize(error)\n",
    "end"
   ]
  },
  {
   "cell_type": "code",
   "execution_count": null,
   "id": "43d4acdd",
   "metadata": {},
   "outputs": [],
   "source": [
    "!mpif90 ring.f90 && mpirun -np 4 a.out"
   ]
  }
 ],
 "metadata": {
  "kernelspec": {
   "display_name": "C++14 with OpenMP and MPI",
   "language": "C++14",
   "name": "xcpp14"
  },
  "language_info": {
   "codemirror_mode": "text/x-c++src",
   "file_extension": ".cpp",
   "mimetype": "text/x-c++src",
   "name": "c++",
   "version": "14"
  }
 },
 "nbformat": 4,
 "nbformat_minor": 5
}

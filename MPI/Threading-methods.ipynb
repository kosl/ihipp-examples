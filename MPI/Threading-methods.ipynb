{
 "cells": [
  {
   "cell_type": "markdown",
   "id": "f166b008",
   "metadata": {},
   "source": [
    "## Threading methods"
   ]
  },
  {
   "cell_type": "markdown",
   "id": "7bdec0e6",
   "metadata": {},
   "source": [
    "This is a simple example to show how threading methods work. The program uses these methods and checks if any errors occur. "
   ]
  },
  {
   "cell_type": "code",
   "execution_count": null,
   "id": "228cbcf6",
   "metadata": {},
   "outputs": [],
   "source": [
    "?MPI::MPI_Init_thread"
   ]
  },
  {
   "cell_type": "code",
   "execution_count": null,
   "id": "f0751738",
   "metadata": {},
   "outputs": [],
   "source": [
    "?MPI::MPI_Query_thread"
   ]
  },
  {
   "cell_type": "code",
   "execution_count": null,
   "id": "44c22847",
   "metadata": {},
   "outputs": [],
   "source": [
    "?MPI::MPI_Is_thread_main"
   ]
  },
  {
   "cell_type": "markdown",
   "id": "d911644e",
   "metadata": {},
   "source": [
    "***\n",
    "#### C example"
   ]
  },
  {
   "cell_type": "code",
   "execution_count": null,
   "id": "3c1f14da",
   "metadata": {},
   "outputs": [],
   "source": [
    "#include <mpi.h>"
   ]
  },
  {
   "cell_type": "code",
   "execution_count": null,
   "id": "e1c8a120",
   "metadata": {},
   "outputs": [],
   "source": [
    "%%executable  a.x -- -lmpi\n",
    "\n",
    "int errs = 0;\n",
    "int provided, flag, claimed;\n",
    "\n",
    "MPI_Init_thread(NULL, NULL, MPI_THREAD_MULTIPLE, &provided);\n",
    "\n",
    "MPI_Is_thread_main(&flag);\n",
    "if (!flag) {\n",
    "    errs++;\n",
    "    printf(\"This thread called init_thread but Is_thread_main gave false\\n\");\n",
    "}\n",
    "\n",
    "MPI_Query_thread(&claimed);\n",
    "if (claimed != provided) {\n",
    "    errs++;\n",
    "    printf(\"Query thread gave thread level %d but Init_thread gave %d\\n\", claimed, provided );\n",
    "}\n",
    "\n",
    "printf(\"Errors: %d \", errs);\n",
    "\n",
    "MPI_Finalize();"
   ]
  },
  {
   "cell_type": "code",
   "execution_count": null,
   "id": "f36f8be0",
   "metadata": {
    "scrolled": true
   },
   "outputs": [],
   "source": [
    "!mpirun -np 2 a.x"
   ]
  },
  {
   "cell_type": "markdown",
   "id": "b5d523ee",
   "metadata": {},
   "source": [
    "***\n",
    "#### Python example"
   ]
  },
  {
   "cell_type": "markdown",
   "id": "37be4220",
   "metadata": {},
   "source": [
    "`MPI_Init()` or `MPI_Init_thread()` is actually called when you import the MPI module from the mpi4py package, if MPI is not already initialized. In such case, calling the methods again from Python is expected to generate and MPI error. \n",
    "\n",
    "If `thread_level` is set to `True`, the init is done when `from mpi4py import MPI`. If `thread_level` is set to `False`, it is not done so we need to write the init. "
   ]
  },
  {
   "cell_type": "code",
   "execution_count": null,
   "id": "08e15110",
   "metadata": {},
   "outputs": [],
   "source": [
    "%%file threading.py\n",
    "from mpi4py import rc\n",
    "rc.initialize = False\n",
    "rc.thread_level = 'multiple'\n",
    "\n",
    "from mpi4py import MPI\n",
    "\n",
    "MPI.Init()\n",
    "\n",
    "errs = 0\n",
    "flag = MPI.Is_thread_main()\n",
    "if not flag:\n",
    "    errs += 1\n",
    "    print(\"This thread called init_thread but Is_thread_main gave false\")\n",
    "\n",
    "claimed = MPI.Query_thread()\n",
    "\n",
    "MPI.Finalize()"
   ]
  },
  {
   "cell_type": "code",
   "execution_count": null,
   "id": "eaf82bdb",
   "metadata": {},
   "outputs": [],
   "source": [
    "!mpirun -np 2 python threading.py"
   ]
  },
  {
   "cell_type": "markdown",
   "id": "9936fe22",
   "metadata": {},
   "source": [
    "***\n",
    "#### Fortran example"
   ]
  },
  {
   "cell_type": "code",
   "execution_count": null,
   "id": "edcc496f",
   "metadata": {},
   "outputs": [],
   "source": [
    "%%file threading.f90\n",
    "program threading\n",
    "use mpi\n",
    "\n",
    "integer ( kind = 4 ) error\n",
    "integer :: errs, provided, claimed\n",
    "logical :: flag\n",
    "errs = 0\n",
    "\n",
    "call MPI_Init_thread(MPI_THREAD_MULTIPLE, provided, error)\n",
    "\n",
    "call MPI_Is_thread_main(flag, error)\n",
    "if (flag .eqv. .false.) then\n",
    "    errs = errs + 1\n",
    "    print *, \"This thread called init_thread but Is_thread_main gave false\"\n",
    "end if\n",
    "\n",
    "call MPI_Query_thread(claimed, error)\n",
    "if (claimed .ne. provided) then\n",
    "    errs = errs + 1\n",
    "    print *, \"Query thread gave thread level \", claimed, \"but Init_thread gave \", provided \n",
    "end if\n",
    "\n",
    "print *, \"Errors: \", errs\n",
    "\n",
    "call MPI_Finalize(error)\n",
    "end"
   ]
  },
  {
   "cell_type": "code",
   "execution_count": null,
   "id": "e9b2ab62",
   "metadata": {},
   "outputs": [],
   "source": [
    "!mpif90 threading.f90 && mpirun -np 2 a.out"
   ]
  }
 ],
 "metadata": {
  "kernelspec": {
   "display_name": "C++14 with OpenMP and MPI",
   "language": "C++14",
   "name": "xcpp14"
  },
  "language_info": {
   "codemirror_mode": "text/x-c++src",
   "file_extension": ".cpp",
   "mimetype": "text/x-c++src",
   "name": "c++",
   "version": "14"
  }
 },
 "nbformat": 4,
 "nbformat_minor": 5
}

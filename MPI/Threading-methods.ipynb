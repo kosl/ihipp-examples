{
 "cells": [
  {
   "cell_type": "markdown",
   "id": "f166b008",
   "metadata": {},
   "source": [
    "## Threading methods"
   ]
  },
  {
   "cell_type": "code",
   "execution_count": null,
   "id": "228cbcf6",
   "metadata": {},
   "outputs": [],
   "source": [
    "?MPI::MPI_Init_thread"
   ]
  },
  {
   "cell_type": "code",
   "execution_count": null,
   "id": "f0751738",
   "metadata": {},
   "outputs": [],
   "source": [
    "?MPI::MPI_Query_thread"
   ]
  },
  {
   "cell_type": "code",
   "execution_count": null,
   "id": "44c22847",
   "metadata": {},
   "outputs": [],
   "source": [
    "?MPI::MPI_Is_thread_main"
   ]
  },
  {
   "cell_type": "markdown",
   "id": "d911644e",
   "metadata": {},
   "source": [
    "***\n",
    "#### C example"
   ]
  },
  {
   "cell_type": "code",
   "execution_count": null,
   "id": "3c1f14da",
   "metadata": {},
   "outputs": [],
   "source": [
    "#include <mpi.h>"
   ]
  },
  {
   "cell_type": "code",
   "execution_count": null,
   "id": "e1c8a120",
   "metadata": {},
   "outputs": [],
   "source": [
    "%%executable  a.x -- -lmpi\n",
    "\n",
    "int errs = 0;\n",
    "int provided, flag, claimed;\n",
    "\n",
    "MPI_Init_thread(NULL, NULL, MPI_THREAD_MULTIPLE, &provided);\n",
    "\n",
    "MPI_Is_thread_main(&flag);\n",
    "if (!flag) {\n",
    "    errs++;\n",
    "    printf(\"This thread called init_thread but Is_thread_main gave false\\n\");\n",
    "}\n",
    "\n",
    "MPI_Query_thread(&claimed);\n",
    "if (claimed != provided) {\n",
    "    errs++;\n",
    "    printf(\"Query thread gave thread level %d but Init_thread gave %d\\n\", claimed, provided );\n",
    "}\n",
    "\n",
    "printf(\"Errors: %d \", errs);\n",
    "\n",
    "MPI_Finalize();"
   ]
  },
  {
   "cell_type": "code",
   "execution_count": null,
   "id": "f36f8be0",
   "metadata": {
    "scrolled": true
   },
   "outputs": [],
   "source": [
    "!mpirun -np 2 a.x"
   ]
  },
  {
   "cell_type": "markdown",
   "id": "b5d523ee",
   "metadata": {},
   "source": [
    "***\n",
    "#### Python example"
   ]
  },
  {
   "cell_type": "code",
   "execution_count": null,
   "id": "7596fb48",
   "metadata": {},
   "outputs": [],
   "source": []
  },
  {
   "cell_type": "code",
   "execution_count": null,
   "id": "12057c78",
   "metadata": {},
   "outputs": [],
   "source": [
    "!mpirun -np 2 python threading.py"
   ]
  },
  {
   "cell_type": "markdown",
   "id": "9936fe22",
   "metadata": {},
   "source": [
    "***\n",
    "#### Fortran example"
   ]
  },
  {
   "cell_type": "code",
   "execution_count": null,
   "id": "edcc496f",
   "metadata": {},
   "outputs": [],
   "source": []
  },
  {
   "cell_type": "code",
   "execution_count": null,
   "id": "e9b2ab62",
   "metadata": {},
   "outputs": [],
   "source": [
    "!mpif90 threading.f90 && mpirun -np 2 a.out"
   ]
  }
 ],
 "metadata": {
  "kernelspec": {
   "display_name": "C++14 with OpenMP and MPI",
   "language": "C++14",
   "name": "xcpp14"
  },
  "language_info": {
   "codemirror_mode": "text/x-c++src",
   "file_extension": ".cpp",
   "mimetype": "text/x-c++src",
   "name": "c++",
   "version": "14"
  }
 },
 "nbformat": 4,
 "nbformat_minor": 5
}

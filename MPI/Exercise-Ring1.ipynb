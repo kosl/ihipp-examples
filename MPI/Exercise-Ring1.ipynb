{
 "cells": [
  {
   "cell_type": "markdown",
   "id": "f166b008",
   "metadata": {},
   "source": [
    "## Rotating information around a ring"
   ]
  },
  {
   "cell_type": "markdown",
   "id": "261c1846",
   "metadata": {},
   "source": [
    "The below program sends the rank values around the ring in a loop with #process iterations and sums up all the values that are coming along (sum of all ranks). "
   ]
  },
  {
   "cell_type": "markdown",
   "id": "7ec735fc",
   "metadata": {},
   "source": [
    "1. Run the program with processes 3,4,5 and check for correct sums.\n",
    "2. Then substitute MPI_Send with MPI_Ssend (explicit synchronous send). Run the program. You will see a deadlock and you will need to kill the program (with interrupt button ◼).\n",
    "3. Resolve the deadlock with a serialization. Use the trick: `if rank == `, then do first receive and then send for example. Run the program with 3,4,5 processes, you have resolved the deadlock. Now run the program with 1 process. Does the program finish?\n",
    "* Why did we use a program with 2 different buffers instead of 1 for the serialization solution?\n",
    "* Why does the serialized solution still deadlock when running with 1 process?"
   ]
  },
  {
   "cell_type": "code",
   "execution_count": null,
   "id": "43aebc6f",
   "metadata": {},
   "outputs": [],
   "source": [
    "?MPI::MPI_Ssend"
   ]
  },
  {
   "cell_type": "markdown",
   "id": "d2c94ad0",
   "metadata": {},
   "source": [
    "***\n",
    "#### C program"
   ]
  },
  {
   "cell_type": "code",
   "execution_count": null,
   "id": "64a30586",
   "metadata": {},
   "outputs": [],
   "source": [
    "%%file ring.c\n",
    "#include <stdio.h>\n",
    "#include <mpi.h>\n",
    "\n",
    "int main()\n",
    "{\n",
    "    int rank, size;\n",
    "    int snd_buf, rcv_buf;\n",
    "    int right, left;\n",
    "    int sum, i;\n",
    "    MPI_Status status;\n",
    "\n",
    "    MPI_Init(NULL, NULL);\n",
    "    MPI_Comm_rank(MPI_COMM_WORLD, &rank);\n",
    "    MPI_Comm_size(MPI_COMM_WORLD, &size);\n",
    "\n",
    "    right = (rank+1)      % size;\n",
    "    left  = (rank-1+size) % size;\n",
    "\n",
    "    sum = 0;\n",
    "    snd_buf = rank;\n",
    "    for(i = 0; i < size; i++) \n",
    "    {\n",
    "        MPI_Send(&snd_buf, 1, MPI_INT, right, 17, MPI_COMM_WORLD);\n",
    "        MPI_Recv(&rcv_buf, 1, MPI_INT, left,  17, MPI_COMM_WORLD, &status);\n",
    "        snd_buf = rcv_buf;\n",
    "        sum += rcv_buf;\n",
    "    }\n",
    "    printf (\"PE%i:\\tSum = %i\\n\", rank, sum);\n",
    "\n",
    "    MPI_Finalize();\n",
    "}"
   ]
  },
  {
   "cell_type": "code",
   "execution_count": null,
   "id": "18f99131",
   "metadata": {},
   "outputs": [],
   "source": [
    "!mpicc ring.c -o ring && mpirun -np 3 --allow-run-as-root ring"
   ]
  },
  {
   "cell_type": "markdown",
   "id": "63a2aa95",
   "metadata": {},
   "source": [
    "***\n",
    "#### Python program"
   ]
  },
  {
   "cell_type": "code",
   "execution_count": null,
   "id": "d5f8c5a0",
   "metadata": {},
   "outputs": [],
   "source": [
    "%%file ring.py\n",
    "from mpi4py import MPI\n",
    "\n",
    "comm = MPI.COMM_WORLD\n",
    "rank = comm.Get_rank()\n",
    "size = comm.Get_size()\n",
    "status = MPI.Status()\n",
    "\n",
    "right = (rank+1) % size\n",
    "left = (rank-1+size) % size\n",
    "sum = 0\n",
    "snd_buf = rank\n",
    "rcv_buf = -1\n",
    "\n",
    "for i in range (0,size):\n",
    "    comm.send(snd_buf, dest=right)\n",
    "    rcv_buf = comm.recv(source=left)\n",
    "    snd_buf = rcv_buf\n",
    "    sum += rcv_buf\n",
    "\n",
    "print(\"PE%i:\\tSum = %i\" % (rank, sum))"
   ]
  },
  {
   "cell_type": "code",
   "execution_count": null,
   "id": "5d5ecfa4",
   "metadata": {},
   "outputs": [],
   "source": [
    "!mpirun -np 3 --allow-run-as-root python ring.py"
   ]
  },
  {
   "cell_type": "markdown",
   "id": "9a40790c",
   "metadata": {},
   "source": [
    "***\n",
    "#### Fortran program"
   ]
  },
  {
   "cell_type": "code",
   "execution_count": null,
   "id": "e7c52170",
   "metadata": {},
   "outputs": [],
   "source": [
    "%%file ring.f90\n",
    "program ring\n",
    "use mpi\n",
    "\n",
    "integer ( kind = 4 ) error\n",
    "integer :: rank, size\n",
    "integer :: right, left\n",
    "integer :: i, sum\n",
    "integer :: snd_buf, rcv_buf\n",
    "integer :: status(MPI_STATUS_SIZE)\n",
    "\n",
    "call MPI_Init(error)\n",
    "call MPI_Comm_rank(MPI_COMM_WORLD, rank, error)\n",
    "call MPI_Comm_size(MPI_COMM_WORLD, size, error)\n",
    "right = mod(rank+1,      size)\n",
    "left  = mod(rank-1+size, size)\n",
    "sum = 0\n",
    "snd_buf = rank\n",
    "do i = 1, size\n",
    "    call MPI_Send(snd_buf, 1, MPI_INTEGER, right, 17, MPI_COMM_WORLD, error)\n",
    "    call MPI_Recv(rcv_buf, 1, MPI_INTEGER, left, 17, MPI_COMM_WORLD, status, error)\n",
    "    snd_buf = rcv_buf\n",
    "    sum = sum + rcv_buf\n",
    "end do\n",
    "print *, 'PE', rank, ': Sum =', sum\n",
    "call MPI_Finalize(error)\n",
    "end"
   ]
  },
  {
   "cell_type": "code",
   "execution_count": null,
   "id": "aad4e75b",
   "metadata": {},
   "outputs": [],
   "source": [
    "!mpif90 ring.f90 && mpirun -np 3 --allow-run-as-root a.out"
   ]
  },
  {
   "cell_type": "markdown",
   "id": "c548424a",
   "metadata": {},
   "source": [
    "#### You can compare with our solution:"
   ]
  },
  {
   "cell_type": "markdown",
   "id": "04aa09c9",
   "metadata": {},
   "source": [
    "***\n",
    "#### C serialized solution"
   ]
  },
  {
   "cell_type": "code",
   "execution_count": null,
   "id": "8642f87e",
   "metadata": {},
   "outputs": [],
   "source": [
    "%%file ring.c\n",
    "#include <stdio.h>\n",
    "#include <mpi.h>\n",
    "\n",
    "int main()\n",
    "{\n",
    "    int rank, size;\n",
    "    int snd_buf, rcv_buf;\n",
    "    int right, left;\n",
    "    int sum, i;\n",
    "    MPI_Status status;\n",
    "\n",
    "    MPI_Init(NULL, NULL);\n",
    "    MPI_Comm_rank(MPI_COMM_WORLD, &rank);\n",
    "    MPI_Comm_size(MPI_COMM_WORLD, &size);\n",
    "\n",
    "    right = (rank+1)      % size;\n",
    "    left  = (rank-1+size) % size;\n",
    "\n",
    "    sum = 0;\n",
    "    snd_buf = rank;\n",
    "    for(i = 0; i < size; i++) \n",
    "    {\n",
    "        if (rank == 0) {\n",
    "            MPI_Ssend(&snd_buf, 1, MPI_INT, right, 17, MPI_COMM_WORLD);\n",
    "            MPI_Recv(&rcv_buf, 1, MPI_INT, left,  17, MPI_COMM_WORLD, &status);\n",
    "        } else {\n",
    "            MPI_Recv(&rcv_buf, 1, MPI_INT, left,  17, MPI_COMM_WORLD, &status);\n",
    "            MPI_Ssend(&snd_buf, 1, MPI_INT, right, 17, MPI_COMM_WORLD);\n",
    "        }\n",
    "        snd_buf = rcv_buf;\n",
    "        sum += rcv_buf;\n",
    "    }\n",
    "    printf (\"PE%i:\\tSum = %i\\n\", rank, sum);\n",
    "\n",
    "    MPI_Finalize();\n",
    "}"
   ]
  },
  {
   "cell_type": "code",
   "execution_count": null,
   "id": "d33da825",
   "metadata": {},
   "outputs": [],
   "source": [
    "!mpicc ring.c -o ring && mpirun -np 3 --allow-run-as-root ring"
   ]
  },
  {
   "cell_type": "markdown",
   "id": "1ad70da9",
   "metadata": {},
   "source": [
    "***\n",
    "#### Python serialized solution"
   ]
  },
  {
   "cell_type": "code",
   "execution_count": null,
   "id": "fbb8f06a",
   "metadata": {},
   "outputs": [],
   "source": [
    "%%file ring.py\n",
    "from mpi4py import MPI\n",
    "\n",
    "comm = MPI.COMM_WORLD\n",
    "rank = comm.Get_rank()\n",
    "size = comm.Get_size()\n",
    "status = MPI.Status()\n",
    "\n",
    "right = (rank+1) % size\n",
    "left = (rank-1+size) % size\n",
    "sum = 0\n",
    "snd_buf = rank\n",
    "rcv_buf = -1\n",
    "\n",
    "for i in range (0,size):\n",
    "    if rank == 0:\n",
    "        comm.ssend(snd_buf, dest=right)\n",
    "        rcv_buf = comm.recv(source=left)\n",
    "    else:\n",
    "        rcv_buf = comm.recv(source=left)\n",
    "        comm.ssend(snd_buf, dest=right)\n",
    "    snd_buf = rcv_buf\n",
    "    sum += rcv_buf\n",
    "\n",
    "print(\"PE%i:\\tSum = %i\" % (rank, sum))"
   ]
  },
  {
   "cell_type": "code",
   "execution_count": null,
   "id": "2dde861c",
   "metadata": {},
   "outputs": [],
   "source": [
    "!mpirun -np 3 --allow-run-as-root python ring.py"
   ]
  },
  {
   "cell_type": "markdown",
   "id": "e012d842",
   "metadata": {},
   "source": [
    "***\n",
    "#### Fortran serialized solution"
   ]
  },
  {
   "cell_type": "code",
   "execution_count": null,
   "id": "0103de0e",
   "metadata": {},
   "outputs": [],
   "source": [
    "%%file ring.f90\n",
    "program ring\n",
    "use mpi\n",
    "\n",
    "integer ( kind = 4 ) error\n",
    "integer :: rank, size\n",
    "integer :: right, left\n",
    "integer :: i, sum\n",
    "integer :: snd_buf, rcv_buf\n",
    "integer :: status(MPI_STATUS_SIZE)\n",
    "\n",
    "call MPI_Init(error)\n",
    "call MPI_Comm_rank(MPI_COMM_WORLD, rank, error)\n",
    "call MPI_Comm_size(MPI_COMM_WORLD, size, error)\n",
    "right = mod(rank+1,      size)\n",
    "left  = mod(rank-1+size, size)\n",
    "sum = 0\n",
    "snd_buf = rank\n",
    "do i = 1, size\n",
    "    if (rank == 0) then\n",
    "        call MPI_Ssend(snd_buf, 1, MPI_INTEGER, right, 17, MPI_COMM_WORLD, error)\n",
    "        call MPI_Recv(rcv_buf, 1, MPI_INTEGER, left, 17, MPI_COMM_WORLD, status, error)\n",
    "    else\n",
    "        call MPI_Recv(rcv_buf, 1, MPI_INTEGER, left, 17, MPI_COMM_WORLD, status, error)\n",
    "        call MPI_Ssend(snd_buf, 1, MPI_INTEGER, right, 17, MPI_COMM_WORLD, error)\n",
    "    end if\n",
    "    snd_buf = rcv_buf\n",
    "    sum = sum + rcv_buf\n",
    "end do\n",
    "print *, 'PE', rank, ': Sum =', sum\n",
    "call MPI_Finalize(error)\n",
    "end"
   ]
  },
  {
   "cell_type": "code",
   "execution_count": null,
   "id": "7c5a612f",
   "metadata": {},
   "outputs": [],
   "source": [
    "!mpif90 ring.f90 && mpirun -np 3 --allow-run-as-root a.out"
   ]
  }
 ],
 "metadata": {
  "kernelspec": {
   "display_name": "C++14 with OpenMP and MPI",
   "language": "C++14",
   "name": "xcpp14"
  },
  "language_info": {
   "codemirror_mode": "text/x-c++src",
   "file_extension": ".cpp",
   "mimetype": "text/x-c++src",
   "name": "c++",
   "version": "14"
  }
 },
 "nbformat": 4,
 "nbformat_minor": 5
}

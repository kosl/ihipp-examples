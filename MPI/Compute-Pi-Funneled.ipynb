{
 "cells": [
  {
   "cell_type": "markdown",
   "id": "aa55e608",
   "metadata": {},
   "source": [
    "# Compute Pi using `MPI_THREAD_FUNNELED`"
   ]
  },
  {
   "cell_type": "markdown",
   "id": "3be02b86",
   "metadata": {},
   "source": [
    "***\n",
    "#### C program"
   ]
  },
  {
   "cell_type": "code",
   "execution_count": 1,
   "id": "b3c38500",
   "metadata": {},
   "outputs": [],
   "source": [
    "%%file pi-hybrid.c\n",
    "#include <stdio.h>\n",
    "#include <omp.h>\n",
    "#include <mpi.h>\n",
    "\n",
    "#define N 1000000\n",
    "\n",
    "int main()\n",
    "{\n",
    "  int rank;\n",
    "  int size;\n",
    "  double subsum = 0.0;\n",
    "\n",
    "  MPI_Init(NULL, NULL);\n",
    "  MPI_Comm_rank(MPI_COMM_WORLD, &rank);\n",
    "  MPI_Comm_size(MPI_COMM_WORLD, &size);\n",
    "  omp_set_num_threads(2);\n",
    "  \n",
    "  int nthreads = omp_get_num_threads();\n",
    "  #pragma omp parallel\n",
    "  {  \n",
    "    int tid = omp_get_thread_num();\n",
    "    printf(\"Thread %d within rank %d started.\\n\", tid, rank);\n",
    "    #pragma omp for reduction(+:subsum)\n",
    "    for(int i = rank; i < N; i += size*nthreads)\n",
    "      {\n",
    "        double x = (i+0.5)/N;\n",
    "        subsum += 4/(1 + x*x);\n",
    "      }\n",
    "  }\n",
    "\n",
    "  double sum;\n",
    "  MPI_Reduce(&subsum, &sum, 1, MPI_DOUBLE, MPI_SUM, 0, MPI_COMM_WORLD);\n",
    "  if (rank == 0)\n",
    "     printf(\"pi = %.10lf\\n\", sum/N);\n",
    "\n",
    "  MPI_Finalize();\n",
    "  return 0;\n",
    "}"
   ]
  },
  {
   "cell_type": "code",
   "execution_count": null,
   "id": "b2f1595b",
   "metadata": {},
   "outputs": [],
   "source": [
    "!mpicc -fopenmp pi-hybrid.c && mpirun -np 3 --allow-run-as-root a.out"
   ]
  },
  {
   "cell_type": "markdown",
   "id": "93a7240d",
   "metadata": {},
   "source": [
    "***\n",
    "#### Fortran program"
   ]
  },
  {
   "cell_type": "code",
   "execution_count": null,
   "id": "3cdd5a77",
   "metadata": {},
   "outputs": [],
   "source": [
    "%%file pi-hybrid.f90\n",
    "program hybrid\n",
    "use mpi\n",
    "\n",
    "integer, parameter :: N = 1000000\n",
    "integer ( kind = 4 ) error\n",
    "integer :: rank, size, nthreads, tid\n",
    "double precision :: subsum, sum, x\n",
    "nthreads = 2\n",
    "subsum = 0.0\n",
    "\n",
    "call MPI_Init(error)\n",
    "call MPI_Comm_rank(MPI_COMM_WORLD, rank, error)\n",
    "call MPI_Comm_size(MPI_COMM_WORLD, size, error)\n",
    "call omp_set_num_threads(nthreads)\n",
    "\n",
    "!$OMP parallel\n",
    "    tid = omp_get_thread_num()\n",
    "    print *, \"Thread\", tid, \"within rank\", rank, \"started.\"\n",
    "    !$OMP do reduction(+:subsum)\n",
    "        do i = rank, N, size*nthreads\n",
    "            x = (i+0.5)/N\n",
    "            subsum = subsum + 4/(1 + x*x)\n",
    "        end do\n",
    "    !$OMP end do\n",
    "!$OMP end parallel\n",
    "\n",
    "call MPI_Reduce(subsum, sum, 1, MPI_DOUBLE_PRECISION, MPI_SUM, 0, MPI_COMM_WORLD, error)    \n",
    "if (rank == 0) then\n",
    "    print *, \"pi =\", sum/N\n",
    "endif\n",
    "\n",
    "call MPI_Finalize(error)\n",
    "end"
   ]
  },
  {
   "cell_type": "code",
   "execution_count": null,
   "id": "56610f5d",
   "metadata": {},
   "outputs": [],
   "source": [
    "!mpif90 -fopenmp pi-hybrid.f90 && mpirun -np 3 --allow-run-as-root a.out"
   ]
  }
 ],
 "metadata": {
  "kernelspec": {
   "display_name": "C++14 with OpenMP and MPI",
   "language": "C++14",
   "name": "xcpp14"
  },
  "language_info": {
   "codemirror_mode": "text/x-c++src",
   "file_extension": ".cpp",
   "mimetype": "text/x-c++src",
   "name": "c++",
   "version": "14"
  }
 },
 "nbformat": 4,
 "nbformat_minor": 5
}

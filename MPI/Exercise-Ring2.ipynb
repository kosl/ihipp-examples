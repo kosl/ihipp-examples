{
 "cells": [
  {
   "cell_type": "markdown",
   "id": "f166b008",
   "metadata": {},
   "source": [
    "## Rotating information around a ring (non-blocking)"
   ]
  },
  {
   "cell_type": "markdown",
   "id": "7eeba91f",
   "metadata": {},
   "source": [
    "Now let’s repeat the exercise but you are now solving the deadlock in an optimal way using non-blocking communication.\n",
    "\n",
    "* Substitute MPI_Send with MPI_Issend (non-blocking synchronous send) and put the wait statement at the correct place. Keep the normal blocking MPI_Recv. Run the program."
   ]
  },
  {
   "cell_type": "code",
   "execution_count": null,
   "id": "35f2e218",
   "metadata": {},
   "outputs": [],
   "source": [
    "?MPI::MPI_Issend"
   ]
  },
  {
   "cell_type": "code",
   "execution_count": null,
   "id": "defed92d",
   "metadata": {},
   "outputs": [],
   "source": [
    "?MPI::MPI_Wait"
   ]
  },
  {
   "cell_type": "markdown",
   "id": "90bda56f",
   "metadata": {},
   "source": [
    "***\n",
    "#### C program"
   ]
  },
  {
   "cell_type": "code",
   "execution_count": null,
   "id": "7077075a",
   "metadata": {},
   "outputs": [],
   "source": [
    "%%file ring.c\n",
    "#include <stdio.h>\n",
    "#include <mpi.h>\n",
    "\n",
    "int main()\n",
    "{\n",
    "    int rank, size;\n",
    "    int snd_buf, rcv_buf;\n",
    "    int right, left;\n",
    "    int sum, i;\n",
    "    MPI_Status status;\n",
    "\n",
    "    MPI_Init(NULL, NULL);\n",
    "    MPI_Comm_rank(MPI_COMM_WORLD, &rank);\n",
    "    MPI_Comm_size(MPI_COMM_WORLD, &size);\n",
    "\n",
    "    right = (rank+1)      % size;\n",
    "    left  = (rank-1+size) % size;\n",
    "\n",
    "    sum = 0;\n",
    "    snd_buf = rank;\n",
    "    for(i = 0; i < size; i++) \n",
    "    {\n",
    "        MPI_Send(&snd_buf, 1, MPI_INT, right, 17, MPI_COMM_WORLD);\n",
    "        MPI_Recv(&rcv_buf, 1, MPI_INT, left,  17, MPI_COMM_WORLD, &status);\n",
    "        snd_buf = rcv_buf;\n",
    "        sum += rcv_buf;\n",
    "    }\n",
    "    printf (\"PE%i:\\tSum = %i\\n\", rank, sum);\n",
    "\n",
    "    MPI_Finalize();\n",
    "}"
   ]
  },
  {
   "cell_type": "code",
   "execution_count": null,
   "id": "dfb3740d",
   "metadata": {},
   "outputs": [],
   "source": [
    "!mpicc ring.c && mpirun -np 3 --allow-run-as-root a.out"
   ]
  },
  {
   "cell_type": "markdown",
   "id": "6753e051",
   "metadata": {},
   "source": [
    "***\n",
    "#### Python program"
   ]
  },
  {
   "cell_type": "code",
   "execution_count": null,
   "id": "ee7f068f",
   "metadata": {},
   "outputs": [],
   "source": [
    "%%file ring.py\n",
    "from mpi4py import MPI\n",
    "\n",
    "comm = MPI.COMM_WORLD\n",
    "rank = comm.Get_rank()\n",
    "size = comm.Get_size()\n",
    "status = MPI.Status()\n",
    "\n",
    "right = (rank+1) % size\n",
    "left = (rank-1+size) % size\n",
    "sum = 0\n",
    "snd_buf = rank\n",
    "rcv_buf = -1\n",
    "\n",
    "for i in range (0,size):\n",
    "    comm.send(snd_buf, dest=right)\n",
    "    rcv_buf = comm.recv(source=left)\n",
    "    snd_buf = rcv_buf\n",
    "    sum += rcv_buf\n",
    "\n",
    "print(\"PE%i:\\tSum = %i\" % (rank, sum))"
   ]
  },
  {
   "cell_type": "code",
   "execution_count": null,
   "id": "20f75609",
   "metadata": {},
   "outputs": [],
   "source": [
    "!mpirun -np 3 --allow-run-as-root python ring.py"
   ]
  },
  {
   "cell_type": "markdown",
   "id": "ba3e4e05",
   "metadata": {},
   "source": [
    "***\n",
    "#### Fortran program"
   ]
  },
  {
   "cell_type": "code",
   "execution_count": null,
   "id": "905cf65b",
   "metadata": {},
   "outputs": [],
   "source": [
    "%%file ring.f90\n",
    "program ring\n",
    "use mpi\n",
    "\n",
    "integer ( kind = 4 ) error\n",
    "integer :: rank, size\n",
    "integer :: right, left\n",
    "integer :: i, sum\n",
    "integer :: snd_buf, rcv_buf\n",
    "integer :: status(MPI_STATUS_SIZE)\n",
    "\n",
    "call MPI_Init(error)\n",
    "call MPI_Comm_rank(MPI_COMM_WORLD, rank, error)\n",
    "call MPI_Comm_size(MPI_COMM_WORLD, size, error)\n",
    "right = mod(rank+1,      size)\n",
    "left  = mod(rank-1+size, size)\n",
    "sum = 0\n",
    "snd_buf = rank\n",
    "do i = 1, size\n",
    "    call MPI_Send(snd_buf, 1, MPI_INTEGER, right, 17, MPI_COMM_WORLD, error)\n",
    "    call MPI_Recv(rcv_buf, 1, MPI_INTEGER, left, 17, MPI_COMM_WORLD, status, error)\n",
    "    snd_buf = rcv_buf\n",
    "    sum = sum + rcv_buf\n",
    "end do\n",
    "print *, 'PE', rank, ': Sum =', sum\n",
    "call MPI_Finalize(error)\n",
    "end"
   ]
  },
  {
   "cell_type": "code",
   "execution_count": null,
   "id": "5e207fb5",
   "metadata": {},
   "outputs": [],
   "source": [
    "!mpif90 ring.f90 && mpirun -np 3 --allow-run-as-root a.out"
   ]
  },
  {
   "cell_type": "markdown",
   "id": "20e5dc0d",
   "metadata": {},
   "source": [
    "***\n",
    "### You can compare with our solution:"
   ]
  },
  {
   "cell_type": "markdown",
   "id": "45d3fdb7",
   "metadata": {},
   "source": [
    "***\n",
    "#### C solution"
   ]
  },
  {
   "cell_type": "code",
   "execution_count": null,
   "id": "9add07dd",
   "metadata": {},
   "outputs": [],
   "source": [
    "%%file ring.c\n",
    "#include <stdio.h>\n",
    "#include <mpi.h>\n",
    "\n",
    "int main()\n",
    "{\n",
    "    int rank, size;\n",
    "    int snd_buf, rcv_buf;\n",
    "    int right, left;\n",
    "    int sum, i;\n",
    "    MPI_Status status;\n",
    "    MPI_Request request; //added request variable\n",
    "\n",
    "    MPI_Init(NULL, NULL);\n",
    "    MPI_Comm_rank(MPI_COMM_WORLD, &rank);\n",
    "    MPI_Comm_size(MPI_COMM_WORLD, &size);\n",
    "\n",
    "    right = (rank+1)      % size;\n",
    "    left  = (rank-1+size) % size;\n",
    "\n",
    "    sum = 0;\n",
    "    snd_buf = rank;\n",
    "    for(i = 0; i < size; i++) \n",
    "    {\n",
    "        MPI_Issend(&snd_buf, 1, MPI_INT, right, 17, MPI_COMM_WORLD, &request); //substitute send with issend\n",
    "        MPI_Recv(&rcv_buf, 1, MPI_INT, left,  17, MPI_COMM_WORLD, &status);\n",
    "        MPI_Wait(&request, &status); //wait right after receive\n",
    "        //only after this wait you are allowed to modify the send buffer\n",
    "        //you must not modify the buffer between the issend and the wait\n",
    "        snd_buf = rcv_buf;\n",
    "        sum += rcv_buf;\n",
    "    }\n",
    "    printf (\"PE%i:\\tSum = %i\\n\", rank, sum);\n",
    "\n",
    "    MPI_Finalize();\n",
    "}"
   ]
  },
  {
   "cell_type": "code",
   "execution_count": null,
   "id": "6fc5bc10",
   "metadata": {},
   "outputs": [],
   "source": [
    "!mpicc ring.c && mpirun -np 3 --allow-run-as-root a.out"
   ]
  },
  {
   "cell_type": "markdown",
   "id": "a467c8f8",
   "metadata": {},
   "source": [
    "***\n",
    "#### Python solution"
   ]
  },
  {
   "cell_type": "code",
   "execution_count": null,
   "id": "304966f0",
   "metadata": {},
   "outputs": [],
   "source": [
    "%%file ring.py\n",
    "from mpi4py import MPI\n",
    "\n",
    "comm = MPI.COMM_WORLD\n",
    "rank = comm.Get_rank()\n",
    "size = comm.Get_size()\n",
    "status = MPI.Status()\n",
    "\n",
    "right = (rank+1) % size\n",
    "left = (rank-1+size) % size\n",
    "sum = 0\n",
    "snd_buf = rank\n",
    "rcv_buf = -1\n",
    "\n",
    "for i in range (0,size):\n",
    "    request = comm.issend(snd_buf, dest=right)\n",
    "    rcv_buf = comm.recv(source=left)\n",
    "    request.wait()\n",
    "    snd_buf = rcv_buf\n",
    "    sum += rcv_buf\n",
    "\n",
    "print(\"PE%i:\\tSum = %i\" % (rank, sum))"
   ]
  },
  {
   "cell_type": "code",
   "execution_count": null,
   "id": "fb648087",
   "metadata": {},
   "outputs": [],
   "source": [
    "!mpirun -np 3 --allow-run-as-root python ring.py"
   ]
  },
  {
   "cell_type": "markdown",
   "id": "6976409a",
   "metadata": {},
   "source": [
    "***\n",
    "#### Fortran solution"
   ]
  },
  {
   "cell_type": "code",
   "execution_count": null,
   "id": "86652edb",
   "metadata": {},
   "outputs": [],
   "source": [
    "%%file ring.f90\n",
    "program ring\n",
    "use mpi\n",
    "\n",
    "integer ( kind = 4 ) error\n",
    "integer :: rank, size\n",
    "integer :: right, left\n",
    "integer :: i, sum\n",
    "integer, asynchronous ::snd_buf ! additional declaration\n",
    "integer :: rcv_buf\n",
    "integer :: status(MPI_STATUS_SIZE)\n",
    "integer :: request\n",
    "\n",
    "call MPI_Init(error)\n",
    "call MPI_Comm_rank(MPI_COMM_WORLD, rank, error)\n",
    "call MPI_Comm_size(MPI_COMM_WORLD, size, error)\n",
    "right = mod(rank+1,      size)\n",
    "left  = mod(rank-1+size, size)\n",
    "sum = 0\n",
    "snd_buf = rank\n",
    "do i = 1, size\n",
    "    call MPI_Issend(snd_buf, 1, MPI_INTEGER, right, 17, MPI_COMM_WORLD, request, error)\n",
    "    call MPI_Recv(rcv_buf, 1, MPI_INTEGER, left, 17, MPI_COMM_WORLD, status, error)\n",
    "    call MPI_Wait(request, status, error)\n",
    "    if (.NOT.MPI_ASYNC_PROTECTS_NONBLOCKING) call MPI_F_sync_reg(snd_buf) ! additional special statement\n",
    "    snd_buf = rcv_buf\n",
    "    sum = sum + rcv_buf\n",
    "end do\n",
    "print *, 'PE', rank, ': Sum =', sum\n",
    "call MPI_Finalize(error)\n",
    "end"
   ]
  },
  {
   "cell_type": "code",
   "execution_count": null,
   "id": "43d4acdd",
   "metadata": {},
   "outputs": [],
   "source": [
    "!mpif90 ring.f90 && mpirun -np 3 --allow-run-as-root a.out"
   ]
  }
 ],
 "metadata": {
  "kernelspec": {
   "display_name": "C++14 with OpenMP and MPI",
   "language": "C++14",
   "name": "xcpp14"
  },
  "language_info": {
   "codemirror_mode": "text/x-c++src",
   "file_extension": ".cpp",
   "mimetype": "text/x-c++src",
   "name": "c++",
   "version": "14"
  }
 },
 "nbformat": 4,
 "nbformat_minor": 5
}

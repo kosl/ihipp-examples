{
 "cells": [
  {
   "cell_type": "markdown",
   "id": "f166b008",
   "metadata": {},
   "source": [
    "## Reduce"
   ]
  },
  {
   "cell_type": "markdown",
   "id": "1b46418c",
   "metadata": {},
   "source": [
    "In this exercise you write an MPI program that computes the average of an array of elements using MPI_Reduce. \n",
    "\n",
    "The program takes the following steps:\n",
    "\n",
    "1. Each process creates an array of generated random numbers. \n",
    "\n",
    "2. Each process computes the `local_sum` calculation. \n",
    "\n",
    "3. Reduce the `local_sum` to the root process (process 0) using `MPI_SUM`. \n",
    "\n",
    "4. The root process calculates final average. \n",
    "\n",
    "* TODO: Go to the exercise and rewrite progam using `MPI_Reduce` to compute a global average. "
   ]
  },
  {
   "cell_type": "code",
   "execution_count": null,
   "id": "51cc5ba4",
   "metadata": {},
   "outputs": [],
   "source": [
    "?MPI::MPI_Reduce"
   ]
  },
  {
   "cell_type": "markdown",
   "id": "d911644e",
   "metadata": {},
   "source": [
    "***\n",
    "#### C skeleton"
   ]
  },
  {
   "cell_type": "code",
   "execution_count": null,
   "id": "3c1f14da",
   "metadata": {},
   "outputs": [],
   "source": [
    "#include <mpi.h>"
   ]
  },
  {
   "cell_type": "code",
   "execution_count": null,
   "id": "3fed415a",
   "metadata": {},
   "outputs": [],
   "source": [
    "%%executable  a.x -- -lmpi\n",
    "\n",
    "int i, rank, size;\n",
    "int num_elements_per_proc = 3;\n",
    "int num_elements;\n",
    "// seed the random number generator to get different results for each processor\n",
    "srand(time(NULL)*rank);\n",
    "\n",
    "MPI_Init(NULL, NULL);\n",
    "\n",
    "MPI_Comm_rank(MPI_COMM_WORLD, &rank);\n",
    "MPI_Comm_size(MPI_COMM_WORLD, &size);\n",
    "\n",
    "// create a random array of elements on all processes\n",
    "float *rand_nums = NULL;\n",
    "rand_nums = (float *)malloc(sizeof(float) * num_elements_per_proc);\n",
    "for (i = 0; i < num_elements_per_proc; i++) {\n",
    "    rand_nums[i] = (rand() / (float)RAND_MAX);\n",
    "}\n",
    "\n",
    "// sum the numbers locally\n",
    "float local_sum = 0.f;\n",
    "// TODO\n",
    "printf(\"Local sum for process %d : %f, avg = %f\\n\",\n",
    "         rank, local_sum, local_sum / num_elements_per_proc);\n",
    "\n",
    "\n",
    "// reduce all of the local sums into the global sum on root process\n",
    "float global_sum;\n",
    "// TODO: reduce\n",
    "\n",
    "// print the result\n",
    "if (rank == 0) {\n",
    "    // TODO\n",
    "}\n",
    "\n",
    "// clean up\n",
    "free(rand_nums);\n",
    "\n",
    "MPI_Finalize();"
   ]
  },
  {
   "cell_type": "markdown",
   "id": "1d4a1d57",
   "metadata": {},
   "source": [
    "Now compile it and run it with 4 processes. "
   ]
  },
  {
   "cell_type": "code",
   "execution_count": null,
   "id": "f36f8be0",
   "metadata": {
    "scrolled": true
   },
   "outputs": [],
   "source": [
    "!mpirun -np 4 a.x"
   ]
  },
  {
   "cell_type": "markdown",
   "id": "b5d523ee",
   "metadata": {},
   "source": [
    "***\n",
    "#### Python skeleton"
   ]
  },
  {
   "cell_type": "code",
   "execution_count": null,
   "id": "7596fb48",
   "metadata": {},
   "outputs": [],
   "source": [
    "%%file reduce.py\n",
    "from mpi4py import MPI\n",
    "import random\n",
    "\n",
    "comm = MPI.COMM_WORLD\n",
    "rank = comm.Get_rank()\n",
    "size = comm.Get_size()\n",
    "num_elements_per_proc = 3\n",
    "    \n",
    "# create a random array of elements on all processes\n",
    "rand_nums = []\n",
    "for i in range(0, num_elements_per_proc):\n",
    "    rand_nums.append(random.uniform(0, 1))\n",
    "        \n",
    "# sum the numbers locally\n",
    "local_sum = 0\n",
    "# TODO\n",
    "print(\"Local sum for process %d : %f, avg = %f\" %\n",
    "         (rank, local_sum, local_sum / num_elements_per_proc))\n",
    "\n",
    "# reduce all of the local sums into the global sum on root process\n",
    "global_sum = 0\n",
    "# TODO: reduce\n",
    "\n",
    "# print the result\n",
    "if rank == 0 :\n",
    "    # TODO:"
   ]
  },
  {
   "cell_type": "markdown",
   "id": "f15f4b77",
   "metadata": {},
   "source": [
    "Now compile it and run it with 4 processes. "
   ]
  },
  {
   "cell_type": "code",
   "execution_count": null,
   "id": "12057c78",
   "metadata": {},
   "outputs": [],
   "source": [
    "!mpirun -np 4 python reduce.py"
   ]
  },
  {
   "cell_type": "markdown",
   "id": "9936fe22",
   "metadata": {},
   "source": [
    "***\n",
    "#### Fortran skeleton"
   ]
  },
  {
   "cell_type": "code",
   "execution_count": null,
   "id": "edcc496f",
   "metadata": {},
   "outputs": [],
   "source": [
    "%%file reduce.f90\n",
    "program reduce\n",
    "use mpi\n",
    "\n",
    "integer ( kind = 4 ) error\n",
    "double precision :: local_sum, global_sum\n",
    "double precision, allocatable, dimension (:) :: rand_nums\n",
    "integer :: i, rank, size, num_elements_per_proc, num_elements\n",
    "num_elements_per_proc = 3\n",
    "\n",
    "call MPI_Init(error)\n",
    "call MPI_Comm_rank(MPI_COMM_WORLD, rank, error)\n",
    "call MPI_Comm_size(MPI_COMM_WORLD, size, error)\n",
    "num_elements = num_elements_per_proc * size\n",
    "    \n",
    "! create a random array of elements on all processes\n",
    "allocate(rand_nums(0:num_elements_per_proc-1))\n",
    "do i = 0, num_elements_per_proc-1\n",
    "    call random_number(rand_nums(i))\n",
    "end do\n",
    "\n",
    "! sum the numbers locally\n",
    "local_sum = 0.0\n",
    "! TODO\n",
    "print *, \"Local sum for process\", rank, \":\", local_sum, \", avg = \", (local_sum / num_elements_per_proc)\n",
    "\n",
    "! reduce all of the local sums into the global sum on root process\n",
    "global_sum = 0.0\n",
    "! TODO: reduce\n",
    "\n",
    "! print the result\n",
    "if (rank == 0) then\n",
    "    ! TODO\n",
    "endif\n",
    "\n",
    "call MPI_Finalize(error)\n",
    "end"
   ]
  },
  {
   "cell_type": "markdown",
   "id": "6f56ea58",
   "metadata": {},
   "source": [
    "Now compile it and run it with 4 processes. "
   ]
  },
  {
   "cell_type": "code",
   "execution_count": null,
   "id": "e9b2ab62",
   "metadata": {},
   "outputs": [],
   "source": [
    "!mpif90 reduce.f90 && mpirun -np 4 a.out"
   ]
  },
  {
   "cell_type": "markdown",
   "id": "76d6e30d",
   "metadata": {},
   "source": [
    "***"
   ]
  },
  {
   "cell_type": "markdown",
   "id": "bbeebe3d",
   "metadata": {},
   "source": [
    " "
   ]
  },
  {
   "cell_type": "markdown",
   "id": "6088d5ce",
   "metadata": {},
   "source": [
    "### You can compare with our solution:"
   ]
  },
  {
   "cell_type": "markdown",
   "id": "45d3fdb7",
   "metadata": {},
   "source": [
    "***\n",
    "#### C solution"
   ]
  },
  {
   "cell_type": "code",
   "execution_count": null,
   "id": "9add07dd",
   "metadata": {},
   "outputs": [],
   "source": [
    "%%executable  a.x -- -lmpi\n",
    "\n",
    "int i, rank, size;\n",
    "int num_elements_per_proc = 3;\n",
    "int num_elements;\n",
    "// seed the random number generator to get different results for each processor\n",
    "srand(time(NULL)*rank);\n",
    "\n",
    "MPI_Init(NULL, NULL);\n",
    "\n",
    "MPI_Comm_rank(MPI_COMM_WORLD, &rank);\n",
    "MPI_Comm_size(MPI_COMM_WORLD, &size);\n",
    "\n",
    "// create a random array of elements on all processes\n",
    "float *rand_nums = NULL;\n",
    "rand_nums = (float *)malloc(sizeof(float) * num_elements_per_proc);\n",
    "for (i = 0; i < num_elements_per_proc; i++) {\n",
    "    rand_nums[i] = (rand() / (float)RAND_MAX);\n",
    "}\n",
    "\n",
    "// sum the numbers locally\n",
    "float local_sum = 0.f;\n",
    "for (i = 0; i < num_elements_per_proc; i++) {\n",
    "    local_sum += rand_nums[i];\n",
    "}\n",
    "printf(\"Local sum for process %d : %f, avg = %f\\n\",\n",
    "         rank, local_sum, local_sum / num_elements_per_proc);\n",
    "\n",
    "// reduce all of the local sums into the global sum on root process\n",
    "float global_sum;\n",
    "MPI_Reduce(&local_sum, &global_sum, 1, MPI_FLOAT, MPI_SUM, 0, MPI_COMM_WORLD);\n",
    "\n",
    "// print the result\n",
    "if (rank == 0) {\n",
    "    printf(\"Total sum = %f, avg = %f\\n\", global_sum,\n",
    "        global_sum / (size * num_elements_per_proc));\n",
    "}\n",
    "\n",
    "// clean up\n",
    "free(rand_nums);\n",
    "\n",
    "MPI_Finalize();"
   ]
  },
  {
   "cell_type": "code",
   "execution_count": null,
   "id": "6fc5bc10",
   "metadata": {},
   "outputs": [],
   "source": [
    "!mpirun -np 4 a.x"
   ]
  },
  {
   "cell_type": "markdown",
   "id": "a467c8f8",
   "metadata": {},
   "source": [
    "***\n",
    "#### Python solution"
   ]
  },
  {
   "cell_type": "code",
   "execution_count": null,
   "id": "304966f0",
   "metadata": {},
   "outputs": [],
   "source": [
    "%%file reduce.py\n",
    "from mpi4py import MPI\n",
    "import random\n",
    "\n",
    "comm = MPI.COMM_WORLD\n",
    "rank = comm.Get_rank()\n",
    "size = comm.Get_size()\n",
    "num_elements_per_proc = 3\n",
    "    \n",
    "# create a random array of elements on all processes\n",
    "rand_nums = []\n",
    "for i in range(0, num_elements_per_proc):\n",
    "    rand_nums.append(random.uniform(0, 1))\n",
    "        \n",
    "# sum the numbers locally\n",
    "local_sum = sum(rand_nums)\n",
    "print(\"Local sum for process %d : %f, avg = %f\" %\n",
    "         (rank, local_sum, local_sum / num_elements_per_proc))\n",
    "\n",
    "# reduce all of the local sums into the global sum on root process\n",
    "global_sum = comm.reduce(local_sum, op=MPI.SUM, root=0)\n",
    "\n",
    "# print the result\n",
    "if rank == 0 :\n",
    "    print(\"Total sum = %f, avg = %f\" % (global_sum,\n",
    "        global_sum / (size * num_elements_per_proc)))"
   ]
  },
  {
   "cell_type": "code",
   "execution_count": null,
   "id": "fb648087",
   "metadata": {},
   "outputs": [],
   "source": [
    "!mpirun -np 4 python reduce.py"
   ]
  },
  {
   "cell_type": "markdown",
   "id": "6976409a",
   "metadata": {},
   "source": [
    "***\n",
    "#### Fortran solution"
   ]
  },
  {
   "cell_type": "code",
   "execution_count": null,
   "id": "86652edb",
   "metadata": {},
   "outputs": [],
   "source": [
    "%%file reduce.f90\n",
    "program reduce\n",
    "use mpi\n",
    "\n",
    "integer ( kind = 4 ) error\n",
    "double precision :: local_sum, global_sum\n",
    "double precision, allocatable, dimension (:) :: rand_nums\n",
    "integer :: i, rank, size, num_elements_per_proc, num_elements\n",
    "num_elements_per_proc = 3\n",
    "\n",
    "call MPI_Init(error)\n",
    "call MPI_Comm_rank(MPI_COMM_WORLD, rank, error)\n",
    "call MPI_Comm_size(MPI_COMM_WORLD, size, error)\n",
    "num_elements = num_elements_per_proc * size\n",
    "    \n",
    "! create a random array of elements on all processes\n",
    "allocate(rand_nums(0:num_elements_per_proc-1))\n",
    "do i = 0, num_elements_per_proc-1\n",
    "    call random_number(rand_nums(i))\n",
    "end do\n",
    "\n",
    "! sum the numbers locally\n",
    "local_sum = 0.0\n",
    "do i = 0, num_elements_per_proc-1\n",
    "    local_sum = local_sum + rand_nums(i)\n",
    "end do\n",
    "print *, \"Local sum for process\", rank, \":\", local_sum, \", avg = \", (local_sum / num_elements_per_proc)\n",
    "\n",
    "! reduce all of the local sums into the global sum on root process\n",
    "global_sum = 0.0\n",
    "call MPI_Reduce(local_sum, global_sum, 1, MPI_DOUBLE_PRECISION, MPI_SUM, 0, MPI_COMM_WORLD, error)\n",
    "\n",
    "! print the result\n",
    "if (rank == 0) then\n",
    "    print *, \"Total sum = \", global_sum, \"avg = \", (global_sum / num_elements)\n",
    "endif\n",
    "\n",
    "call MPI_Finalize(error)\n",
    "end"
   ]
  },
  {
   "cell_type": "code",
   "execution_count": null,
   "id": "43d4acdd",
   "metadata": {},
   "outputs": [],
   "source": [
    "!mpif90 reduce.f90 && mpirun -np 4 a.out"
   ]
  }
 ],
 "metadata": {
  "kernelspec": {
   "display_name": "C++14 with OpenMP and MPI",
   "language": "C++14",
   "name": "xcpp14"
  },
  "language_info": {
   "codemirror_mode": "text/x-c++src",
   "file_extension": ".cpp",
   "mimetype": "text/x-c++src",
   "name": "c++",
   "version": "14"
  }
 },
 "nbformat": 4,
 "nbformat_minor": 5
}

{
 "cells": [
  {
   "cell_type": "markdown",
   "id": "aa55e608",
   "metadata": {},
   "source": [
    "# Simple example of Hybrid parallel programming"
   ]
  },
  {
   "cell_type": "markdown",
   "id": "3be02b86",
   "metadata": {},
   "source": [
    "***\n",
    "#### C program"
   ]
  },
  {
   "cell_type": "code",
   "execution_count": 1,
   "id": "b3c38500",
   "metadata": {},
   "outputs": [],
   "source": [
    "%%file hello.c\n",
    "#include <omp.h>\n",
    "#include <mpi.h>\n",
    "#include <stdio.h>\n",
    "\n",
    "int main() {\n",
    "    int i, tid, rank, size;\n",
    "\n",
    "    MPI_Init(NULL, NULL);\n",
    "    MPI_Comm_rank(MPI_COMM_WORLD, &rank);\n",
    "    MPI_Comm_size(MPI_COMM_WORLD, &size);\n",
    "        \n",
    "    omp_set_num_threads(2);\n",
    "    #pragma omp parallel private(tid, i)\n",
    "    {  \n",
    "        tid = omp_get_thread_num();\n",
    "        #pragma omp for\n",
    "        for (i = 0; i < size; i++) {\n",
    "            printf(\"Thread %d within rank %d executing loop iteration i=%d.\\n\", tid, rank, i);\n",
    "        }\n",
    "    }\n",
    "\n",
    "    MPI_Finalize();\n",
    "}"
   ]
  },
  {
   "cell_type": "code",
   "execution_count": null,
   "id": "b2f1595b",
   "metadata": {},
   "outputs": [],
   "source": [
    "!mpicc -fopenmp hello.c -o hello && mpirun -np 4 hello"
   ]
  },
  {
   "cell_type": "markdown",
   "id": "93a7240d",
   "metadata": {},
   "source": [
    "***\n",
    "#### Fortran program"
   ]
  },
  {
   "cell_type": "code",
   "execution_count": null,
   "id": "3cdd5a77",
   "metadata": {},
   "outputs": [],
   "source": [
    "%%file hello.f90\n",
    "program hello\n",
    "use mpi\n",
    "\n",
    "integer (kind = 4) error\n",
    "integer :: i, tid, rank, size, num_threads\n",
    "num_threads = 2\n",
    "\n",
    "call MPI_Init(error)\n",
    "call MPI_Comm_rank(MPI_COMM_WORLD, rank, error)\n",
    "call MPI_Comm_size(MPI_COMM_WORLD, size, error)\n",
    "\n",
    "call omp_set_num_threads(num_threads)\n",
    "!$OMP parallel private(tid, i)\n",
    "    tid = omp_get_thread_num()\n",
    "    !$OMP do\n",
    "        do i = 0, size-1\n",
    "            print *, \"Thread\", tid, \"within rank\", rank, \"executing loop iteration i=\", i\n",
    "        end do\n",
    "    !$OMP end do\n",
    "!$OMP end parallel\n",
    "\n",
    "call MPI_Finalize(error)\n",
    "end"
   ]
  },
  {
   "cell_type": "code",
   "execution_count": null,
   "id": "56610f5d",
   "metadata": {},
   "outputs": [],
   "source": [
    "!mpif90 -fopenmp hello.f90 && mpirun -np 4 a.out"
   ]
  }
 ],
 "metadata": {
  "kernelspec": {
   "display_name": "C++14 with OpenMP and MPI",
   "language": "C++14",
   "name": "xcpp14"
  },
  "language_info": {
   "codemirror_mode": "text/x-c++src",
   "file_extension": ".cpp",
   "mimetype": "text/x-c++src",
   "name": "c++",
   "version": "14"
  }
 },
 "nbformat": 4,
 "nbformat_minor": 5
}

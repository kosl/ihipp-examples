{
 "cells": [
  {
   "cell_type": "markdown",
   "id": "19264178",
   "metadata": {},
   "source": [
    "## Hello world in MPI"
   ]
  },
  {
   "cell_type": "markdown",
   "id": "1b46418c",
   "metadata": {},
   "source": [
    "Let's create your first MPI program. Modify this skeleton to write a minimal MPI program where:\n",
    "\n",
    "- every process writes its rank and the size of MPI_COMM_WORLD\n",
    "\n",
    "- only process ranked 0 in MPI_COMM_WORLD prints \"hello world\"."
   ]
  },
  {
   "cell_type": "code",
   "execution_count": null,
   "id": "4adf7a97",
   "metadata": {},
   "outputs": [],
   "source": [
    "#include <mpi.h>"
   ]
  },
  {
   "cell_type": "code",
   "execution_count": null,
   "id": "3fed415a",
   "metadata": {},
   "outputs": [],
   "source": [
    "%%executable  a.x -- -lmpi\n",
    "printf (\"Hello world!\\n\");"
   ]
  },
  {
   "cell_type": "markdown",
   "id": "1d4a1d57",
   "metadata": {},
   "source": [
    "Now compile it and run it with 4 processes. "
   ]
  },
  {
   "cell_type": "code",
   "execution_count": null,
   "id": "f36f8be0",
   "metadata": {
    "scrolled": true
   },
   "outputs": [],
   "source": [
    "!mpirun -np 4 a.x"
   ]
  },
  {
   "cell_type": "markdown",
   "id": "acdb286c",
   "metadata": {},
   "source": [
    " "
   ]
  },
  {
   "cell_type": "markdown",
   "id": "ee73ea5a",
   "metadata": {},
   "source": [
    " "
   ]
  },
  {
   "cell_type": "markdown",
   "id": "04527d43",
   "metadata": {},
   "source": [
    "You can compare with our solution:"
   ]
  },
  {
   "cell_type": "code",
   "execution_count": null,
   "id": "9d0c5523",
   "metadata": {},
   "outputs": [],
   "source": [
    "%%executable  a.x -- -lmpi\n",
    "int my_rank, size;\n",
    "MPI_Init(NULL, NULL);\n",
    "MPI_Comm_rank(MPI_COMM_WORLD, &my_rank);\n",
    "MPI_Comm_size(MPI_COMM_WORLD, &size);\n",
    "if (my_rank == 0) {\n",
    "    printf(\"Hello world!\\n\");\n",
    "}\n",
    "printf(\"I am process %i out of %i.\\n\", my_rank, size);\n",
    "MPI_Finalize();"
   ]
  },
  {
   "cell_type": "code",
   "execution_count": null,
   "id": "8066ae28",
   "metadata": {},
   "outputs": [],
   "source": [
    "!mpirun -np 4 a.x"
   ]
  }
 ],
 "metadata": {
  "kernelspec": {
   "display_name": "C++14 with OpenMP and MPI",
   "language": "C++14",
   "name": "xcpp14"
  },
  "language_info": {
   "codemirror_mode": "text/x-c++src",
   "file_extension": ".cpp",
   "mimetype": "text/x-c++src",
   "name": "c++",
   "version": "14"
  }
 },
 "nbformat": 4,
 "nbformat_minor": 5
}

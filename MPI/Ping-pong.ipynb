{
 "cells": [
  {
   "cell_type": "markdown",
   "id": "f166b008",
   "metadata": {},
   "source": [
    "## Ping pong"
   ]
  },
  {
   "cell_type": "markdown",
   "id": "1b46418c",
   "metadata": {},
   "source": [
    "Two processes ping pong a token back and forth, incrementing it until it reaches a given value.\n",
    "\n",
    "1. Process 0 sends a message to process 1 (ping).\n",
    "\n",
    "2. After receiving this message, process 1 sends a message back to process 0 (pong).\n",
    "\n",
    "3. Each time a message is sent, the token is incremented by 1.\n",
    "\n",
    "4. Repeat this ping pong until the value of token reaches 6, i.e. 3 pings and 3 pongs."
   ]
  },
  {
   "cell_type": "markdown",
   "id": "d911644e",
   "metadata": {},
   "source": [
    "***\n",
    "#### C skeleton"
   ]
  },
  {
   "cell_type": "code",
   "execution_count": null,
   "id": "3c1f14da",
   "metadata": {},
   "outputs": [],
   "source": [
    "#include <mpi.h>"
   ]
  },
  {
   "cell_type": "code",
   "execution_count": null,
   "id": "3fed415a",
   "metadata": {},
   "outputs": [],
   "source": [
    "%%executable  a.x -- -lmpi\n",
    "int i, rank;\n",
    "float token[1] = {12};\n",
    "MPI_Status status;\n",
    "\n",
    "MPI_Init(NULL, NULL);\n",
    "MPI_Comm_rank(MPI_COMM_WORLD, &rank);\n",
    "\n",
    "if (rank == 0)\n",
    "{\n",
    "  printf(\"I am %i before send ping \\n\", rank);\n",
    "  MPI_Send(token, 1, MPI_FLOAT, 1, 17, MPI_COMM_WORLD);\n",
    "  //add your code here\n",
    "}\n",
    "else if (rank == 1)\n",
    "{\n",
    "  MPI_Recv(token, 1, MPI_FLOAT, 0, 17, MPI_COMM_WORLD, &status);\n",
    "  printf(\"I am %i after recv ping \\n\", rank);\n",
    "  //add your code here\n",
    "}\n",
    "\n",
    "MPI_Finalize();"
   ]
  },
  {
   "cell_type": "markdown",
   "id": "1d4a1d57",
   "metadata": {},
   "source": [
    "Now compile it and run it with 4 processes. "
   ]
  },
  {
   "cell_type": "code",
   "execution_count": null,
   "id": "f36f8be0",
   "metadata": {
    "scrolled": true
   },
   "outputs": [],
   "source": [
    "!mpirun -np 4 a.x"
   ]
  },
  {
   "cell_type": "markdown",
   "id": "b5d523ee",
   "metadata": {},
   "source": [
    "***\n",
    "#### Python skeleton"
   ]
  },
  {
   "cell_type": "code",
   "execution_count": null,
   "id": "7596fb48",
   "metadata": {},
   "outputs": [],
   "source": [
    "%%file ping.py\n",
    "from mpi4py import MPI\n",
    "\n",
    "comm = MPI.COMM_WORLD\n",
    "rank = comm.Get_rank()\n",
    "token = [12]\n",
    "status = MPI.Status()\n",
    "\n",
    "if rank == 0:\n",
    "    print(\"I am %d before send ping\" % rank)\n",
    "    comm.send(token, dest=1)\n",
    "    #add your code here\n",
    "if rank == 1:\n",
    "    token = comm.recv(source=0)\n",
    "    print(\"I am %d after recv ping\" % rank)\n",
    "    #add your code here"
   ]
  },
  {
   "cell_type": "markdown",
   "id": "f15f4b77",
   "metadata": {},
   "source": [
    "Now compile it and run it with 4 processes. "
   ]
  },
  {
   "cell_type": "code",
   "execution_count": null,
   "id": "12057c78",
   "metadata": {},
   "outputs": [],
   "source": [
    "!mpirun -np 4 python ping.py"
   ]
  },
  {
   "cell_type": "markdown",
   "id": "9936fe22",
   "metadata": {},
   "source": [
    "***\n",
    "#### Fortran skeleton"
   ]
  },
  {
   "cell_type": "code",
   "execution_count": null,
   "id": "edcc496f",
   "metadata": {},
   "outputs": [],
   "source": [
    "%%file ping.f90\n",
    "program ping\n",
    "use mpi\n",
    "\n",
    "integer ( kind = 4 ) error\n",
    "integer ( kind = 4 ) rank\n",
    "integer :: status(MPI_STATUS_SIZE)\n",
    "real :: token(1)\n",
    "token = 12.0\n",
    "\n",
    "call MPI_Init(error);\n",
    "call MPI_Comm_rank(MPI_COMM_WORLD, rank, error);\n",
    "if (rank .eq. 0) then\n",
    "    print *, 'I am process', rank, ' before send ping'\n",
    "    call MPI_Send(token, 1, MPI_REAL, 1, 17, MPI_COMM_WORLD, error)\n",
    "    ! add your code here\n",
    "else if (rank .eq. 1) then\n",
    "    call MPI_Recv(token, 1, MPI_REAL, 0, 17, MPI_COMM_WORLD, status, error)\n",
    "    print *, 'I am process', rank, ' after recv ping'\n",
    "    ! add your code here\n",
    "end if\n",
    "call MPI_Finalize(error)\n",
    "end"
   ]
  },
  {
   "cell_type": "markdown",
   "id": "6f56ea58",
   "metadata": {},
   "source": [
    "Now compile it and run it with 4 processes. "
   ]
  },
  {
   "cell_type": "code",
   "execution_count": null,
   "id": "e9b2ab62",
   "metadata": {},
   "outputs": [],
   "source": [
    "!mpif90 ping.f90 && mpirun -np 4 a.out"
   ]
  },
  {
   "cell_type": "markdown",
   "id": "76d6e30d",
   "metadata": {},
   "source": [
    "***"
   ]
  },
  {
   "cell_type": "markdown",
   "id": "bbeebe3d",
   "metadata": {},
   "source": [
    " "
   ]
  },
  {
   "cell_type": "markdown",
   "id": "6088d5ce",
   "metadata": {},
   "source": [
    "### You can compare with our solution:"
   ]
  },
  {
   "cell_type": "markdown",
   "id": "45d3fdb7",
   "metadata": {},
   "source": [
    "***\n",
    "#### C solution"
   ]
  },
  {
   "cell_type": "code",
   "execution_count": null,
   "id": "9add07dd",
   "metadata": {},
   "outputs": [],
   "source": [
    "%%executable  a.x -- -lmpi\n",
    "int rank;\n",
    "float token[1] = {12};\n",
    "MPI_Status status;\n",
    "\n",
    "MPI_Init(NULL, NULL);\n",
    "MPI_Comm_rank(MPI_COMM_WORLD, &rank);\n",
    "\n",
    "if (rank == 0)\n",
    "{\n",
    "  while (token[0] > 6) {\n",
    "      printf(\"I am %i before send ping \\n\", rank);\n",
    "      token[0]--;\n",
    "      MPI_Send(token, 1, MPI_FLOAT, 1, 17, MPI_COMM_WORLD);\n",
    "      MPI_Recv(token, 1, MPI_FLOAT, 1, 23, MPI_COMM_WORLD, &status);\n",
    "      printf(\"I am %i after recv pong \\n\", rank);\n",
    "  }\n",
    "}\n",
    "else if (rank == 1)\n",
    "{\n",
    "  while (token[0] > 6) {\n",
    "      MPI_Recv(token, 1, MPI_FLOAT, 0, 17, MPI_COMM_WORLD, &status);\n",
    "      printf(\"I am %i after recv ping \\n\", rank);\n",
    "      printf(\"I am %i before send pong \\n\", rank);\n",
    "      token[0]--;\n",
    "      MPI_Send(token, 1, MPI_FLOAT, 0, 23, MPI_COMM_WORLD);\n",
    "  }\n",
    "}\n",
    "\n",
    "MPI_Finalize();"
   ]
  },
  {
   "cell_type": "code",
   "execution_count": null,
   "id": "6fc5bc10",
   "metadata": {},
   "outputs": [],
   "source": [
    "!mpirun -np 4 a.x"
   ]
  },
  {
   "cell_type": "markdown",
   "id": "a467c8f8",
   "metadata": {},
   "source": [
    "***\n",
    "#### Python solution"
   ]
  },
  {
   "cell_type": "code",
   "execution_count": null,
   "id": "304966f0",
   "metadata": {},
   "outputs": [],
   "source": [
    "%%file ping.py\n",
    "from mpi4py import MPI\n",
    "\n",
    "comm = MPI.COMM_WORLD\n",
    "rank = comm.Get_rank()\n",
    "token = [12]\n",
    "status = MPI.Status()\n",
    "\n",
    "if rank == 0:\n",
    "    while token[0] > 6:\n",
    "        print(\"I am %d before send ping\" % rank)\n",
    "        token[0] -= 1\n",
    "        comm.send(token, dest=1)\n",
    "        token = comm.recv(source=1)\n",
    "        print(\"I am %d after recv pong\" % rank)\n",
    "if rank == 1:\n",
    "    while token[0] > 6:\n",
    "        token = comm.recv(source=0)\n",
    "        print(\"I am %d after recv ping\" % rank)\n",
    "        print(\"I am %d before send pong\" % rank)\n",
    "        token[0] -= 1\n",
    "        comm.send(token, dest=0)"
   ]
  },
  {
   "cell_type": "code",
   "execution_count": null,
   "id": "fb648087",
   "metadata": {},
   "outputs": [],
   "source": [
    "!mpirun -np 4 python ping.py"
   ]
  },
  {
   "cell_type": "markdown",
   "id": "6976409a",
   "metadata": {},
   "source": [
    "***\n",
    "#### Fortran solution"
   ]
  },
  {
   "cell_type": "code",
   "execution_count": null,
   "id": "86652edb",
   "metadata": {},
   "outputs": [],
   "source": [
    "%%file ping.f90\n",
    "program ping\n",
    "use mpi\n",
    "\n",
    "integer ( kind = 4 ) error\n",
    "integer ( kind = 4 ) rank\n",
    "integer :: status(MPI_STATUS_SIZE)\n",
    "real :: token(1)\n",
    "token = 12.0\n",
    "\n",
    "call MPI_Init(error);\n",
    "call MPI_Comm_rank(MPI_COMM_WORLD, rank, error);\n",
    "if (rank .eq. 0) then\n",
    "    do while (token .gt. 6.0)\n",
    "        print *, 'I am process', rank, ' before send ping'\n",
    "        token = token - 1\n",
    "        call MPI_Send(token, 1, MPI_REAL, 1, 17, MPI_COMM_WORLD, error)\n",
    "        call MPI_Recv(token, 1, MPI_REAL, 1, 23, MPI_COMM_WORLD, status, error)\n",
    "        print *, 'I am process', rank, ' after recv pong'\n",
    "    end do\n",
    "else if (rank .eq. 1) then\n",
    "    do while (token .gt. 6.0)\n",
    "        call MPI_Recv(token, 1, MPI_REAL, 0, 17, MPI_COMM_WORLD, status, error)\n",
    "        print *, 'I am process', rank, ' after recv ping'\n",
    "        print *, 'I am process', rank, ' before send pong'\n",
    "        token = token - 1\n",
    "        call MPI_Send(token, 1, MPI_REAL, 0, 23, MPI_COMM_WORLD, error)\n",
    "    end do\n",
    "end if\n",
    "print *, token\n",
    "call MPI_Finalize(error)\n",
    "end"
   ]
  },
  {
   "cell_type": "code",
   "execution_count": null,
   "id": "43d4acdd",
   "metadata": {},
   "outputs": [],
   "source": [
    "!mpif90 ping.f90 && mpirun -np 4 a.out"
   ]
  }
 ],
 "metadata": {
  "kernelspec": {
   "display_name": "C++14 with OpenMP and MPI",
   "language": "C++14",
   "name": "xcpp14"
  },
  "language_info": {
   "codemirror_mode": "text/x-c++src",
   "file_extension": ".cpp",
   "mimetype": "text/x-c++src",
   "name": "c++",
   "version": "14"
  }
 },
 "nbformat": 4,
 "nbformat_minor": 5
}

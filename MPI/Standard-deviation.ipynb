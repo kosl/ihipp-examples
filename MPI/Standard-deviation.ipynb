{
 "cells": [
  {
   "cell_type": "markdown",
   "id": "f166b008",
   "metadata": {},
   "source": [
    "## Standard deviation"
   ]
  },
  {
   "cell_type": "markdown",
   "id": "1b46418c",
   "metadata": {},
   "source": [
    "In this exercise you will write a MPI program that computes the standard deviation of an array of numbers in parallel using MPI_Reduce and MPI_Allreduce. \n",
    "\n",
    "The program takes the following steps:\n",
    "\n",
    "1. Each process creates an array of generated random numbers.\n",
    "\n",
    "2. Each process computes the `local_sum` and sums them using `MPI_Allreduce`. \n",
    "\n",
    "3. After the `global_sum` is available on all processes, each process computes the `mean` so that `local_sq_diff` can be computed. \n",
    "\n",
    "4. Reduce the `local_sq_diff` to the root process (process 0). \n",
    "\n",
    "5. The root process calculates the standard deviation by taking the square root of the mean of the global squared differences. \n",
    "\n",
    "* TODO: Rewrite progam using MPI_Reduce and MPI_Allreduce to compute the standard deviation. "
   ]
  },
  {
   "cell_type": "code",
   "execution_count": null,
   "id": "347360e4",
   "metadata": {},
   "outputs": [],
   "source": [
    "?MPI::MPI_Allreduce"
   ]
  },
  {
   "cell_type": "markdown",
   "id": "d911644e",
   "metadata": {},
   "source": [
    "***\n",
    "#### C skeleton"
   ]
  },
  {
   "cell_type": "code",
   "execution_count": null,
   "id": "3fed415a",
   "metadata": {},
   "outputs": [],
   "source": [
    "%%file deviation.c\n",
    "#include <stdio.h>\n",
    "#include <stdlib.h>\n",
    "#include <time.h>\n",
    "#include <sys/time.h>\n",
    "#include <math.h>\n",
    "#include <mpi.h>\n",
    "\n",
    "int main()\n",
    "{\n",
    "    int i, rank, size;\n",
    "    int num_elements_per_proc = 3;\n",
    "\n",
    "    MPI_Init(NULL, NULL);\n",
    "    MPI_Comm_rank(MPI_COMM_WORLD, &rank);\n",
    "    MPI_Comm_size(MPI_COMM_WORLD, &size);\n",
    "\n",
    "    // seed the random number generator uniquely for each processor\n",
    "    srand(time(NULL)*rank);\n",
    "    // create a random array of elements on all processes\n",
    "    float *rand_nums = NULL;\n",
    "    rand_nums = (float *)malloc(sizeof(float) * num_elements_per_proc);\n",
    "    for (i = 0; i < num_elements_per_proc; i++) {\n",
    "        rand_nums[i] = (rand() / (float)RAND_MAX);\n",
    "    }\n",
    "\n",
    "    // sum the numbers locally\n",
    "    float local_sum = 0;\n",
    "    for (i = 0; i < num_elements_per_proc; i++) {\n",
    "        local_sum += rand_nums[i];\n",
    "    }\n",
    "\n",
    "    // reduce all of the local sums into the global sum\n",
    "    // in order to calculate the mean\n",
    "    float global_sum;\n",
    "    // TODO: reduce\n",
    "    float mean = global_sum / (num_elements_per_proc * size);\n",
    "\n",
    "    // compute the local sum of the squared differences from the mean\n",
    "    float local_sq_diff = 0;\n",
    "    // TODO: calculate the sum of squared differences\n",
    "\n",
    "    // reduce the global sum of the squared differences to the root process\n",
    "    float global_sq_diff;\n",
    "    // TODO: reduce\n",
    "\n",
    "    // standard deviation is the square root of the mean of the squared differences\n",
    "    // print the result\n",
    "    if (rank == 0) {\n",
    "        float stddev = sqrt(global_sq_diff / (num_elements_per_proc * size));\n",
    "        printf(\"Mean - %f, Standard deviation = %f\\n\", mean, stddev);\n",
    "    }\n",
    "\n",
    "    // clean up\n",
    "    free(rand_nums);\n",
    "\n",
    "    MPI_Finalize();\n",
    "}"
   ]
  },
  {
   "cell_type": "markdown",
   "id": "1d4a1d57",
   "metadata": {},
   "source": [
    "Now compile it and run it with 4 processes. "
   ]
  },
  {
   "cell_type": "code",
   "execution_count": null,
   "id": "f36f8be0",
   "metadata": {
    "scrolled": true
   },
   "outputs": [],
   "source": [
    "!mpicc deviation.c -lm && mpirun -np 4 --allow-run-as-root a.out"
   ]
  },
  {
   "cell_type": "markdown",
   "id": "b5d523ee",
   "metadata": {},
   "source": [
    "***\n",
    "#### Python skeleton"
   ]
  },
  {
   "cell_type": "code",
   "execution_count": null,
   "id": "7596fb48",
   "metadata": {},
   "outputs": [],
   "source": [
    "%%file deviation.py\n",
    "from mpi4py import MPI\n",
    "import random\n",
    "import math\n",
    "\n",
    "comm = MPI.COMM_WORLD\n",
    "rank = comm.Get_rank()\n",
    "size = comm.Get_size()\n",
    "num_elements_per_proc = 3\n",
    "    \n",
    "# create a random array of elements on all processes\n",
    "rand_nums = []\n",
    "for i in range(0, num_elements_per_proc):\n",
    "    rand_nums.append(random.uniform(0, 1))\n",
    "        \n",
    "# sum the numbers locally\n",
    "local_sum = sum(rand_nums)\n",
    "\n",
    "# reduce all of the local sums into the global sum\n",
    "# in order to calculate the mean\n",
    "# TODO: reduce to global_sum\n",
    "mean = global_sum / (num_elements_per_proc * size)\n",
    "\n",
    "# compute the local sum of the squared differences from the mean\n",
    "local_sq_diff = 0\n",
    "# TODO: calculate the sum of squared differences\n",
    "\n",
    "# reduce the global sum of the squared differences to the root process\n",
    "# TODO: reduce to global_sq_diff\n",
    "\n",
    "# standard deviation is the square root of the mean of the squared differences\n",
    "# print the result\n",
    "if rank == 0 :\n",
    "    stddev = math.sqrt(global_sq_diff / (num_elements_per_proc * size))\n",
    "    print(\"Mean - %f, Standard deviation = %f\" % (mean, stddev))"
   ]
  },
  {
   "cell_type": "markdown",
   "id": "f15f4b77",
   "metadata": {},
   "source": [
    "Now compile it and run it with 4 processes. "
   ]
  },
  {
   "cell_type": "code",
   "execution_count": null,
   "id": "12057c78",
   "metadata": {},
   "outputs": [],
   "source": [
    "!mpirun -np 4 --allow-run-as-root python deviation.py"
   ]
  },
  {
   "cell_type": "markdown",
   "id": "9936fe22",
   "metadata": {},
   "source": [
    "***\n",
    "#### Fortran skeleton"
   ]
  },
  {
   "cell_type": "code",
   "execution_count": null,
   "id": "edcc496f",
   "metadata": {},
   "outputs": [],
   "source": [
    "%%file deviation.f90\n",
    "program deviation\n",
    "use mpi\n",
    "\n",
    "integer ( kind = 4 ) error\n",
    "double precision :: local_sum, global_sum, mean, local_sq_diff, global_sq_diff, stddev\n",
    "double precision, allocatable, dimension (:) :: rand_nums\n",
    "integer :: i, rank, size, num_elements_per_proc\n",
    "num_elements_per_proc = 3\n",
    "\n",
    "call MPI_Init(error)\n",
    "call MPI_Comm_rank(MPI_COMM_WORLD, rank, error)\n",
    "call MPI_Comm_size(MPI_COMM_WORLD, size, error)\n",
    "\n",
    "! create a random array of elements on all processes\n",
    "allocate(rand_nums(0:num_elements_per_proc-1))\n",
    "do i = 0, num_elements_per_proc-1\n",
    "    call random_number(rand_nums(i))\n",
    "end do\n",
    "\n",
    "! sum the numbers locally\n",
    "local_sum = 0.0\n",
    "do i = 0, num_elements_per_proc-1\n",
    "    local_sum = local_sum + rand_nums(i)\n",
    "end do\n",
    "\n",
    "! reduce all of the local sums into the global sum\n",
    "! in order to calculate the mean\n",
    "! TODO: reduce to global_sum\n",
    "mean = global_sum / (num_elements_per_proc * size)\n",
    "\n",
    "! compute the local sum of the squared differences from the mean\n",
    "local_sq_diff = 0.0\n",
    "! TODO: calculate the sum of squared differences\n",
    "    \n",
    "! reduce the global sum of the squared differences to the root process\n",
    "! TODO: reduce to global_sq_diff\n",
    "\n",
    "! standard deviation is the square root of the mean of the squared differences\n",
    "! print the result\n",
    "if (rank == 0) then\n",
    "    stddev = sqrt(global_sq_diff / (num_elements_per_proc * size))\n",
    "    print *, \"Mean = \", mean, \"Standard deviation = \", stddev\n",
    "endif\n",
    "\n",
    "call MPI_Finalize(error)\n",
    "end"
   ]
  },
  {
   "cell_type": "markdown",
   "id": "6f56ea58",
   "metadata": {},
   "source": [
    "Now compile it and run it with 4 processes. "
   ]
  },
  {
   "cell_type": "code",
   "execution_count": null,
   "id": "e9b2ab62",
   "metadata": {},
   "outputs": [],
   "source": [
    "!mpif90 deviation.f90 && mpirun -np 4 --allow-run-as-root a.out"
   ]
  },
  {
   "cell_type": "markdown",
   "id": "76d6e30d",
   "metadata": {},
   "source": [
    "***"
   ]
  },
  {
   "cell_type": "markdown",
   "id": "bbeebe3d",
   "metadata": {},
   "source": [
    " "
   ]
  },
  {
   "cell_type": "markdown",
   "id": "6088d5ce",
   "metadata": {},
   "source": [
    "### You can compare with our solution:"
   ]
  },
  {
   "cell_type": "markdown",
   "id": "45d3fdb7",
   "metadata": {},
   "source": [
    "***\n",
    "#### C solution"
   ]
  },
  {
   "cell_type": "code",
   "execution_count": null,
   "id": "9add07dd",
   "metadata": {},
   "outputs": [],
   "source": [
    "%%file deviation.c\n",
    "#include <stdio.h>\n",
    "#include <stdlib.h>\n",
    "#include <time.h>\n",
    "#include <sys/time.h>\n",
    "#include <math.h>\n",
    "#include <mpi.h>\n",
    "\n",
    "int main()\n",
    "{\n",
    "    int i, rank, size;\n",
    "    int num_elements_per_proc = 3;\n",
    "\n",
    "    MPI_Init(NULL, NULL);\n",
    "    MPI_Comm_rank(MPI_COMM_WORLD, &rank);\n",
    "    MPI_Comm_size(MPI_COMM_WORLD, &size);\n",
    "\n",
    "    // seed the random number generator uniquely for each processor\n",
    "    srand(time(NULL)*rank);\n",
    "    // create a random array of elements on all processes\n",
    "    float *rand_nums = NULL;\n",
    "    rand_nums = (float *)malloc(sizeof(float) * num_elements_per_proc);\n",
    "    for (i = 0; i < num_elements_per_proc; i++) {\n",
    "        rand_nums[i] = (rand() / (float)RAND_MAX);\n",
    "    }\n",
    "\n",
    "    // sum the numbers locally\n",
    "    float local_sum = 0;\n",
    "    for (i = 0; i < num_elements_per_proc; i++) {\n",
    "        local_sum += rand_nums[i];\n",
    "    }\n",
    "\n",
    "    // reduce all of the local sums into the global sum\n",
    "    // in order to calculate the mean\n",
    "    float global_sum;\n",
    "    MPI_Allreduce(&local_sum, &global_sum, 1, MPI_FLOAT, MPI_SUM, MPI_COMM_WORLD);\n",
    "    float mean = global_sum / (num_elements_per_proc * size);\n",
    "\n",
    "    // compute the local sum of the squared differences from the mean\n",
    "    float local_sq_diff = 0;\n",
    "    for (i = 0; i < num_elements_per_proc; i++) {\n",
    "        local_sq_diff += (rand_nums[i] - mean) * (rand_nums[i] - mean);\n",
    "    }\n",
    "\n",
    "    // reduce the global sum of the squared differences to the root process\n",
    "    float global_sq_diff=0;\n",
    "    MPI_Reduce(&local_sq_diff, &global_sq_diff, 1, MPI_FLOAT, MPI_SUM, 0, MPI_COMM_WORLD);\n",
    "\n",
    "    // standard deviation is the square root of the mean of the squared differences\n",
    "    // print the result\n",
    "    if (rank == 0) {\n",
    "        float stddev = sqrt(global_sq_diff / (num_elements_per_proc * size));\n",
    "        printf(\"Mean - %f, Standard deviation = %f\\n\", mean, stddev);\n",
    "    }\n",
    "\n",
    "    // clean up\n",
    "    free(rand_nums);\n",
    "\n",
    "    MPI_Finalize();\n",
    "}"
   ]
  },
  {
   "cell_type": "code",
   "execution_count": null,
   "id": "6fc5bc10",
   "metadata": {},
   "outputs": [],
   "source": [
    "!mpicc deviation.c -lm && mpirun -np 4 --allow-run-as-root a.out"
   ]
  },
  {
   "cell_type": "markdown",
   "id": "a467c8f8",
   "metadata": {},
   "source": [
    "***\n",
    "#### Python solution"
   ]
  },
  {
   "cell_type": "code",
   "execution_count": null,
   "id": "304966f0",
   "metadata": {},
   "outputs": [],
   "source": [
    "%%file deviation.py\n",
    "from mpi4py import MPI\n",
    "import random\n",
    "import math\n",
    "\n",
    "comm = MPI.COMM_WORLD\n",
    "rank = comm.Get_rank()\n",
    "size = comm.Get_size()\n",
    "num_elements_per_proc = 3\n",
    "    \n",
    "# create a random array of elements on all processes\n",
    "rand_nums = []\n",
    "for i in range(0, num_elements_per_proc):\n",
    "    rand_nums.append(random.uniform(0, 1))\n",
    "        \n",
    "# sum the numbers locally\n",
    "local_sum = sum(rand_nums)\n",
    "\n",
    "# reduce all of the local sums into the global sum\n",
    "# in order to calculate the mean\n",
    "global_sum = comm.allreduce(local_sum, op=MPI.SUM)\n",
    "mean = global_sum / (num_elements_per_proc * size)\n",
    "\n",
    "# compute the local sum of the squared differences from the mean\n",
    "local_sq_diff = 0\n",
    "for i in range(0, num_elements_per_proc-1):\n",
    "    local_sq_diff += (rand_nums[i] - mean) * (rand_nums[i] - mean)\n",
    "\n",
    "# reduce the global sum of the squared differences to the root process\n",
    "global_sq_diff = comm.reduce(local_sq_diff, op=MPI.SUM, root=0)\n",
    "\n",
    "# standard deviation is the square root of the mean of the squared differences\n",
    "# print the result\n",
    "if rank == 0 :\n",
    "    stddev = math.sqrt(global_sq_diff / (num_elements_per_proc * size))\n",
    "    print(\"Mean - %f, Standard deviation = %f\" % (mean, stddev))"
   ]
  },
  {
   "cell_type": "code",
   "execution_count": null,
   "id": "fb648087",
   "metadata": {},
   "outputs": [],
   "source": [
    "!mpirun -np 4 --allow-run-as-root python deviation.py"
   ]
  },
  {
   "cell_type": "markdown",
   "id": "6976409a",
   "metadata": {},
   "source": [
    "***\n",
    "#### Fortran solution"
   ]
  },
  {
   "cell_type": "code",
   "execution_count": null,
   "id": "86652edb",
   "metadata": {},
   "outputs": [],
   "source": [
    "%%file deviation.f90\n",
    "program deviation\n",
    "use mpi\n",
    "\n",
    "integer ( kind = 4 ) error\n",
    "double precision :: local_sum, global_sum, mean, local_sq_diff, global_sq_diff, stddev\n",
    "double precision, allocatable, dimension (:) :: rand_nums\n",
    "integer :: i, rank, size, num_elements_per_proc\n",
    "num_elements_per_proc = 3\n",
    "\n",
    "call MPI_Init(error)\n",
    "call MPI_Comm_rank(MPI_COMM_WORLD, rank, error)\n",
    "call MPI_Comm_size(MPI_COMM_WORLD, size, error)\n",
    "\n",
    "! create a random array of elements on all processes\n",
    "allocate(rand_nums(0:num_elements_per_proc-1))\n",
    "do i = 0, num_elements_per_proc-1\n",
    "    call random_number(rand_nums(i))\n",
    "end do\n",
    "\n",
    "! sum the numbers locally\n",
    "local_sum = 0.0\n",
    "do i = 0, num_elements_per_proc-1\n",
    "    local_sum = local_sum + rand_nums(i)\n",
    "end do\n",
    "\n",
    "! reduce all of the local sums into the global sum\n",
    "! in order to calculate the mean\n",
    "call MPI_AllReduce(local_sum, global_sum, 1, MPI_DOUBLE_PRECISION, MPI_SUM, MPI_COMM_WORLD, error)\n",
    "mean = global_sum / (num_elements_per_proc * size)\n",
    "\n",
    "! compute the local sum of the squared differences from the mean\n",
    "local_sq_diff = 0.0\n",
    "do i = 0, num_elements_per_proc-1\n",
    "    local_sq_diff = local_sq_diff + (rand_nums(i) - mean)*(rand_nums(i) - mean)\n",
    "end do\n",
    "    \n",
    "! reduce the global sum of the squared differences to the root process\n",
    "call MPI_Reduce(local_sq_diff, global_sq_diff, 1, MPI_DOUBLE_PRECISION, MPI_SUM, 0, MPI_COMM_WORLD, error)\n",
    "\n",
    "! standard deviation is the square root of the mean of the squared differences\n",
    "! print the result\n",
    "if (rank == 0) then\n",
    "    stddev = sqrt(global_sq_diff / (num_elements_per_proc * size))\n",
    "    print *, \"Mean = \", mean, \"Standard deviation = \", stddev\n",
    "endif\n",
    "\n",
    "call MPI_Finalize(error)\n",
    "end"
   ]
  },
  {
   "cell_type": "code",
   "execution_count": null,
   "id": "43d4acdd",
   "metadata": {},
   "outputs": [],
   "source": [
    "!mpif90 deviation.f90 && mpirun -np 4 --allow-run-as-root a.out"
   ]
  }
 ],
 "metadata": {
  "kernelspec": {
   "display_name": "C++14 with OpenMP and MPI",
   "language": "C++14",
   "name": "xcpp14"
  },
  "language_info": {
   "codemirror_mode": "text/x-c++src",
   "file_extension": ".cpp",
   "mimetype": "text/x-c++src",
   "name": "c++",
   "version": "14"
  }
 },
 "nbformat": 4,
 "nbformat_minor": 5
}
